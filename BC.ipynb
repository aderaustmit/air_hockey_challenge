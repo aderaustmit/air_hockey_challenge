{
 "cells": [
  {
   "cell_type": "code",
   "execution_count": 1,
   "metadata": {},
   "outputs": [
    {
     "name": "stdout",
     "output_type": "stream",
     "text": [
      "Cuda: False\n"
     ]
    }
   ],
   "source": [
    "from air_hockey_challenge.framework.air_hockey_challenge_wrapper import AirHockeyChallengeWrapper\n",
    "from air_hockey_challenge.framework.challenge_core import ChallengeCore\n",
    "from air_hockey_challenge.framework.agent_base import AgentBase\n",
    "from examples.control.hitting_agent import build_agent\n",
    "\n",
    "from mushroom_rl.utils.dataset import parse_dataset, select_random_samples\n",
    "from mushroom_rl.policy import GaussianTorchPolicy\n",
    "\n",
    "import torch\n",
    "import torch.nn as nn\n",
    "\n",
    "from tqdm import tqdm\n",
    "\n",
    "import pickle\n",
    "\n",
    "import numpy as np\n",
    "\n",
    "use_cuda = torch.cuda.is_available()\n",
    "device = 'cuda' if use_cuda else 'cpu'\n",
    "print(f\"Cuda: {use_cuda}\")"
   ]
  },
  {
   "cell_type": "code",
   "execution_count": 2,
   "metadata": {},
   "outputs": [],
   "source": [
    "class Network(nn.Module):\n",
    "    def __init__(self, input_shape, output_shape, n_features, **kwargs):\n",
    "        super(Network, self).__init__()\n",
    "\n",
    "        self._h1 = nn.Linear(input_shape[0], n_features)\n",
    "        self._h2 = nn.Linear(n_features, n_features)\n",
    "        self._h3 = nn.Linear(n_features, output_shape[0])\n",
    "\n",
    "        nn.init.xavier_uniform_(self._h1.weight,\n",
    "                                gain=nn.init.calculate_gain('tanh'))\n",
    "        nn.init.xavier_uniform_(self._h2.weight,\n",
    "                                gain=nn.init.calculate_gain('tanh'))\n",
    "        nn.init.xavier_uniform_(self._h3.weight,\n",
    "                                gain=nn.init.calculate_gain('linear'))\n",
    "\n",
    "    def forward(self, obs, **kwargs):\n",
    "        features1 = torch.tanh(self._h1(torch.squeeze(obs, 1).float()))\n",
    "        features2 = torch.tanh(self._h2(features1))\n",
    "        return self._h3(features2)\n",
    "\n",
    "# policy can only output 1D actions (6,)\n",
    "policy = GaussianTorchPolicy(Network, (12,), (6,), std_0=1., n_features=64, use_cuda=use_cuda)"
   ]
  },
  {
   "cell_type": "code",
   "execution_count": 3,
   "outputs": [],
   "source": [
    "from air_hockey_challenge.framework.evaluate_agent import generate_init_states\n",
    "\n",
    "\n",
    "def generate_init_joint_states(mdp ,env: str = \"3dof-hit\"):\n",
    "\n",
    "    # create initial state\n",
    "    obs = generate_init_states(env=env, n_episodes=1, n_parallel_cores=1)\n",
    "    obs = obs[0].flatten()\n",
    "\n",
    "    # get joint position limits\n",
    "    min_pos_limits = mdp.env_info['robot']['joint_pos_limit'][0, :]\n",
    "    max_pos_limits = mdp.env_info['robot']['joint_pos_limit'][1, :]\n",
    "\n",
    "    # generate random joint positions\n",
    "    random_joint_pos = np.random.uniform(low=min_pos_limits, high=max_pos_limits, size=(3,))\n",
    "\n",
    "    # save random joint positions in the initial state\n",
    "    obs[mdp.env_info['joint_pos_ids']] = random_joint_pos\n",
    "\n",
    "    obs = obs.reshape((1,-1))\n",
    "\n",
    "    return obs"
   ],
   "metadata": {
    "collapsed": false
   }
  },
  {
   "cell_type": "code",
   "execution_count": 3,
   "metadata": {},
   "outputs": [],
   "source": [
    "env = \"3dof-hit\"\n",
    "\n",
    "mdp = AirHockeyChallengeWrapper(env)\n",
    "mdp.reset()\n",
    "\n",
    "agent = build_agent(mdp.env_info)\n",
    "core = ChallengeCore(agent, mdp)\n",
    "\n",
    "n_expert_traj = 500\n",
    "dataset_path = f'dataset/hit_{n_expert_traj}.pkl'"
   ]
  },
  {
   "cell_type": "code",
   "execution_count": null,
   "outputs": [],
   "source": [
    "dataset = []\n",
    "success_traj = 0\n",
    "for i in tqdm(range(n_expert_traj)):\n",
    "    # initial_state = generate_init_joint_states(mdp, env=env)\n",
    "    # new_traj = core.evaluate(initial_states=initial_state)\n",
    "    new_traj = core.evaluate(n_episodes=1)\n",
    "    _, _, _, _, absorbed, _ = parse_dataset(new_traj)\n",
    "    if absorbed[-1]: # we do not want examples where the \"expert\" did not score\n",
    "        dataset += new_traj\n",
    "        success_traj += 1\n",
    "print(f\"Dataset size: {len(dataset)} from {success_traj} trajectories\")\n",
    "\n",
    "with open(dataset_path, 'wb') as f:\n",
    "    pickle.dump(dataset, f)"
   ],
   "metadata": {
    "collapsed": false
   }
  },
  {
   "cell_type": "code",
   "execution_count": 8,
   "metadata": {},
   "outputs": [
    {
     "ename": "KeyboardInterrupt",
     "evalue": "",
     "output_type": "error",
     "traceback": [
      "\u001B[0;31m---------------------------------------------------------------------------\u001B[0m",
      "\u001B[0;31mKeyboardInterrupt\u001B[0m                         Traceback (most recent call last)",
      "Cell \u001B[0;32mIn[8], line 2\u001B[0m\n\u001B[1;32m      1\u001B[0m \u001B[38;5;28;01mfrom\u001B[39;00m \u001B[38;5;21;01mair_hockey_challenge\u001B[39;00m\u001B[38;5;21;01m.\u001B[39;00m\u001B[38;5;21;01mutils\u001B[39;00m\u001B[38;5;21;01m.\u001B[39;00m\u001B[38;5;21;01mreplay_dataset\u001B[39;00m \u001B[38;5;28;01mimport\u001B[39;00m replay_dataset\n\u001B[0;32m----> 2\u001B[0m \u001B[43mreplay_dataset\u001B[49m\u001B[43m(\u001B[49m\u001B[43menv\u001B[49m\u001B[43m,\u001B[49m\u001B[43m \u001B[49m\u001B[43mdataset_path\u001B[49m\u001B[43m)\u001B[49m\n",
      "File \u001B[0;32m~/PycharmProjects/air_hockey_challenge/air_hockey_challenge/utils/replay_dataset.py:28\u001B[0m, in \u001B[0;36mreplay_dataset\u001B[0;34m(env_name, dataset_path)\u001B[0m\n\u001B[1;32m     26\u001B[0m         mdp\u001B[38;5;241m.\u001B[39mbase_env\u001B[38;5;241m.\u001B[39m_data\u001B[38;5;241m.\u001B[39mjoint(\u001B[38;5;124m\"\u001B[39m\u001B[38;5;124mpuck_x\u001B[39m\u001B[38;5;124m\"\u001B[39m)\u001B[38;5;241m.\u001B[39mqpos \u001B[38;5;241m-\u001B[39m\u001B[38;5;241m=\u001B[39m \u001B[38;5;241m1.51\u001B[39m\n\u001B[1;32m     27\u001B[0m         mujoco\u001B[38;5;241m.\u001B[39mmj_fwdPosition(mdp\u001B[38;5;241m.\u001B[39mbase_env\u001B[38;5;241m.\u001B[39m_model, mdp\u001B[38;5;241m.\u001B[39mbase_env\u001B[38;5;241m.\u001B[39m_data)\n\u001B[0;32m---> 28\u001B[0m         \u001B[43mmdp\u001B[49m\u001B[38;5;241;43m.\u001B[39;49m\u001B[43mrender\u001B[49m\u001B[43m(\u001B[49m\u001B[43m)\u001B[49m\n\u001B[1;32m     30\u001B[0m \u001B[38;5;28;01melse\u001B[39;00m:\n\u001B[1;32m     31\u001B[0m     \u001B[38;5;66;03m# Assume it's hit opponent env, replay obs of agent and puck, simulate opponent because we don't have\u001B[39;00m\n\u001B[1;32m     32\u001B[0m     \u001B[38;5;66;03m# his movement in the observations\u001B[39;00m\n\u001B[1;32m     33\u001B[0m     mdp\u001B[38;5;241m.\u001B[39mreset()\n",
      "File \u001B[0;32m~/PycharmProjects/air_hockey_challenge/air_hockey_challenge/framework/air_hockey_challenge_wrapper.py:82\u001B[0m, in \u001B[0;36mAirHockeyChallengeWrapper.render\u001B[0;34m(self)\u001B[0m\n\u001B[1;32m     81\u001B[0m \u001B[38;5;28;01mdef\u001B[39;00m \u001B[38;5;21mrender\u001B[39m(\u001B[38;5;28mself\u001B[39m):\n\u001B[0;32m---> 82\u001B[0m     \u001B[38;5;28;43mself\u001B[39;49m\u001B[38;5;241;43m.\u001B[39;49m\u001B[43mbase_env\u001B[49m\u001B[38;5;241;43m.\u001B[39;49m\u001B[43mrender\u001B[49m\u001B[43m(\u001B[49m\u001B[43m)\u001B[49m\n",
      "File \u001B[0;32m/opt/anaconda3/envs/air_hockey_challenge/lib/python3.8/site-packages/mushroom_rl/environments/mujoco.py:173\u001B[0m, in \u001B[0;36mMuJoCo.render\u001B[0;34m(self)\u001B[0m\n\u001B[1;32m    170\u001B[0m \u001B[38;5;28;01mif\u001B[39;00m \u001B[38;5;28mself\u001B[39m\u001B[38;5;241m.\u001B[39m_viewer \u001B[38;5;129;01mis\u001B[39;00m \u001B[38;5;28;01mNone\u001B[39;00m:\n\u001B[1;32m    171\u001B[0m     \u001B[38;5;28mself\u001B[39m\u001B[38;5;241m.\u001B[39m_viewer \u001B[38;5;241m=\u001B[39m MujocoGlfwViewer(\u001B[38;5;28mself\u001B[39m\u001B[38;5;241m.\u001B[39m_model, \u001B[38;5;28mself\u001B[39m\u001B[38;5;241m.\u001B[39mdt, \u001B[38;5;241m*\u001B[39m\u001B[38;5;241m*\u001B[39m\u001B[38;5;28mself\u001B[39m\u001B[38;5;241m.\u001B[39m_viewer_params)\n\u001B[0;32m--> 173\u001B[0m \u001B[38;5;28;43mself\u001B[39;49m\u001B[38;5;241;43m.\u001B[39;49m\u001B[43m_viewer\u001B[49m\u001B[38;5;241;43m.\u001B[39;49m\u001B[43mrender\u001B[49m\u001B[43m(\u001B[49m\u001B[38;5;28;43mself\u001B[39;49m\u001B[38;5;241;43m.\u001B[39;49m\u001B[43m_data\u001B[49m\u001B[43m)\u001B[49m\n",
      "File \u001B[0;32m/opt/anaconda3/envs/air_hockey_challenge/lib/python3.8/site-packages/mushroom_rl/utils/mujoco/viewer.py:140\u001B[0m, in \u001B[0;36mMujocoGlfwViewer.render\u001B[0;34m(self, data)\u001B[0m\n\u001B[1;32m    138\u001B[0m \u001B[38;5;28mself\u001B[39m\u001B[38;5;241m.\u001B[39m_loop_count \u001B[38;5;241m+\u001B[39m\u001B[38;5;241m=\u001B[39m \u001B[38;5;28mself\u001B[39m\u001B[38;5;241m.\u001B[39mdt \u001B[38;5;241m/\u001B[39m \u001B[38;5;28mself\u001B[39m\u001B[38;5;241m.\u001B[39m_time_per_render\n\u001B[1;32m    139\u001B[0m \u001B[38;5;28;01mwhile\u001B[39;00m \u001B[38;5;28mself\u001B[39m\u001B[38;5;241m.\u001B[39m_loop_count \u001B[38;5;241m>\u001B[39m \u001B[38;5;241m0\u001B[39m:\n\u001B[0;32m--> 140\u001B[0m     \u001B[43mrender_inner_loop\u001B[49m\u001B[43m(\u001B[49m\u001B[38;5;28;43mself\u001B[39;49m\u001B[43m)\u001B[49m\n\u001B[1;32m    141\u001B[0m     \u001B[38;5;28mself\u001B[39m\u001B[38;5;241m.\u001B[39m_loop_count \u001B[38;5;241m-\u001B[39m\u001B[38;5;241m=\u001B[39m \u001B[38;5;241m1\u001B[39m\n",
      "File \u001B[0;32m/opt/anaconda3/envs/air_hockey_challenge/lib/python3.8/site-packages/mushroom_rl/utils/mujoco/viewer.py:118\u001B[0m, in \u001B[0;36mMujocoGlfwViewer.render.<locals>.render_inner_loop\u001B[0;34m(self)\u001B[0m\n\u001B[1;32m    115\u001B[0m \u001B[38;5;28mself\u001B[39m\u001B[38;5;241m.\u001B[39m_viewport\u001B[38;5;241m.\u001B[39mwidth, \u001B[38;5;28mself\u001B[39m\u001B[38;5;241m.\u001B[39m_viewport\u001B[38;5;241m.\u001B[39mheight \u001B[38;5;241m=\u001B[39m glfw\u001B[38;5;241m.\u001B[39mget_window_size(\u001B[38;5;28mself\u001B[39m\u001B[38;5;241m.\u001B[39m_window)\n\u001B[1;32m    116\u001B[0m mujoco\u001B[38;5;241m.\u001B[39mmjr_render(\u001B[38;5;28mself\u001B[39m\u001B[38;5;241m.\u001B[39m_viewport, \u001B[38;5;28mself\u001B[39m\u001B[38;5;241m.\u001B[39m_scene, \u001B[38;5;28mself\u001B[39m\u001B[38;5;241m.\u001B[39m_context)\n\u001B[0;32m--> 118\u001B[0m \u001B[43mglfw\u001B[49m\u001B[38;5;241;43m.\u001B[39;49m\u001B[43mswap_buffers\u001B[49m\u001B[43m(\u001B[49m\u001B[38;5;28;43mself\u001B[39;49m\u001B[38;5;241;43m.\u001B[39;49m\u001B[43m_window\u001B[49m\u001B[43m)\u001B[49m\n\u001B[1;32m    119\u001B[0m glfw\u001B[38;5;241m.\u001B[39mpoll_events()\n\u001B[1;32m    121\u001B[0m \u001B[38;5;28mself\u001B[39m\u001B[38;5;241m.\u001B[39mframes \u001B[38;5;241m+\u001B[39m\u001B[38;5;241m=\u001B[39m \u001B[38;5;241m1\u001B[39m\n",
      "File \u001B[0;32m/opt/anaconda3/envs/air_hockey_challenge/lib/python3.8/site-packages/glfw/__init__.py:2377\u001B[0m, in \u001B[0;36mswap_buffers\u001B[0;34m(window)\u001B[0m\n\u001B[1;32m   2370\u001B[0m \u001B[38;5;28;01mdef\u001B[39;00m \u001B[38;5;21mswap_buffers\u001B[39m(window):\n\u001B[1;32m   2371\u001B[0m     \u001B[38;5;124;03m\"\"\"\u001B[39;00m\n\u001B[1;32m   2372\u001B[0m \u001B[38;5;124;03m    Swaps the front and back buffers of the specified window.\u001B[39;00m\n\u001B[1;32m   2373\u001B[0m \n\u001B[1;32m   2374\u001B[0m \u001B[38;5;124;03m    Wrapper for:\u001B[39;00m\n\u001B[1;32m   2375\u001B[0m \u001B[38;5;124;03m        void glfwSwapBuffers(GLFWwindow* window);\u001B[39;00m\n\u001B[1;32m   2376\u001B[0m \u001B[38;5;124;03m    \"\"\"\u001B[39;00m\n\u001B[0;32m-> 2377\u001B[0m     \u001B[43m_glfw\u001B[49m\u001B[38;5;241;43m.\u001B[39;49m\u001B[43mglfwSwapBuffers\u001B[49m\u001B[43m(\u001B[49m\u001B[43mwindow\u001B[49m\u001B[43m)\u001B[49m\n",
      "File \u001B[0;32m/opt/anaconda3/envs/air_hockey_challenge/lib/python3.8/site-packages/glfw/__init__.py:686\u001B[0m, in \u001B[0;36m_prepare_errcheck.<locals>.errcheck\u001B[0;34m(result, *args)\u001B[0m\n\u001B[1;32m    678\u001B[0m \u001B[38;5;28;01mdef\u001B[39;00m \u001B[38;5;21m_prepare_errcheck\u001B[39m():\n\u001B[1;32m    679\u001B[0m     \u001B[38;5;124;03m\"\"\"\u001B[39;00m\n\u001B[1;32m    680\u001B[0m \u001B[38;5;124;03m    This function sets the errcheck attribute of all ctypes wrapped functions\u001B[39;00m\n\u001B[1;32m    681\u001B[0m \u001B[38;5;124;03m    to evaluate the _exc_info_from_callback global variable and re-raise any\u001B[39;00m\n\u001B[0;32m   (...)\u001B[0m\n\u001B[1;32m    684\u001B[0m \u001B[38;5;124;03m    using the _callback_exception_decorator.\u001B[39;00m\n\u001B[1;32m    685\u001B[0m \u001B[38;5;124;03m    \"\"\"\u001B[39;00m\n\u001B[0;32m--> 686\u001B[0m     \u001B[38;5;28;01mdef\u001B[39;00m \u001B[38;5;21merrcheck\u001B[39m(result, \u001B[38;5;241m*\u001B[39margs):\n\u001B[1;32m    687\u001B[0m         \u001B[38;5;28;01mglobal\u001B[39;00m _exc_info_from_callback\n\u001B[1;32m    688\u001B[0m         \u001B[38;5;28;01mif\u001B[39;00m _exc_info_from_callback \u001B[38;5;129;01mis\u001B[39;00m \u001B[38;5;129;01mnot\u001B[39;00m \u001B[38;5;28;01mNone\u001B[39;00m:\n",
      "\u001B[0;31mKeyboardInterrupt\u001B[0m: "
     ]
    }
   ],
   "source": [
    "from air_hockey_challenge.utils.replay_dataset import replay_dataset\n",
    "replay_dataset(env, dataset_path)"
   ]
  },
  {
   "cell_type": "code",
   "execution_count": 5,
   "metadata": {},
   "outputs": [],
   "source": [
    "def train_bc(policy, dataset, n_epochs, batch_size, n_batches_per_epoch, lr=0.0005):\n",
    "    optimizer = torch.optim.Adam(policy.parameters(), lr=lr)\n",
    "    \n",
    "    pbar = tqdm(range(n_epochs), desc='Epoch')\n",
    "    logs = dict(loss=[], epoch=[])\n",
    "    for iter in pbar:\n",
    "        avg = []\n",
    "        for i in range(n_batches_per_epoch):\n",
    "            states, actions, rewards, next_states, absorbing, last  = select_random_samples(dataset, batch_size, parse=True)\n",
    "            states_t = torch.from_numpy(states).to(device)\n",
    "            expert_actions_t = torch.from_numpy(actions.reshape((batch_size,-1))).to(device)\n",
    "            \n",
    "            optimizer.zero_grad()\n",
    "            loss = -policy.log_prob_t(states_t, expert_actions_t).mean()\n",
    "            loss.backward()\n",
    "            optimizer.step()\n",
    "            avg.append(loss.item())\n",
    "        \n",
    "        avg_loss = np.mean(avg)\n",
    "        pbar.set_postfix({'loss': avg_loss})\n",
    "        logs['loss'].append(avg_loss)\n",
    "        logs['epoch'].append(iter)\n",
    "    return logs"
   ]
  },
  {
   "cell_type": "code",
   "execution_count": 9,
   "metadata": {},
   "outputs": [
    {
     "name": "stderr",
     "output_type": "stream",
     "text": [
      "Epoch: 100%|██████████| 100/100 [03:33<00:00,  2.14s/it, loss=-21.6]\n"
     ]
    }
   ],
   "source": [
    "\n",
    "dataset = np.load(f\"dataset/hit_{n_expert_traj}.pkl\", allow_pickle=True)\n",
    "\n",
    "logs = train_bc(policy, dataset, 100, 100, 100)\n",
    "policy.save('dataset/hit_500_policy')"
   ]
  },
  {
   "cell_type": "code",
   "execution_count": 10,
   "metadata": {},
   "outputs": [
    {
     "data": {
      "text/plain": "[<matplotlib.lines.Line2D at 0x7fbec07b21c0>]"
     },
     "execution_count": 10,
     "metadata": {},
     "output_type": "execute_result"
    },
    {
     "data": {
      "text/plain": "<Figure size 640x480 with 1 Axes>",
      "image/png": "[encoded data removed]"
     },
     "metadata": {},
     "output_type": "display_data"
    }
   ],
   "source": [
    "%matplotlib inline\n",
    "import matplotlib.pyplot as plt\n",
    "\n",
    "plt.plot(logs['epoch'], logs['loss'])"
   ]
  },
  {
   "cell_type": "code",
   "execution_count": 4,
   "metadata": {},
   "outputs": [],
   "source": [
    "class BCAgent(AgentBase):\n",
    "    def __init__(self, env_info, policy, **kwargs):\n",
    "        super().__init__(env_info, **kwargs)\n",
    "        self.policy = policy\n",
    "\n",
    "    def reset(self):\n",
    "        pass\n",
    "\n",
    "    def draw_action(self, observation):\n",
    "        return self.policy.draw_action(observation).reshape(2,3)\n",
    "    \n",
    "\n",
    "policy = policy.load('dataset/hit_500_policy')\n",
    "\n",
    "env = \"3dof-hit\"\n",
    "\n",
    "mdp = AirHockeyChallengeWrapper(env)\n",
    "mdp.reset()\n",
    "\n",
    "agent = BCAgent(mdp.env_info, policy)\n",
    "core = ChallengeCore(agent, mdp)\n",
    "\n",
    "# eval = core.evaluate(n_episodes=5, render=False)"
   ]
  },
  {
   "cell_type": "code",
   "execution_count": 5,
   "outputs": [],
   "source": [
    "def build_agent(env_info, **kwargs):\n",
    "    \"\"\"\n",
    "    Function where an Agent that controls the environments should be returned.\n",
    "    The Agent should inherit from the mushroom_rl Agent base env.\n",
    "\n",
    "    :param env_info: The environment information\n",
    "    :return: Either Agent ot Policy\n",
    "    \"\"\"\n",
    "    if \"hit\" in env_info[\"env_name\"]:\n",
    "        return BCAgent(mdp.env_info, policy)"
   ],
   "metadata": {
    "collapsed": false
   }
  },
  {
   "cell_type": "code",
   "execution_count": 8,
   "outputs": [
    {
     "name": "stderr",
     "output_type": "stream",
     "text": [
      "                                               \r"
     ]
    },
    {
     "name": "stdout",
     "output_type": "stream",
     "text": [
      "=================================================\n",
      "Environment:        3dof-hit\n",
      "Number of Episodes: 50\n",
      "Success:            0.0000\n",
      "Penalty:            212.5\n",
      "Number of Violations: \n",
      "  joint_pos_constr  3\n",
      "  joint_vel_constr  50\n",
      "  ee_constr         35\n",
      "  Jerk              50\n",
      "  Computation Time  3\n",
      "  Total             141\n",
      "-------------------------------------------------\n",
      "\n"
     ]
    }
   ],
   "source": [
    "from air_hockey_challenge.framework.evaluate_agent import evaluate\n",
    "\n",
    "eval = evaluate(build_agent, 'logs/bc_agent', env_list=[env], n_episodes=50, render=False, quiet=False, n_cores=1)"
   ],
   "metadata": {
    "collapsed": false
   }
  },
  {
   "cell_type": "markdown",
   "source": [
    "# DAgger"
   ],
   "metadata": {
    "collapsed": false
   }
  },
  {
   "cell_type": "code",
   "execution_count": null,
   "outputs": [],
   "source": [
    "# make a dataset using pytorch\n",
    "\n"
   ],
   "metadata": {
    "collapsed": false
   }
  },
  {
   "cell_type": "code",
   "execution_count": 6,
   "outputs": [
    {
     "name": "stderr",
     "output_type": "stream",
     "text": [
      "                                             \r"
     ]
    }
   ],
   "source": [
    "policy = policy.load('dataset/hit_500_policy')\n",
    "\n",
    "env = \"3dof-hit\"\n",
    "\n",
    "mdp = AirHockeyChallengeWrapper(env)\n",
    "mdp.reset()\n",
    "\n",
    "agent = BCAgent(mdp.env_info, policy)\n",
    "core = ChallengeCore(agent, mdp)\n",
    "\n",
    "eval = core.evaluate(n_episodes=5, render=False, get_env_info=False)\n",
    "\n",
    "state, action, reward, next_state, absorbing, last = parse_dataset(eval)"
   ],
   "metadata": {
    "collapsed": false
   }
  },
  {
   "cell_type": "code",
   "execution_count": 8,
   "outputs": [
    {
     "data": {
      "text/plain": "2054"
     },
     "execution_count": 8,
     "metadata": {},
     "output_type": "execute_result"
    }
   ],
   "source": [
    "# slice action to show me the first action\n",
    "# action[0, :, :]\n"
   ],
   "metadata": {
    "collapsed": false
   }
  },
  {
   "cell_type": "code",
   "execution_count": 20,
   "outputs": [
    {
     "data": {
      "text/plain": "(2054, 12)"
     },
     "execution_count": 20,
     "metadata": {},
     "output_type": "execute_result"
    }
   ],
   "source": [
    "state.shape"
   ],
   "metadata": {
    "collapsed": false
   }
  },
  {
   "cell_type": "code",
   "execution_count": 22,
   "outputs": [
    {
     "data": {
      "text/plain": "array([[-4.88174170e-01,  5.22910476e-01,  5.11914551e-01],\n       [-6.02429174e-03,  1.03983637e-02,  2.70924997e-04]])"
     },
     "execution_count": 22,
     "metadata": {},
     "output_type": "execute_result"
    }
   ],
   "source": [
    "action[0]"
   ],
   "metadata": {
    "collapsed": false
   }
  },
  {
   "cell_type": "code",
   "execution_count": 23,
   "outputs": [
    {
     "data": {
      "text/plain": "(2054,)"
     },
     "execution_count": 23,
     "metadata": {},
     "output_type": "execute_result"
    }
   ],
   "source": [
    "reward.shape"
   ],
   "metadata": {
    "collapsed": false
   }
  },
  {
   "cell_type": "code",
   "execution_count": 24,
   "outputs": [
    {
     "data": {
      "text/plain": "(2054, 12)"
     },
     "execution_count": 24,
     "metadata": {},
     "output_type": "execute_result"
    }
   ],
   "source": [
    "next_state.shape"
   ],
   "metadata": {
    "collapsed": false
   }
  },
  {
   "cell_type": "code",
   "execution_count": 25,
   "outputs": [
    {
     "data": {
      "text/plain": "(2054,)"
     },
     "execution_count": 25,
     "metadata": {},
     "output_type": "execute_result"
    }
   ],
   "source": [
    "absorbing.shape"
   ],
   "metadata": {
    "collapsed": false
   }
  },
  {
   "cell_type": "code",
   "execution_count": null,
   "outputs": [],
   "source": [],
   "metadata": {
    "collapsed": false
   }
  }
 ],
 "metadata": {
  "kernelspec": {
   "display_name": "challenge",
   "language": "python",
   "name": "python3"
  },
  "language_info": {
   "codemirror_mode": {
    "name": "ipython",
    "version": 3
   },
   "file_extension": ".py",
   "mimetype": "text/x-python",
   "name": "python",
   "nbconvert_exporter": "python",
   "pygments_lexer": "ipython3",
   "version": "3.8.13"
  },
  "orig_nbformat": 4
 },
 "nbformat": 4,
 "nbformat_minor": 2
}
