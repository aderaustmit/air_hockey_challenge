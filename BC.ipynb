{
 "cells": [
  {
   "cell_type": "code",
   "execution_count": 7,
   "metadata": {},
   "outputs": [
    {
     "name": "stdout",
     "output_type": "stream",
     "text": [
      "test\n",
      "True\n"
     ]
    }
   ],
   "source": [
    "from air_hockey_challenge.framework.air_hockey_challenge_wrapper import AirHockeyChallengeWrapper\n",
    "from air_hockey_challenge.framework.challenge_core import ChallengeCore\n",
    "from examples.control.hitting_agent import build_agent\n",
    "\n",
    "from mushroom_rl.utils.dataset import parse_dataset, select_random_samples\n",
    "from mushroom_rl.policy import GaussianTorchPolicy\n",
    "\n",
    "import torch\n",
    "import torch.nn as nn\n",
    "\n",
    "from tqdm import tqdm\n",
    "\n",
    "import pickle\n",
    "\n",
    "import numpy as np\n",
    "\n",
    "\n",
    "print(\"test\")\n",
    "\n",
    "\n",
    "use_cuda = torch.cuda.is_available()\n",
    "device = 'cuda' if use_cuda else 'cpu'\n",
    "print(use_cuda)"
   ]
  },
  {
   "cell_type": "code",
   "execution_count": 2,
   "metadata": {},
   "outputs": [],
   "source": [
    "class Network(nn.Module):\n",
    "    def __init__(self, input_shape, output_shape, n_features, **kwargs):\n",
    "        super(Network, self).__init__()\n",
    "\n",
    "        self._h1 = nn.Linear(input_shape[0], n_features)\n",
    "        self._h2 = nn.Linear(n_features, n_features)\n",
    "        self._h3 = nn.Linear(n_features, output_shape[0])\n",
    "\n",
    "        nn.init.xavier_uniform_(self._h1.weight,\n",
    "                                gain=nn.init.calculate_gain('tanh'))\n",
    "        nn.init.xavier_uniform_(self._h2.weight,\n",
    "                                gain=nn.init.calculate_gain('tanh'))\n",
    "        nn.init.xavier_uniform_(self._h3.weight,\n",
    "                                gain=nn.init.calculate_gain('linear'))\n",
    "\n",
    "    def forward(self, obs, **kwargs):\n",
    "        features1 = torch.tanh(self._h1(torch.squeeze(obs, 1).float()))\n",
    "        features2 = torch.tanh(self._h2(features1))\n",
    "        return self._h3(features2)\n",
    "\n",
    "policy = GaussianTorchPolicy(Network, (12,), (6,), std_0=1., n_features=64, use_cuda=use_cuda)"
   ]
  },
  {
   "cell_type": "code",
   "execution_count": 3,
   "metadata": {},
   "outputs": [
    {
     "name": "stderr",
     "output_type": "stream",
     "text": [
      "100%|██████████| 500/500 [12:06<00:00,  1.45s/it]\n"
     ]
    }
   ],
   "source": [
    "env = \"3dof-hit\"\n",
    "\n",
    "mdp = AirHockeyChallengeWrapper(env)\n",
    "mdp.reset()\n",
    "\n",
    "agent = build_agent(mdp.env_info)\n",
    "core = ChallengeCore(agent, mdp)\n",
    "\n",
    "n_expert_traj = 500\n",
    "\n",
    "dataset = []\n",
    "success_traj = 0\n",
    "for i in tqdm(range(n_expert_traj)):\n",
    "    new_traj = core.evaluate(n_episodes=1) #initial_states=mdp.base_env._obs.copy()\n",
    "    _, _, _, _, absorbed, _ = parse_dataset(new_traj)\n",
    "    if absorbed[-1]: # we do not want examples where the \"expert\" did not score\n",
    "        dataset += new_traj\n",
    "        success_traj += 1"
   ]
  },
  {
   "cell_type": "code",
   "execution_count": 4,
   "metadata": {},
   "outputs": [
    {
     "name": "stdout",
     "output_type": "stream",
     "text": [
      "Dataset size: 53840 from 424 trajectories\n"
     ]
    }
   ],
   "source": [
    "print(f\"Dataset size: {len(dataset)} from {success_traj} trajectories\")\n",
    "\n",
    "dataset_path = f'dataset/hit_{n_expert_traj}.pkl'\n",
    "\n",
    "with open(dataset_path, 'wb') as f:\n",
    "    pickle.dump(dataset, f)"
   ]
  },
  {
   "cell_type": "code",
   "execution_count": null,
   "metadata": {},
   "outputs": [],
   "source": [
    "from air_hockey_challenge.utils.replay_dataset import replay_dataset\n",
    "replay_dataset(env, dataset_path)"
   ]
  },
  {
   "cell_type": "code",
   "execution_count": 20,
   "metadata": {},
   "outputs": [],
   "source": [
    "def train_bc(policy, dataset, n_epochs, batch_size, lr=0.0005):\n",
    "    optimizer = torch.optim.Adam(policy.parameters(), lr=lr)\n",
    "    \n",
    "    pbar = tqdm(range(n_epochs), desc='Epoch')\n",
    "    logs = dict(loss=[], epoch=[])\n",
    "    for iter in pbar:\n",
    "        states, actions, rewards, next_states, absorbing, last  = select_random_samples(dataset, batch_size, parse=True)\n",
    "        states_t = torch.from_numpy(states).to(device)\n",
    "        expert_actions_t = torch.from_numpy(actions.reshape((batch_size,-1))).to(device)\n",
    "        \n",
    "        optimizer.zero_grad()\n",
    "        loss = -policy.log_prob_t(states_t, expert_actions_t).mean()\n",
    "        loss.backward()\n",
    "        optimizer.step()\n",
    "\n",
    "        pbar.set_postfix({'loss': loss.item()})\n",
    "        logs['loss'].append(loss.item())\n",
    "        logs['epoch'].append(iter)\n",
    "    return logs"
   ]
  },
  {
   "cell_type": "code",
   "execution_count": 21,
   "metadata": {},
   "outputs": [
    {
     "name": "stderr",
     "output_type": "stream",
     "text": [
      "Epoch: 100%|██████████| 100/100 [00:02<00:00, 43.25it/s, loss=5.3]\n"
     ]
    }
   ],
   "source": [
    "\n",
    "dataset = np.load(\"dataset/hit_500.pkl\", allow_pickle=True)\n",
    "\n",
    "logs = train_bc(policy, dataset, 100, 50)"
   ]
  },
  {
   "cell_type": "code",
   "execution_count": 24,
   "metadata": {},
   "outputs": [
    {
     "data": {
      "text/plain": [
       "[<matplotlib.lines.Line2D at 0x7f6018d80790>]"
      ]
     },
     "execution_count": 24,
     "metadata": {},
     "output_type": "execute_result"
    },
    {
     "data": {
      "image/png": "[encoded data removed]",
      "text/plain": [
       "<Figure size 640x480 with 1 Axes>"
      ]
     },
     "metadata": {},
     "output_type": "display_data"
    }
   ],
   "source": [
    "%matplotlib inline\n",
    "import matplotlib.pyplot as plt\n",
    "\n",
    "plt.plot(logs['epoch'], logs['loss'])"
   ]
  }
 ],
 "metadata": {
  "kernelspec": {
   "display_name": "challenge",
   "language": "python",
   "name": "python3"
  },
  "language_info": {
   "codemirror_mode": {
    "name": "ipython",
    "version": 3
   },
   "file_extension": ".py",
   "mimetype": "text/x-python",
   "name": "python",
   "nbconvert_exporter": "python",
   "pygments_lexer": "ipython3",
   "version": "3.8.13"
  },
  "orig_nbformat": 4
 },
 "nbformat": 4,
 "nbformat_minor": 2
}
