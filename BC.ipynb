{
 "cells": [
  {
   "cell_type": "code",
   "execution_count": 2,
   "metadata": {},
   "outputs": [
    {
     "name": "stdout",
     "output_type": "stream",
     "text": [
      "test\n",
      "False\n"
     ]
    }
   ],
   "source": [
    "from air_hockey_challenge.framework.air_hockey_challenge_wrapper import AirHockeyChallengeWrapper\n",
    "from air_hockey_challenge.framework.challenge_core import ChallengeCore\n",
    "from examples.control.hitting_agent import build_agent\n",
    "\n",
    "from mushroom_rl.utils.dataset import parse_dataset, select_random_samples\n",
    "from mushroom_rl.policy import GaussianTorchPolicy\n",
    "\n",
    "import torch\n",
    "import torch.nn as nn\n",
    "\n",
    "from tqdm import tqdm\n",
    "\n",
    "import pickle\n",
    "\n",
    "import numpy as np\n",
    "\n",
    "\n",
    "print(\"test\")\n",
    "\n",
    "\n",
    "use_cuda = torch.cuda.is_available()\n",
    "device = 'cuda' if use_cuda else 'cpu'\n",
    "print(use_cuda)"
   ]
  },
  {
   "cell_type": "code",
   "execution_count": 3,
   "metadata": {},
   "outputs": [],
   "source": [
    "class Network(nn.Module):\n",
    "    def __init__(self, input_shape, output_shape, n_features, **kwargs):\n",
    "        super(Network, self).__init__()\n",
    "\n",
    "        self._h1 = nn.Linear(input_shape[0], n_features)\n",
    "        self._h2 = nn.Linear(n_features, n_features)\n",
    "        self._h3 = nn.Linear(n_features, output_shape[0])\n",
    "\n",
    "        nn.init.xavier_uniform_(self._h1.weight,\n",
    "                                gain=nn.init.calculate_gain('tanh'))\n",
    "        nn.init.xavier_uniform_(self._h2.weight,\n",
    "                                gain=nn.init.calculate_gain('tanh'))\n",
    "        nn.init.xavier_uniform_(self._h3.weight,\n",
    "                                gain=nn.init.calculate_gain('linear'))\n",
    "\n",
    "    def forward(self, obs, **kwargs):\n",
    "        features1 = torch.tanh(self._h1(torch.squeeze(obs, 1).float()))\n",
    "        features2 = torch.tanh(self._h2(features1))\n",
    "        return self._h3(features2)\n",
    "\n",
    "policy = GaussianTorchPolicy(Network, (12,), (6,), std_0=1., n_features=64, use_cuda=use_cuda)"
   ]
  },
  {
   "cell_type": "code",
   "execution_count": 4,
   "outputs": [],
   "source": [
    "# def create_random_puck_state()\n",
    "\n",
    "from air_hockey_challenge.framework.evaluate_agent import generate_init_states\n",
    "\n",
    "def generate_init_joint_states(mdp ,env: str = \"3dof-hit\"):\n",
    "\n",
    "    # create initial state\n",
    "    obs = generate_init_states(env=env, n_episodes=1, n_parallel_cores=1)\n",
    "    obs = obs[0].flatten()\n",
    "\n",
    "    # get joint position limits\n",
    "    min_pos_limits = mdp.env_info['robot']['joint_pos_limit'][0, :]\n",
    "    max_pos_limits = mdp.env_info['robot']['joint_pos_limit'][1, :]\n",
    "\n",
    "    # generate random joint positions\n",
    "    random_joint_pos = np.random.uniform(low=min_pos_limits, high=max_pos_limits, size=(3,))\n",
    "\n",
    "    # save random joint positions in the initial state\n",
    "    obs[mdp.env_info['joint_pos_ids']] = random_joint_pos\n",
    "\n",
    "    obs = obs.reshape((1,-1))\n",
    "\n",
    "    return obs"
   ],
   "metadata": {
    "collapsed": false
   }
  },
  {
   "cell_type": "code",
   "execution_count": 5,
   "outputs": [],
   "source": [
    "env = \"3dof-hit\"\n",
    "\n",
    "# initialize the environment\n",
    "mdp = AirHockeyChallengeWrapper(env)\n",
    "mdp.reset()\n",
    "\n",
    "agent = build_agent(mdp.env_info)\n",
    "core = ChallengeCore(agent, mdp)\n",
    "\n",
    "n_expert_traj = 500\n",
    "\n",
    "dataset = []\n",
    "success_traj = 0\n",
    "for i in tqdm(range(n_expert_traj)):\n",
    "    # TODO: Change the initial states of the puck to be random\n",
    "    initial_state = generate_init_joint_states(mdp, env=env)\n",
    "    new_traj = core.evaluate(initial_states=initial_state)\n",
    "    #initial_states=mdp.base_env._obs.copy()\n",
    "    _, _, _, _, absorbed, _ = parse_dataset(new_traj)\n",
    "    if absorbed[-1]: # we do not want examples where the \"expert\" did not score\n",
    "        dataset += new_traj\n",
    "        success_traj += 1"
   ],
   "metadata": {
    "collapsed": false
   }
  },
  {
   "cell_type": "code",
   "execution_count": 6,
   "metadata": {},
   "outputs": [
    {
     "name": "stdout",
     "output_type": "stream",
     "text": [
      "Dataset size: 0 from 0 trajectories\n"
     ]
    }
   ],
   "source": [
    "print(f\"Dataset size: {len(dataset)} from {success_traj} trajectories\")\n",
    "\n",
    "dataset_path = f'dataset/hit_{n_expert_traj}.pkl'\n",
    "\n",
    "with open(dataset_path, 'wb') as f:\n",
    "    pickle.dump(dataset, f)"
   ]
  },
  {
   "cell_type": "code",
   "execution_count": 11,
   "outputs": [],
   "source": [
    "with open(dataset_path, 'rb') as f:\n",
    "    # Load the data from the file using pickle.load()\n",
    "    dataset = pickle.load(f)"
   ],
   "metadata": {
    "collapsed": false
   }
  },
  {
   "cell_type": "code",
   "execution_count": 9,
   "metadata": {},
   "outputs": [],
   "source": [
    "from air_hockey_challenge.utils.replay_dataset import replay_dataset\n",
    "replay_dataset(env, dataset_path)"
   ]
  },
  {
   "cell_type": "code",
   "execution_count": 7,
   "metadata": {},
   "outputs": [],
   "source": [
    "def train_bc(policy, dataset, n_epochs, batch_size, lr=0.0005):\n",
    "    optimizer = torch.optim.Adam(policy.parameters(), lr=lr)\n",
    "    \n",
    "    pbar = tqdm(range(n_epochs), desc='Epoch')\n",
    "    logs = dict(loss=[], epoch=[])\n",
    "    for iter in pbar:\n",
    "        states, actions, rewards, next_states, absorbing, last  = select_random_samples(dataset, batch_size, parse=True)\n",
    "        states_t = torch.from_numpy(states).to(device)\n",
    "        expert_actions_t = torch.from_numpy(actions.reshape((batch_size,-1))).to(device)\n",
    "        \n",
    "        optimizer.zero_grad()\n",
    "        loss = -policy.log_prob_t(states_t, expert_actions_t).mean()\n",
    "        loss.backward()\n",
    "        optimizer.step()\n",
    "\n",
    "        pbar.set_postfix({'loss': loss.item()})\n",
    "        logs['loss'].append(loss.item())\n",
    "        logs['epoch'].append(iter)\n",
    "    return logs"
   ]
  },
  {
   "cell_type": "code",
   "execution_count": 8,
   "metadata": {},
   "outputs": [
    {
     "name": "stderr",
     "output_type": "stream",
     "text": [
      "Epoch:   0%|          | 0/100 [00:00<?, ?it/s]\n"
     ]
    },
    {
     "ename": "ValueError",
     "evalue": "high <= 0",
     "output_type": "error",
     "traceback": [
      "\u001B[0;31m---------------------------------------------------------------------------\u001B[0m",
      "\u001B[0;31mValueError\u001B[0m                                Traceback (most recent call last)",
      "Cell \u001B[0;32mIn[8], line 3\u001B[0m\n\u001B[1;32m      1\u001B[0m dataset \u001B[38;5;241m=\u001B[39m np\u001B[38;5;241m.\u001B[39mload(\u001B[38;5;124m\"\u001B[39m\u001B[38;5;124mdataset/hit_500.pkl\u001B[39m\u001B[38;5;124m\"\u001B[39m, allow_pickle\u001B[38;5;241m=\u001B[39m\u001B[38;5;28;01mTrue\u001B[39;00m)\n\u001B[0;32m----> 3\u001B[0m logs \u001B[38;5;241m=\u001B[39m \u001B[43mtrain_bc\u001B[49m\u001B[43m(\u001B[49m\u001B[43mpolicy\u001B[49m\u001B[43m,\u001B[49m\u001B[43m \u001B[49m\u001B[43mdataset\u001B[49m\u001B[43m,\u001B[49m\u001B[43m \u001B[49m\u001B[38;5;241;43m100\u001B[39;49m\u001B[43m,\u001B[49m\u001B[43m \u001B[49m\u001B[38;5;241;43m50\u001B[39;49m\u001B[43m)\u001B[49m\n",
      "Cell \u001B[0;32mIn[7], line 7\u001B[0m, in \u001B[0;36mtrain_bc\u001B[0;34m(policy, dataset, n_epochs, batch_size, lr)\u001B[0m\n\u001B[1;32m      5\u001B[0m logs \u001B[38;5;241m=\u001B[39m \u001B[38;5;28mdict\u001B[39m(loss\u001B[38;5;241m=\u001B[39m[], epoch\u001B[38;5;241m=\u001B[39m[])\n\u001B[1;32m      6\u001B[0m \u001B[38;5;28;01mfor\u001B[39;00m \u001B[38;5;28miter\u001B[39m \u001B[38;5;129;01min\u001B[39;00m pbar:\n\u001B[0;32m----> 7\u001B[0m     states, actions, rewards, next_states, absorbing, last  \u001B[38;5;241m=\u001B[39m \u001B[43mselect_random_samples\u001B[49m\u001B[43m(\u001B[49m\u001B[43mdataset\u001B[49m\u001B[43m,\u001B[49m\u001B[43m \u001B[49m\u001B[43mbatch_size\u001B[49m\u001B[43m,\u001B[49m\u001B[43m \u001B[49m\u001B[43mparse\u001B[49m\u001B[38;5;241;43m=\u001B[39;49m\u001B[38;5;28;43;01mTrue\u001B[39;49;00m\u001B[43m)\u001B[49m\n\u001B[1;32m      8\u001B[0m     states_t \u001B[38;5;241m=\u001B[39m torch\u001B[38;5;241m.\u001B[39mfrom_numpy(states)\u001B[38;5;241m.\u001B[39mto(device)\n\u001B[1;32m      9\u001B[0m     expert_actions_t \u001B[38;5;241m=\u001B[39m torch\u001B[38;5;241m.\u001B[39mfrom_numpy(actions\u001B[38;5;241m.\u001B[39mreshape((batch_size,\u001B[38;5;241m-\u001B[39m\u001B[38;5;241m1\u001B[39m)))\u001B[38;5;241m.\u001B[39mto(device)\n",
      "File \u001B[0;32m/opt/anaconda3/envs/air_hockey_challenge/lib/python3.8/site-packages/mushroom_rl/utils/dataset.py:148\u001B[0m, in \u001B[0;36mselect_random_samples\u001B[0;34m(dataset, n_samples, parse)\u001B[0m\n\u001B[1;32m    145\u001B[0m     \u001B[38;5;28;01mreturn\u001B[39;00m np\u001B[38;5;241m.\u001B[39marray([[]])\n\u001B[1;32m    147\u001B[0m dataset \u001B[38;5;241m=\u001B[39m np\u001B[38;5;241m.\u001B[39marray(dataset, dtype\u001B[38;5;241m=\u001B[39m\u001B[38;5;28mobject\u001B[39m)\n\u001B[0;32m--> 148\u001B[0m idxs \u001B[38;5;241m=\u001B[39m \u001B[43mnp\u001B[49m\u001B[38;5;241;43m.\u001B[39;49m\u001B[43mrandom\u001B[49m\u001B[38;5;241;43m.\u001B[39;49m\u001B[43mrandint\u001B[49m\u001B[43m(\u001B[49m\u001B[43mdataset\u001B[49m\u001B[38;5;241;43m.\u001B[39;49m\u001B[43mshape\u001B[49m\u001B[43m[\u001B[49m\u001B[38;5;241;43m0\u001B[39;49m\u001B[43m]\u001B[49m\u001B[43m,\u001B[49m\u001B[43m \u001B[49m\u001B[43msize\u001B[49m\u001B[38;5;241;43m=\u001B[39;49m\u001B[43mn_samples\u001B[49m\u001B[43m)\u001B[49m\n\u001B[1;32m    149\u001B[0m sub_dataset \u001B[38;5;241m=\u001B[39m dataset[idxs, \u001B[38;5;241m.\u001B[39m\u001B[38;5;241m.\u001B[39m\u001B[38;5;241m.\u001B[39m]\n\u001B[1;32m    151\u001B[0m \u001B[38;5;28;01mreturn\u001B[39;00m sub_dataset \u001B[38;5;28;01mif\u001B[39;00m \u001B[38;5;129;01mnot\u001B[39;00m parse \u001B[38;5;28;01melse\u001B[39;00m parse_dataset(sub_dataset)\n",
      "File \u001B[0;32mmtrand.pyx:765\u001B[0m, in \u001B[0;36mnumpy.random.mtrand.RandomState.randint\u001B[0;34m()\u001B[0m\n",
      "File \u001B[0;32m_bounded_integers.pyx:1247\u001B[0m, in \u001B[0;36mnumpy.random._bounded_integers._rand_int64\u001B[0;34m()\u001B[0m\n",
      "\u001B[0;31mValueError\u001B[0m: high <= 0"
     ]
    }
   ],
   "source": [
    "\n",
    "dataset = np.load(\"dataset/hit_500.pkl\", allow_pickle=True)\n",
    "\n",
    "logs = train_bc(policy, dataset, 100, 50)"
   ]
  },
  {
   "cell_type": "code",
   "execution_count": 27,
   "metadata": {},
   "outputs": [
    {
     "data": {
      "text/plain": "[<matplotlib.lines.Line2D at 0x7f77a93baa90>]"
     },
     "execution_count": 27,
     "metadata": {},
     "output_type": "execute_result"
    },
    {
     "data": {
      "text/plain": "<Figure size 640x480 with 1 Axes>",
      "image/png": "[encoded data removed]"
     },
     "metadata": {},
     "output_type": "display_data"
    }
   ],
   "source": [
    "%matplotlib inline\n",
    "import matplotlib.pyplot as plt\n",
    "\n",
    "plt.plot(logs['epoch'], logs['loss'])"
   ]
  },
  {
   "cell_type": "code",
   "execution_count": 1,
   "outputs": [
    {
     "ename": "NameError",
     "evalue": "name 'policy' is not defined",
     "output_type": "error",
     "traceback": [
      "\u001B[0;31m---------------------------------------------------------------------------\u001B[0m",
      "\u001B[0;31mNameError\u001B[0m                                 Traceback (most recent call last)",
      "Cell \u001B[0;32mIn[1], line 1\u001B[0m\n\u001B[0;32m----> 1\u001B[0m \u001B[43mpolicy\u001B[49m\u001B[38;5;241m.\u001B[39msave(\u001B[38;5;124m\"\u001B[39m\u001B[38;5;124mmodels/policy_bc\u001B[39m\u001B[38;5;124m\"\u001B[39m)\n",
      "\u001B[0;31mNameError\u001B[0m: name 'policy' is not defined"
     ]
    }
   ],
   "source": [
    "policy.save(\"models/policy_bc\")"
   ],
   "metadata": {
    "collapsed": false
   }
  },
  {
   "cell_type": "code",
   "execution_count": null,
   "outputs": [],
   "source": [],
   "metadata": {
    "collapsed": false
   }
  }
 ],
 "metadata": {
  "kernelspec": {
   "display_name": "challenge",
   "language": "python",
   "name": "python3"
  },
  "language_info": {
   "codemirror_mode": {
    "name": "ipython",
    "version": 3
   },
   "file_extension": ".py",
   "mimetype": "text/x-python",
   "name": "python",
   "nbconvert_exporter": "python",
   "pygments_lexer": "ipython3",
   "version": "3.8.13"
  },
  "orig_nbformat": 4
 },
 "nbformat": 4,
 "nbformat_minor": 2
}
