{
 "cells": [
  {
   "cell_type": "code",
   "execution_count": 1,
   "metadata": {},
   "outputs": [
    {
     "name": "stdout",
     "output_type": "stream",
     "text": [
      "test\n",
      "True\n"
     ]
    }
   ],
   "source": [
    "from air_hockey_challenge.framework.air_hockey_challenge_wrapper import AirHockeyChallengeWrapper\n",
    "from air_hockey_challenge.framework.challenge_core import ChallengeCore\n",
    "from air_hockey_challenge.framework.agent_base import AgentBase\n",
    "from examples.control.hitting_agent import build_agent\n",
    "\n",
    "from mushroom_rl.utils.dataset import parse_dataset, select_random_samples\n",
    "from mushroom_rl.policy import GaussianTorchPolicy\n",
    "\n",
    "import torch\n",
    "import torch.nn as nn\n",
    "\n",
    "from tqdm import tqdm\n",
    "\n",
    "import pickle\n",
    "\n",
    "import numpy as np\n",
    "\n",
    "\n",
    "print(\"test\")\n",
    "\n",
    "\n",
    "use_cuda = torch.cuda.is_available()\n",
    "device = 'cuda' if use_cuda else 'cpu'\n",
    "print(use_cuda)\n",
    "\n",
    "env = \"3dof-hit\""
   ]
  },
  {
   "cell_type": "code",
   "execution_count": 2,
   "metadata": {},
   "outputs": [],
   "source": [
    "class Network(nn.Module):\n",
    "    def __init__(self, input_shape, output_shape, n_features, **kwargs):\n",
    "        super(Network, self).__init__()\n",
    "\n",
    "        self._h1 = nn.Linear(input_shape[0], n_features)\n",
    "        self._h2 = nn.Linear(n_features, n_features)\n",
    "        self._h3 = nn.Linear(n_features, output_shape[0])\n",
    "\n",
    "        nn.init.xavier_uniform_(self._h1.weight,\n",
    "                                gain=nn.init.calculate_gain('tanh'))\n",
    "        nn.init.xavier_uniform_(self._h2.weight,\n",
    "                                gain=nn.init.calculate_gain('tanh'))\n",
    "        nn.init.xavier_uniform_(self._h3.weight,\n",
    "                                gain=nn.init.calculate_gain('linear'))\n",
    "\n",
    "    def forward(self, obs, **kwargs):\n",
    "        features1 = torch.tanh(self._h1(torch.squeeze(obs, 1).float()))\n",
    "        features2 = torch.tanh(self._h2(features1))\n",
    "        return self._h3(features2)\n",
    "\n",
    "policy = GaussianTorchPolicy(Network, (12,), (6,), std_0=1., n_features=64, use_cuda=use_cuda)"
   ]
  },
  {
   "cell_type": "code",
   "execution_count": 3,
   "metadata": {},
   "outputs": [],
   "source": [
    "policy.save(\"dataset/policy\")"
   ]
  },
  {
   "cell_type": "code",
   "execution_count": 4,
   "metadata": {},
   "outputs": [
    {
     "data": {
      "text/plain": [
       "<mushroom_rl.policy.torch_policy.GaussianTorchPolicy at 0x7ff06afcceb0>"
      ]
     },
     "execution_count": 4,
     "metadata": {},
     "output_type": "execute_result"
    }
   ],
   "source": [
    "policy.load(\"dataset/policy\")"
   ]
  },
  {
   "cell_type": "code",
   "execution_count": 3,
   "metadata": {},
   "outputs": [
    {
     "name": "stderr",
     "output_type": "stream",
     "text": [
      "100%|██████████| 1000/1000 [23:11<00:00,  1.39s/it]\n"
     ]
    }
   ],
   "source": [
    "mdp = AirHockeyChallengeWrapper(env)\n",
    "mdp.reset()\n",
    "\n",
    "agent = build_agent(mdp.env_info)\n",
    "core = ChallengeCore(agent, mdp)\n",
    "\n",
    "n_expert_traj = 1000\n",
    "\n",
    "dataset = []\n",
    "success_traj = 0\n",
    "for i in tqdm(range(n_expert_traj)):\n",
    "    new_traj = core.evaluate(n_episodes=1) #initial_states=mdp.base_env._obs.copy()\n",
    "    _, _, _, _, absorbed, _ = parse_dataset(new_traj)\n",
    "    if absorbed[-1]: # we do not want examples where the \"expert\" did not score\n",
    "        dataset += new_traj\n",
    "        success_traj += 1"
   ]
  },
  {
   "cell_type": "code",
   "execution_count": 4,
   "metadata": {},
   "outputs": [
    {
     "name": "stdout",
     "output_type": "stream",
     "text": [
      "Dataset size: 103581 from 823 trajectories\n"
     ]
    }
   ],
   "source": [
    "print(f\"Dataset size: {len(dataset)} from {success_traj} trajectories\")\n",
    "\n",
    "dataset_path = f'dataset/hit_{n_expert_traj}.pkl'\n",
    "\n",
    "with open(dataset_path, 'wb') as f:\n",
    "    pickle.dump(dataset, f)"
   ]
  },
  {
   "cell_type": "code",
   "execution_count": 3,
   "metadata": {},
   "outputs": [
    {
     "ename": "",
     "evalue": "",
     "output_type": "error",
     "traceback": [
      "\u001b[1;31mThe Kernel crashed while executing code in the the current cell or a previous cell. Please review the code in the cell(s) to identify a possible cause of the failure. Click <a href='https://aka.ms/vscodeJupyterKernelCrash'>here</a> for more info. View Jupyter <a href='command:jupyter.viewOutput'>log</a> for further details."
     ]
    }
   ],
   "source": [
    "from air_hockey_challenge.utils.replay_dataset import replay_dataset\n",
    "replay_dataset(env, \"dataset/hit.pkl\")"
   ]
  },
  {
   "cell_type": "code",
   "execution_count": 6,
   "metadata": {},
   "outputs": [],
   "source": [
    "def train_bc(policy, dataset, n_epochs, batch_size, n_batches_per_epoch, lr=0.0005):\n",
    "    optimizer = torch.optim.Adam(policy.parameters(), lr=lr)\n",
    "    \n",
    "    pbar = tqdm(range(n_epochs), desc='Epoch')\n",
    "    logs = dict(loss=[], epoch=[])\n",
    "    for iter in pbar:\n",
    "        avg = []\n",
    "        for i in range(n_batches_per_epoch):\n",
    "            states, actions, rewards, next_states, absorbing, last  = select_random_samples(dataset, batch_size, parse=True)\n",
    "            states_t = torch.from_numpy(states).to(device)\n",
    "            expert_actions_t = torch.from_numpy(actions.reshape((batch_size,-1))).to(device)\n",
    "            \n",
    "            optimizer.zero_grad()\n",
    "            loss = -policy.log_prob_t(states_t, expert_actions_t).mean()\n",
    "            loss.backward()\n",
    "            optimizer.step()\n",
    "            avg.append(loss.item())\n",
    "        \n",
    "        avg_loss = np.mean(avg)\n",
    "        pbar.set_postfix({'loss': avg_loss})\n",
    "        logs['loss'].append(avg_loss)\n",
    "        logs['epoch'].append(iter)\n",
    "    return logs"
   ]
  },
  {
   "cell_type": "code",
   "execution_count": 16,
   "metadata": {},
   "outputs": [
    {
     "name": "stderr",
     "output_type": "stream",
     "text": [
      "Epoch: 100%|██████████| 100/100 [06:12<00:00,  3.73s/it, loss=-25]\n"
     ]
    }
   ],
   "source": [
    "\n",
    "dataset = np.load(f\"dataset/hit_{1000}.pkl\", allow_pickle=True)\n",
    "\n",
    "logs = train_bc(policy, dataset, 100, 100, 100)"
   ]
  },
  {
   "cell_type": "code",
   "execution_count": 17,
   "metadata": {},
   "outputs": [
    {
     "data": {
      "text/plain": [
       "[<matplotlib.lines.Line2D at 0x7fa76c58fb20>]"
      ]
     },
     "execution_count": 17,
     "metadata": {},
     "output_type": "execute_result"
    },
    {
     "data": {
      "image/png": "[encoded data removed]",
      "text/plain": [
       "<Figure size 640x480 with 1 Axes>"
      ]
     },
     "metadata": {},
     "output_type": "display_data"
    }
   ],
   "source": [
    "%matplotlib inline\n",
    "import matplotlib.pyplot as plt\n",
    "\n",
    "plt.plot(logs['epoch'], logs['loss'])"
   ]
  },
  {
   "cell_type": "code",
   "execution_count": 18,
   "metadata": {},
   "outputs": [
    {
     "name": "stderr",
     "output_type": "stream",
     "text": []
    },
    {
     "ename": "",
     "evalue": "",
     "output_type": "error",
     "traceback": [
      "\u001b[1;31mThe Kernel crashed while executing code in the the current cell or a previous cell. Please review the code in the cell(s) to identify a possible cause of the failure. Click <a href='https://aka.ms/vscodeJupyterKernelCrash'>here</a> for more info. View Jupyter <a href='command:jupyter.viewOutput'>log</a> for further details."
     ]
    }
   ],
   "source": [
    "class BCAgent(AgentBase):\n",
    "    def __init__(self, env_info, policy, **kwargs):\n",
    "        super().__init__(env_info, **kwargs)\n",
    "        self.policy = policy\n",
    "\n",
    "    def reset(self):\n",
    "        pass\n",
    "\n",
    "    def draw_action(self, observation):\n",
    "        return self.policy.draw_action(observation).reshape(2,3)\n",
    "    \n",
    "\n",
    "env = \"3dof-hit\"\n",
    "\n",
    "mdp = AirHockeyChallengeWrapper(env)\n",
    "mdp.reset()\n",
    "\n",
    "agent = BCAgent(mdp.env_info, policy)\n",
    "core = ChallengeCore(agent, mdp)\n",
    "\n",
    "eval = core.evaluate(n_episodes=5, render=True) #initial_states=mdp.base_env._obs.copy()"
   ]
  }
 ],
 "metadata": {
  "kernelspec": {
   "display_name": "challenge",
   "language": "python",
   "name": "python3"
  },
  "language_info": {
   "codemirror_mode": {
    "name": "ipython",
    "version": 3
   },
   "file_extension": ".py",
   "mimetype": "text/x-python",
   "name": "python",
   "nbconvert_exporter": "python",
   "pygments_lexer": "ipython3",
   "version": "3.8.13"
  },
  "orig_nbformat": 4
 },
 "nbformat": 4,
 "nbformat_minor": 2
}
