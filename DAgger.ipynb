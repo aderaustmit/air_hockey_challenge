{
 "cells": [
  {
   "cell_type": "code",
   "execution_count": 1,
   "metadata": {
    "collapsed": true
   },
   "outputs": [
    {
     "name": "stdout",
     "output_type": "stream",
     "text": [
      "Cuda: True\n"
     ]
    }
   ],
   "source": [
    "from air_hockey_challenge.framework.air_hockey_challenge_wrapper import AirHockeyChallengeWrapper\n",
    "from air_hockey_challenge.framework.challenge_core import ChallengeCore\n",
    "from air_hockey_challenge.framework.agent_base import AgentBase\n",
    "from examples.control.hitting_agent import build_agent, HittingAgent\n",
    "from examples.control.hitting_agent_wait import HittingAgentWait\n",
    "\n",
    "from mushroom_rl.utils.dataset import parse_dataset, select_random_samples\n",
    "from mushroom_rl.policy import GaussianTorchPolicy\n",
    "\n",
    "import torch\n",
    "import torch.nn as nn\n",
    "\n",
    "from tqdm import tqdm\n",
    "\n",
    "import pickle\n",
    "\n",
    "import numpy as np\n",
    "\n",
    "use_cuda = torch.cuda.is_available()\n",
    "device = 'cuda' if use_cuda else 'cpu'\n",
    "print(f\"Cuda: {use_cuda}\")\n"
   ]
  },
  {
   "cell_type": "code",
   "execution_count": 2,
   "metadata": {
    "collapsed": false
   },
   "outputs": [],
   "source": [
    "import torch\n",
    "from torch.utils.data import Dataset, DataLoader\n",
    "import torch.optim as optim\n",
    "\n",
    "class DaggerDataset(Dataset):\n",
    "    def __init__(self, states, expert_actions):\n",
    "        self.states = torch.from_numpy(states).to(device)\n",
    "        self.expert_actions = torch.from_numpy(expert_actions).to(device).reshape(-1,6)\n",
    "\n",
    "        print(self.states.shape)\n",
    "        print(self.expert_actions.shape)\n",
    "\n",
    "    def add(self, state, expert_action):\n",
    "        self.states = torch.cat((self.states, torch.from_numpy(state).to(device).reshape(-1,12)), dim = 0)\n",
    "        self.expert_actions = torch.cat((self.expert_actions, torch.from_numpy(expert_action).to(device).reshape(-1,6)), dim=0)\n",
    "        \n",
    "    def __len__(self):\n",
    "        \n",
    "        return len(self.states)\n",
    "\n",
    "    def __getitem__(self, index):\n",
    "        return self.states[index], self.expert_actions[index]\n",
    "\n",
    "\n",
    "class MushroomRLTrajectoryDataset(Dataset):\n",
    "    def __init__(self, mdp, agent, n_episodes):\n",
    "        \"\"\"\n",
    "        Initialize the MushroomRLTrajectoryDataset.\n",
    "\n",
    "        Args:\n",
    "            mdp (mushroom_rl.environments.Environment): the MDP (Markov Decision Process).\n",
    "            agent: the agent to evaluate.\n",
    "        \"\"\"\n",
    "        self.core = ChallengeCore(agent, mdp)\n",
    "                # Initialize empty lists for each data type\n",
    "        state_list, action_list, reward_list, next_state_list, absorbing_list, last_list = [], [], [], [], [], []\n",
    "\n",
    "        for i in tqdm(range(n_episodes)):\n",
    "            # Evaluate one episode at a time\n",
    "            trajectory = self.core.evaluate(n_episodes=1, render=False)\n",
    "            state, action, reward, next_state, absorbing, last = parse_dataset(trajectory)\n",
    "\n",
    "            # Append the data from the current episode\n",
    "            state_list.append(torch.from_numpy(state).to(device))\n",
    "            action_list.append(torch.from_numpy(action).to(device))\n",
    "            reward_list.append(torch.from_numpy(reward).to(device))\n",
    "            next_state_list.append(torch.from_numpy(next_state).to(device))\n",
    "            absorbing_list.append(torch.from_numpy(absorbing).to(device))\n",
    "            last_list.append(torch.from_numpy(last).to(device))\n",
    "\n",
    "        # Concatenate the data from all episodes\n",
    "        self.state = torch.cat(state_list, dim=0)\n",
    "        self.action = torch.cat(action_list, dim=0)\n",
    "        self.reward = torch.cat(reward_list, dim=0)\n",
    "        self.next_state = torch.cat(next_state_list, dim=0)\n",
    "        self.absorbing = torch.cat(absorbing_list, dim=0)\n",
    "        self.last = torch.cat(last_list, dim=0)\n",
    "\n",
    "        self.length = self.state.shape[0]\n",
    "\n",
    "    def __len__(self):\n",
    "        \"\"\"\n",
    "        Return the total number of state-action-reward-next_state tuples in the dataset.\n",
    "\n",
    "        Returns:\n",
    "            int: the length of the dataset.\n",
    "        \"\"\"\n",
    "        return self.length\n",
    "\n",
    "    def __getitem__(self, index):\n",
    "        \"\"\"\n",
    "        Get the state-action-reward-next_state tuple at the specified index.\n",
    "\n",
    "        Args:\n",
    "            index (int): the index of the desired tuple.\n",
    "\n",
    "        Returns:\n",
    "            dict: a dictionary containing state, action, reward, and next_state.\n",
    "        \"\"\"\n",
    "\n",
    "        return {\n",
    "            'state': self.state[index],\n",
    "            'action': self.action[index],\n",
    "            'reward': self.reward[index],\n",
    "            'next_state': self.next_state[index],\n",
    "            'absorbing': self.absorbing[index],\n",
    "            'last': self.last[index],\n",
    "        }\n",
    "\n"
   ]
  },
  {
   "cell_type": "code",
   "execution_count": 3,
   "metadata": {
    "collapsed": false
   },
   "outputs": [],
   "source": [
    "class Network(nn.Module):\n",
    "    def __init__(self, input_shape, output_shape, n_features, **kwargs):\n",
    "        super(Network, self).__init__()\n",
    "\n",
    "        self._h1 = nn.Linear(input_shape[0], n_features)\n",
    "        self._h2 = nn.Linear(n_features, n_features)\n",
    "        self._h3 = nn.Linear(n_features, output_shape[0])\n",
    "\n",
    "        nn.init.xavier_uniform_(self._h1.weight,\n",
    "                                gain=nn.init.calculate_gain('tanh'))\n",
    "        nn.init.xavier_uniform_(self._h2.weight,\n",
    "                                gain=nn.init.calculate_gain('tanh'))\n",
    "        nn.init.xavier_uniform_(self._h3.weight,\n",
    "                                gain=nn.init.calculate_gain('linear'))\n",
    "\n",
    "    def forward(self, obs, **kwargs):\n",
    "        features1 = torch.tanh(self._h1(torch.squeeze(obs, 1).float()))\n",
    "        features2 = torch.tanh(self._h2(features1))\n",
    "        return self._h3(features2)\n",
    "\n",
    "\n",
    "class BCAgent(AgentBase):\n",
    "    def __init__(self, env_info, policy, **kwargs):\n",
    "        super().__init__(env_info, **kwargs)\n",
    "        self.policy = policy\n",
    "\n",
    "    def reset(self):\n",
    "        pass\n",
    "\n",
    "    def draw_action(self, observation):\n",
    "        return self.policy.draw_action(observation).reshape(2,3)\n"
   ]
  },
  {
   "cell_type": "code",
   "execution_count": 4,
   "metadata": {
    "collapsed": false
   },
   "outputs": [],
   "source": [
    "# def train_dagger_agent(learner_policy, expert_policy, mdp, dataset, num_iterations=10, batch_size=64, lr=0.001):\n",
    "#     # Create data loader\n",
    "#     data_loader = DataLoader(dataset, batch_size=batch_size, shuffle=True)\n",
    "\n",
    "#     # Set up the optimizer and loss function\n",
    "#     optimizer = optim.Adam(learner_policy.parameters(), lr=lr)\n",
    "\n",
    "#     # Train the initial policy on collected data\n",
    "#     for epoch in range(num_iterations):\n",
    "#         for i, data in enumerate(data_loader):\n",
    "#             optimizer.zero_grad()\n",
    "\n",
    "#             states = data['state'].float()\n",
    "\n",
    "#             # Get expert actions for each state in the batch\n",
    "#             expert_actions = []\n",
    "#             successful_states = []\n",
    "\n",
    "#             for state in states:\n",
    "#                 expert_policy.reset()\n",
    "#                 state_np = state.cpu().numpy()\n",
    "\n",
    "#                 expert_action = expert_policy.draw_action(state_np)\n",
    "\n",
    "#                 if not expert_policy.optimization_failed:\n",
    "#                     successful_states.append(state)\n",
    "\n",
    "#                     expert_actions.append(torch.from_numpy(expert_action))\n",
    "\n",
    "#             successful_states = torch.stack(successful_states)\n",
    "#             expert_actions = torch.stack(expert_actions).reshape((-1, 6))\n",
    "#             print(f\"successful states: {successful_states}\")\n",
    "#             print(f\"expert actions: {expert_actions}\")\n",
    "#             print(f\"expert actions shape: {expert_actions.shape}\")\n",
    "#             print(f\"successful states shape: {successful_states.shape}\")\n",
    "\n",
    "#             # Compute loss\n",
    "#             loss = -policy.log_prob_t(successful_states, expert_actions).mean()\n",
    "\n",
    "#             # Update the learner policy\n",
    "#             loss.backward()\n",
    "#             optimizer.step()\n",
    "\n",
    "#         # Evaluate the current learner policy\n",
    "#         learner_trajectory_dataset = MushroomRLTrajectoryDataset(mdp, BCAgent(mdp.env_info, learner_policy), n_episodes=2)\n",
    "#         data_loader = DataLoader(learner_trajectory_dataset, batch_size=batch_size, shuffle=True)\n",
    "\n",
    "#         # Collect new expert actions for the new states\n",
    "#         for state in learner_trajectory_dataset:\n",
    "#             state_np = state['state'].float().unsqueeze(0).cpu().numpy()\n",
    "#             expert_action = expert_policy.draw_action(state_np).astype(np.float32)\n",
    "#             state['action'] = torch.from_numpy(expert_action).squeeze().tolist()\n",
    "\n",
    "#         # Add the new data to the dataset\n",
    "#         dataset.trajectories.extend(learner_trajectory_dataset.trajectories)\n",
    "#         dataset.length += learner_trajectory_dataset.length\n",
    "\n",
    "#     return learner_policy\n"
   ]
  },
  {
   "cell_type": "code",
   "execution_count": 5,
   "metadata": {},
   "outputs": [],
   "source": [
    "from air_hockey_challenge.framework.evaluate_agent import PENALTY_POINTS\n",
    "from air_hockey_challenge.utils.kinematics import forward_kinematics\n",
    "import numpy as np\n",
    "\n",
    "\n",
    "def custom_reward_function(base_env, state, action, next_state, absorbing):\n",
    "    reward = -0.1 # small value to disincentivate long runs: faster is better\n",
    "\n",
    "    q = state[base_env.env_info['joint_pos_ids']]\n",
    "    dq = state[base_env.env_info['joint_vel_ids']]\n",
    "\n",
    "    # Get a dictionary of the constraint functions {\"constraint_name\": ndarray}\n",
    "    c = base_env.env_info['constraints'].fun(q, dq)\n",
    "\n",
    "    # for k,v in c.items():\n",
    "    #     reward -= PENALTY_POINTS[k] * np.sum(v > 0)\n",
    "    # mybe not ideal: penalty is flat outside, does not know how to improve --> use violation instead of points?\n",
    "\n",
    "    for k,val in c.items():\n",
    "        for v in val:\n",
    "            reward -= v if v > 0 else 0\n",
    "\n",
    "    # TODO reward for good actions --> score\n",
    "    # for now --> try to go to the puck\n",
    "    \n",
    "    ee_pos = forward_kinematics(base_env.env_info['robot']['robot_model'], base_env.env_info['robot']['robot_data'], q)[0]\n",
    "    puck_pos = base_env.env_info['puck_pos_ids']\n",
    "    puck_vel = np.linalg.norm(state[base_env.env_info['puck_vel_ids']])\n",
    "    reward += -np.linalg.norm(ee_pos - puck_pos) if puck_vel < 0.1 else puck_vel\n",
    "\n",
    "    return reward"
   ]
  },
  {
   "cell_type": "code",
   "execution_count": 6,
   "metadata": {},
   "outputs": [],
   "source": [
    "from mushroom_rl.utils.dataset import compute_metrics\n",
    "\n",
    "\n",
    "def train_dagger_agent(learner_policy, expert_policy, mdp, dataset, num_iterations=10, batch_size=64, lr=0.001, n_steps=150, num_sub_epochs = 20, n_episode_eval=5):\n",
    "    # Create data loader\n",
    "    data_loader = DataLoader(dataset, batch_size=batch_size, shuffle=True)\n",
    "\n",
    "    # Set up the optimizer and loss function\n",
    "    optimizer = optim.Adam(learner_policy.parameters(), lr=lr)\n",
    "\n",
    "    # Train the initial policy on collected data\n",
    "    for epoch in range(num_iterations):\n",
    "        for sub_epoch in range(num_sub_epochs):\n",
    "            # print(len(data_loader))\n",
    "            for states, expert_actions in data_loader:\n",
    "\n",
    "                optimizer.zero_grad()\n",
    "\n",
    "                states = states.to(device)\n",
    "                expert_actions = expert_actions.to(device)\n",
    "\n",
    "                loss = -learner_policy.log_prob_t(states, expert_actions).mean()\n",
    "\n",
    "                # Update the learner policy\n",
    "                loss.backward()\n",
    "                optimizer.step()\n",
    "\n",
    "            # Evaluate the current learner policy\n",
    "            learner_core = ChallengeCore(BCAgent(mdp.env_info, learner_policy), mdp)\n",
    "            learner_trajectory = learner_core.evaluate(n_steps=n_steps)\n",
    "            states, action, reward, next_state, absorbing, last = parse_dataset(learner_trajectory)\n",
    "\n",
    "            i = 0\n",
    "            for state in states:\n",
    "                expert_policy.reset()\n",
    "                expert_action = expert_policy.draw_action(state).astype(np.float32)\n",
    "                if not expert_policy.optimization_failed:\n",
    "                    dataset.add(state, expert_action.flatten())\n",
    "                    i += 1\n",
    "            print(f\"added {i} out of {len(states)}\")\n",
    "        \n",
    "        core = ChallengeCore(BCAgent(mdp.env_info, learner_policy), mdp)\n",
    "        eval_dataset = core.evaluate(n_episodes=n_episode_eval, render=False)\n",
    "        metrics = compute_metrics(eval_dataset)\n",
    "        print(\"Epoch:\",epoch+1,\"metrics:\",metrics)\n",
    "        learner_policy.save(f\"dataset/Dagger/epoch_{epoch+1}.pkl\")\n",
    "\n",
    "    return learner_policy\n"
   ]
  },
  {
   "attachments": {},
   "cell_type": "markdown",
   "metadata": {
    "collapsed": false
   },
   "source": [
    "# 1. defining BCAgent and expert agent to be trained in dagger"
   ]
  },
  {
   "cell_type": "code",
   "execution_count": 7,
   "metadata": {
    "collapsed": false
   },
   "outputs": [
    {
     "name": "stdout",
     "output_type": "stream",
     "text": [
      "torch.Size([50823, 12])\n",
      "torch.Size([50823, 6])\n"
     ]
    }
   ],
   "source": [
    "env = \"3dof-hit\"\n",
    "\n",
    "mdp = AirHockeyChallengeWrapper(env, custom_reward_function=custom_reward_function)\n",
    "mdp.reset()\n",
    "\n",
    "# policy can only output 1D actions (6,) ... they need to be recast in (2,3) shape later on\n",
    "policy = GaussianTorchPolicy(Network, (12,), (6,), std_0=1., n_features=64, use_cuda=use_cuda)\n",
    "\n",
    "# policy = policy.load('dataset/hit_500_policy')\n",
    "\n",
    "bc_agent = BCAgent(mdp.env_info, policy)\n",
    "# dataset = MushroomRLTrajectoryDataset(mdp, bc_agent, n_episodes=10)\n",
    "\n",
    "states, actions, reward, next_state, absorbing, last = parse_dataset(np.load(f\"dataset/hit_500.pkl\", allow_pickle=True))\n",
    "\n",
    "dataset = DaggerDataset(states, actions)\n",
    "\n",
    "expert_agent = HittingAgentWait(mdp.env_info)"
   ]
  },
  {
   "cell_type": "code",
   "execution_count": 8,
   "metadata": {
    "collapsed": false
   },
   "outputs": [
    {
     "name": "stderr",
     "output_type": "stream",
     "text": [
      "                                                  \r"
     ]
    },
    {
     "name": "stdout",
     "output_type": "stream",
     "text": [
      "added 21 out of 150\n"
     ]
    },
    {
     "name": "stderr",
     "output_type": "stream",
     "text": [
      "                                                 \r"
     ]
    },
    {
     "name": "stdout",
     "output_type": "stream",
     "text": [
      "added 71 out of 150\n"
     ]
    },
    {
     "name": "stderr",
     "output_type": "stream",
     "text": [
      "                                                 \r"
     ]
    },
    {
     "name": "stdout",
     "output_type": "stream",
     "text": [
      "added 149 out of 150\n"
     ]
    },
    {
     "name": "stderr",
     "output_type": "stream",
     "text": [
      "                                                 \r"
     ]
    },
    {
     "name": "stdout",
     "output_type": "stream",
     "text": [
      "added 39 out of 150\n"
     ]
    },
    {
     "name": "stderr",
     "output_type": "stream",
     "text": [
      "                                                 \r"
     ]
    },
    {
     "name": "stdout",
     "output_type": "stream",
     "text": [
      "added 128 out of 150\n"
     ]
    },
    {
     "name": "stderr",
     "output_type": "stream",
     "text": [
      "                                                  \r"
     ]
    },
    {
     "name": "stdout",
     "output_type": "stream",
     "text": [
      "ERROR in validate_data: Lower bound at index 1 is greater than upper bound: -1.4444e+00 > -2.4455e+00\n",
      "ERROR in osqp_setup: Problem data validation.\n",
      "ERROR in validate_data: Lower bound at index 1 is greater than upper bound: -1.4449e+00 > -2.6569e+00\n",
      "ERROR in osqp_setup: Problem data validation.\n",
      "ERROR in validate_data: Lower bound at index 1 is greater than upper bound: -1.4437e+00 > -1.6099e+00\n",
      "ERROR in osqp_setup: Problem data validation.\n",
      "ERROR in validate_data: Lower bound at index 1 is greater than upper bound: -1.4439e+00 > -2.4652e+00\n",
      "ERROR in osqp_setup: Problem data validation.\n",
      "ERROR in validate_data: Lower bound at index 1 is greater than upper bound: -1.4451e+00 > -3.0178e+00\n",
      "ERROR in osqp_setup: Problem data validation.\n",
      "ERROR in validate_data: Lower bound at index 1 is greater than upper bound: -1.4451e+00 > -1.7158e+00\n",
      "ERROR in osqp_setup: Problem data validation.\n",
      "added 138 out of 150\n"
     ]
    },
    {
     "name": "stderr",
     "output_type": "stream",
     "text": [
      "                                                  \r"
     ]
    },
    {
     "name": "stdout",
     "output_type": "stream",
     "text": [
      "added 3 out of 150\n"
     ]
    },
    {
     "name": "stderr",
     "output_type": "stream",
     "text": [
      "                                                  \r"
     ]
    },
    {
     "name": "stdout",
     "output_type": "stream",
     "text": [
      "added 142 out of 150\n"
     ]
    },
    {
     "name": "stderr",
     "output_type": "stream",
     "text": [
      "                                                  \r"
     ]
    },
    {
     "name": "stdout",
     "output_type": "stream",
     "text": [
      "added 141 out of 150\n"
     ]
    },
    {
     "name": "stderr",
     "output_type": "stream",
     "text": [
      "                                                  \r"
     ]
    },
    {
     "name": "stdout",
     "output_type": "stream",
     "text": [
      "added 92 out of 150\n"
     ]
    },
    {
     "name": "stderr",
     "output_type": "stream",
     "text": [
      "                                                  \r"
     ]
    },
    {
     "name": "stdout",
     "output_type": "stream",
     "text": [
      "ERROR in validate_data: Lower bound at index 1 is greater than upper bound: -1.4436e+00 > -1.7716e+00\n",
      "ERROR in osqp_setup: Problem data validation.\n",
      "ERROR in validate_data: Lower bound at index 1 is greater than upper bound: -1.4438e+00 > -1.7042e+00\n",
      "ERROR in osqp_setup: Problem data validation.\n",
      "ERROR in validate_data: Lower bound at index 1 is greater than upper bound: -1.4437e+00 > -2.3126e+00\n",
      "ERROR in osqp_setup: Problem data validation.\n",
      "ERROR in validate_data: Lower bound at index 1 is greater than upper bound: -1.4435e+00 > -1.7307e+00\n",
      "ERROR in osqp_setup: Problem data validation.\n",
      "ERROR in validate_data: Lower bound at index 1 is greater than upper bound: -1.4436e+00 > -1.6932e+00\n",
      "ERROR in osqp_setup: Problem data validation.\n",
      "ERROR in validate_data: Lower bound at index 1 is greater than upper bound: -2.0747e+00 > -2.4835e+00\n",
      "ERROR in osqp_setup: Problem data validation.\n",
      "ERROR in validate_data: Lower bound at index 1 is greater than upper bound: -1.4442e+00 > -1.7962e+00\n",
      "ERROR in osqp_setup: Problem data validation.\n",
      "ERROR in validate_data: Lower bound at index 1 is greater than upper bound: -1.4440e+00 > -2.1011e+00\n",
      "ERROR in osqp_setup: Problem data validation.\n",
      "ERROR in validate_data: Lower bound at index 1 is greater than upper bound: -1.4438e+00 > -1.5482e+00\n",
      "ERROR in osqp_setup: Problem data validation.\n",
      "added 108 out of 150\n"
     ]
    },
    {
     "name": "stderr",
     "output_type": "stream",
     "text": [
      "                                                  \r"
     ]
    },
    {
     "name": "stdout",
     "output_type": "stream",
     "text": [
      "added 93 out of 150\n"
     ]
    },
    {
     "name": "stderr",
     "output_type": "stream",
     "text": [
      "                                                  \r"
     ]
    },
    {
     "name": "stdout",
     "output_type": "stream",
     "text": [
      "added 150 out of 150\n"
     ]
    },
    {
     "name": "stderr",
     "output_type": "stream",
     "text": [
      "                                                  \r"
     ]
    },
    {
     "name": "stdout",
     "output_type": "stream",
     "text": [
      "ERROR in validate_data: Lower bound at index 1 is greater than upper bound: -1.4454e+00 > -2.1110e+00\n",
      "ERROR in osqp_setup: Problem data validation.\n",
      "ERROR in validate_data: Lower bound at index 1 is greater than upper bound: -1.4451e+00 > -2.8615e+00\n",
      "ERROR in osqp_setup: Problem data validation.\n",
      "ERROR in validate_data: Lower bound at index 1 is greater than upper bound: -1.4454e+00 > -2.2842e+00\n",
      "ERROR in osqp_setup: Problem data validation.\n",
      "ERROR in validate_data: Lower bound at index 1 is greater than upper bound: -1.4455e+00 > -2.1980e+00\n",
      "ERROR in osqp_setup: Problem data validation.\n",
      "ERROR in validate_data: Lower bound at index 1 is greater than upper bound: -1.4455e+00 > -3.0863e+00\n",
      "ERROR in osqp_setup: Problem data validation.\n",
      "ERROR in validate_data: Lower bound at index 1 is greater than upper bound: -1.4451e+00 > -2.8799e+00\n",
      "ERROR in osqp_setup: Problem data validation.\n",
      "ERROR in validate_data: Lower bound at index 1 is greater than upper bound: -1.4451e+00 > -2.7618e+00\n",
      "ERROR in osqp_setup: Problem data validation.\n",
      "ERROR in validate_data: Lower bound at index 1 is greater than upper bound: -1.4451e+00 > -2.8764e+00\n",
      "ERROR in osqp_setup: Problem data validation.\n",
      "ERROR in validate_data: Lower bound at index 1 is greater than upper bound: -1.4451e+00 > -4.0593e+00\n",
      "ERROR in osqp_setup: Problem data validation.\n",
      "ERROR in validate_data: Lower bound at index 1 is greater than upper bound: -1.4451e+00 > -4.8817e+00\n",
      "ERROR in osqp_setup: Problem data validation.\n",
      "ERROR in validate_data: Lower bound at index 1 is greater than upper bound: -1.4453e+00 > -5.1255e+00\n",
      "ERROR in osqp_setup: Problem data validation.\n",
      "ERROR in validate_data: Lower bound at index 1 is greater than upper bound: -1.4451e+00 > -2.9782e+00\n",
      "ERROR in osqp_setup: Problem data validation.\n",
      "ERROR in validate_data: Lower bound at index 1 is greater than upper bound: -1.4449e+00 > -1.9762e+00\n",
      "ERROR in osqp_setup: Problem data validation.\n",
      "ERROR in validate_data: Lower bound at index 1 is greater than upper bound: -1.4446e+00 > -1.5629e+00\n",
      "ERROR in osqp_setup: Problem data validation.\n",
      "ERROR in validate_data: Lower bound at index 1 is greater than upper bound: -1.4444e+00 > -2.1114e+00\n",
      "ERROR in osqp_setup: Problem data validation.\n",
      "added 118 out of 150\n"
     ]
    },
    {
     "name": "stderr",
     "output_type": "stream",
     "text": [
      "                                                  \r"
     ]
    },
    {
     "name": "stdout",
     "output_type": "stream",
     "text": [
      "added 134 out of 150\n"
     ]
    },
    {
     "name": "stderr",
     "output_type": "stream",
     "text": [
      "                                                  \r"
     ]
    },
    {
     "name": "stdout",
     "output_type": "stream",
     "text": [
      "ERROR in validate_data: Lower bound at index 1 is greater than upper bound: -1.4454e+00 > -2.1506e+00\n",
      "ERROR in osqp_setup: Problem data validation.\n",
      "ERROR in validate_data: Lower bound at index 1 is greater than upper bound: -1.4451e+00 > -3.0263e+00\n",
      "ERROR in osqp_setup: Problem data validation.\n",
      "ERROR in validate_data: Lower bound at index 1 is greater than upper bound: -1.4451e+00 > -2.5346e+00\n",
      "ERROR in osqp_setup: Problem data validation.\n",
      "ERROR in validate_data: Lower bound at index 1 is greater than upper bound: -1.4451e+00 > -1.6033e+00\n",
      "ERROR in osqp_setup: Problem data validation.\n",
      "ERROR in validate_data: Lower bound at index 1 is greater than upper bound: -1.4451e+00 > -1.6696e+00\n",
      "ERROR in osqp_setup: Problem data validation.\n",
      "ERROR in validate_data: Lower bound at index 1 is greater than upper bound: -1.4450e+00 > -1.8566e+00\n",
      "ERROR in osqp_setup: Problem data validation.\n",
      "ERROR in validate_data: Lower bound at index 1 is greater than upper bound: -1.4449e+00 > -1.8276e+00\n",
      "ERROR in osqp_setup: Problem data validation.\n",
      "added 96 out of 150\n"
     ]
    },
    {
     "name": "stderr",
     "output_type": "stream",
     "text": [
      "                                                  \r"
     ]
    },
    {
     "name": "stdout",
     "output_type": "stream",
     "text": [
      "added 150 out of 150\n"
     ]
    },
    {
     "name": "stderr",
     "output_type": "stream",
     "text": [
      "                                                  \r"
     ]
    },
    {
     "name": "stdout",
     "output_type": "stream",
     "text": [
      "added 66 out of 150\n"
     ]
    },
    {
     "name": "stderr",
     "output_type": "stream",
     "text": [
      "                                                  \r"
     ]
    },
    {
     "name": "stdout",
     "output_type": "stream",
     "text": [
      "added 104 out of 150\n"
     ]
    },
    {
     "name": "stderr",
     "output_type": "stream",
     "text": [
      "                                                  \r"
     ]
    },
    {
     "name": "stdout",
     "output_type": "stream",
     "text": [
      "added 150 out of 150\n"
     ]
    },
    {
     "name": "stderr",
     "output_type": "stream",
     "text": [
      "                                             \r"
     ]
    },
    {
     "name": "stdout",
     "output_type": "stream",
     "text": [
      "Epoch: 1 metrics: (-2155.430142438962, -1706.7698782368811, -1939.8829471725226, -1983.3745955994586, 5)\n"
     ]
    },
    {
     "name": "stderr",
     "output_type": "stream",
     "text": [
      "                                                  \r"
     ]
    },
    {
     "name": "stdout",
     "output_type": "stream",
     "text": [
      "added 150 out of 150\n"
     ]
    },
    {
     "name": "stderr",
     "output_type": "stream",
     "text": [
      "                                                  \r"
     ]
    },
    {
     "name": "stdout",
     "output_type": "stream",
     "text": [
      "added 150 out of 150\n"
     ]
    },
    {
     "name": "stderr",
     "output_type": "stream",
     "text": [
      "                                                  \r"
     ]
    },
    {
     "name": "stdout",
     "output_type": "stream",
     "text": [
      "added 27 out of 150\n"
     ]
    },
    {
     "name": "stderr",
     "output_type": "stream",
     "text": [
      "                                                 \r"
     ]
    },
    {
     "name": "stdout",
     "output_type": "stream",
     "text": [
      "added 150 out of 150\n"
     ]
    },
    {
     "name": "stderr",
     "output_type": "stream",
     "text": [
      "                                                  \r"
     ]
    },
    {
     "name": "stdout",
     "output_type": "stream",
     "text": [
      "added 150 out of 150\n"
     ]
    },
    {
     "name": "stderr",
     "output_type": "stream",
     "text": [
      "                                                  \r"
     ]
    },
    {
     "name": "stdout",
     "output_type": "stream",
     "text": [
      "added 97 out of 150\n"
     ]
    },
    {
     "name": "stderr",
     "output_type": "stream",
     "text": [
      "                                                  \r"
     ]
    },
    {
     "name": "stdout",
     "output_type": "stream",
     "text": [
      "added 149 out of 150\n"
     ]
    },
    {
     "name": "stderr",
     "output_type": "stream",
     "text": [
      "                                                  \r"
     ]
    },
    {
     "name": "stdout",
     "output_type": "stream",
     "text": [
      "added 23 out of 150\n"
     ]
    },
    {
     "name": "stderr",
     "output_type": "stream",
     "text": [
      "                                                  \r"
     ]
    },
    {
     "name": "stdout",
     "output_type": "stream",
     "text": [
      "added 47 out of 150\n"
     ]
    },
    {
     "name": "stderr",
     "output_type": "stream",
     "text": [
      "                                                  \r"
     ]
    },
    {
     "name": "stdout",
     "output_type": "stream",
     "text": [
      "added 135 out of 150\n"
     ]
    },
    {
     "name": "stderr",
     "output_type": "stream",
     "text": [
      "                                                 \r"
     ]
    },
    {
     "name": "stdout",
     "output_type": "stream",
     "text": [
      "added 0 out of 150\n"
     ]
    },
    {
     "name": "stderr",
     "output_type": "stream",
     "text": [
      "                                                  \r"
     ]
    },
    {
     "name": "stdout",
     "output_type": "stream",
     "text": [
      "added 150 out of 150\n"
     ]
    },
    {
     "name": "stderr",
     "output_type": "stream",
     "text": [
      "                                                 \r"
     ]
    },
    {
     "name": "stdout",
     "output_type": "stream",
     "text": [
      "added 150 out of 150\n"
     ]
    },
    {
     "name": "stderr",
     "output_type": "stream",
     "text": [
      "                                                  \r"
     ]
    },
    {
     "name": "stdout",
     "output_type": "stream",
     "text": [
      "added 144 out of 150\n"
     ]
    },
    {
     "name": "stderr",
     "output_type": "stream",
     "text": [
      "                                                  \r"
     ]
    },
    {
     "name": "stdout",
     "output_type": "stream",
     "text": [
      "added 150 out of 150\n"
     ]
    },
    {
     "name": "stderr",
     "output_type": "stream",
     "text": [
      "                                                  \r"
     ]
    },
    {
     "name": "stdout",
     "output_type": "stream",
     "text": [
      "added 31 out of 150\n"
     ]
    },
    {
     "name": "stderr",
     "output_type": "stream",
     "text": [
      "                                                  \r"
     ]
    },
    {
     "name": "stdout",
     "output_type": "stream",
     "text": [
      "added 150 out of 150\n"
     ]
    },
    {
     "name": "stderr",
     "output_type": "stream",
     "text": [
      "                                                  \r"
     ]
    },
    {
     "name": "stdout",
     "output_type": "stream",
     "text": [
      "added 146 out of 150\n"
     ]
    },
    {
     "name": "stderr",
     "output_type": "stream",
     "text": [
      "                                                  \r"
     ]
    },
    {
     "name": "stdout",
     "output_type": "stream",
     "text": [
      "added 150 out of 150\n"
     ]
    },
    {
     "name": "stderr",
     "output_type": "stream",
     "text": [
      "                                                  \r"
     ]
    },
    {
     "name": "stdout",
     "output_type": "stream",
     "text": [
      "added 150 out of 150\n"
     ]
    },
    {
     "name": "stderr",
     "output_type": "stream",
     "text": [
      "                                             \r"
     ]
    },
    {
     "name": "stdout",
     "output_type": "stream",
     "text": [
      "Epoch: 2 metrics: (-2628.9964497104334, -1062.9854324032522, -1658.9706099721293, -1511.2249809898856, 5)\n"
     ]
    },
    {
     "name": "stderr",
     "output_type": "stream",
     "text": [
      "                                                  \r"
     ]
    },
    {
     "name": "stdout",
     "output_type": "stream",
     "text": [
      "ERROR in validate_data: Lower bound at index 1 is greater than upper bound: -1.4452e+00 > -1.7003e+00\n",
      "ERROR in osqp_setup: Problem data validation.\n",
      "ERROR in validate_data: Lower bound at index 1 is greater than upper bound: -1.4453e+00 > -3.0759e+00\n",
      "ERROR in osqp_setup: Problem data validation.\n",
      "added 0 out of 150\n"
     ]
    },
    {
     "name": "stderr",
     "output_type": "stream",
     "text": [
      "                                                  \r"
     ]
    },
    {
     "name": "stdout",
     "output_type": "stream",
     "text": [
      "added 36 out of 150\n"
     ]
    },
    {
     "name": "stderr",
     "output_type": "stream",
     "text": [
      "                                                  \r"
     ]
    },
    {
     "name": "stdout",
     "output_type": "stream",
     "text": [
      "added 150 out of 150\n"
     ]
    },
    {
     "name": "stderr",
     "output_type": "stream",
     "text": [
      "                                                 \r"
     ]
    },
    {
     "name": "stdout",
     "output_type": "stream",
     "text": [
      "ERROR in validate_data: Lower bound at index 1 is greater than upper bound: -1.4452e+00 > -2.0522e+00\n",
      "ERROR in osqp_setup: Problem data validation.\n",
      "ERROR in validate_data: Lower bound at index 1 is greater than upper bound: -1.4452e+00 > -1.7623e+00\n",
      "ERROR in osqp_setup: Problem data validation.\n",
      "ERROR in validate_data: Lower bound at index 1 is greater than upper bound: -1.4451e+00 > -1.6155e+00\n",
      "ERROR in osqp_setup: Problem data validation.\n",
      "ERROR in validate_data: Lower bound at index 1 is greater than upper bound: -1.4451e+00 > -2.0127e+00\n",
      "ERROR in osqp_setup: Problem data validation.\n",
      "ERROR in validate_data: Lower bound at index 1 is greater than upper bound: -1.4451e+00 > -3.8501e+00\n",
      "ERROR in osqp_setup: Problem data validation.\n",
      "ERROR in validate_data: Lower bound at index 1 is greater than upper bound: -1.4451e+00 > -4.5566e+00\n",
      "ERROR in osqp_setup: Problem data validation.\n",
      "ERROR in validate_data: Lower bound at index 1 is greater than upper bound: -1.4451e+00 > -5.2564e+00\n",
      "ERROR in osqp_setup: Problem data validation.\n",
      "ERROR in validate_data: Lower bound at index 1 is greater than upper bound: -1.4450e+00 > -5.8177e+00\n",
      "ERROR in osqp_setup: Problem data validation.\n",
      "ERROR in validate_data: Lower bound at index 1 is greater than upper bound: -1.4450e+00 > -6.6575e+00\n",
      "ERROR in osqp_setup: Problem data validation.\n",
      "ERROR in validate_data: Lower bound at index 1 is greater than upper bound: -1.4450e+00 > -7.5956e+00\n",
      "ERROR in osqp_setup: Problem data validation.\n",
      "ERROR in validate_data: Lower bound at index 1 is greater than upper bound: -1.4450e+00 > -7.4739e+00\n",
      "ERROR in osqp_setup: Problem data validation.\n",
      "ERROR in validate_data: Lower bound at index 1 is greater than upper bound: -1.4450e+00 > -6.7736e+00\n",
      "ERROR in osqp_setup: Problem data validation.\n",
      "ERROR in validate_data: Lower bound at index 1 is greater than upper bound: -1.4450e+00 > -5.3033e+00\n",
      "ERROR in osqp_setup: Problem data validation.\n",
      "ERROR in validate_data: Lower bound at index 1 is greater than upper bound: -1.4450e+00 > -4.4915e+00\n",
      "ERROR in osqp_setup: Problem data validation.\n",
      "ERROR in validate_data: Lower bound at index 1 is greater than upper bound: -1.4450e+00 > -3.1102e+00\n",
      "ERROR in osqp_setup: Problem data validation.\n",
      "ERROR in validate_data: Lower bound at index 1 is greater than upper bound: -1.4450e+00 > -2.4471e+00\n",
      "ERROR in osqp_setup: Problem data validation.\n",
      "ERROR in validate_data: Lower bound at index 1 is greater than upper bound: -1.4450e+00 > -2.1617e+00\n",
      "ERROR in osqp_setup: Problem data validation.\n",
      "ERROR in validate_data: Lower bound at index 1 is greater than upper bound: -1.4450e+00 > -2.6153e+00\n",
      "ERROR in osqp_setup: Problem data validation.\n",
      "ERROR in validate_data: Lower bound at index 1 is greater than upper bound: -1.4450e+00 > -3.9538e+00\n",
      "ERROR in osqp_setup: Problem data validation.\n",
      "ERROR in validate_data: Lower bound at index 1 is greater than upper bound: -1.4450e+00 > -3.9958e+00\n",
      "ERROR in osqp_setup: Problem data validation.\n",
      "ERROR in validate_data: Lower bound at index 1 is greater than upper bound: -1.4450e+00 > -3.0250e+00\n",
      "ERROR in osqp_setup: Problem data validation.\n",
      "ERROR in validate_data: Lower bound at index 1 is greater than upper bound: -1.4450e+00 > -3.1565e+00\n",
      "ERROR in osqp_setup: Problem data validation.\n",
      "ERROR in validate_data: Lower bound at index 1 is greater than upper bound: -1.4450e+00 > -2.9735e+00\n",
      "ERROR in osqp_setup: Problem data validation.\n",
      "ERROR in validate_data: Lower bound at index 1 is greater than upper bound: -1.4451e+00 > -2.0503e+00\n",
      "ERROR in osqp_setup: Problem data validation.\n",
      "added 22 out of 150\n"
     ]
    },
    {
     "name": "stderr",
     "output_type": "stream",
     "text": [
      "                                                  \r"
     ]
    },
    {
     "name": "stdout",
     "output_type": "stream",
     "text": [
      "added 102 out of 150\n"
     ]
    },
    {
     "name": "stderr",
     "output_type": "stream",
     "text": [
      "                                                  \r"
     ]
    },
    {
     "name": "stdout",
     "output_type": "stream",
     "text": [
      "added 150 out of 150\n"
     ]
    },
    {
     "name": "stderr",
     "output_type": "stream",
     "text": [
      "                                                  \r"
     ]
    },
    {
     "name": "stdout",
     "output_type": "stream",
     "text": [
      "added 150 out of 150\n"
     ]
    },
    {
     "name": "stderr",
     "output_type": "stream",
     "text": [
      "                                                  \r"
     ]
    },
    {
     "name": "stdout",
     "output_type": "stream",
     "text": [
      "added 150 out of 150\n"
     ]
    },
    {
     "name": "stderr",
     "output_type": "stream",
     "text": [
      "                                                  \r"
     ]
    },
    {
     "name": "stdout",
     "output_type": "stream",
     "text": [
      "ERROR in validate_data: Lower bound at index 1 is greater than upper bound: -1.4451e+00 > -1.6929e+00\n",
      "ERROR in osqp_setup: Problem data validation.\n",
      "ERROR in validate_data: Lower bound at index 1 is greater than upper bound: -1.4451e+00 > -4.5013e+00\n",
      "ERROR in osqp_setup: Problem data validation.\n",
      "ERROR in validate_data: Lower bound at index 1 is greater than upper bound: -1.4451e+00 > -6.9485e+00\n",
      "ERROR in osqp_setup: Problem data validation.\n",
      "ERROR in validate_data: Lower bound at index 1 is greater than upper bound: -1.4451e+00 > -8.5769e+00\n",
      "ERROR in osqp_setup: Problem data validation.\n",
      "ERROR in validate_data: Lower bound at index 1 is greater than upper bound: -1.4451e+00 > -8.9513e+00\n",
      "ERROR in osqp_setup: Problem data validation.\n",
      "ERROR in validate_data: Lower bound at index 1 is greater than upper bound: -1.4451e+00 > -8.4055e+00\n",
      "ERROR in osqp_setup: Problem data validation.\n",
      "ERROR in validate_data: Lower bound at index 1 is greater than upper bound: 4.6345e+01 > 4.3130e+01\n",
      "ERROR in osqp_setup: Problem data validation.\n",
      "ERROR in validate_data: Lower bound at index 1 is greater than upper bound: 2.4860e+01 > 2.1286e+01\n",
      "ERROR in osqp_setup: Problem data validation.\n",
      "ERROR in validate_data: Lower bound at index 1 is greater than upper bound: 2.0394e+01 > 1.6063e+01\n",
      "ERROR in osqp_setup: Problem data validation.\n",
      "ERROR in validate_data: Lower bound at index 1 is greater than upper bound: 2.2744e+00 > -1.7399e+00\n",
      "ERROR in osqp_setup: Problem data validation.\n",
      "ERROR in validate_data: Lower bound at index 1 is greater than upper bound: 7.3906e+00 > 3.5996e+00\n",
      "ERROR in osqp_setup: Problem data validation.\n",
      "ERROR in validate_data: Lower bound at index 1 is greater than upper bound: -6.9783e-01 > -5.3131e+00\n",
      "ERROR in osqp_setup: Problem data validation.\n",
      "ERROR in validate_data: Lower bound at index 1 is greater than upper bound: 2.6545e+00 > -1.4699e+00\n",
      "ERROR in osqp_setup: Problem data validation.\n",
      "ERROR in validate_data: Lower bound at index 1 is greater than upper bound: -1.2201e+00 > -4.9062e+00\n",
      "ERROR in osqp_setup: Problem data validation.\n",
      "ERROR in validate_data: Lower bound at index 1 is greater than upper bound: 7.0769e-01 > -2.6439e+00\n",
      "ERROR in osqp_setup: Problem data validation.\n",
      "ERROR in validate_data: Lower bound at index 1 is greater than upper bound: -1.3549e+00 > -4.4671e+00\n",
      "ERROR in osqp_setup: Problem data validation.\n",
      "added 54 out of 150\n"
     ]
    },
    {
     "name": "stderr",
     "output_type": "stream",
     "text": [
      "                                                 \r"
     ]
    },
    {
     "name": "stdout",
     "output_type": "stream",
     "text": [
      "added 24 out of 150\n"
     ]
    },
    {
     "name": "stderr",
     "output_type": "stream",
     "text": [
      "                                                 \r"
     ]
    },
    {
     "name": "stdout",
     "output_type": "stream",
     "text": [
      "added 150 out of 150\n"
     ]
    },
    {
     "name": "stderr",
     "output_type": "stream",
     "text": [
      "                                                  \r"
     ]
    },
    {
     "name": "stdout",
     "output_type": "stream",
     "text": [
      "added 150 out of 150\n"
     ]
    },
    {
     "name": "stderr",
     "output_type": "stream",
     "text": [
      "                                                  \r"
     ]
    },
    {
     "name": "stdout",
     "output_type": "stream",
     "text": [
      "ERROR in validate_data: Lower bound at index 1 is greater than upper bound: -1.4149e+00 > -1.5611e+00\n",
      "ERROR in osqp_setup: Problem data validation.\n",
      "ERROR in validate_data: Lower bound at index 1 is greater than upper bound: -1.4451e+00 > -3.0461e+00\n",
      "ERROR in osqp_setup: Problem data validation.\n",
      "ERROR in validate_data: Lower bound at index 1 is greater than upper bound: -1.4451e+00 > -3.3786e+00\n",
      "ERROR in osqp_setup: Problem data validation.\n",
      "ERROR in validate_data: Lower bound at index 1 is greater than upper bound: -1.4451e+00 > -1.7056e+00\n",
      "ERROR in osqp_setup: Problem data validation.\n",
      "ERROR in validate_data: Lower bound at index 1 is greater than upper bound: -1.4451e+00 > -2.0964e+00\n",
      "ERROR in osqp_setup: Problem data validation.\n",
      "ERROR in validate_data: Lower bound at index 1 is greater than upper bound: -1.4451e+00 > -2.7464e+00\n",
      "ERROR in osqp_setup: Problem data validation.\n",
      "ERROR in validate_data: Lower bound at index 1 is greater than upper bound: -1.4451e+00 > -2.8894e+00\n",
      "ERROR in osqp_setup: Problem data validation.\n",
      "ERROR in validate_data: Lower bound at index 1 is greater than upper bound: -1.4451e+00 > -1.5598e+00\n",
      "ERROR in osqp_setup: Problem data validation.\n",
      "ERROR in validate_data: Lower bound at index 1 is greater than upper bound: -1.4451e+00 > -1.6297e+00\n",
      "ERROR in osqp_setup: Problem data validation.\n",
      "added 140 out of 150\n"
     ]
    },
    {
     "name": "stderr",
     "output_type": "stream",
     "text": [
      "                                                  \r"
     ]
    },
    {
     "name": "stdout",
     "output_type": "stream",
     "text": [
      "added 130 out of 150\n"
     ]
    },
    {
     "name": "stderr",
     "output_type": "stream",
     "text": [
      "                                                 \r"
     ]
    },
    {
     "name": "stdout",
     "output_type": "stream",
     "text": [
      "added 150 out of 150\n"
     ]
    },
    {
     "name": "stderr",
     "output_type": "stream",
     "text": [
      "                                                  \r"
     ]
    },
    {
     "name": "stdout",
     "output_type": "stream",
     "text": [
      "added 150 out of 150\n"
     ]
    },
    {
     "name": "stderr",
     "output_type": "stream",
     "text": [
      "                                                  \r"
     ]
    },
    {
     "name": "stdout",
     "output_type": "stream",
     "text": [
      "ERROR in validate_data: Lower bound at index 1 is greater than upper bound: -1.4489e+00 > -4.0237e+00\n",
      "ERROR in osqp_setup: Problem data validation.\n",
      "ERROR in validate_data: Lower bound at index 1 is greater than upper bound: -1.4486e+00 > -2.7697e+00\n",
      "ERROR in osqp_setup: Problem data validation.\n",
      "ERROR in validate_data: Lower bound at index 1 is greater than upper bound: -1.4489e+00 > -3.5686e+00\n",
      "ERROR in osqp_setup: Problem data validation.\n",
      "ERROR in validate_data: Lower bound at index 1 is greater than upper bound: -1.4489e+00 > -2.9191e+00\n",
      "ERROR in osqp_setup: Problem data validation.\n",
      "ERROR in validate_data: Lower bound at index 1 is greater than upper bound: -1.4492e+00 > -2.2250e+00\n",
      "ERROR in osqp_setup: Problem data validation.\n",
      "added 138 out of 150\n"
     ]
    },
    {
     "name": "stderr",
     "output_type": "stream",
     "text": [
      "                                                  \r"
     ]
    },
    {
     "name": "stdout",
     "output_type": "stream",
     "text": [
      "added 149 out of 150\n"
     ]
    },
    {
     "name": "stderr",
     "output_type": "stream",
     "text": [
      "                                                  \r"
     ]
    },
    {
     "name": "stdout",
     "output_type": "stream",
     "text": [
      "added 150 out of 150\n"
     ]
    },
    {
     "name": "stderr",
     "output_type": "stream",
     "text": [
      "                                                  \r"
     ]
    },
    {
     "name": "stdout",
     "output_type": "stream",
     "text": [
      "added 103 out of 150\n"
     ]
    },
    {
     "name": "stderr",
     "output_type": "stream",
     "text": [
      "                                             \r"
     ]
    },
    {
     "name": "stdout",
     "output_type": "stream",
     "text": [
      "Epoch: 3 metrics: (-2398.0631009656136, -57.32469689513277, -1421.9848650111526, -1512.174135440562, 5)\n"
     ]
    },
    {
     "name": "stderr",
     "output_type": "stream",
     "text": [
      "                                                  \r"
     ]
    },
    {
     "name": "stdout",
     "output_type": "stream",
     "text": [
      "added 43 out of 150\n"
     ]
    },
    {
     "name": "stderr",
     "output_type": "stream",
     "text": [
      "                                                  \r"
     ]
    },
    {
     "name": "stdout",
     "output_type": "stream",
     "text": [
      "added 148 out of 150\n"
     ]
    },
    {
     "name": "stderr",
     "output_type": "stream",
     "text": [
      "                                                 \r"
     ]
    },
    {
     "name": "stdout",
     "output_type": "stream",
     "text": [
      "added 150 out of 150\n"
     ]
    },
    {
     "name": "stderr",
     "output_type": "stream",
     "text": [
      "                                                  \r"
     ]
    },
    {
     "name": "stdout",
     "output_type": "stream",
     "text": [
      "ERROR in validate_data: Lower bound at index 1 is greater than upper bound: -1.4451e+00 > -2.0182e+00\n",
      "ERROR in osqp_setup: Problem data validation.\n",
      "ERROR in validate_data: Lower bound at index 1 is greater than upper bound: -1.4451e+00 > -2.0758e+00\n",
      "ERROR in osqp_setup: Problem data validation.\n",
      "ERROR in validate_data: Lower bound at index 1 is greater than upper bound: -1.4451e+00 > -2.3095e+00\n",
      "ERROR in osqp_setup: Problem data validation.\n",
      "ERROR in validate_data: Lower bound at index 1 is greater than upper bound: -1.4451e+00 > -1.9860e+00\n",
      "ERROR in osqp_setup: Problem data validation.\n",
      "ERROR in validate_data: Lower bound at index 1 is greater than upper bound: -1.4451e+00 > -2.7798e+00\n",
      "ERROR in osqp_setup: Problem data validation.\n",
      "ERROR in validate_data: Lower bound at index 1 is greater than upper bound: -1.4451e+00 > -2.6731e+00\n",
      "ERROR in osqp_setup: Problem data validation.\n",
      "ERROR in validate_data: Lower bound at index 1 is greater than upper bound: -1.6374e+00 > -1.6482e+00\n",
      "ERROR in osqp_setup: Problem data validation.\n",
      "ERROR in validate_data: Lower bound at index 1 is greater than upper bound: -1.4451e+00 > -2.5409e+00\n",
      "ERROR in osqp_setup: Problem data validation.\n",
      "ERROR in validate_data: Lower bound at index 1 is greater than upper bound: -1.4451e+00 > -3.3255e+00\n",
      "ERROR in osqp_setup: Problem data validation.\n",
      "ERROR in validate_data: Lower bound at index 1 is greater than upper bound: -1.4451e+00 > -4.1366e+00\n",
      "ERROR in osqp_setup: Problem data validation.\n",
      "ERROR in validate_data: Lower bound at index 1 is greater than upper bound: -1.4451e+00 > -3.7139e+00\n",
      "ERROR in osqp_setup: Problem data validation.\n",
      "ERROR in validate_data: Lower bound at index 1 is greater than upper bound: -1.4451e+00 > -4.1527e+00\n",
      "ERROR in osqp_setup: Problem data validation.\n",
      "ERROR in validate_data: Lower bound at index 1 is greater than upper bound: -1.4451e+00 > -6.2476e+00\n",
      "ERROR in osqp_setup: Problem data validation.\n",
      "ERROR in validate_data: Lower bound at index 1 is greater than upper bound: -1.4451e+00 > -6.0133e+00\n",
      "ERROR in osqp_setup: Problem data validation.\n",
      "ERROR in validate_data: Lower bound at index 1 is greater than upper bound: -1.4451e+00 > -5.2493e+00\n",
      "ERROR in osqp_setup: Problem data validation.\n",
      "ERROR in validate_data: Lower bound at index 1 is greater than upper bound: -1.4451e+00 > -5.4175e+00\n",
      "ERROR in osqp_setup: Problem data validation.\n",
      "ERROR in validate_data: Lower bound at index 1 is greater than upper bound: -1.4451e+00 > -5.0155e+00\n",
      "ERROR in osqp_setup: Problem data validation.\n",
      "ERROR in validate_data: Lower bound at index 1 is greater than upper bound: -1.4451e+00 > -2.8246e+00\n",
      "ERROR in osqp_setup: Problem data validation.\n",
      "ERROR in validate_data: Lower bound at index 1 is greater than upper bound: -1.4451e+00 > -1.7463e+00\n",
      "ERROR in osqp_setup: Problem data validation.\n",
      "ERROR in validate_data: Lower bound at index 1 is greater than upper bound: -1.4451e+00 > -2.1239e+00\n",
      "ERROR in osqp_setup: Problem data validation.\n",
      "ERROR in validate_data: Lower bound at index 1 is greater than upper bound: -1.4451e+00 > -1.7017e+00\n",
      "ERROR in osqp_setup: Problem data validation.\n",
      "ERROR in validate_data: Lower bound at index 1 is greater than upper bound: -1.4451e+00 > -2.8288e+00\n",
      "ERROR in osqp_setup: Problem data validation.\n",
      "ERROR in validate_data: Lower bound at index 1 is greater than upper bound: -1.4451e+00 > -2.2295e+00\n",
      "ERROR in osqp_setup: Problem data validation.\n",
      "ERROR in validate_data: Lower bound at index 1 is greater than upper bound: -1.4452e+00 > -2.3812e+00\n",
      "ERROR in osqp_setup: Problem data validation.\n",
      "ERROR in validate_data: Lower bound at index 1 is greater than upper bound: -1.4451e+00 > -2.3114e+00\n",
      "ERROR in osqp_setup: Problem data validation.\n",
      "ERROR in validate_data: Lower bound at index 1 is greater than upper bound: -1.4451e+00 > -2.1126e+00\n",
      "ERROR in osqp_setup: Problem data validation.\n",
      "added 122 out of 150\n"
     ]
    },
    {
     "name": "stderr",
     "output_type": "stream",
     "text": [
      "                                                  \r"
     ]
    },
    {
     "name": "stdout",
     "output_type": "stream",
     "text": [
      "added 137 out of 150\n"
     ]
    },
    {
     "name": "stderr",
     "output_type": "stream",
     "text": [
      "                                                  \r"
     ]
    },
    {
     "name": "stdout",
     "output_type": "stream",
     "text": [
      "added 90 out of 150\n"
     ]
    },
    {
     "name": "stderr",
     "output_type": "stream",
     "text": [
      "                                                  \r"
     ]
    },
    {
     "name": "stdout",
     "output_type": "stream",
     "text": [
      "added 150 out of 150\n"
     ]
    },
    {
     "name": "stderr",
     "output_type": "stream",
     "text": [
      "                                                  \r"
     ]
    },
    {
     "name": "stdout",
     "output_type": "stream",
     "text": [
      "added 150 out of 150\n"
     ]
    },
    {
     "name": "stderr",
     "output_type": "stream",
     "text": [
      "                                                  \r"
     ]
    },
    {
     "name": "stdout",
     "output_type": "stream",
     "text": [
      "added 72 out of 150\n"
     ]
    },
    {
     "name": "stderr",
     "output_type": "stream",
     "text": [
      "                                                  \r"
     ]
    },
    {
     "name": "stdout",
     "output_type": "stream",
     "text": [
      "ERROR in validate_data: Lower bound at index 1 is greater than upper bound: -1.4451e+00 > -1.5863e+00\n",
      "ERROR in osqp_setup: Problem data validation.\n",
      "ERROR in validate_data: Lower bound at index 1 is greater than upper bound: -1.4451e+00 > -2.3862e+00\n",
      "ERROR in osqp_setup: Problem data validation.\n",
      "ERROR in validate_data: Lower bound at index 1 is greater than upper bound: -1.4451e+00 > -3.5576e+00\n",
      "ERROR in osqp_setup: Problem data validation.\n",
      "ERROR in validate_data: Lower bound at index 1 is greater than upper bound: -1.4451e+00 > -5.0970e+00\n",
      "ERROR in osqp_setup: Problem data validation.\n",
      "ERROR in validate_data: Lower bound at index 1 is greater than upper bound: -1.4451e+00 > -5.4241e+00\n",
      "ERROR in osqp_setup: Problem data validation.\n",
      "ERROR in validate_data: Lower bound at index 1 is greater than upper bound: -1.4451e+00 > -4.8115e+00\n",
      "ERROR in osqp_setup: Problem data validation.\n",
      "ERROR in validate_data: Lower bound at index 1 is greater than upper bound: -1.4451e+00 > -5.4480e+00\n",
      "ERROR in osqp_setup: Problem data validation.\n",
      "ERROR in validate_data: Lower bound at index 1 is greater than upper bound: -1.4451e+00 > -6.2442e+00\n",
      "ERROR in osqp_setup: Problem data validation.\n",
      "ERROR in validate_data: Lower bound at index 1 is greater than upper bound: -1.4451e+00 > -6.8561e+00\n",
      "ERROR in osqp_setup: Problem data validation.\n",
      "ERROR in validate_data: Lower bound at index 1 is greater than upper bound: -1.4451e+00 > -7.2548e+00\n",
      "ERROR in osqp_setup: Problem data validation.\n",
      "ERROR in validate_data: Lower bound at index 1 is greater than upper bound: -1.4451e+00 > -6.8514e+00\n",
      "ERROR in osqp_setup: Problem data validation.\n",
      "ERROR in validate_data: Lower bound at index 1 is greater than upper bound: -1.4451e+00 > -7.6711e+00\n",
      "ERROR in osqp_setup: Problem data validation.\n",
      "ERROR in validate_data: Lower bound at index 1 is greater than upper bound: -1.4451e+00 > -7.0172e+00\n",
      "ERROR in osqp_setup: Problem data validation.\n",
      "ERROR in validate_data: Lower bound at index 1 is greater than upper bound: -1.4451e+00 > -6.6819e+00\n",
      "ERROR in osqp_setup: Problem data validation.\n",
      "ERROR in validate_data: Lower bound at index 1 is greater than upper bound: -1.4451e+00 > -5.1498e+00\n",
      "ERROR in osqp_setup: Problem data validation.\n",
      "ERROR in validate_data: Lower bound at index 1 is greater than upper bound: -1.4451e+00 > -4.1734e+00\n",
      "ERROR in osqp_setup: Problem data validation.\n",
      "ERROR in validate_data: Lower bound at index 1 is greater than upper bound: -1.4451e+00 > -3.9386e+00\n",
      "ERROR in osqp_setup: Problem data validation.\n",
      "ERROR in validate_data: Lower bound at index 1 is greater than upper bound: -1.4451e+00 > -5.9118e+00\n",
      "ERROR in osqp_setup: Problem data validation.\n",
      "ERROR in validate_data: Lower bound at index 1 is greater than upper bound: -1.4451e+00 > -7.1508e+00\n",
      "ERROR in osqp_setup: Problem data validation.\n",
      "ERROR in validate_data: Lower bound at index 1 is greater than upper bound: -1.4451e+00 > -7.0245e+00\n",
      "ERROR in osqp_setup: Problem data validation.\n",
      "ERROR in validate_data: Lower bound at index 1 is greater than upper bound: -1.4451e+00 > -5.3407e+00\n",
      "ERROR in osqp_setup: Problem data validation.\n",
      "ERROR in validate_data: Lower bound at index 1 is greater than upper bound: -1.4451e+00 > -4.8983e+00\n",
      "ERROR in osqp_setup: Problem data validation.\n",
      "ERROR in validate_data: Lower bound at index 1 is greater than upper bound: -1.4451e+00 > -6.3297e+00\n",
      "ERROR in osqp_setup: Problem data validation.\n",
      "ERROR in validate_data: Lower bound at index 1 is greater than upper bound: -1.4451e+00 > -6.9003e+00\n",
      "ERROR in osqp_setup: Problem data validation.\n",
      "ERROR in validate_data: Lower bound at index 1 is greater than upper bound: -1.4451e+00 > -5.5082e+00\n",
      "ERROR in osqp_setup: Problem data validation.\n",
      "ERROR in validate_data: Lower bound at index 1 is greater than upper bound: -1.4451e+00 > -4.9255e+00\n",
      "ERROR in osqp_setup: Problem data validation.\n",
      "ERROR in validate_data: Lower bound at index 1 is greater than upper bound: -1.4451e+00 > -4.7134e+00\n",
      "ERROR in osqp_setup: Problem data validation.\n",
      "ERROR in validate_data: Lower bound at index 1 is greater than upper bound: -1.4451e+00 > -5.3214e+00\n",
      "ERROR in osqp_setup: Problem data validation.\n",
      "ERROR in validate_data: Lower bound at index 1 is greater than upper bound: -1.4451e+00 > -6.3902e+00\n",
      "ERROR in osqp_setup: Problem data validation.\n",
      "ERROR in validate_data: Lower bound at index 1 is greater than upper bound: -1.4451e+00 > -6.1843e+00\n",
      "ERROR in osqp_setup: Problem data validation.\n",
      "ERROR in validate_data: Lower bound at index 1 is greater than upper bound: -1.4451e+00 > -5.8303e+00\n",
      "ERROR in osqp_setup: Problem data validation.\n",
      "ERROR in validate_data: Lower bound at index 1 is greater than upper bound: -1.4451e+00 > -5.8461e+00\n",
      "ERROR in osqp_setup: Problem data validation.\n",
      "ERROR in validate_data: Lower bound at index 1 is greater than upper bound: -1.4451e+00 > -7.4723e+00\n",
      "ERROR in osqp_setup: Problem data validation.\n",
      "ERROR in validate_data: Lower bound at index 1 is greater than upper bound: -1.4451e+00 > -7.3607e+00\n",
      "ERROR in osqp_setup: Problem data validation.\n",
      "ERROR in validate_data: Lower bound at index 1 is greater than upper bound: -1.4451e+00 > -6.8110e+00\n",
      "ERROR in osqp_setup: Problem data validation.\n",
      "ERROR in validate_data: Lower bound at index 1 is greater than upper bound: -1.4451e+00 > -6.2727e+00\n",
      "ERROR in osqp_setup: Problem data validation.\n",
      "ERROR in validate_data: Lower bound at index 1 is greater than upper bound: -1.4451e+00 > -4.8028e+00\n",
      "ERROR in osqp_setup: Problem data validation.\n",
      "ERROR in validate_data: Lower bound at index 1 is greater than upper bound: -1.4451e+00 > -4.3704e+00\n",
      "ERROR in osqp_setup: Problem data validation.\n",
      "ERROR in validate_data: Lower bound at index 1 is greater than upper bound: -1.4451e+00 > -5.8483e+00\n",
      "ERROR in osqp_setup: Problem data validation.\n",
      "ERROR in validate_data: Lower bound at index 1 is greater than upper bound: -1.4451e+00 > -5.9847e+00\n",
      "ERROR in osqp_setup: Problem data validation.\n",
      "ERROR in validate_data: Lower bound at index 1 is greater than upper bound: -1.4451e+00 > -6.5033e+00\n",
      "ERROR in osqp_setup: Problem data validation.\n",
      "ERROR in validate_data: Lower bound at index 1 is greater than upper bound: -1.4451e+00 > -5.3136e+00\n",
      "ERROR in osqp_setup: Problem data validation.\n",
      "ERROR in validate_data: Lower bound at index 1 is greater than upper bound: -1.4451e+00 > -6.0338e+00\n",
      "ERROR in osqp_setup: Problem data validation.\n",
      "ERROR in validate_data: Lower bound at index 1 is greater than upper bound: -1.4451e+00 > -5.5030e+00\n",
      "ERROR in osqp_setup: Problem data validation.\n",
      "ERROR in validate_data: Lower bound at index 1 is greater than upper bound: -1.4451e+00 > -4.7360e+00\n",
      "ERROR in osqp_setup: Problem data validation.\n",
      "ERROR in validate_data: Lower bound at index 1 is greater than upper bound: -1.4451e+00 > -5.3034e+00\n",
      "ERROR in osqp_setup: Problem data validation.\n",
      "ERROR in validate_data: Lower bound at index 1 is greater than upper bound: -1.4451e+00 > -3.4250e+00\n",
      "ERROR in osqp_setup: Problem data validation.\n",
      "ERROR in validate_data: Lower bound at index 1 is greater than upper bound: -1.4451e+00 > -2.5440e+00\n",
      "ERROR in osqp_setup: Problem data validation.\n",
      "ERROR in validate_data: Lower bound at index 1 is greater than upper bound: -1.4451e+00 > -2.8897e+00\n",
      "ERROR in osqp_setup: Problem data validation.\n",
      "ERROR in validate_data: Lower bound at index 1 is greater than upper bound: -1.4451e+00 > -2.1246e+00\n",
      "ERROR in osqp_setup: Problem data validation.\n",
      "ERROR in validate_data: Lower bound at index 1 is greater than upper bound: -1.4451e+00 > -2.6477e+00\n",
      "ERROR in osqp_setup: Problem data validation.\n",
      "ERROR in validate_data: Lower bound at index 1 is greater than upper bound: -1.4451e+00 > -2.0508e+00\n",
      "ERROR in osqp_setup: Problem data validation.\n",
      "ERROR in validate_data: Lower bound at index 1 is greater than upper bound: -1.4451e+00 > -1.5070e+00\n",
      "ERROR in osqp_setup: Problem data validation.\n",
      "ERROR in validate_data: Lower bound at index 1 is greater than upper bound: -1.4451e+00 > -2.1368e+00\n",
      "ERROR in osqp_setup: Problem data validation.\n",
      "ERROR in validate_data: Lower bound at index 1 is greater than upper bound: -1.4451e+00 > -1.8594e+00\n",
      "ERROR in osqp_setup: Problem data validation.\n",
      "ERROR in validate_data: Lower bound at index 1 is greater than upper bound: -1.4451e+00 > -1.5023e+00\n",
      "ERROR in osqp_setup: Problem data validation.\n",
      "ERROR in validate_data: Lower bound at index 1 is greater than upper bound: -1.4451e+00 > -1.6010e+00\n",
      "ERROR in osqp_setup: Problem data validation.\n",
      "ERROR in validate_data: Lower bound at index 1 is greater than upper bound: -1.4451e+00 > -2.6900e+00\n",
      "ERROR in osqp_setup: Problem data validation.\n",
      "ERROR in validate_data: Lower bound at index 1 is greater than upper bound: -1.4451e+00 > -3.1053e+00\n",
      "ERROR in osqp_setup: Problem data validation.\n",
      "ERROR in validate_data: Lower bound at index 1 is greater than upper bound: -1.4451e+00 > -4.3410e+00\n",
      "ERROR in osqp_setup: Problem data validation.\n",
      "ERROR in validate_data: Lower bound at index 1 is greater than upper bound: -1.4451e+00 > -3.9532e+00\n",
      "ERROR in osqp_setup: Problem data validation.\n",
      "ERROR in validate_data: Lower bound at index 1 is greater than upper bound: -1.4451e+00 > -4.1021e+00\n",
      "ERROR in osqp_setup: Problem data validation.\n",
      "ERROR in validate_data: Lower bound at index 1 is greater than upper bound: -1.4451e+00 > -3.3523e+00\n",
      "ERROR in osqp_setup: Problem data validation.\n",
      "ERROR in validate_data: Lower bound at index 1 is greater than upper bound: -1.4451e+00 > -2.9720e+00\n",
      "ERROR in osqp_setup: Problem data validation.\n",
      "ERROR in validate_data: Lower bound at index 1 is greater than upper bound: -1.4451e+00 > -4.1435e+00\n",
      "ERROR in osqp_setup: Problem data validation.\n",
      "ERROR in validate_data: Lower bound at index 1 is greater than upper bound: -1.4451e+00 > -4.0202e+00\n",
      "ERROR in osqp_setup: Problem data validation.\n",
      "ERROR in validate_data: Lower bound at index 1 is greater than upper bound: -1.4451e+00 > -4.6559e+00\n",
      "ERROR in osqp_setup: Problem data validation.\n",
      "ERROR in validate_data: Lower bound at index 1 is greater than upper bound: -1.4451e+00 > -5.0418e+00\n",
      "ERROR in osqp_setup: Problem data validation.\n",
      "ERROR in validate_data: Lower bound at index 1 is greater than upper bound: -1.4451e+00 > -5.2347e+00\n",
      "ERROR in osqp_setup: Problem data validation.\n",
      "ERROR in validate_data: Lower bound at index 1 is greater than upper bound: -1.4451e+00 > -5.3617e+00\n",
      "ERROR in osqp_setup: Problem data validation.\n",
      "ERROR in validate_data: Lower bound at index 1 is greater than upper bound: -1.4451e+00 > -5.0060e+00\n",
      "ERROR in osqp_setup: Problem data validation.\n",
      "ERROR in validate_data: Lower bound at index 1 is greater than upper bound: -1.4451e+00 > -5.0797e+00\n",
      "ERROR in osqp_setup: Problem data validation.\n",
      "ERROR in validate_data: Lower bound at index 1 is greater than upper bound: -1.4451e+00 > -5.3421e+00\n",
      "ERROR in osqp_setup: Problem data validation.\n",
      "ERROR in validate_data: Lower bound at index 1 is greater than upper bound: -1.4451e+00 > -4.4618e+00\n",
      "ERROR in osqp_setup: Problem data validation.\n",
      "ERROR in validate_data: Lower bound at index 1 is greater than upper bound: -1.4451e+00 > -4.1990e+00\n",
      "ERROR in osqp_setup: Problem data validation.\n",
      "ERROR in validate_data: Lower bound at index 1 is greater than upper bound: -1.4451e+00 > -5.0098e+00\n",
      "ERROR in osqp_setup: Problem data validation.\n",
      "ERROR in validate_data: Lower bound at index 1 is greater than upper bound: -1.4451e+00 > -4.7111e+00\n",
      "ERROR in osqp_setup: Problem data validation.\n",
      "ERROR in validate_data: Lower bound at index 1 is greater than upper bound: -1.4451e+00 > -5.3866e+00\n",
      "ERROR in osqp_setup: Problem data validation.\n",
      "ERROR in validate_data: Lower bound at index 1 is greater than upper bound: -1.4451e+00 > -6.6075e+00\n",
      "ERROR in osqp_setup: Problem data validation.\n",
      "ERROR in validate_data: Lower bound at index 1 is greater than upper bound: -1.4451e+00 > -7.1999e+00\n",
      "ERROR in osqp_setup: Problem data validation.\n",
      "ERROR in validate_data: Lower bound at index 1 is greater than upper bound: -1.4451e+00 > -6.4817e+00\n",
      "ERROR in osqp_setup: Problem data validation.\n",
      "ERROR in validate_data: Lower bound at index 1 is greater than upper bound: -1.4451e+00 > -5.9302e+00\n",
      "ERROR in osqp_setup: Problem data validation.\n",
      "ERROR in validate_data: Lower bound at index 1 is greater than upper bound: -1.4451e+00 > -5.3635e+00\n",
      "ERROR in osqp_setup: Problem data validation.\n",
      "ERROR in validate_data: Lower bound at index 1 is greater than upper bound: -1.4451e+00 > -4.9034e+00\n",
      "ERROR in osqp_setup: Problem data validation.\n",
      "ERROR in validate_data: Lower bound at index 1 is greater than upper bound: -1.4451e+00 > -5.1117e+00\n",
      "ERROR in osqp_setup: Problem data validation.\n",
      "ERROR in validate_data: Lower bound at index 1 is greater than upper bound: -1.4451e+00 > -5.0333e+00\n",
      "ERROR in osqp_setup: Problem data validation.\n",
      "ERROR in validate_data: Lower bound at index 1 is greater than upper bound: -1.4451e+00 > -5.1977e+00\n",
      "ERROR in osqp_setup: Problem data validation.\n",
      "added 26 out of 150\n"
     ]
    },
    {
     "name": "stderr",
     "output_type": "stream",
     "text": [
      "                                                  \r"
     ]
    },
    {
     "name": "stdout",
     "output_type": "stream",
     "text": [
      "added 93 out of 150\n"
     ]
    },
    {
     "name": "stderr",
     "output_type": "stream",
     "text": [
      "                                                  \r"
     ]
    },
    {
     "name": "stdout",
     "output_type": "stream",
     "text": [
      "ERROR in validate_data: Lower bound at index 1 is greater than upper bound: -1.4451e+00 > -1.5412e+00\n",
      "ERROR in osqp_setup: Problem data validation.\n",
      "ERROR in validate_data: Lower bound at index 1 is greater than upper bound: -1.4451e+00 > -2.1644e+00\n",
      "ERROR in osqp_setup: Problem data validation.\n",
      "ERROR in validate_data: Lower bound at index 1 is greater than upper bound: -1.4451e+00 > -3.3541e+00\n",
      "ERROR in osqp_setup: Problem data validation.\n",
      "ERROR in validate_data: Lower bound at index 1 is greater than upper bound: -1.4451e+00 > -3.4252e+00\n",
      "ERROR in osqp_setup: Problem data validation.\n",
      "ERROR in validate_data: Lower bound at index 1 is greater than upper bound: -1.4451e+00 > -1.8222e+00\n",
      "ERROR in osqp_setup: Problem data validation.\n",
      "ERROR in validate_data: Lower bound at index 1 is greater than upper bound: -1.4451e+00 > -2.2140e+00\n",
      "ERROR in osqp_setup: Problem data validation.\n",
      "ERROR in validate_data: Lower bound at index 1 is greater than upper bound: -1.4451e+00 > -1.9235e+00\n",
      "ERROR in osqp_setup: Problem data validation.\n",
      "ERROR in validate_data: Lower bound at index 1 is greater than upper bound: -1.4451e+00 > -1.5230e+00\n",
      "ERROR in osqp_setup: Problem data validation.\n",
      "ERROR in validate_data: Lower bound at index 1 is greater than upper bound: -1.4451e+00 > -1.8647e+00\n",
      "ERROR in osqp_setup: Problem data validation.\n",
      "ERROR in validate_data: Lower bound at index 1 is greater than upper bound: -1.4451e+00 > -2.1124e+00\n",
      "ERROR in osqp_setup: Problem data validation.\n",
      "ERROR in validate_data: Lower bound at index 1 is greater than upper bound: -1.4451e+00 > -1.6834e+00\n",
      "ERROR in osqp_setup: Problem data validation.\n",
      "ERROR in validate_data: Lower bound at index 1 is greater than upper bound: -1.4451e+00 > -1.8632e+00\n",
      "ERROR in osqp_setup: Problem data validation.\n",
      "ERROR in validate_data: Lower bound at index 1 is greater than upper bound: -1.4451e+00 > -1.7261e+00\n",
      "ERROR in osqp_setup: Problem data validation.\n",
      "ERROR in validate_data: Lower bound at index 1 is greater than upper bound: -1.4451e+00 > -2.4272e+00\n",
      "ERROR in osqp_setup: Problem data validation.\n",
      "ERROR in validate_data: Lower bound at index 1 is greater than upper bound: -1.4451e+00 > -2.7231e+00\n",
      "ERROR in osqp_setup: Problem data validation.\n",
      "ERROR in validate_data: Lower bound at index 1 is greater than upper bound: -1.4451e+00 > -3.1784e+00\n",
      "ERROR in osqp_setup: Problem data validation.\n",
      "ERROR in validate_data: Lower bound at index 1 is greater than upper bound: -1.4451e+00 > -2.7106e+00\n",
      "ERROR in osqp_setup: Problem data validation.\n",
      "ERROR in validate_data: Lower bound at index 1 is greater than upper bound: -1.4451e+00 > -3.6022e+00\n",
      "ERROR in osqp_setup: Problem data validation.\n",
      "ERROR in validate_data: Lower bound at index 1 is greater than upper bound: -1.4451e+00 > -3.8823e+00\n",
      "ERROR in osqp_setup: Problem data validation.\n",
      "ERROR in validate_data: Lower bound at index 1 is greater than upper bound: -1.4451e+00 > -4.4037e+00\n",
      "ERROR in osqp_setup: Problem data validation.\n",
      "ERROR in validate_data: Lower bound at index 1 is greater than upper bound: -1.4451e+00 > -4.9817e+00\n",
      "ERROR in osqp_setup: Problem data validation.\n",
      "ERROR in validate_data: Lower bound at index 1 is greater than upper bound: -1.4451e+00 > -4.8305e+00\n",
      "ERROR in osqp_setup: Problem data validation.\n",
      "added 128 out of 150\n"
     ]
    },
    {
     "name": "stderr",
     "output_type": "stream",
     "text": [
      "                                                  \r"
     ]
    },
    {
     "name": "stdout",
     "output_type": "stream",
     "text": [
      "added 81 out of 150\n"
     ]
    },
    {
     "name": "stderr",
     "output_type": "stream",
     "text": [
      "                                                  \r"
     ]
    },
    {
     "name": "stdout",
     "output_type": "stream",
     "text": [
      "added 150 out of 150\n"
     ]
    },
    {
     "name": "stderr",
     "output_type": "stream",
     "text": [
      "                                                  \r"
     ]
    },
    {
     "name": "stdout",
     "output_type": "stream",
     "text": [
      "added 98 out of 150\n"
     ]
    },
    {
     "name": "stderr",
     "output_type": "stream",
     "text": [
      "                                                  \r"
     ]
    },
    {
     "name": "stdout",
     "output_type": "stream",
     "text": [
      "added 150 out of 150\n"
     ]
    },
    {
     "name": "stderr",
     "output_type": "stream",
     "text": [
      "                                                  \r"
     ]
    },
    {
     "name": "stdout",
     "output_type": "stream",
     "text": [
      "ERROR in validate_data: Lower bound at index 1 is greater than upper bound: -1.4451e+00 > -1.8505e+00\n",
      "ERROR in osqp_setup: Problem data validation.\n",
      "ERROR in validate_data: Lower bound at index 1 is greater than upper bound: -1.4451e+00 > -3.4599e+00\n",
      "ERROR in osqp_setup: Problem data validation.\n",
      "ERROR in validate_data: Lower bound at index 1 is greater than upper bound: -1.4452e+00 > -3.7514e+00\n",
      "ERROR in osqp_setup: Problem data validation.\n",
      "ERROR in validate_data: Lower bound at index 1 is greater than upper bound: -1.4451e+00 > -3.3502e+00\n",
      "ERROR in osqp_setup: Problem data validation.\n",
      "ERROR in validate_data: Lower bound at index 1 is greater than upper bound: -1.4452e+00 > -4.2163e+00\n",
      "ERROR in osqp_setup: Problem data validation.\n",
      "ERROR in validate_data: Lower bound at index 1 is greater than upper bound: -1.4451e+00 > -3.6439e+00\n",
      "ERROR in osqp_setup: Problem data validation.\n",
      "ERROR in validate_data: Lower bound at index 1 is greater than upper bound: -1.4451e+00 > -3.8383e+00\n",
      "ERROR in osqp_setup: Problem data validation.\n",
      "ERROR in validate_data: Lower bound at index 1 is greater than upper bound: -1.4451e+00 > -3.0415e+00\n",
      "ERROR in osqp_setup: Problem data validation.\n",
      "ERROR in validate_data: Lower bound at index 1 is greater than upper bound: -1.4451e+00 > -2.6745e+00\n",
      "ERROR in osqp_setup: Problem data validation.\n",
      "ERROR in validate_data: Lower bound at index 1 is greater than upper bound: -1.4451e+00 > -4.5521e+00\n",
      "ERROR in osqp_setup: Problem data validation.\n",
      "ERROR in validate_data: Lower bound at index 1 is greater than upper bound: -1.4451e+00 > -5.7192e+00\n",
      "ERROR in osqp_setup: Problem data validation.\n",
      "ERROR in validate_data: Lower bound at index 1 is greater than upper bound: -1.4451e+00 > -6.2206e+00\n",
      "ERROR in osqp_setup: Problem data validation.\n",
      "ERROR in validate_data: Lower bound at index 1 is greater than upper bound: -1.4451e+00 > -7.6030e+00\n",
      "ERROR in osqp_setup: Problem data validation.\n",
      "ERROR in validate_data: Lower bound at index 1 is greater than upper bound: -1.4451e+00 > -7.4249e+00\n",
      "ERROR in osqp_setup: Problem data validation.\n",
      "ERROR in validate_data: Lower bound at index 1 is greater than upper bound: -1.4451e+00 > -7.1032e+00\n",
      "ERROR in osqp_setup: Problem data validation.\n",
      "ERROR in validate_data: Lower bound at index 1 is greater than upper bound: -1.4451e+00 > -7.4646e+00\n",
      "ERROR in osqp_setup: Problem data validation.\n",
      "ERROR in validate_data: Lower bound at index 1 is greater than upper bound: -1.4451e+00 > -6.8451e+00\n",
      "ERROR in osqp_setup: Problem data validation.\n",
      "ERROR in validate_data: Lower bound at index 1 is greater than upper bound: -1.4451e+00 > -6.3249e+00\n",
      "ERROR in osqp_setup: Problem data validation.\n",
      "ERROR in validate_data: Lower bound at index 1 is greater than upper bound: -1.4451e+00 > -4.5095e+00\n",
      "ERROR in osqp_setup: Problem data validation.\n",
      "ERROR in validate_data: Lower bound at index 1 is greater than upper bound: -1.4451e+00 > -4.9266e+00\n",
      "ERROR in osqp_setup: Problem data validation.\n",
      "ERROR in validate_data: Lower bound at index 1 is greater than upper bound: -1.4451e+00 > -6.7333e+00\n",
      "ERROR in osqp_setup: Problem data validation.\n",
      "ERROR in validate_data: Lower bound at index 1 is greater than upper bound: -1.4451e+00 > -6.6335e+00\n",
      "ERROR in osqp_setup: Problem data validation.\n",
      "ERROR in validate_data: Lower bound at index 1 is greater than upper bound: -1.4451e+00 > -7.4107e+00\n",
      "ERROR in osqp_setup: Problem data validation.\n",
      "ERROR in validate_data: Lower bound at index 1 is greater than upper bound: -1.4451e+00 > -7.1594e+00\n",
      "ERROR in osqp_setup: Problem data validation.\n",
      "ERROR in validate_data: Lower bound at index 1 is greater than upper bound: -1.4451e+00 > -6.7990e+00\n",
      "ERROR in osqp_setup: Problem data validation.\n",
      "ERROR in validate_data: Lower bound at index 1 is greater than upper bound: -1.4451e+00 > -7.7615e+00\n",
      "ERROR in osqp_setup: Problem data validation.\n",
      "ERROR in validate_data: Lower bound at index 1 is greater than upper bound: -1.4451e+00 > -7.2843e+00\n",
      "ERROR in osqp_setup: Problem data validation.\n",
      "ERROR in validate_data: Lower bound at index 1 is greater than upper bound: -1.4451e+00 > -5.8904e+00\n",
      "ERROR in osqp_setup: Problem data validation.\n",
      "ERROR in validate_data: Lower bound at index 1 is greater than upper bound: -1.4451e+00 > -6.0015e+00\n",
      "ERROR in osqp_setup: Problem data validation.\n",
      "ERROR in validate_data: Lower bound at index 1 is greater than upper bound: -1.4451e+00 > -4.8333e+00\n",
      "ERROR in osqp_setup: Problem data validation.\n",
      "ERROR in validate_data: Lower bound at index 1 is greater than upper bound: -1.4451e+00 > -4.7715e+00\n",
      "ERROR in osqp_setup: Problem data validation.\n",
      "ERROR in validate_data: Lower bound at index 1 is greater than upper bound: -1.4451e+00 > -4.3917e+00\n",
      "ERROR in osqp_setup: Problem data validation.\n",
      "ERROR in validate_data: Lower bound at index 1 is greater than upper bound: -1.4451e+00 > -2.8187e+00\n",
      "ERROR in osqp_setup: Problem data validation.\n",
      "ERROR in validate_data: Lower bound at index 1 is greater than upper bound: -1.4451e+00 > -3.0129e+00\n",
      "ERROR in osqp_setup: Problem data validation.\n",
      "ERROR in validate_data: Lower bound at index 1 is greater than upper bound: -1.4451e+00 > -3.3927e+00\n",
      "ERROR in osqp_setup: Problem data validation.\n",
      "ERROR in validate_data: Lower bound at index 1 is greater than upper bound: -1.4451e+00 > -2.7999e+00\n",
      "ERROR in osqp_setup: Problem data validation.\n",
      "ERROR in validate_data: Lower bound at index 1 is greater than upper bound: -1.4451e+00 > -2.9016e+00\n",
      "ERROR in osqp_setup: Problem data validation.\n",
      "ERROR in validate_data: Lower bound at index 1 is greater than upper bound: -1.4451e+00 > -2.4027e+00\n",
      "ERROR in osqp_setup: Problem data validation.\n",
      "ERROR in validate_data: Lower bound at index 1 is greater than upper bound: -1.4451e+00 > -1.8021e+00\n",
      "ERROR in osqp_setup: Problem data validation.\n",
      "ERROR in validate_data: Lower bound at index 1 is greater than upper bound: -1.4451e+00 > -1.5457e+00\n",
      "ERROR in osqp_setup: Problem data validation.\n",
      "added 86 out of 150\n"
     ]
    },
    {
     "name": "stderr",
     "output_type": "stream",
     "text": [
      "                                                  \r"
     ]
    },
    {
     "name": "stdout",
     "output_type": "stream",
     "text": [
      "added 150 out of 150\n"
     ]
    },
    {
     "name": "stderr",
     "output_type": "stream",
     "text": [
      "                                                  \r"
     ]
    },
    {
     "name": "stdout",
     "output_type": "stream",
     "text": [
      "added 137 out of 150\n"
     ]
    },
    {
     "name": "stderr",
     "output_type": "stream",
     "text": [
      "                                                  \r"
     ]
    },
    {
     "name": "stdout",
     "output_type": "stream",
     "text": [
      "ERROR in validate_data: Lower bound at index 1 is greater than upper bound: -1.4451e+00 > -1.6403e+00\n",
      "ERROR in osqp_setup: Problem data validation.\n",
      "added 123 out of 150\n"
     ]
    },
    {
     "name": "stderr",
     "output_type": "stream",
     "text": [
      "                                             \r"
     ]
    },
    {
     "name": "stdout",
     "output_type": "stream",
     "text": [
      "Epoch: 4 metrics: (-1977.377098459002, -1778.9781338074267, -1903.1576387470093, -1928.027462925811, 5)\n"
     ]
    },
    {
     "name": "stderr",
     "output_type": "stream",
     "text": [
      "                                                  \r"
     ]
    },
    {
     "name": "stdout",
     "output_type": "stream",
     "text": [
      "added 150 out of 150\n"
     ]
    },
    {
     "name": "stderr",
     "output_type": "stream",
     "text": [
      "                                                  \r"
     ]
    },
    {
     "name": "stdout",
     "output_type": "stream",
     "text": [
      "added 128 out of 150\n"
     ]
    },
    {
     "name": "stderr",
     "output_type": "stream",
     "text": [
      "                                                 \r"
     ]
    },
    {
     "name": "stdout",
     "output_type": "stream",
     "text": [
      "ERROR in validate_data: Lower bound at index 2 is greater than upper bound: 2.4124e-02 > -2.8416e-01\n",
      "ERROR in osqp_setup: Problem data validation.\n",
      "ERROR in validate_data: Lower bound at index 2 is greater than upper bound: -1.8314e+00 > -4.6394e+00\n",
      "ERROR in osqp_setup: Problem data validation.\n",
      "ERROR in validate_data: Lower bound at index 2 is greater than upper bound: -1.8889e+00 > -9.7756e+00\n",
      "ERROR in osqp_setup: Problem data validation.\n",
      "ERROR in validate_data: Lower bound at index 2 is greater than upper bound: -1.7048e+00 > -1.0445e+01\n",
      "ERROR in osqp_setup: Problem data validation.\n",
      "ERROR in validate_data: Lower bound at index 2 is greater than upper bound: -1.7575e+00 > -1.0057e+01\n",
      "ERROR in osqp_setup: Problem data validation.\n",
      "ERROR in validate_data: Lower bound at index 2 is greater than upper bound: -1.9241e+00 > -9.0342e+00\n",
      "ERROR in osqp_setup: Problem data validation.\n",
      "ERROR in validate_data: Lower bound at index 2 is greater than upper bound: -1.9251e+00 > -7.9055e+00\n",
      "ERROR in osqp_setup: Problem data validation.\n",
      "ERROR in validate_data: Lower bound at index 2 is greater than upper bound: -1.8926e+00 > -5.8063e+00\n",
      "ERROR in osqp_setup: Problem data validation.\n",
      "ERROR in validate_data: Lower bound at index 2 is greater than upper bound: -1.9063e+00 > -7.5500e+00\n",
      "ERROR in osqp_setup: Problem data validation.\n",
      "ERROR in validate_data: Lower bound at index 2 is greater than upper bound: -1.9266e+00 > -7.5779e+00\n",
      "ERROR in osqp_setup: Problem data validation.\n",
      "ERROR in validate_data: Lower bound at index 2 is greater than upper bound: -1.9268e+00 > -8.4060e+00\n",
      "ERROR in osqp_setup: Problem data validation.\n",
      "ERROR in validate_data: Lower bound at index 2 is greater than upper bound: -1.9272e+00 > -7.4886e+00\n",
      "ERROR in osqp_setup: Problem data validation.\n",
      "ERROR in validate_data: Lower bound at index 2 is greater than upper bound: -1.9294e+00 > -8.4959e+00\n",
      "ERROR in osqp_setup: Problem data validation.\n",
      "ERROR in validate_data: Lower bound at index 2 is greater than upper bound: -1.9270e+00 > -7.4999e+00\n",
      "ERROR in osqp_setup: Problem data validation.\n",
      "ERROR in validate_data: Lower bound at index 2 is greater than upper bound: -1.9271e+00 > -6.9122e+00\n",
      "ERROR in osqp_setup: Problem data validation.\n",
      "ERROR in validate_data: Lower bound at index 2 is greater than upper bound: -1.9272e+00 > -8.0651e+00\n",
      "ERROR in osqp_setup: Problem data validation.\n",
      "ERROR in validate_data: Lower bound at index 2 is greater than upper bound: -1.9272e+00 > -7.7752e+00\n",
      "ERROR in osqp_setup: Problem data validation.\n",
      "ERROR in validate_data: Lower bound at index 1 is greater than upper bound: -1.4435e+00 > -3.0344e+00\n",
      "ERROR in osqp_setup: Problem data validation.\n",
      "ERROR in validate_data: Lower bound at index 1 is greater than upper bound: -1.4434e+00 > -4.7638e+00\n",
      "ERROR in osqp_setup: Problem data validation.\n",
      "added 51 out of 150\n"
     ]
    },
    {
     "name": "stderr",
     "output_type": "stream",
     "text": [
      "                                                  \r"
     ]
    },
    {
     "name": "stdout",
     "output_type": "stream",
     "text": [
      "added 37 out of 150\n"
     ]
    },
    {
     "name": "stderr",
     "output_type": "stream",
     "text": [
      "                                                  \r"
     ]
    },
    {
     "name": "stdout",
     "output_type": "stream",
     "text": [
      "ERROR in validate_data: Lower bound at index 2 is greater than upper bound: -1.9268e+00 > -2.3770e+00\n",
      "ERROR in osqp_setup: Problem data validation.\n",
      "added 149 out of 150\n"
     ]
    },
    {
     "name": "stderr",
     "output_type": "stream",
     "text": [
      "                                                  \r"
     ]
    },
    {
     "name": "stdout",
     "output_type": "stream",
     "text": [
      "added 150 out of 150\n"
     ]
    },
    {
     "name": "stderr",
     "output_type": "stream",
     "text": [
      "                                                  \r"
     ]
    },
    {
     "name": "stdout",
     "output_type": "stream",
     "text": [
      "added 121 out of 150\n"
     ]
    },
    {
     "name": "stderr",
     "output_type": "stream",
     "text": [
      "                                                  \r"
     ]
    },
    {
     "name": "stdout",
     "output_type": "stream",
     "text": [
      "added 150 out of 150\n"
     ]
    },
    {
     "name": "stderr",
     "output_type": "stream",
     "text": [
      "                                                  \r"
     ]
    },
    {
     "name": "stdout",
     "output_type": "stream",
     "text": [
      "added 147 out of 150\n"
     ]
    },
    {
     "name": "stderr",
     "output_type": "stream",
     "text": [
      "                                                 \r"
     ]
    },
    {
     "name": "stdout",
     "output_type": "stream",
     "text": [
      "added 150 out of 150\n"
     ]
    },
    {
     "name": "stderr",
     "output_type": "stream",
     "text": [
      "                                                  \r"
     ]
    },
    {
     "name": "stdout",
     "output_type": "stream",
     "text": [
      "added 136 out of 150\n"
     ]
    },
    {
     "name": "stderr",
     "output_type": "stream",
     "text": [
      "                                                  \r"
     ]
    },
    {
     "name": "stdout",
     "output_type": "stream",
     "text": [
      "added 75 out of 150\n"
     ]
    },
    {
     "name": "stderr",
     "output_type": "stream",
     "text": [
      "                                                  \r"
     ]
    },
    {
     "name": "stdout",
     "output_type": "stream",
     "text": [
      "added 62 out of 150\n"
     ]
    },
    {
     "name": "stderr",
     "output_type": "stream",
     "text": [
      "                                                  \r"
     ]
    },
    {
     "name": "stdout",
     "output_type": "stream",
     "text": [
      "added 150 out of 150\n"
     ]
    },
    {
     "name": "stderr",
     "output_type": "stream",
     "text": [
      "                                                  \r"
     ]
    },
    {
     "name": "stdout",
     "output_type": "stream",
     "text": [
      "added 125 out of 150\n"
     ]
    },
    {
     "name": "stderr",
     "output_type": "stream",
     "text": [
      "                                                  \r"
     ]
    },
    {
     "name": "stdout",
     "output_type": "stream",
     "text": [
      "added 108 out of 150\n"
     ]
    },
    {
     "name": "stderr",
     "output_type": "stream",
     "text": [
      "                                                 \r"
     ]
    },
    {
     "name": "stdout",
     "output_type": "stream",
     "text": [
      "ERROR in validate_data: Lower bound at index 2 is greater than upper bound: -1.9268e+00 > -3.1441e+00\n",
      "ERROR in osqp_setup: Problem data validation.\n",
      "ERROR in validate_data: Lower bound at index 2 is greater than upper bound: -1.9268e+00 > -7.0277e+00\n",
      "ERROR in osqp_setup: Problem data validation.\n",
      "ERROR in validate_data: Lower bound at index 2 is greater than upper bound: -1.9268e+00 > -8.5278e+00\n",
      "ERROR in osqp_setup: Problem data validation.\n",
      "ERROR in validate_data: Lower bound at index 2 is greater than upper bound: -1.9268e+00 > -6.6236e+00\n",
      "ERROR in osqp_setup: Problem data validation.\n",
      "ERROR in validate_data: Lower bound at index 2 is greater than upper bound: -1.9268e+00 > -5.4539e+00\n",
      "ERROR in osqp_setup: Problem data validation.\n",
      "ERROR in validate_data: Lower bound at index 2 is greater than upper bound: -1.9268e+00 > -7.1641e+00\n",
      "ERROR in osqp_setup: Problem data validation.\n",
      "ERROR in validate_data: Lower bound at index 2 is greater than upper bound: -1.9268e+00 > -7.0501e+00\n",
      "ERROR in osqp_setup: Problem data validation.\n",
      "ERROR in validate_data: Lower bound at index 2 is greater than upper bound: -1.9268e+00 > -7.6006e+00\n",
      "ERROR in osqp_setup: Problem data validation.\n",
      "ERROR in validate_data: Lower bound at index 2 is greater than upper bound: -1.9268e+00 > -6.9515e+00\n",
      "ERROR in osqp_setup: Problem data validation.\n",
      "ERROR in validate_data: Lower bound at index 2 is greater than upper bound: -1.9268e+00 > -7.3721e+00\n",
      "ERROR in osqp_setup: Problem data validation.\n",
      "ERROR in validate_data: Lower bound at index 2 is greater than upper bound: -1.9268e+00 > -8.4861e+00\n",
      "ERROR in osqp_setup: Problem data validation.\n",
      "added 138 out of 150\n"
     ]
    },
    {
     "name": "stderr",
     "output_type": "stream",
     "text": [
      "                                                  \r"
     ]
    },
    {
     "name": "stdout",
     "output_type": "stream",
     "text": [
      "added 0 out of 150\n"
     ]
    },
    {
     "name": "stderr",
     "output_type": "stream",
     "text": [
      "                                                  \r"
     ]
    },
    {
     "name": "stdout",
     "output_type": "stream",
     "text": [
      "ERROR in validate_data: Lower bound at index 1 is greater than upper bound: -1.4455e+00 > -2.3984e+00\n",
      "ERROR in osqp_setup: Problem data validation.\n",
      "ERROR in validate_data: Lower bound at index 1 is greater than upper bound: -1.4454e+00 > -3.6152e+00\n",
      "ERROR in osqp_setup: Problem data validation.\n",
      "ERROR in validate_data: Lower bound at index 1 is greater than upper bound: -1.4452e+00 > -5.5401e+00\n",
      "ERROR in osqp_setup: Problem data validation.\n",
      "ERROR in validate_data: Lower bound at index 1 is greater than upper bound: -1.4451e+00 > -6.9122e+00\n",
      "ERROR in osqp_setup: Problem data validation.\n",
      "ERROR in validate_data: Lower bound at index 1 is greater than upper bound: -1.4450e+00 > -8.0350e+00\n",
      "ERROR in osqp_setup: Problem data validation.\n",
      "ERROR in validate_data: Lower bound at index 1 is greater than upper bound: -1.4451e+00 > -6.7269e+00\n",
      "ERROR in osqp_setup: Problem data validation.\n",
      "ERROR in validate_data: Lower bound at index 1 is greater than upper bound: -1.4451e+00 > -2.5534e+00\n",
      "ERROR in osqp_setup: Problem data validation.\n",
      "ERROR in validate_data: Lower bound at index 1 is greater than upper bound: -1.4451e+00 > -3.2825e+00\n",
      "ERROR in osqp_setup: Problem data validation.\n",
      "ERROR in validate_data: Lower bound at index 1 is greater than upper bound: -1.4451e+00 > -6.0647e+00\n",
      "ERROR in osqp_setup: Problem data validation.\n",
      "ERROR in validate_data: Lower bound at index 1 is greater than upper bound: -1.4455e+00 > -6.1220e+00\n",
      "ERROR in osqp_setup: Problem data validation.\n",
      "ERROR in validate_data: Lower bound at index 1 is greater than upper bound: -1.4454e+00 > -5.1261e+00\n",
      "ERROR in osqp_setup: Problem data validation.\n",
      "ERROR in validate_data: Lower bound at index 1 is greater than upper bound: -1.4456e+00 > -4.2936e+00\n",
      "ERROR in osqp_setup: Problem data validation.\n",
      "ERROR in validate_data: Lower bound at index 1 is greater than upper bound: -1.4456e+00 > -2.5659e+00\n",
      "ERROR in osqp_setup: Problem data validation.\n",
      "ERROR in validate_data: Lower bound at index 1 is greater than upper bound: -1.4460e+00 > -2.9172e+00\n",
      "ERROR in osqp_setup: Problem data validation.\n",
      "ERROR in validate_data: Lower bound at index 1 is greater than upper bound: -1.4462e+00 > -3.1368e+00\n",
      "ERROR in osqp_setup: Problem data validation.\n",
      "ERROR in validate_data: Lower bound at index 1 is greater than upper bound: -1.4461e+00 > -1.8527e+00\n",
      "ERROR in osqp_setup: Problem data validation.\n",
      "ERROR in validate_data: Lower bound at index 1 is greater than upper bound: -1.4461e+00 > -2.5781e+00\n",
      "ERROR in osqp_setup: Problem data validation.\n",
      "ERROR in validate_data: Lower bound at index 1 is greater than upper bound: -1.4465e+00 > -4.8900e+00\n",
      "ERROR in osqp_setup: Problem data validation.\n",
      "ERROR in validate_data: Lower bound at index 1 is greater than upper bound: -1.4464e+00 > -5.0346e+00\n",
      "ERROR in osqp_setup: Problem data validation.\n",
      "ERROR in validate_data: Lower bound at index 1 is greater than upper bound: -1.4467e+00 > -6.3809e+00\n",
      "ERROR in osqp_setup: Problem data validation.\n",
      "ERROR in validate_data: Lower bound at index 1 is greater than upper bound: -1.4466e+00 > -5.8850e+00\n",
      "ERROR in osqp_setup: Problem data validation.\n",
      "ERROR in validate_data: Lower bound at index 1 is greater than upper bound: -1.4465e+00 > -4.5045e+00\n",
      "ERROR in osqp_setup: Problem data validation.\n",
      "ERROR in validate_data: Lower bound at index 1 is greater than upper bound: -1.4461e+00 > -2.8705e+00\n",
      "ERROR in osqp_setup: Problem data validation.\n",
      "ERROR in validate_data: Lower bound at index 1 is greater than upper bound: -1.4460e+00 > -3.2751e+00\n",
      "ERROR in osqp_setup: Problem data validation.\n",
      "ERROR in validate_data: Lower bound at index 1 is greater than upper bound: -1.4462e+00 > -3.8322e+00\n",
      "ERROR in osqp_setup: Problem data validation.\n",
      "ERROR in validate_data: Lower bound at index 1 is greater than upper bound: -1.4466e+00 > -5.1319e+00\n",
      "ERROR in osqp_setup: Problem data validation.\n",
      "ERROR in validate_data: Lower bound at index 1 is greater than upper bound: -1.4468e+00 > -3.5539e+00\n",
      "ERROR in osqp_setup: Problem data validation.\n",
      "ERROR in validate_data: Lower bound at index 1 is greater than upper bound: -1.4468e+00 > -3.5206e+00\n",
      "ERROR in osqp_setup: Problem data validation.\n",
      "ERROR in validate_data: Lower bound at index 1 is greater than upper bound: -1.4470e+00 > -3.9176e+00\n",
      "ERROR in osqp_setup: Problem data validation.\n",
      "ERROR in validate_data: Lower bound at index 1 is greater than upper bound: -1.4470e+00 > -2.2515e+00\n",
      "ERROR in osqp_setup: Problem data validation.\n",
      "ERROR in validate_data: Lower bound at index 1 is greater than upper bound: -1.4462e+00 > -2.3004e+00\n",
      "ERROR in osqp_setup: Problem data validation.\n",
      "ERROR in validate_data: Lower bound at index 1 is greater than upper bound: -1.4457e+00 > -1.8157e+00\n",
      "ERROR in osqp_setup: Problem data validation.\n",
      "ERROR in validate_data: Lower bound at index 1 is greater than upper bound: -1.4457e+00 > -2.4445e+00\n",
      "ERROR in osqp_setup: Problem data validation.\n",
      "ERROR in validate_data: Lower bound at index 1 is greater than upper bound: -1.4451e+00 > -1.6655e+00\n",
      "ERROR in osqp_setup: Problem data validation.\n",
      "ERROR in validate_data: Lower bound at index 1 is greater than upper bound: -1.4449e+00 > -1.7105e+00\n",
      "ERROR in osqp_setup: Problem data validation.\n",
      "ERROR in validate_data: Lower bound at index 1 is greater than upper bound: -1.4449e+00 > -1.8672e+00\n",
      "ERROR in osqp_setup: Problem data validation.\n",
      "ERROR in validate_data: Lower bound at index 1 is greater than upper bound: -1.4450e+00 > -3.3459e+00\n",
      "ERROR in osqp_setup: Problem data validation.\n",
      "added 112 out of 150\n"
     ]
    },
    {
     "name": "stderr",
     "output_type": "stream",
     "text": [
      "                                                  \r"
     ]
    },
    {
     "name": "stdout",
     "output_type": "stream",
     "text": [
      "added 100 out of 150\n"
     ]
    },
    {
     "name": "stderr",
     "output_type": "stream",
     "text": [
      "                                             \r"
     ]
    },
    {
     "name": "stdout",
     "output_type": "stream",
     "text": [
      "Epoch: 5 metrics: (-2094.955330077532, -978.6358154558135, -1693.197864004672, -2040.1137650781995, 5)\n"
     ]
    },
    {
     "name": "stderr",
     "output_type": "stream",
     "text": [
      "                                                  \r"
     ]
    },
    {
     "name": "stdout",
     "output_type": "stream",
     "text": [
      "added 150 out of 150\n"
     ]
    },
    {
     "name": "stderr",
     "output_type": "stream",
     "text": [
      "                                                  \r"
     ]
    },
    {
     "name": "stdout",
     "output_type": "stream",
     "text": [
      "ERROR in validate_data: Lower bound at index 1 is greater than upper bound: -1.4486e+00 > -2.7853e+00\n",
      "ERROR in osqp_setup: Problem data validation.\n",
      "ERROR in validate_data: Lower bound at index 1 is greater than upper bound: -1.4487e+00 > -3.5475e+00\n",
      "ERROR in osqp_setup: Problem data validation.\n",
      "ERROR in validate_data: Lower bound at index 1 is greater than upper bound: -1.4484e+00 > -3.5145e+00\n",
      "ERROR in osqp_setup: Problem data validation.\n",
      "ERROR in validate_data: Lower bound at index 1 is greater than upper bound: -1.4482e+00 > -4.6152e+00\n",
      "ERROR in osqp_setup: Problem data validation.\n",
      "ERROR in validate_data: Lower bound at index 1 is greater than upper bound: -1.4483e+00 > -4.9822e+00\n",
      "ERROR in osqp_setup: Problem data validation.\n",
      "ERROR in validate_data: Lower bound at index 1 is greater than upper bound: -1.4482e+00 > -5.7859e+00\n",
      "ERROR in osqp_setup: Problem data validation.\n",
      "ERROR in validate_data: Lower bound at index 1 is greater than upper bound: -1.4484e+00 > -6.1633e+00\n",
      "ERROR in osqp_setup: Problem data validation.\n",
      "ERROR in validate_data: Lower bound at index 1 is greater than upper bound: -1.4485e+00 > -6.1120e+00\n",
      "ERROR in osqp_setup: Problem data validation.\n",
      "ERROR in validate_data: Lower bound at index 1 is greater than upper bound: -1.4484e+00 > -4.8649e+00\n",
      "ERROR in osqp_setup: Problem data validation.\n",
      "ERROR in validate_data: Lower bound at index 1 is greater than upper bound: -1.4483e+00 > -3.3661e+00\n",
      "ERROR in osqp_setup: Problem data validation.\n",
      "ERROR in validate_data: Lower bound at index 1 is greater than upper bound: -1.4486e+00 > -4.2337e+00\n",
      "ERROR in osqp_setup: Problem data validation.\n",
      "ERROR in validate_data: Lower bound at index 1 is greater than upper bound: -1.4488e+00 > -2.9419e+00\n",
      "ERROR in osqp_setup: Problem data validation.\n",
      "ERROR in validate_data: Lower bound at index 1 is greater than upper bound: -1.4490e+00 > -1.4505e+00\n",
      "ERROR in osqp_setup: Problem data validation.\n",
      "added 97 out of 150\n"
     ]
    },
    {
     "name": "stderr",
     "output_type": "stream",
     "text": [
      "                                                  \r"
     ]
    },
    {
     "name": "stdout",
     "output_type": "stream",
     "text": [
      "added 34 out of 150\n"
     ]
    },
    {
     "name": "stderr",
     "output_type": "stream",
     "text": [
      "                                                  \r"
     ]
    },
    {
     "name": "stdout",
     "output_type": "stream",
     "text": [
      "ERROR in validate_data: Lower bound at index 1 is greater than upper bound: -1.4451e+00 > -1.4962e+00\n",
      "ERROR in osqp_setup: Problem data validation.\n",
      "ERROR in validate_data: Lower bound at index 1 is greater than upper bound: -1.4451e+00 > -2.8757e+00\n",
      "ERROR in osqp_setup: Problem data validation.\n",
      "ERROR in validate_data: Lower bound at index 1 is greater than upper bound: -1.4451e+00 > -3.1413e+00\n",
      "ERROR in osqp_setup: Problem data validation.\n",
      "ERROR in validate_data: Lower bound at index 1 is greater than upper bound: -1.4451e+00 > -2.9472e+00\n",
      "ERROR in osqp_setup: Problem data validation.\n",
      "ERROR in validate_data: Lower bound at index 1 is greater than upper bound: -1.4450e+00 > -3.3326e+00\n",
      "ERROR in osqp_setup: Problem data validation.\n",
      "ERROR in validate_data: Lower bound at index 1 is greater than upper bound: -1.4451e+00 > -2.3924e+00\n",
      "ERROR in osqp_setup: Problem data validation.\n",
      "ERROR in validate_data: Lower bound at index 1 is greater than upper bound: -1.4451e+00 > -1.5656e+00\n",
      "ERROR in osqp_setup: Problem data validation.\n",
      "added 140 out of 150\n"
     ]
    },
    {
     "name": "stderr",
     "output_type": "stream",
     "text": [
      "                                                  \r"
     ]
    },
    {
     "name": "stdout",
     "output_type": "stream",
     "text": [
      "added 150 out of 150\n"
     ]
    },
    {
     "name": "stderr",
     "output_type": "stream",
     "text": [
      "                                                 \r"
     ]
    },
    {
     "name": "stdout",
     "output_type": "stream",
     "text": [
      "added 150 out of 150\n"
     ]
    },
    {
     "name": "stderr",
     "output_type": "stream",
     "text": [
      "                                                 \r"
     ]
    },
    {
     "name": "stdout",
     "output_type": "stream",
     "text": [
      "added 150 out of 150\n"
     ]
    },
    {
     "name": "stderr",
     "output_type": "stream",
     "text": [
      "                                                 \r"
     ]
    },
    {
     "name": "stdout",
     "output_type": "stream",
     "text": [
      "added 150 out of 150\n"
     ]
    },
    {
     "name": "stderr",
     "output_type": "stream",
     "text": [
      "                                                 \r"
     ]
    },
    {
     "name": "stdout",
     "output_type": "stream",
     "text": [
      "added 70 out of 150\n"
     ]
    },
    {
     "name": "stderr",
     "output_type": "stream",
     "text": [
      "                                                 \r"
     ]
    },
    {
     "name": "stdout",
     "output_type": "stream",
     "text": [
      "ERROR in validate_data: Lower bound at index 1 is greater than upper bound: -1.4451e+00 > -1.5580e+00\n",
      "ERROR in osqp_setup: Problem data validation.\n",
      "ERROR in validate_data: Lower bound at index 1 is greater than upper bound: -1.4451e+00 > -2.0695e+00\n",
      "ERROR in osqp_setup: Problem data validation.\n",
      "ERROR in validate_data: Lower bound at index 1 is greater than upper bound: -1.4451e+00 > -2.8789e+00\n",
      "ERROR in osqp_setup: Problem data validation.\n",
      "ERROR in validate_data: Lower bound at index 1 is greater than upper bound: -1.4451e+00 > -1.6961e+00\n",
      "ERROR in osqp_setup: Problem data validation.\n",
      "ERROR in validate_data: Lower bound at index 1 is greater than upper bound: -1.4451e+00 > -1.7851e+00\n",
      "ERROR in osqp_setup: Problem data validation.\n",
      "ERROR in validate_data: Lower bound at index 1 is greater than upper bound: -1.4451e+00 > -1.4700e+00\n",
      "ERROR in osqp_setup: Problem data validation.\n",
      "ERROR in validate_data: Lower bound at index 1 is greater than upper bound: -1.4451e+00 > -2.0166e+00\n",
      "ERROR in osqp_setup: Problem data validation.\n",
      "ERROR in validate_data: Lower bound at index 1 is greater than upper bound: -1.4451e+00 > -3.0402e+00\n",
      "ERROR in osqp_setup: Problem data validation.\n",
      "ERROR in validate_data: Lower bound at index 1 is greater than upper bound: -1.4451e+00 > -1.9137e+00\n",
      "ERROR in osqp_setup: Problem data validation.\n",
      "added 0 out of 150\n"
     ]
    },
    {
     "name": "stderr",
     "output_type": "stream",
     "text": [
      "                                                 \r"
     ]
    },
    {
     "name": "stdout",
     "output_type": "stream",
     "text": [
      "added 150 out of 150\n"
     ]
    },
    {
     "name": "stderr",
     "output_type": "stream",
     "text": [
      "                                                 \r"
     ]
    },
    {
     "name": "stdout",
     "output_type": "stream",
     "text": [
      "added 27 out of 150\n"
     ]
    },
    {
     "name": "stderr",
     "output_type": "stream",
     "text": [
      "                                                 \r"
     ]
    },
    {
     "name": "stdout",
     "output_type": "stream",
     "text": [
      "added 150 out of 150\n"
     ]
    },
    {
     "name": "stderr",
     "output_type": "stream",
     "text": [
      "                                                 \r"
     ]
    },
    {
     "name": "stdout",
     "output_type": "stream",
     "text": [
      "ERROR in validate_data: Lower bound at index 2 is greater than upper bound: -1.9108e+00 > -5.2388e+00\n",
      "ERROR in osqp_setup: Problem data validation.\n",
      "ERROR in validate_data: Lower bound at index 2 is greater than upper bound: -1.6323e+00 > -7.5703e+00\n",
      "ERROR in osqp_setup: Problem data validation.\n",
      "ERROR in validate_data: Lower bound at index 2 is greater than upper bound: -1.9223e+00 > -9.8057e+00\n",
      "ERROR in osqp_setup: Problem data validation.\n",
      "ERROR in validate_data: Lower bound at index 2 is greater than upper bound: -1.9248e+00 > -9.0914e+00\n",
      "ERROR in osqp_setup: Problem data validation.\n",
      "ERROR in validate_data: Lower bound at index 2 is greater than upper bound: -1.8667e+00 > -8.3691e+00\n",
      "ERROR in osqp_setup: Problem data validation.\n",
      "ERROR in validate_data: Lower bound at index 2 is greater than upper bound: -1.8976e+00 > -8.6739e+00\n",
      "ERROR in osqp_setup: Problem data validation.\n",
      "ERROR in validate_data: Lower bound at index 2 is greater than upper bound: -1.9265e+00 > -4.3115e+00\n",
      "ERROR in osqp_setup: Problem data validation.\n",
      "ERROR in validate_data: Lower bound at index 2 is greater than upper bound: -1.9267e+00 > -4.0713e+00\n",
      "ERROR in osqp_setup: Problem data validation.\n",
      "added 95 out of 150\n"
     ]
    },
    {
     "name": "stderr",
     "output_type": "stream",
     "text": [
      "                                                 \r"
     ]
    },
    {
     "name": "stdout",
     "output_type": "stream",
     "text": [
      "added 50 out of 150\n"
     ]
    },
    {
     "name": "stderr",
     "output_type": "stream",
     "text": [
      "                                                 \r"
     ]
    },
    {
     "name": "stdout",
     "output_type": "stream",
     "text": [
      "ERROR in validate_data: Lower bound at index 1 is greater than upper bound: -1.4451e+00 > -2.9034e+00\n",
      "ERROR in osqp_setup: Problem data validation.\n",
      "ERROR in validate_data: Lower bound at index 1 is greater than upper bound: -1.4451e+00 > -4.2162e+00\n",
      "ERROR in osqp_setup: Problem data validation.\n",
      "ERROR in validate_data: Lower bound at index 1 is greater than upper bound: -1.4451e+00 > -4.6804e+00\n",
      "ERROR in osqp_setup: Problem data validation.\n",
      "ERROR in validate_data: Lower bound at index 1 is greater than upper bound: -1.4451e+00 > -5.0454e+00\n",
      "ERROR in osqp_setup: Problem data validation.\n",
      "ERROR in validate_data: Lower bound at index 1 is greater than upper bound: -1.4451e+00 > -5.5785e+00\n",
      "ERROR in osqp_setup: Problem data validation.\n",
      "ERROR in validate_data: Lower bound at index 1 is greater than upper bound: -1.4451e+00 > -5.6911e+00\n",
      "ERROR in osqp_setup: Problem data validation.\n",
      "ERROR in validate_data: Lower bound at index 1 is greater than upper bound: -1.4451e+00 > -5.3225e+00\n",
      "ERROR in osqp_setup: Problem data validation.\n",
      "ERROR in validate_data: Lower bound at index 1 is greater than upper bound: -1.4451e+00 > -5.9736e+00\n",
      "ERROR in osqp_setup: Problem data validation.\n",
      "ERROR in validate_data: Lower bound at index 1 is greater than upper bound: -1.4451e+00 > -6.5408e+00\n",
      "ERROR in osqp_setup: Problem data validation.\n",
      "ERROR in validate_data: Lower bound at index 1 is greater than upper bound: -1.4451e+00 > -6.5307e+00\n",
      "ERROR in osqp_setup: Problem data validation.\n",
      "ERROR in validate_data: Lower bound at index 1 is greater than upper bound: -1.4451e+00 > -6.4849e+00\n",
      "ERROR in osqp_setup: Problem data validation.\n",
      "ERROR in validate_data: Lower bound at index 1 is greater than upper bound: -1.4451e+00 > -6.1960e+00\n",
      "ERROR in osqp_setup: Problem data validation.\n",
      "ERROR in validate_data: Lower bound at index 1 is greater than upper bound: -1.4451e+00 > -7.1347e+00\n",
      "ERROR in osqp_setup: Problem data validation.\n",
      "ERROR in validate_data: Lower bound at index 1 is greater than upper bound: -1.4451e+00 > -6.3201e+00\n",
      "ERROR in osqp_setup: Problem data validation.\n",
      "ERROR in validate_data: Lower bound at index 1 is greater than upper bound: -1.4451e+00 > -5.1793e+00\n",
      "ERROR in osqp_setup: Problem data validation.\n",
      "ERROR in validate_data: Lower bound at index 1 is greater than upper bound: -1.4451e+00 > -4.3355e+00\n",
      "ERROR in osqp_setup: Problem data validation.\n",
      "ERROR in validate_data: Lower bound at index 1 is greater than upper bound: -1.4451e+00 > -4.9053e+00\n",
      "ERROR in osqp_setup: Problem data validation.\n",
      "ERROR in validate_data: Lower bound at index 1 is greater than upper bound: -1.4451e+00 > -4.9404e+00\n",
      "ERROR in osqp_setup: Problem data validation.\n",
      "ERROR in validate_data: Lower bound at index 1 is greater than upper bound: -1.4451e+00 > -3.9483e+00\n",
      "ERROR in osqp_setup: Problem data validation.\n",
      "ERROR in validate_data: Lower bound at index 1 is greater than upper bound: -1.4451e+00 > -3.7019e+00\n",
      "ERROR in osqp_setup: Problem data validation.\n",
      "ERROR in validate_data: Lower bound at index 1 is greater than upper bound: -1.4451e+00 > -3.5851e+00\n",
      "ERROR in osqp_setup: Problem data validation.\n",
      "ERROR in validate_data: Lower bound at index 1 is greater than upper bound: -1.4451e+00 > -2.8934e+00\n",
      "ERROR in osqp_setup: Problem data validation.\n",
      "ERROR in validate_data: Lower bound at index 1 is greater than upper bound: -1.4451e+00 > -3.8977e+00\n",
      "ERROR in osqp_setup: Problem data validation.\n",
      "ERROR in validate_data: Lower bound at index 1 is greater than upper bound: -1.4451e+00 > -3.6351e+00\n",
      "ERROR in osqp_setup: Problem data validation.\n",
      "ERROR in validate_data: Lower bound at index 1 is greater than upper bound: -1.4451e+00 > -4.3409e+00\n",
      "ERROR in osqp_setup: Problem data validation.\n",
      "ERROR in validate_data: Lower bound at index 1 is greater than upper bound: -1.4451e+00 > -4.0503e+00\n",
      "ERROR in osqp_setup: Problem data validation.\n",
      "ERROR in validate_data: Lower bound at index 1 is greater than upper bound: -1.4451e+00 > -4.8671e+00\n",
      "ERROR in osqp_setup: Problem data validation.\n",
      "ERROR in validate_data: Lower bound at index 1 is greater than upper bound: -1.4451e+00 > -4.1038e+00\n",
      "ERROR in osqp_setup: Problem data validation.\n",
      "ERROR in validate_data: Lower bound at index 1 is greater than upper bound: -1.4451e+00 > -3.9836e+00\n",
      "ERROR in osqp_setup: Problem data validation.\n",
      "ERROR in validate_data: Lower bound at index 1 is greater than upper bound: -1.4451e+00 > -3.2480e+00\n",
      "ERROR in osqp_setup: Problem data validation.\n",
      "ERROR in validate_data: Lower bound at index 1 is greater than upper bound: -1.4451e+00 > -3.8211e+00\n",
      "ERROR in osqp_setup: Problem data validation.\n",
      "added 119 out of 150\n"
     ]
    },
    {
     "name": "stderr",
     "output_type": "stream",
     "text": [
      "                                                 \r"
     ]
    },
    {
     "name": "stdout",
     "output_type": "stream",
     "text": [
      "added 135 out of 150\n"
     ]
    },
    {
     "name": "stderr",
     "output_type": "stream",
     "text": [
      "                                                 \r"
     ]
    },
    {
     "name": "stdout",
     "output_type": "stream",
     "text": [
      "ERROR in validate_data: Lower bound at index 1 is greater than upper bound: -1.4439e+00 > -1.9883e+00\n",
      "ERROR in osqp_setup: Problem data validation.\n",
      "ERROR in validate_data: Lower bound at index 1 is greater than upper bound: -1.4439e+00 > -3.3141e+00\n",
      "ERROR in osqp_setup: Problem data validation.\n",
      "ERROR in validate_data: Lower bound at index 1 is greater than upper bound: -1.4439e+00 > -3.8140e+00\n",
      "ERROR in osqp_setup: Problem data validation.\n",
      "ERROR in validate_data: Lower bound at index 1 is greater than upper bound: -1.4437e+00 > -3.7325e+00\n",
      "ERROR in osqp_setup: Problem data validation.\n",
      "ERROR in validate_data: Lower bound at index 1 is greater than upper bound: -1.4436e+00 > -4.9841e+00\n",
      "ERROR in osqp_setup: Problem data validation.\n",
      "ERROR in validate_data: Lower bound at index 1 is greater than upper bound: -1.4436e+00 > -6.0110e+00\n",
      "ERROR in osqp_setup: Problem data validation.\n",
      "ERROR in validate_data: Lower bound at index 1 is greater than upper bound: -1.4435e+00 > -5.8105e+00\n",
      "ERROR in osqp_setup: Problem data validation.\n",
      "ERROR in validate_data: Lower bound at index 1 is greater than upper bound: -1.4435e+00 > -6.9219e+00\n",
      "ERROR in osqp_setup: Problem data validation.\n",
      "ERROR in validate_data: Lower bound at index 1 is greater than upper bound: -1.4437e+00 > -7.7775e+00\n",
      "ERROR in osqp_setup: Problem data validation.\n",
      "ERROR in validate_data: Lower bound at index 1 is greater than upper bound: -1.4438e+00 > -7.1394e+00\n",
      "ERROR in osqp_setup: Problem data validation.\n",
      "ERROR in validate_data: Lower bound at index 1 is greater than upper bound: -1.4438e+00 > -6.9258e+00\n",
      "ERROR in osqp_setup: Problem data validation.\n",
      "ERROR in validate_data: Lower bound at index 1 is greater than upper bound: -1.4437e+00 > -5.6254e+00\n",
      "ERROR in osqp_setup: Problem data validation.\n",
      "ERROR in validate_data: Lower bound at index 1 is greater than upper bound: -1.4437e+00 > -4.8142e+00\n",
      "ERROR in osqp_setup: Problem data validation.\n",
      "ERROR in validate_data: Lower bound at index 1 is greater than upper bound: -1.4439e+00 > -5.0891e+00\n",
      "ERROR in osqp_setup: Problem data validation.\n",
      "ERROR in validate_data: Lower bound at index 1 is greater than upper bound: -1.4439e+00 > -3.8884e+00\n",
      "ERROR in osqp_setup: Problem data validation.\n",
      "ERROR in validate_data: Lower bound at index 1 is greater than upper bound: -1.4442e+00 > -3.7484e+00\n",
      "ERROR in osqp_setup: Problem data validation.\n",
      "ERROR in validate_data: Lower bound at index 1 is greater than upper bound: -1.4451e+00 > -3.6528e+00\n",
      "ERROR in osqp_setup: Problem data validation.\n",
      "ERROR in validate_data: Lower bound at index 1 is greater than upper bound: -1.4437e+00 > -2.6923e+00\n",
      "ERROR in osqp_setup: Problem data validation.\n",
      "ERROR in validate_data: Lower bound at index 1 is greater than upper bound: -1.4451e+00 > -1.9355e+00\n",
      "ERROR in osqp_setup: Problem data validation.\n",
      "ERROR in validate_data: Lower bound at index 1 is greater than upper bound: -1.4435e+00 > -2.7237e+00\n",
      "ERROR in osqp_setup: Problem data validation.\n",
      "ERROR in validate_data: Lower bound at index 1 is greater than upper bound: -1.4451e+00 > -2.8192e+00\n",
      "ERROR in osqp_setup: Problem data validation.\n",
      "ERROR in validate_data: Lower bound at index 1 is greater than upper bound: -1.4451e+00 > -1.5997e+00\n",
      "ERROR in osqp_setup: Problem data validation.\n",
      "added 115 out of 150\n"
     ]
    },
    {
     "name": "stderr",
     "output_type": "stream",
     "text": [
      "                                                 \r"
     ]
    },
    {
     "name": "stdout",
     "output_type": "stream",
     "text": [
      "ERROR in validate_data: Lower bound at index 2 is greater than upper bound: -1.9269e+00 > -1.9399e+00\n",
      "ERROR in osqp_setup: Problem data validation.\n",
      "ERROR in validate_data: Lower bound at index 2 is greater than upper bound: -1.9269e+00 > -4.3606e+00\n",
      "ERROR in osqp_setup: Problem data validation.\n",
      "ERROR in validate_data: Lower bound at index 2 is greater than upper bound: -1.9269e+00 > -6.7199e+00\n",
      "ERROR in osqp_setup: Problem data validation.\n",
      "ERROR in validate_data: Lower bound at index 2 is greater than upper bound: -1.9269e+00 > -5.5486e+00\n",
      "ERROR in osqp_setup: Problem data validation.\n",
      "ERROR in validate_data: Lower bound at index 2 is greater than upper bound: -1.9269e+00 > -6.3811e+00\n",
      "ERROR in osqp_setup: Problem data validation.\n",
      "ERROR in validate_data: Lower bound at index 2 is greater than upper bound: -1.9269e+00 > -7.0054e+00\n",
      "ERROR in osqp_setup: Problem data validation.\n",
      "ERROR in validate_data: Lower bound at index 1 is greater than upper bound: -1.4450e+00 > -2.6925e+00\n",
      "ERROR in osqp_setup: Problem data validation.\n",
      "ERROR in validate_data: Lower bound at index 1 is greater than upper bound: -1.4450e+00 > -4.0619e+00\n",
      "ERROR in osqp_setup: Problem data validation.\n",
      "ERROR in validate_data: Lower bound at index 1 is greater than upper bound: -1.4450e+00 > -5.3413e+00\n",
      "ERROR in osqp_setup: Problem data validation.\n",
      "ERROR in validate_data: Lower bound at index 1 is greater than upper bound: -1.4450e+00 > -5.3911e+00\n",
      "ERROR in osqp_setup: Problem data validation.\n",
      "ERROR in validate_data: Lower bound at index 1 is greater than upper bound: -1.4450e+00 > -6.5504e+00\n",
      "ERROR in osqp_setup: Problem data validation.\n",
      "ERROR in validate_data: Lower bound at index 1 is greater than upper bound: -1.4450e+00 > -6.5036e+00\n",
      "ERROR in osqp_setup: Problem data validation.\n",
      "ERROR in validate_data: Lower bound at index 1 is greater than upper bound: -1.4450e+00 > -7.4355e+00\n",
      "ERROR in osqp_setup: Problem data validation.\n",
      "ERROR in validate_data: Lower bound at index 1 is greater than upper bound: -1.4450e+00 > -7.1946e+00\n",
      "ERROR in osqp_setup: Problem data validation.\n",
      "ERROR in validate_data: Lower bound at index 1 is greater than upper bound: -1.4450e+00 > -6.8774e+00\n",
      "ERROR in osqp_setup: Problem data validation.\n",
      "ERROR in validate_data: Lower bound at index 1 is greater than upper bound: -1.4450e+00 > -7.5679e+00\n",
      "ERROR in osqp_setup: Problem data validation.\n",
      "ERROR in validate_data: Lower bound at index 1 is greater than upper bound: -1.4450e+00 > -7.4683e+00\n",
      "ERROR in osqp_setup: Problem data validation.\n",
      "ERROR in validate_data: Lower bound at index 1 is greater than upper bound: -1.4450e+00 > -6.2408e+00\n",
      "ERROR in osqp_setup: Problem data validation.\n",
      "ERROR in validate_data: Lower bound at index 1 is greater than upper bound: -1.4450e+00 > -5.7387e+00\n",
      "ERROR in osqp_setup: Problem data validation.\n",
      "ERROR in validate_data: Lower bound at index 1 is greater than upper bound: -1.4450e+00 > -5.2629e+00\n",
      "ERROR in osqp_setup: Problem data validation.\n",
      "ERROR in validate_data: Lower bound at index 1 is greater than upper bound: -1.4450e+00 > -6.1099e+00\n",
      "ERROR in osqp_setup: Problem data validation.\n",
      "ERROR in validate_data: Lower bound at index 1 is greater than upper bound: -1.4450e+00 > -5.6130e+00\n",
      "ERROR in osqp_setup: Problem data validation.\n",
      "ERROR in validate_data: Lower bound at index 1 is greater than upper bound: -1.4450e+00 > -6.0690e+00\n",
      "ERROR in osqp_setup: Problem data validation.\n",
      "ERROR in validate_data: Lower bound at index 1 is greater than upper bound: -1.4450e+00 > -6.5270e+00\n",
      "ERROR in osqp_setup: Problem data validation.\n",
      "ERROR in validate_data: Lower bound at index 1 is greater than upper bound: -1.4450e+00 > -6.3399e+00\n",
      "ERROR in osqp_setup: Problem data validation.\n",
      "ERROR in validate_data: Lower bound at index 1 is greater than upper bound: -1.4450e+00 > -6.0343e+00\n",
      "ERROR in osqp_setup: Problem data validation.\n",
      "ERROR in validate_data: Lower bound at index 1 is greater than upper bound: -1.4450e+00 > -5.4074e+00\n",
      "ERROR in osqp_setup: Problem data validation.\n",
      "ERROR in validate_data: Lower bound at index 1 is greater than upper bound: -1.4450e+00 > -5.9116e+00\n",
      "ERROR in osqp_setup: Problem data validation.\n",
      "ERROR in validate_data: Lower bound at index 1 is greater than upper bound: -1.4450e+00 > -6.2656e+00\n",
      "ERROR in osqp_setup: Problem data validation.\n",
      "ERROR in validate_data: Lower bound at index 1 is greater than upper bound: -1.4450e+00 > -5.9867e+00\n",
      "ERROR in osqp_setup: Problem data validation.\n",
      "ERROR in validate_data: Lower bound at index 1 is greater than upper bound: -1.4450e+00 > -6.7332e+00\n",
      "ERROR in osqp_setup: Problem data validation.\n",
      "ERROR in validate_data: Lower bound at index 1 is greater than upper bound: -1.4450e+00 > -6.9997e+00\n",
      "ERROR in osqp_setup: Problem data validation.\n",
      "ERROR in validate_data: Lower bound at index 1 is greater than upper bound: -1.4450e+00 > -7.0046e+00\n",
      "ERROR in osqp_setup: Problem data validation.\n",
      "ERROR in validate_data: Lower bound at index 1 is greater than upper bound: -1.4450e+00 > -5.7733e+00\n",
      "ERROR in osqp_setup: Problem data validation.\n",
      "ERROR in validate_data: Lower bound at index 1 is greater than upper bound: -1.4450e+00 > -5.7263e+00\n",
      "ERROR in osqp_setup: Problem data validation.\n",
      "ERROR in validate_data: Lower bound at index 1 is greater than upper bound: -1.4450e+00 > -4.5452e+00\n",
      "ERROR in osqp_setup: Problem data validation.\n",
      "ERROR in validate_data: Lower bound at index 1 is greater than upper bound: -1.4450e+00 > -4.7321e+00\n",
      "ERROR in osqp_setup: Problem data validation.\n",
      "ERROR in validate_data: Lower bound at index 1 is greater than upper bound: -1.4450e+00 > -3.9093e+00\n",
      "ERROR in osqp_setup: Problem data validation.\n",
      "ERROR in validate_data: Lower bound at index 1 is greater than upper bound: -1.4450e+00 > -4.2771e+00\n",
      "ERROR in osqp_setup: Problem data validation.\n",
      "ERROR in validate_data: Lower bound at index 1 is greater than upper bound: -1.4450e+00 > -4.3861e+00\n",
      "ERROR in osqp_setup: Problem data validation.\n",
      "ERROR in validate_data: Lower bound at index 1 is greater than upper bound: -1.4450e+00 > -3.7399e+00\n",
      "ERROR in osqp_setup: Problem data validation.\n",
      "ERROR in validate_data: Lower bound at index 1 is greater than upper bound: -1.4450e+00 > -4.7485e+00\n",
      "ERROR in osqp_setup: Problem data validation.\n",
      "ERROR in validate_data: Lower bound at index 1 is greater than upper bound: -1.4450e+00 > -4.5438e+00\n",
      "ERROR in osqp_setup: Problem data validation.\n",
      "ERROR in validate_data: Lower bound at index 1 is greater than upper bound: -1.4450e+00 > -4.1099e+00\n",
      "ERROR in osqp_setup: Problem data validation.\n",
      "ERROR in validate_data: Lower bound at index 1 is greater than upper bound: -1.4450e+00 > -4.9043e+00\n",
      "ERROR in osqp_setup: Problem data validation.\n",
      "ERROR in validate_data: Lower bound at index 1 is greater than upper bound: -1.4450e+00 > -5.3114e+00\n",
      "ERROR in osqp_setup: Problem data validation.\n",
      "ERROR in validate_data: Lower bound at index 1 is greater than upper bound: -1.4450e+00 > -5.6081e+00\n",
      "ERROR in osqp_setup: Problem data validation.\n",
      "ERROR in validate_data: Lower bound at index 1 is greater than upper bound: -1.4450e+00 > -4.7896e+00\n",
      "ERROR in osqp_setup: Problem data validation.\n",
      "ERROR in validate_data: Lower bound at index 1 is greater than upper bound: -1.4450e+00 > -4.1495e+00\n",
      "ERROR in osqp_setup: Problem data validation.\n",
      "ERROR in validate_data: Lower bound at index 1 is greater than upper bound: -1.4450e+00 > -4.7048e+00\n",
      "ERROR in osqp_setup: Problem data validation.\n",
      "ERROR in validate_data: Lower bound at index 1 is greater than upper bound: -1.4450e+00 > -4.2501e+00\n",
      "ERROR in osqp_setup: Problem data validation.\n",
      "ERROR in validate_data: Lower bound at index 1 is greater than upper bound: -1.4450e+00 > -3.9881e+00\n",
      "ERROR in osqp_setup: Problem data validation.\n",
      "ERROR in validate_data: Lower bound at index 1 is greater than upper bound: -1.4450e+00 > -4.3196e+00\n",
      "ERROR in osqp_setup: Problem data validation.\n",
      "ERROR in validate_data: Lower bound at index 1 is greater than upper bound: -1.4450e+00 > -4.4113e+00\n",
      "ERROR in osqp_setup: Problem data validation.\n",
      "ERROR in validate_data: Lower bound at index 1 is greater than upper bound: -1.4450e+00 > -5.3685e+00\n",
      "ERROR in osqp_setup: Problem data validation.\n",
      "ERROR in validate_data: Lower bound at index 1 is greater than upper bound: -1.4450e+00 > -5.7191e+00\n",
      "ERROR in osqp_setup: Problem data validation.\n",
      "ERROR in validate_data: Lower bound at index 1 is greater than upper bound: -1.4450e+00 > -6.8318e+00\n",
      "ERROR in osqp_setup: Problem data validation.\n",
      "ERROR in validate_data: Lower bound at index 1 is greater than upper bound: -1.4450e+00 > -7.7408e+00\n",
      "ERROR in osqp_setup: Problem data validation.\n",
      "ERROR in validate_data: Lower bound at index 1 is greater than upper bound: -1.4450e+00 > -7.5780e+00\n",
      "ERROR in osqp_setup: Problem data validation.\n",
      "ERROR in validate_data: Lower bound at index 1 is greater than upper bound: -1.4450e+00 > -7.4338e+00\n",
      "ERROR in osqp_setup: Problem data validation.\n",
      "ERROR in validate_data: Lower bound at index 1 is greater than upper bound: -1.4450e+00 > -6.0097e+00\n",
      "ERROR in osqp_setup: Problem data validation.\n",
      "added 89 out of 150\n"
     ]
    },
    {
     "name": "stderr",
     "output_type": "stream",
     "text": [
      "                                                 \r"
     ]
    },
    {
     "name": "stdout",
     "output_type": "stream",
     "text": [
      "ERROR in validate_data: Lower bound at index 1 is greater than upper bound: -1.4451e+00 > -1.9389e+00\n",
      "ERROR in osqp_setup: Problem data validation.\n",
      "ERROR in validate_data: Lower bound at index 1 is greater than upper bound: -1.4451e+00 > -4.8068e+00\n",
      "ERROR in osqp_setup: Problem data validation.\n",
      "ERROR in validate_data: Lower bound at index 1 is greater than upper bound: -1.4451e+00 > -6.0539e+00\n",
      "ERROR in osqp_setup: Problem data validation.\n",
      "ERROR in validate_data: Lower bound at index 1 is greater than upper bound: -1.4451e+00 > -7.1417e+00\n",
      "ERROR in osqp_setup: Problem data validation.\n",
      "ERROR in validate_data: Lower bound at index 1 is greater than upper bound: -1.4451e+00 > -6.7807e+00\n",
      "ERROR in osqp_setup: Problem data validation.\n",
      "ERROR in validate_data: Lower bound at index 1 is greater than upper bound: -1.4451e+00 > -7.3429e+00\n",
      "ERROR in osqp_setup: Problem data validation.\n",
      "ERROR in validate_data: Lower bound at index 1 is greater than upper bound: -1.4451e+00 > -7.4187e+00\n",
      "ERROR in osqp_setup: Problem data validation.\n",
      "ERROR in validate_data: Lower bound at index 1 is greater than upper bound: -1.4451e+00 > -6.4077e+00\n",
      "ERROR in osqp_setup: Problem data validation.\n",
      "ERROR in validate_data: Lower bound at index 1 is greater than upper bound: -1.4451e+00 > -6.8628e+00\n",
      "ERROR in osqp_setup: Problem data validation.\n",
      "ERROR in validate_data: Lower bound at index 1 is greater than upper bound: -1.4451e+00 > -6.8854e+00\n",
      "ERROR in osqp_setup: Problem data validation.\n",
      "ERROR in validate_data: Lower bound at index 1 is greater than upper bound: -1.4451e+00 > -5.8166e+00\n",
      "ERROR in osqp_setup: Problem data validation.\n",
      "ERROR in validate_data: Lower bound at index 1 is greater than upper bound: -1.4451e+00 > -4.2769e+00\n",
      "ERROR in osqp_setup: Problem data validation.\n",
      "ERROR in validate_data: Lower bound at index 1 is greater than upper bound: -1.4451e+00 > -2.2717e+00\n",
      "ERROR in osqp_setup: Problem data validation.\n",
      "added 137 out of 150\n"
     ]
    },
    {
     "name": "stderr",
     "output_type": "stream",
     "text": [
      "                                             \r"
     ]
    },
    {
     "name": "stdout",
     "output_type": "stream",
     "text": [
      "Epoch: 6 metrics: (-1421.6206602553686, -956.1408711665008, -1265.2574830323508, -1316.9170936796038, 5)\n"
     ]
    },
    {
     "name": "stderr",
     "output_type": "stream",
     "text": [
      "                                                 \r"
     ]
    },
    {
     "name": "stdout",
     "output_type": "stream",
     "text": [
      "added 134 out of 150\n"
     ]
    },
    {
     "name": "stderr",
     "output_type": "stream",
     "text": [
      "                                                 \r"
     ]
    },
    {
     "name": "stdout",
     "output_type": "stream",
     "text": [
      "added 0 out of 150\n"
     ]
    },
    {
     "name": "stderr",
     "output_type": "stream",
     "text": [
      "                                                 \r"
     ]
    },
    {
     "name": "stdout",
     "output_type": "stream",
     "text": [
      "added 146 out of 150\n"
     ]
    },
    {
     "name": "stderr",
     "output_type": "stream",
     "text": [
      "                                                 \r"
     ]
    },
    {
     "name": "stdout",
     "output_type": "stream",
     "text": [
      "ERROR in validate_data: Lower bound at index 2 is greater than upper bound: -1.9269e+00 > -4.7119e+00\n",
      "ERROR in osqp_setup: Problem data validation.\n",
      "ERROR in validate_data: Lower bound at index 1 is greater than upper bound: -1.4451e+00 > -2.1674e+00\n",
      "ERROR in osqp_setup: Problem data validation.\n",
      "ERROR in validate_data: Lower bound at index 1 is greater than upper bound: -1.4451e+00 > -2.4441e+00\n",
      "ERROR in osqp_setup: Problem data validation.\n",
      "ERROR in validate_data: Lower bound at index 1 is greater than upper bound: -1.4451e+00 > -3.4771e+00\n",
      "ERROR in osqp_setup: Problem data validation.\n",
      "added 15 out of 150\n"
     ]
    },
    {
     "name": "stderr",
     "output_type": "stream",
     "text": [
      "                                                 \r"
     ]
    },
    {
     "name": "stdout",
     "output_type": "stream",
     "text": [
      "added 0 out of 150\n"
     ]
    },
    {
     "name": "stderr",
     "output_type": "stream",
     "text": [
      "                                                 \r"
     ]
    },
    {
     "name": "stdout",
     "output_type": "stream",
     "text": [
      "added 53 out of 150\n"
     ]
    },
    {
     "name": "stderr",
     "output_type": "stream",
     "text": [
      "                                                 \r"
     ]
    },
    {
     "name": "stdout",
     "output_type": "stream",
     "text": [
      "added 100 out of 150\n"
     ]
    },
    {
     "name": "stderr",
     "output_type": "stream",
     "text": [
      "                                                 \r"
     ]
    },
    {
     "name": "stdout",
     "output_type": "stream",
     "text": [
      "ERROR in validate_data: Lower bound at index 1 is greater than upper bound: -1.4451e+00 > -2.3801e+00\n",
      "ERROR in osqp_setup: Problem data validation.\n",
      "ERROR in validate_data: Lower bound at index 1 is greater than upper bound: -1.4451e+00 > -1.8887e+00\n",
      "ERROR in osqp_setup: Problem data validation.\n",
      "ERROR in validate_data: Lower bound at index 1 is greater than upper bound: -1.4451e+00 > -1.4551e+00\n",
      "ERROR in osqp_setup: Problem data validation.\n",
      "ERROR in validate_data: Lower bound at index 1 is greater than upper bound: -1.4451e+00 > -1.5946e+00\n",
      "ERROR in osqp_setup: Problem data validation.\n",
      "ERROR in validate_data: Lower bound at index 1 is greater than upper bound: -1.4451e+00 > -1.7250e+00\n",
      "ERROR in osqp_setup: Problem data validation.\n",
      "ERROR in validate_data: Lower bound at index 1 is greater than upper bound: -1.4451e+00 > -2.3988e+00\n",
      "ERROR in osqp_setup: Problem data validation.\n",
      "ERROR in validate_data: Lower bound at index 1 is greater than upper bound: -1.4451e+00 > -1.8413e+00\n",
      "ERROR in osqp_setup: Problem data validation.\n",
      "ERROR in validate_data: Lower bound at index 1 is greater than upper bound: -1.4451e+00 > -1.4878e+00\n",
      "ERROR in osqp_setup: Problem data validation.\n",
      "ERROR in validate_data: Lower bound at index 1 is greater than upper bound: -1.4451e+00 > -2.5199e+00\n",
      "ERROR in osqp_setup: Problem data validation.\n",
      "ERROR in validate_data: Lower bound at index 1 is greater than upper bound: -1.4451e+00 > -1.7889e+00\n",
      "ERROR in osqp_setup: Problem data validation.\n",
      "ERROR in validate_data: Lower bound at index 1 is greater than upper bound: -1.4451e+00 > -1.9676e+00\n",
      "ERROR in osqp_setup: Problem data validation.\n",
      "ERROR in validate_data: Lower bound at index 1 is greater than upper bound: -1.4451e+00 > -1.6792e+00\n",
      "ERROR in osqp_setup: Problem data validation.\n",
      "ERROR in validate_data: Lower bound at index 1 is greater than upper bound: -1.4451e+00 > -2.6408e+00\n",
      "ERROR in osqp_setup: Problem data validation.\n",
      "ERROR in validate_data: Lower bound at index 1 is greater than upper bound: -1.4451e+00 > -2.6976e+00\n",
      "ERROR in osqp_setup: Problem data validation.\n",
      "ERROR in validate_data: Lower bound at index 1 is greater than upper bound: -1.4451e+00 > -4.7234e+00\n",
      "ERROR in osqp_setup: Problem data validation.\n",
      "ERROR in validate_data: Lower bound at index 1 is greater than upper bound: -1.4451e+00 > -4.9225e+00\n",
      "ERROR in osqp_setup: Problem data validation.\n",
      "ERROR in validate_data: Lower bound at index 1 is greater than upper bound: -1.4451e+00 > -5.1396e+00\n",
      "ERROR in osqp_setup: Problem data validation.\n",
      "ERROR in validate_data: Lower bound at index 1 is greater than upper bound: -1.4451e+00 > -3.5257e+00\n",
      "ERROR in osqp_setup: Problem data validation.\n",
      "ERROR in validate_data: Lower bound at index 1 is greater than upper bound: -1.4451e+00 > -1.6979e+00\n",
      "ERROR in osqp_setup: Problem data validation.\n",
      "ERROR in validate_data: Lower bound at index 1 is greater than upper bound: -1.4451e+00 > -2.3937e+00\n",
      "ERROR in osqp_setup: Problem data validation.\n",
      "ERROR in validate_data: Lower bound at index 1 is greater than upper bound: -1.4451e+00 > -3.0283e+00\n",
      "ERROR in osqp_setup: Problem data validation.\n",
      "ERROR in validate_data: Lower bound at index 1 is greater than upper bound: -1.4451e+00 > -1.6592e+00\n",
      "ERROR in osqp_setup: Problem data validation.\n",
      "ERROR in validate_data: Lower bound at index 1 is greater than upper bound: -1.4451e+00 > -1.8144e+00\n",
      "ERROR in osqp_setup: Problem data validation.\n",
      "ERROR in validate_data: Lower bound at index 1 is greater than upper bound: -1.4451e+00 > -1.8770e+00\n",
      "ERROR in osqp_setup: Problem data validation.\n",
      "ERROR in validate_data: Lower bound at index 1 is greater than upper bound: -1.4451e+00 > -2.4799e+00\n",
      "ERROR in osqp_setup: Problem data validation.\n",
      "ERROR in validate_data: Lower bound at index 1 is greater than upper bound: -1.4451e+00 > -3.1950e+00\n",
      "ERROR in osqp_setup: Problem data validation.\n",
      "added 123 out of 150\n"
     ]
    },
    {
     "name": "stderr",
     "output_type": "stream",
     "text": [
      "                                                 \r"
     ]
    },
    {
     "name": "stdout",
     "output_type": "stream",
     "text": [
      "added 150 out of 150\n"
     ]
    },
    {
     "name": "stderr",
     "output_type": "stream",
     "text": [
      "                                                 \r"
     ]
    },
    {
     "name": "stdout",
     "output_type": "stream",
     "text": [
      "added 147 out of 150\n"
     ]
    },
    {
     "name": "stderr",
     "output_type": "stream",
     "text": [
      "                                                 \r"
     ]
    },
    {
     "name": "stdout",
     "output_type": "stream",
     "text": [
      "ERROR in validate_data: Lower bound at index 2 is greater than upper bound: -1.9267e+00 > -3.0174e+00\n",
      "ERROR in osqp_setup: Problem data validation.\n",
      "ERROR in validate_data: Lower bound at index 2 is greater than upper bound: -1.9267e+00 > -2.5683e+00\n",
      "ERROR in osqp_setup: Problem data validation.\n",
      "ERROR in validate_data: Lower bound at index 2 is greater than upper bound: -1.9268e+00 > -3.2811e+00\n",
      "ERROR in osqp_setup: Problem data validation.\n",
      "ERROR in validate_data: Lower bound at index 2 is greater than upper bound: -1.9268e+00 > -7.9988e+00\n",
      "ERROR in osqp_setup: Problem data validation.\n",
      "ERROR in validate_data: Lower bound at index 2 is greater than upper bound: -1.9268e+00 > -8.7273e+00\n",
      "ERROR in osqp_setup: Problem data validation.\n",
      "ERROR in validate_data: Lower bound at index 2 is greater than upper bound: -1.9268e+00 > -8.2824e+00\n",
      "ERROR in osqp_setup: Problem data validation.\n",
      "ERROR in validate_data: Lower bound at index 2 is greater than upper bound: -1.9268e+00 > -7.2529e+00\n",
      "ERROR in osqp_setup: Problem data validation.\n",
      "ERROR in validate_data: Lower bound at index 2 is greater than upper bound: -1.9268e+00 > -6.1510e+00\n",
      "ERROR in osqp_setup: Problem data validation.\n",
      "ERROR in validate_data: Lower bound at index 2 is greater than upper bound: -1.9268e+00 > -8.8332e+00\n",
      "ERROR in osqp_setup: Problem data validation.\n",
      "ERROR in validate_data: Lower bound at index 2 is greater than upper bound: -1.9269e+00 > -7.8372e+00\n",
      "ERROR in osqp_setup: Problem data validation.\n",
      "ERROR in validate_data: Lower bound at index 2 is greater than upper bound: -1.9268e+00 > -2.3882e+00\n",
      "ERROR in osqp_setup: Problem data validation.\n",
      "ERROR in validate_data: Lower bound at index 2 is greater than upper bound: -1.9270e+00 > -3.4557e+00\n",
      "ERROR in osqp_setup: Problem data validation.\n",
      "ERROR in validate_data: Lower bound at index 2 is greater than upper bound: -1.9268e+00 > -8.4389e+00\n",
      "ERROR in osqp_setup: Problem data validation.\n",
      "ERROR in validate_data: Lower bound at index 2 is greater than upper bound: -1.9268e+00 > -6.8540e+00\n",
      "ERROR in osqp_setup: Problem data validation.\n",
      "ERROR in validate_data: Lower bound at index 2 is greater than upper bound: -1.9268e+00 > -9.2743e+00\n",
      "ERROR in osqp_setup: Problem data validation.\n",
      "ERROR in validate_data: Lower bound at index 2 is greater than upper bound: -1.9269e+00 > -7.0893e+00\n",
      "ERROR in osqp_setup: Problem data validation.\n",
      "ERROR in validate_data: Lower bound at index 2 is greater than upper bound: -1.9269e+00 > -9.5419e+00\n",
      "ERROR in osqp_setup: Problem data validation.\n",
      "ERROR in validate_data: Lower bound at index 2 is greater than upper bound: -1.9268e+00 > -6.8898e+00\n",
      "ERROR in osqp_setup: Problem data validation.\n",
      "ERROR in validate_data: Lower bound at index 2 is greater than upper bound: -1.9269e+00 > -9.4159e+00\n",
      "ERROR in osqp_setup: Problem data validation.\n",
      "ERROR in validate_data: Lower bound at index 2 is greater than upper bound: -1.9269e+00 > -7.5853e+00\n",
      "ERROR in osqp_setup: Problem data validation.\n",
      "ERROR in validate_data: Lower bound at index 2 is greater than upper bound: -1.9268e+00 > -9.3270e+00\n",
      "ERROR in osqp_setup: Problem data validation.\n",
      "ERROR in validate_data: Lower bound at index 2 is greater than upper bound: -1.9269e+00 > -8.8317e+00\n",
      "ERROR in osqp_setup: Problem data validation.\n",
      "ERROR in validate_data: Lower bound at index 2 is greater than upper bound: -1.9269e+00 > -6.3533e+00\n",
      "ERROR in osqp_setup: Problem data validation.\n",
      "ERROR in validate_data: Lower bound at index 2 is greater than upper bound: -1.9268e+00 > -3.6311e+00\n",
      "ERROR in osqp_setup: Problem data validation.\n",
      "ERROR in validate_data: Lower bound at index 2 is greater than upper bound: -1.9269e+00 > -9.7100e+00\n",
      "ERROR in osqp_setup: Problem data validation.\n",
      "ERROR in validate_data: Lower bound at index 2 is greater than upper bound: -1.9269e+00 > -1.0480e+01\n",
      "ERROR in osqp_setup: Problem data validation.\n",
      "ERROR in validate_data: Lower bound at index 2 is greater than upper bound: -1.9268e+00 > -8.1422e+00\n",
      "ERROR in osqp_setup: Problem data validation.\n",
      "ERROR in validate_data: Lower bound at index 2 is greater than upper bound: -1.9269e+00 > -8.4956e+00\n",
      "ERROR in osqp_setup: Problem data validation.\n",
      "ERROR in validate_data: Lower bound at index 2 is greater than upper bound: -1.9269e+00 > -3.9239e+00\n",
      "ERROR in osqp_setup: Problem data validation.\n",
      "ERROR in validate_data: Lower bound at index 2 is greater than upper bound: -1.9269e+00 > -3.6258e+00\n",
      "ERROR in osqp_setup: Problem data validation.\n",
      "ERROR in validate_data: Lower bound at index 2 is greater than upper bound: -1.9269e+00 > -5.9163e+00\n",
      "ERROR in osqp_setup: Problem data validation.\n",
      "ERROR in validate_data: Lower bound at index 2 is greater than upper bound: -1.9268e+00 > -3.6920e+00\n",
      "ERROR in osqp_setup: Problem data validation.\n",
      "ERROR in validate_data: Lower bound at index 2 is greater than upper bound: -1.9269e+00 > -4.8896e+00\n",
      "ERROR in osqp_setup: Problem data validation.\n",
      "ERROR in validate_data: Lower bound at index 2 is greater than upper bound: -1.9268e+00 > -8.8925e+00\n",
      "ERROR in osqp_setup: Problem data validation.\n",
      "ERROR in validate_data: Lower bound at index 2 is greater than upper bound: -1.9268e+00 > -7.7054e+00\n",
      "ERROR in osqp_setup: Problem data validation.\n",
      "ERROR in validate_data: Lower bound at index 2 is greater than upper bound: -1.9268e+00 > -6.9626e+00\n",
      "ERROR in osqp_setup: Problem data validation.\n",
      "ERROR in validate_data: Lower bound at index 2 is greater than upper bound: -1.9268e+00 > -9.9165e+00\n",
      "ERROR in osqp_setup: Problem data validation.\n",
      "ERROR in validate_data: Lower bound at index 2 is greater than upper bound: -1.9268e+00 > -8.4124e+00\n",
      "ERROR in osqp_setup: Problem data validation.\n",
      "ERROR in validate_data: Lower bound at index 2 is greater than upper bound: -1.9268e+00 > -5.2849e+00\n",
      "ERROR in osqp_setup: Problem data validation.\n",
      "ERROR in validate_data: Lower bound at index 2 is greater than upper bound: -1.9268e+00 > -7.2486e+00\n",
      "ERROR in osqp_setup: Problem data validation.\n",
      "added 79 out of 150\n"
     ]
    },
    {
     "name": "stderr",
     "output_type": "stream",
     "text": [
      "                                                 \r"
     ]
    },
    {
     "name": "stdout",
     "output_type": "stream",
     "text": [
      "added 93 out of 150\n"
     ]
    },
    {
     "name": "stderr",
     "output_type": "stream",
     "text": [
      "                                                 \r"
     ]
    },
    {
     "name": "stdout",
     "output_type": "stream",
     "text": [
      "added 143 out of 150\n"
     ]
    },
    {
     "name": "stderr",
     "output_type": "stream",
     "text": [
      "                                                 \r"
     ]
    },
    {
     "name": "stdout",
     "output_type": "stream",
     "text": [
      "ERROR in validate_data: Lower bound at index 1 is greater than upper bound: -1.4451e+00 > -1.8633e+00\n",
      "ERROR in osqp_setup: Problem data validation.\n",
      "ERROR in validate_data: Lower bound at index 1 is greater than upper bound: -1.4451e+00 > -2.4771e+00\n",
      "ERROR in osqp_setup: Problem data validation.\n",
      "ERROR in validate_data: Lower bound at index 1 is greater than upper bound: -1.4451e+00 > -3.0403e+00\n",
      "ERROR in osqp_setup: Problem data validation.\n",
      "ERROR in validate_data: Lower bound at index 1 is greater than upper bound: -1.4451e+00 > -4.9340e+00\n",
      "ERROR in osqp_setup: Problem data validation.\n",
      "ERROR in validate_data: Lower bound at index 1 is greater than upper bound: -1.4451e+00 > -5.7058e+00\n",
      "ERROR in osqp_setup: Problem data validation.\n",
      "ERROR in validate_data: Lower bound at index 1 is greater than upper bound: -1.4451e+00 > -5.7617e+00\n",
      "ERROR in osqp_setup: Problem data validation.\n",
      "ERROR in validate_data: Lower bound at index 1 is greater than upper bound: -1.4451e+00 > -6.1078e+00\n",
      "ERROR in osqp_setup: Problem data validation.\n",
      "ERROR in validate_data: Lower bound at index 1 is greater than upper bound: -1.4451e+00 > -5.6774e+00\n",
      "ERROR in osqp_setup: Problem data validation.\n",
      "ERROR in validate_data: Lower bound at index 1 is greater than upper bound: -1.4451e+00 > -5.5291e+00\n",
      "ERROR in osqp_setup: Problem data validation.\n",
      "ERROR in validate_data: Lower bound at index 1 is greater than upper bound: -1.4451e+00 > -5.2001e+00\n",
      "ERROR in osqp_setup: Problem data validation.\n",
      "added 140 out of 150\n"
     ]
    },
    {
     "name": "stderr",
     "output_type": "stream",
     "text": [
      "                                                 \r"
     ]
    },
    {
     "name": "stdout",
     "output_type": "stream",
     "text": [
      "ERROR in validate_data: Lower bound at index 2 is greater than upper bound: -1.9268e+00 > -3.0767e+00\n",
      "ERROR in osqp_setup: Problem data validation.\n",
      "ERROR in validate_data: Lower bound at index 2 is greater than upper bound: -1.9268e+00 > -2.0556e+00\n",
      "ERROR in osqp_setup: Problem data validation.\n",
      "ERROR in validate_data: Lower bound at index 2 is greater than upper bound: -1.9268e+00 > -2.3840e+00\n",
      "ERROR in osqp_setup: Problem data validation.\n",
      "ERROR in validate_data: Lower bound at index 2 is greater than upper bound: -1.9268e+00 > -4.0532e+00\n",
      "ERROR in osqp_setup: Problem data validation.\n",
      "ERROR in validate_data: Lower bound at index 2 is greater than upper bound: -1.9268e+00 > -5.8241e+00\n",
      "ERROR in osqp_setup: Problem data validation.\n",
      "ERROR in validate_data: Lower bound at index 2 is greater than upper bound: -1.9268e+00 > -4.0440e+00\n",
      "ERROR in osqp_setup: Problem data validation.\n",
      "ERROR in validate_data: Lower bound at index 2 is greater than upper bound: -1.9268e+00 > -4.5198e+00\n",
      "ERROR in osqp_setup: Problem data validation.\n",
      "ERROR in validate_data: Lower bound at index 2 is greater than upper bound: -1.9268e+00 > -1.9870e+00\n",
      "ERROR in osqp_setup: Problem data validation.\n",
      "ERROR in validate_data: Lower bound at index 2 is greater than upper bound: -1.9268e+00 > -3.1605e+00\n",
      "ERROR in osqp_setup: Problem data validation.\n",
      "ERROR in validate_data: Lower bound at index 2 is greater than upper bound: -1.9268e+00 > -2.5390e+00\n",
      "ERROR in osqp_setup: Problem data validation.\n",
      "ERROR in validate_data: Lower bound at index 2 is greater than upper bound: -1.9268e+00 > -2.4123e+00\n",
      "ERROR in osqp_setup: Problem data validation.\n",
      "ERROR in validate_data: Lower bound at index 2 is greater than upper bound: -1.9268e+00 > -2.9833e+00\n",
      "ERROR in osqp_setup: Problem data validation.\n",
      "ERROR in validate_data: Lower bound at index 2 is greater than upper bound: -1.9267e+00 > -2.2038e+00\n",
      "ERROR in osqp_setup: Problem data validation.\n",
      "ERROR in validate_data: Lower bound at index 1 is greater than upper bound: -1.4451e+00 > -2.5012e+00\n",
      "ERROR in osqp_setup: Problem data validation.\n",
      "ERROR in validate_data: Lower bound at index 1 is greater than upper bound: -1.4451e+00 > -3.1535e+00\n",
      "ERROR in osqp_setup: Problem data validation.\n",
      "ERROR in validate_data: Lower bound at index 1 is greater than upper bound: -1.4451e+00 > -2.7744e+00\n",
      "ERROR in osqp_setup: Problem data validation.\n",
      "ERROR in validate_data: Lower bound at index 1 is greater than upper bound: -1.4451e+00 > -3.4465e+00\n",
      "ERROR in osqp_setup: Problem data validation.\n",
      "ERROR in validate_data: Lower bound at index 1 is greater than upper bound: -1.4451e+00 > -4.0209e+00\n",
      "ERROR in osqp_setup: Problem data validation.\n",
      "ERROR in validate_data: Lower bound at index 1 is greater than upper bound: -1.4451e+00 > -3.9833e+00\n",
      "ERROR in osqp_setup: Problem data validation.\n",
      "ERROR in validate_data: Lower bound at index 1 is greater than upper bound: -1.4451e+00 > -3.1821e+00\n",
      "ERROR in osqp_setup: Problem data validation.\n",
      "ERROR in validate_data: Lower bound at index 1 is greater than upper bound: -1.4451e+00 > -3.7038e+00\n",
      "ERROR in osqp_setup: Problem data validation.\n",
      "ERROR in validate_data: Lower bound at index 1 is greater than upper bound: -1.4451e+00 > -3.2765e+00\n",
      "ERROR in osqp_setup: Problem data validation.\n",
      "ERROR in validate_data: Lower bound at index 1 is greater than upper bound: -1.4451e+00 > -3.9301e+00\n",
      "ERROR in osqp_setup: Problem data validation.\n",
      "ERROR in validate_data: Lower bound at index 1 is greater than upper bound: -1.4451e+00 > -3.3515e+00\n",
      "ERROR in osqp_setup: Problem data validation.\n",
      "ERROR in validate_data: Lower bound at index 1 is greater than upper bound: -1.4451e+00 > -4.3163e+00\n",
      "ERROR in osqp_setup: Problem data validation.\n",
      "ERROR in validate_data: Lower bound at index 1 is greater than upper bound: -1.4451e+00 > -4.4291e+00\n",
      "ERROR in osqp_setup: Problem data validation.\n",
      "ERROR in validate_data: Lower bound at index 1 is greater than upper bound: -1.4451e+00 > -5.7963e+00\n",
      "ERROR in osqp_setup: Problem data validation.\n",
      "ERROR in validate_data: Lower bound at index 1 is greater than upper bound: -1.4451e+00 > -6.8971e+00\n",
      "ERROR in osqp_setup: Problem data validation.\n",
      "ERROR in validate_data: Lower bound at index 1 is greater than upper bound: -1.4451e+00 > -7.3583e+00\n",
      "ERROR in osqp_setup: Problem data validation.\n",
      "ERROR in validate_data: Lower bound at index 1 is greater than upper bound: -1.4451e+00 > -7.0819e+00\n",
      "ERROR in osqp_setup: Problem data validation.\n",
      "ERROR in validate_data: Lower bound at index 1 is greater than upper bound: -1.4451e+00 > -5.6117e+00\n",
      "ERROR in osqp_setup: Problem data validation.\n",
      "ERROR in validate_data: Lower bound at index 1 is greater than upper bound: -1.4451e+00 > -4.4683e+00\n",
      "ERROR in osqp_setup: Problem data validation.\n",
      "ERROR in validate_data: Lower bound at index 1 is greater than upper bound: -1.4451e+00 > -4.5317e+00\n",
      "ERROR in osqp_setup: Problem data validation.\n",
      "ERROR in validate_data: Lower bound at index 1 is greater than upper bound: -1.4451e+00 > -3.6059e+00\n",
      "ERROR in osqp_setup: Problem data validation.\n",
      "ERROR in validate_data: Lower bound at index 1 is greater than upper bound: -1.4451e+00 > -3.9381e+00\n",
      "ERROR in osqp_setup: Problem data validation.\n",
      "ERROR in validate_data: Lower bound at index 1 is greater than upper bound: -1.4451e+00 > -4.5487e+00\n",
      "ERROR in osqp_setup: Problem data validation.\n",
      "ERROR in validate_data: Lower bound at index 1 is greater than upper bound: -1.4451e+00 > -5.4926e+00\n",
      "ERROR in osqp_setup: Problem data validation.\n",
      "ERROR in validate_data: Lower bound at index 1 is greater than upper bound: -1.4451e+00 > -7.1033e+00\n",
      "ERROR in osqp_setup: Problem data validation.\n",
      "ERROR in validate_data: Lower bound at index 1 is greater than upper bound: -1.4451e+00 > -7.6631e+00\n",
      "ERROR in osqp_setup: Problem data validation.\n",
      "ERROR in validate_data: Lower bound at index 1 is greater than upper bound: -1.4451e+00 > -7.3332e+00\n",
      "ERROR in osqp_setup: Problem data validation.\n",
      "ERROR in validate_data: Lower bound at index 1 is greater than upper bound: -1.4451e+00 > -5.7554e+00\n",
      "ERROR in osqp_setup: Problem data validation.\n",
      "ERROR in validate_data: Lower bound at index 1 is greater than upper bound: -1.4451e+00 > -5.2886e+00\n",
      "ERROR in osqp_setup: Problem data validation.\n",
      "ERROR in validate_data: Lower bound at index 1 is greater than upper bound: -1.4451e+00 > -6.1760e+00\n",
      "ERROR in osqp_setup: Problem data validation.\n",
      "ERROR in validate_data: Lower bound at index 1 is greater than upper bound: -1.4451e+00 > -5.8851e+00\n",
      "ERROR in osqp_setup: Problem data validation.\n",
      "ERROR in validate_data: Lower bound at index 1 is greater than upper bound: -1.4451e+00 > -6.1726e+00\n",
      "ERROR in osqp_setup: Problem data validation.\n",
      "ERROR in validate_data: Lower bound at index 1 is greater than upper bound: -1.4451e+00 > -7.1244e+00\n",
      "ERROR in osqp_setup: Problem data validation.\n",
      "ERROR in validate_data: Lower bound at index 1 is greater than upper bound: -1.4451e+00 > -6.9724e+00\n",
      "ERROR in osqp_setup: Problem data validation.\n",
      "ERROR in validate_data: Lower bound at index 1 is greater than upper bound: -1.4451e+00 > -7.6332e+00\n",
      "ERROR in osqp_setup: Problem data validation.\n",
      "ERROR in validate_data: Lower bound at index 1 is greater than upper bound: -1.4451e+00 > -6.8469e+00\n",
      "ERROR in osqp_setup: Problem data validation.\n",
      "ERROR in validate_data: Lower bound at index 1 is greater than upper bound: -1.4451e+00 > -7.1812e+00\n",
      "ERROR in osqp_setup: Problem data validation.\n",
      "ERROR in validate_data: Lower bound at index 1 is greater than upper bound: -1.4451e+00 > -6.2089e+00\n",
      "ERROR in osqp_setup: Problem data validation.\n",
      "ERROR in validate_data: Lower bound at index 1 is greater than upper bound: -1.4451e+00 > -6.3924e+00\n",
      "ERROR in osqp_setup: Problem data validation.\n",
      "ERROR in validate_data: Lower bound at index 1 is greater than upper bound: -1.4451e+00 > -6.3955e+00\n",
      "ERROR in osqp_setup: Problem data validation.\n",
      "ERROR in validate_data: Lower bound at index 1 is greater than upper bound: -1.4452e+00 > -6.2192e+00\n",
      "ERROR in osqp_setup: Problem data validation.\n",
      "ERROR in validate_data: Lower bound at index 1 is greater than upper bound: -1.4452e+00 > -4.7337e+00\n",
      "ERROR in osqp_setup: Problem data validation.\n",
      "ERROR in validate_data: Lower bound at index 1 is greater than upper bound: -1.4452e+00 > -3.3332e+00\n",
      "ERROR in osqp_setup: Problem data validation.\n",
      "ERROR in validate_data: Lower bound at index 1 is greater than upper bound: -1.4452e+00 > -2.0715e+00\n",
      "ERROR in osqp_setup: Problem data validation.\n",
      "ERROR in validate_data: Lower bound at index 1 is greater than upper bound: -1.4452e+00 > -2.0942e+00\n",
      "ERROR in osqp_setup: Problem data validation.\n",
      "ERROR in validate_data: Lower bound at index 1 is greater than upper bound: -1.4452e+00 > -2.0358e+00\n",
      "ERROR in osqp_setup: Problem data validation.\n",
      "added 82 out of 150\n"
     ]
    },
    {
     "name": "stderr",
     "output_type": "stream",
     "text": [
      "                                                 \r"
     ]
    },
    {
     "name": "stdout",
     "output_type": "stream",
     "text": [
      "ERROR in validate_data: Lower bound at index 2 is greater than upper bound: -1.9268e+00 > -2.2116e+00\n",
      "ERROR in osqp_setup: Problem data validation.\n",
      "added 147 out of 150\n"
     ]
    },
    {
     "name": "stderr",
     "output_type": "stream",
     "text": [
      "                                                 \r"
     ]
    },
    {
     "name": "stdout",
     "output_type": "stream",
     "text": [
      "added 128 out of 150\n"
     ]
    },
    {
     "name": "stderr",
     "output_type": "stream",
     "text": [
      "                                                 \r"
     ]
    },
    {
     "name": "stdout",
     "output_type": "stream",
     "text": [
      "added 150 out of 150\n"
     ]
    },
    {
     "name": "stderr",
     "output_type": "stream",
     "text": [
      "                                                 \r"
     ]
    },
    {
     "name": "stdout",
     "output_type": "stream",
     "text": [
      "added 150 out of 150\n"
     ]
    },
    {
     "name": "stderr",
     "output_type": "stream",
     "text": [
      "                                                 \r"
     ]
    },
    {
     "name": "stdout",
     "output_type": "stream",
     "text": [
      "ERROR in validate_data: Lower bound at index 1 is greater than upper bound: -1.4451e+00 > -1.9444e+00\n",
      "ERROR in osqp_setup: Problem data validation.\n",
      "ERROR in validate_data: Lower bound at index 1 is greater than upper bound: -1.4451e+00 > -1.9025e+00\n",
      "ERROR in osqp_setup: Problem data validation.\n",
      "added 148 out of 150\n"
     ]
    },
    {
     "name": "stderr",
     "output_type": "stream",
     "text": [
      "                                             \r"
     ]
    },
    {
     "name": "stdout",
     "output_type": "stream",
     "text": [
      "Epoch: 7 metrics: (-1566.6130720812298, -1212.9775328583282, -1430.801820435146, -1437.4390951134956, 5)\n"
     ]
    },
    {
     "name": "stderr",
     "output_type": "stream",
     "text": [
      "                                                 \r"
     ]
    },
    {
     "name": "stdout",
     "output_type": "stream",
     "text": [
      "ERROR in validate_data: Lower bound at index 1 is greater than upper bound: -1.4451e+00 > -1.7458e+00\n",
      "ERROR in osqp_setup: Problem data validation.\n",
      "ERROR in validate_data: Lower bound at index 1 is greater than upper bound: -1.4451e+00 > -1.8066e+00\n",
      "ERROR in osqp_setup: Problem data validation.\n",
      "ERROR in validate_data: Lower bound at index 1 is greater than upper bound: -1.4451e+00 > -2.9476e+00\n",
      "ERROR in osqp_setup: Problem data validation.\n",
      "ERROR in validate_data: Lower bound at index 1 is greater than upper bound: -1.4451e+00 > -3.8023e+00\n",
      "ERROR in osqp_setup: Problem data validation.\n",
      "ERROR in validate_data: Lower bound at index 1 is greater than upper bound: -1.4451e+00 > -3.9300e+00\n",
      "ERROR in osqp_setup: Problem data validation.\n",
      "ERROR in validate_data: Lower bound at index 1 is greater than upper bound: -1.4451e+00 > -4.0255e+00\n",
      "ERROR in osqp_setup: Problem data validation.\n",
      "ERROR in validate_data: Lower bound at index 1 is greater than upper bound: -1.4451e+00 > -5.1305e+00\n",
      "ERROR in osqp_setup: Problem data validation.\n",
      "ERROR in validate_data: Lower bound at index 1 is greater than upper bound: -1.4451e+00 > -5.7144e+00\n",
      "ERROR in osqp_setup: Problem data validation.\n",
      "ERROR in validate_data: Lower bound at index 1 is greater than upper bound: -1.4451e+00 > -6.3231e+00\n",
      "ERROR in osqp_setup: Problem data validation.\n",
      "ERROR in validate_data: Lower bound at index 1 is greater than upper bound: -1.4450e+00 > -6.7383e+00\n",
      "ERROR in osqp_setup: Problem data validation.\n",
      "ERROR in validate_data: Lower bound at index 1 is greater than upper bound: -1.4450e+00 > -5.7994e+00\n",
      "ERROR in osqp_setup: Problem data validation.\n",
      "ERROR in validate_data: Lower bound at index 1 is greater than upper bound: -1.4451e+00 > -5.3278e+00\n",
      "ERROR in osqp_setup: Problem data validation.\n",
      "ERROR in validate_data: Lower bound at index 1 is greater than upper bound: -1.4451e+00 > -5.2475e+00\n",
      "ERROR in osqp_setup: Problem data validation.\n",
      "ERROR in validate_data: Lower bound at index 1 is greater than upper bound: -1.4451e+00 > -5.3394e+00\n",
      "ERROR in osqp_setup: Problem data validation.\n",
      "ERROR in validate_data: Lower bound at index 1 is greater than upper bound: -1.4451e+00 > -5.3898e+00\n",
      "ERROR in osqp_setup: Problem data validation.\n",
      "ERROR in validate_data: Lower bound at index 1 is greater than upper bound: -1.4451e+00 > -6.3578e+00\n",
      "ERROR in osqp_setup: Problem data validation.\n",
      "ERROR in validate_data: Lower bound at index 1 is greater than upper bound: -1.4451e+00 > -5.9283e+00\n",
      "ERROR in osqp_setup: Problem data validation.\n",
      "ERROR in validate_data: Lower bound at index 1 is greater than upper bound: -1.4451e+00 > -6.2679e+00\n",
      "ERROR in osqp_setup: Problem data validation.\n",
      "ERROR in validate_data: Lower bound at index 1 is greater than upper bound: -1.4450e+00 > -6.7778e+00\n",
      "ERROR in osqp_setup: Problem data validation.\n",
      "ERROR in validate_data: Lower bound at index 1 is greater than upper bound: -1.4450e+00 > -7.0742e+00\n",
      "ERROR in osqp_setup: Problem data validation.\n",
      "ERROR in validate_data: Lower bound at index 1 is greater than upper bound: -1.4450e+00 > -7.1327e+00\n",
      "ERROR in osqp_setup: Problem data validation.\n",
      "ERROR in validate_data: Lower bound at index 1 is greater than upper bound: -1.4450e+00 > -6.1665e+00\n",
      "ERROR in osqp_setup: Problem data validation.\n",
      "ERROR in validate_data: Lower bound at index 1 is greater than upper bound: -1.4451e+00 > -6.1057e+00\n",
      "ERROR in osqp_setup: Problem data validation.\n",
      "ERROR in validate_data: Lower bound at index 1 is greater than upper bound: -1.4451e+00 > -6.1030e+00\n",
      "ERROR in osqp_setup: Problem data validation.\n",
      "ERROR in validate_data: Lower bound at index 1 is greater than upper bound: -1.4451e+00 > -6.9434e+00\n",
      "ERROR in osqp_setup: Problem data validation.\n",
      "ERROR in validate_data: Lower bound at index 1 is greater than upper bound: -1.4451e+00 > -7.4466e+00\n",
      "ERROR in osqp_setup: Problem data validation.\n",
      "ERROR in validate_data: Lower bound at index 1 is greater than upper bound: -1.4450e+00 > -6.2983e+00\n",
      "ERROR in osqp_setup: Problem data validation.\n",
      "ERROR in validate_data: Lower bound at index 1 is greater than upper bound: -1.4450e+00 > -5.5977e+00\n",
      "ERROR in osqp_setup: Problem data validation.\n",
      "ERROR in validate_data: Lower bound at index 1 is greater than upper bound: -1.4450e+00 > -6.1215e+00\n",
      "ERROR in osqp_setup: Problem data validation.\n",
      "ERROR in validate_data: Lower bound at index 1 is greater than upper bound: -1.4451e+00 > -6.7373e+00\n",
      "ERROR in osqp_setup: Problem data validation.\n",
      "ERROR in validate_data: Lower bound at index 1 is greater than upper bound: -1.4451e+00 > -6.7938e+00\n",
      "ERROR in osqp_setup: Problem data validation.\n",
      "ERROR in validate_data: Lower bound at index 1 is greater than upper bound: -1.4450e+00 > -6.7329e+00\n",
      "ERROR in osqp_setup: Problem data validation.\n",
      "ERROR in validate_data: Lower bound at index 1 is greater than upper bound: -1.4450e+00 > -5.4786e+00\n",
      "ERROR in osqp_setup: Problem data validation.\n",
      "ERROR in validate_data: Lower bound at index 1 is greater than upper bound: -1.4451e+00 > -4.5979e+00\n",
      "ERROR in osqp_setup: Problem data validation.\n",
      "ERROR in validate_data: Lower bound at index 1 is greater than upper bound: -1.4451e+00 > -3.8770e+00\n",
      "ERROR in osqp_setup: Problem data validation.\n",
      "ERROR in validate_data: Lower bound at index 1 is greater than upper bound: -1.4451e+00 > -3.5548e+00\n",
      "ERROR in osqp_setup: Problem data validation.\n",
      "ERROR in validate_data: Lower bound at index 1 is greater than upper bound: -1.4451e+00 > -3.5260e+00\n",
      "ERROR in osqp_setup: Problem data validation.\n",
      "ERROR in validate_data: Lower bound at index 1 is greater than upper bound: -1.4451e+00 > -3.2091e+00\n",
      "ERROR in osqp_setup: Problem data validation.\n",
      "ERROR in validate_data: Lower bound at index 1 is greater than upper bound: -1.4451e+00 > -4.1533e+00\n",
      "ERROR in osqp_setup: Problem data validation.\n",
      "ERROR in validate_data: Lower bound at index 1 is greater than upper bound: -1.4451e+00 > -3.5453e+00\n",
      "ERROR in osqp_setup: Problem data validation.\n",
      "ERROR in validate_data: Lower bound at index 1 is greater than upper bound: -1.4451e+00 > -3.8322e+00\n",
      "ERROR in osqp_setup: Problem data validation.\n",
      "ERROR in validate_data: Lower bound at index 1 is greater than upper bound: -1.4451e+00 > -4.3317e+00\n",
      "ERROR in osqp_setup: Problem data validation.\n",
      "ERROR in validate_data: Lower bound at index 1 is greater than upper bound: -1.4451e+00 > -4.3870e+00\n",
      "ERROR in osqp_setup: Problem data validation.\n",
      "ERROR in validate_data: Lower bound at index 1 is greater than upper bound: -1.4451e+00 > -5.5861e+00\n",
      "ERROR in osqp_setup: Problem data validation.\n",
      "added 106 out of 150\n"
     ]
    },
    {
     "name": "stderr",
     "output_type": "stream",
     "text": [
      "                                                 \r"
     ]
    },
    {
     "name": "stdout",
     "output_type": "stream",
     "text": [
      "added 150 out of 150\n"
     ]
    },
    {
     "name": "stderr",
     "output_type": "stream",
     "text": [
      "                                                 \r"
     ]
    },
    {
     "name": "stdout",
     "output_type": "stream",
     "text": [
      "added 150 out of 150\n"
     ]
    },
    {
     "name": "stderr",
     "output_type": "stream",
     "text": [
      "                                                 \r"
     ]
    },
    {
     "name": "stdout",
     "output_type": "stream",
     "text": [
      "added 90 out of 150\n"
     ]
    },
    {
     "name": "stderr",
     "output_type": "stream",
     "text": [
      "                                                 \r"
     ]
    },
    {
     "name": "stdout",
     "output_type": "stream",
     "text": [
      "ERROR in validate_data: Lower bound at index 2 is greater than upper bound: -1.9268e+00 > -2.2414e+00\n",
      "ERROR in osqp_setup: Problem data validation.\n",
      "ERROR in validate_data: Lower bound at index 2 is greater than upper bound: -1.9268e+00 > -1.9320e+00\n",
      "ERROR in osqp_setup: Problem data validation.\n",
      "ERROR in validate_data: Lower bound at index 2 is greater than upper bound: -1.9268e+00 > -3.1464e+00\n",
      "ERROR in osqp_setup: Problem data validation.\n",
      "ERROR in validate_data: Lower bound at index 2 is greater than upper bound: -1.9268e+00 > -3.4779e+00\n",
      "ERROR in osqp_setup: Problem data validation.\n",
      "added 146 out of 150\n"
     ]
    },
    {
     "name": "stderr",
     "output_type": "stream",
     "text": [
      "                                                 \r"
     ]
    },
    {
     "name": "stdout",
     "output_type": "stream",
     "text": [
      "ERROR in validate_data: Lower bound at index 2 is greater than upper bound: -1.9268e+00 > -2.8734e+00\n",
      "ERROR in osqp_setup: Problem data validation.\n",
      "ERROR in validate_data: Lower bound at index 2 is greater than upper bound: -1.9268e+00 > -3.8449e+00\n",
      "ERROR in osqp_setup: Problem data validation.\n",
      "ERROR in validate_data: Lower bound at index 2 is greater than upper bound: -1.9268e+00 > -2.2540e+00\n",
      "ERROR in osqp_setup: Problem data validation.\n",
      "added 146 out of 150\n"
     ]
    },
    {
     "name": "stderr",
     "output_type": "stream",
     "text": [
      "                                                 \r"
     ]
    },
    {
     "name": "stdout",
     "output_type": "stream",
     "text": [
      "added 27 out of 150\n"
     ]
    },
    {
     "name": "stderr",
     "output_type": "stream",
     "text": [
      "                                                 \r"
     ]
    },
    {
     "name": "stdout",
     "output_type": "stream",
     "text": [
      "ERROR in validate_data: Lower bound at index 1 is greater than upper bound: -1.4451e+00 > -2.3725e+00\n",
      "ERROR in osqp_setup: Problem data validation.\n",
      "ERROR in validate_data: Lower bound at index 1 is greater than upper bound: -1.4451e+00 > -2.7959e+00\n",
      "ERROR in osqp_setup: Problem data validation.\n",
      "ERROR in validate_data: Lower bound at index 1 is greater than upper bound: -1.4451e+00 > -3.0421e+00\n",
      "ERROR in osqp_setup: Problem data validation.\n",
      "ERROR in validate_data: Lower bound at index 1 is greater than upper bound: -1.4451e+00 > -3.3875e+00\n",
      "ERROR in osqp_setup: Problem data validation.\n",
      "ERROR in validate_data: Lower bound at index 1 is greater than upper bound: -1.4451e+00 > -4.3212e+00\n",
      "ERROR in osqp_setup: Problem data validation.\n",
      "ERROR in validate_data: Lower bound at index 1 is greater than upper bound: -1.4451e+00 > -5.8443e+00\n",
      "ERROR in osqp_setup: Problem data validation.\n",
      "ERROR in validate_data: Lower bound at index 1 is greater than upper bound: -1.4451e+00 > -6.9028e+00\n",
      "ERROR in osqp_setup: Problem data validation.\n",
      "ERROR in validate_data: Lower bound at index 1 is greater than upper bound: -1.4451e+00 > -7.4728e+00\n",
      "ERROR in osqp_setup: Problem data validation.\n",
      "ERROR in validate_data: Lower bound at index 1 is greater than upper bound: -1.4451e+00 > -6.8417e+00\n",
      "ERROR in osqp_setup: Problem data validation.\n",
      "ERROR in validate_data: Lower bound at index 1 is greater than upper bound: -1.4451e+00 > -6.1943e+00\n",
      "ERROR in osqp_setup: Problem data validation.\n",
      "ERROR in validate_data: Lower bound at index 1 is greater than upper bound: -1.4451e+00 > -5.4949e+00\n",
      "ERROR in osqp_setup: Problem data validation.\n",
      "ERROR in validate_data: Lower bound at index 1 is greater than upper bound: -1.4451e+00 > -6.0976e+00\n",
      "ERROR in osqp_setup: Problem data validation.\n",
      "ERROR in validate_data: Lower bound at index 1 is greater than upper bound: -1.4451e+00 > -5.7512e+00\n",
      "ERROR in osqp_setup: Problem data validation.\n",
      "ERROR in validate_data: Lower bound at index 1 is greater than upper bound: -1.4451e+00 > -6.5863e+00\n",
      "ERROR in osqp_setup: Problem data validation.\n",
      "ERROR in validate_data: Lower bound at index 1 is greater than upper bound: -1.4451e+00 > -6.2587e+00\n",
      "ERROR in osqp_setup: Problem data validation.\n",
      "ERROR in validate_data: Lower bound at index 1 is greater than upper bound: -1.4451e+00 > -6.7682e+00\n",
      "ERROR in osqp_setup: Problem data validation.\n",
      "ERROR in validate_data: Lower bound at index 1 is greater than upper bound: -1.4451e+00 > -7.3650e+00\n",
      "ERROR in osqp_setup: Problem data validation.\n",
      "ERROR in validate_data: Lower bound at index 1 is greater than upper bound: -1.4451e+00 > -7.1728e+00\n",
      "ERROR in osqp_setup: Problem data validation.\n",
      "ERROR in validate_data: Lower bound at index 1 is greater than upper bound: -1.4451e+00 > -6.1962e+00\n",
      "ERROR in osqp_setup: Problem data validation.\n",
      "ERROR in validate_data: Lower bound at index 1 is greater than upper bound: -1.4451e+00 > -6.1392e+00\n",
      "ERROR in osqp_setup: Problem data validation.\n",
      "ERROR in validate_data: Lower bound at index 1 is greater than upper bound: -1.4451e+00 > -6.9564e+00\n",
      "ERROR in osqp_setup: Problem data validation.\n",
      "ERROR in validate_data: Lower bound at index 1 is greater than upper bound: -1.4451e+00 > -7.5124e+00\n",
      "ERROR in osqp_setup: Problem data validation.\n",
      "ERROR in validate_data: Lower bound at index 1 is greater than upper bound: -1.4451e+00 > -6.7396e+00\n",
      "ERROR in osqp_setup: Problem data validation.\n",
      "ERROR in validate_data: Lower bound at index 1 is greater than upper bound: -1.4451e+00 > -5.9679e+00\n",
      "ERROR in osqp_setup: Problem data validation.\n",
      "ERROR in validate_data: Lower bound at index 1 is greater than upper bound: -1.4451e+00 > -6.3348e+00\n",
      "ERROR in osqp_setup: Problem data validation.\n",
      "ERROR in validate_data: Lower bound at index 1 is greater than upper bound: -1.4451e+00 > -5.4676e+00\n",
      "ERROR in osqp_setup: Problem data validation.\n",
      "ERROR in validate_data: Lower bound at index 1 is greater than upper bound: -1.4451e+00 > -5.8195e+00\n",
      "ERROR in osqp_setup: Problem data validation.\n",
      "ERROR in validate_data: Lower bound at index 1 is greater than upper bound: -1.4451e+00 > -4.8879e+00\n",
      "ERROR in osqp_setup: Problem data validation.\n",
      "ERROR in validate_data: Lower bound at index 1 is greater than upper bound: -1.4451e+00 > -5.2109e+00\n",
      "ERROR in osqp_setup: Problem data validation.\n",
      "ERROR in validate_data: Lower bound at index 1 is greater than upper bound: -1.4451e+00 > -4.2544e+00\n",
      "ERROR in osqp_setup: Problem data validation.\n",
      "ERROR in validate_data: Lower bound at index 1 is greater than upper bound: -1.4451e+00 > -3.4178e+00\n",
      "ERROR in osqp_setup: Problem data validation.\n",
      "ERROR in validate_data: Lower bound at index 1 is greater than upper bound: -1.4451e+00 > -2.6366e+00\n",
      "ERROR in osqp_setup: Problem data validation.\n",
      "ERROR in validate_data: Lower bound at index 1 is greater than upper bound: -1.4451e+00 > -2.9792e+00\n",
      "ERROR in osqp_setup: Problem data validation.\n",
      "ERROR in validate_data: Lower bound at index 1 is greater than upper bound: -1.4451e+00 > -2.0648e+00\n",
      "ERROR in osqp_setup: Problem data validation.\n",
      "ERROR in validate_data: Lower bound at index 1 is greater than upper bound: -1.4451e+00 > -2.3470e+00\n",
      "ERROR in osqp_setup: Problem data validation.\n",
      "ERROR in validate_data: Lower bound at index 1 is greater than upper bound: -1.4451e+00 > -2.8993e+00\n",
      "ERROR in osqp_setup: Problem data validation.\n",
      "ERROR in validate_data: Lower bound at index 1 is greater than upper bound: -1.4451e+00 > -2.6158e+00\n",
      "ERROR in osqp_setup: Problem data validation.\n",
      "ERROR in validate_data: Lower bound at index 1 is greater than upper bound: -1.4451e+00 > -3.6469e+00\n",
      "ERROR in osqp_setup: Problem data validation.\n",
      "ERROR in validate_data: Lower bound at index 1 is greater than upper bound: -1.4451e+00 > -3.4461e+00\n",
      "ERROR in osqp_setup: Problem data validation.\n",
      "ERROR in validate_data: Lower bound at index 1 is greater than upper bound: -1.4451e+00 > -3.7717e+00\n",
      "ERROR in osqp_setup: Problem data validation.\n",
      "ERROR in validate_data: Lower bound at index 1 is greater than upper bound: -1.4451e+00 > -4.8317e+00\n",
      "ERROR in osqp_setup: Problem data validation.\n",
      "ERROR in validate_data: Lower bound at index 1 is greater than upper bound: -1.4451e+00 > -5.8550e+00\n",
      "ERROR in osqp_setup: Problem data validation.\n",
      "ERROR in validate_data: Lower bound at index 1 is greater than upper bound: -1.4451e+00 > -6.6093e+00\n",
      "ERROR in osqp_setup: Problem data validation.\n",
      "ERROR in validate_data: Lower bound at index 1 is greater than upper bound: -1.4451e+00 > -6.2128e+00\n",
      "ERROR in osqp_setup: Problem data validation.\n",
      "ERROR in validate_data: Lower bound at index 1 is greater than upper bound: -1.4451e+00 > -6.8405e+00\n",
      "ERROR in osqp_setup: Problem data validation.\n",
      "ERROR in validate_data: Lower bound at index 1 is greater than upper bound: -1.4451e+00 > -6.2848e+00\n",
      "ERROR in osqp_setup: Problem data validation.\n",
      "ERROR in validate_data: Lower bound at index 1 is greater than upper bound: -1.4451e+00 > -6.8980e+00\n",
      "ERROR in osqp_setup: Problem data validation.\n",
      "ERROR in validate_data: Lower bound at index 1 is greater than upper bound: -1.4451e+00 > -6.3666e+00\n",
      "ERROR in osqp_setup: Problem data validation.\n",
      "ERROR in validate_data: Lower bound at index 1 is greater than upper bound: -1.4451e+00 > -5.9165e+00\n",
      "ERROR in osqp_setup: Problem data validation.\n",
      "ERROR in validate_data: Lower bound at index 1 is greater than upper bound: -1.4451e+00 > -6.2969e+00\n",
      "ERROR in osqp_setup: Problem data validation.\n",
      "ERROR in validate_data: Lower bound at index 1 is greater than upper bound: -1.4451e+00 > -5.1763e+00\n",
      "ERROR in osqp_setup: Problem data validation.\n",
      "ERROR in validate_data: Lower bound at index 1 is greater than upper bound: -1.4451e+00 > -4.5254e+00\n",
      "ERROR in osqp_setup: Problem data validation.\n",
      "ERROR in validate_data: Lower bound at index 1 is greater than upper bound: -1.4451e+00 > -4.4875e+00\n",
      "ERROR in osqp_setup: Problem data validation.\n",
      "ERROR in validate_data: Lower bound at index 1 is greater than upper bound: -1.4451e+00 > -5.6248e+00\n",
      "ERROR in osqp_setup: Problem data validation.\n",
      "ERROR in validate_data: Lower bound at index 1 is greater than upper bound: -1.4451e+00 > -6.4078e+00\n",
      "ERROR in osqp_setup: Problem data validation.\n",
      "ERROR in validate_data: Lower bound at index 1 is greater than upper bound: -1.4451e+00 > -6.3564e+00\n",
      "ERROR in osqp_setup: Problem data validation.\n",
      "ERROR in validate_data: Lower bound at index 1 is greater than upper bound: -1.4451e+00 > -6.5740e+00\n",
      "ERROR in osqp_setup: Problem data validation.\n",
      "ERROR in validate_data: Lower bound at index 1 is greater than upper bound: -1.4451e+00 > -7.1512e+00\n",
      "ERROR in osqp_setup: Problem data validation.\n",
      "ERROR in validate_data: Lower bound at index 1 is greater than upper bound: -1.4451e+00 > -7.0859e+00\n",
      "ERROR in osqp_setup: Problem data validation.\n",
      "ERROR in validate_data: Lower bound at index 1 is greater than upper bound: -1.4451e+00 > -5.8823e+00\n",
      "ERROR in osqp_setup: Problem data validation.\n",
      "ERROR in validate_data: Lower bound at index 1 is greater than upper bound: -1.4451e+00 > -5.0480e+00\n",
      "ERROR in osqp_setup: Problem data validation.\n",
      "ERROR in validate_data: Lower bound at index 1 is greater than upper bound: -1.4451e+00 > -4.8232e+00\n",
      "ERROR in osqp_setup: Problem data validation.\n",
      "ERROR in validate_data: Lower bound at index 1 is greater than upper bound: -1.4451e+00 > -5.3088e+00\n",
      "ERROR in osqp_setup: Problem data validation.\n",
      "ERROR in validate_data: Lower bound at index 1 is greater than upper bound: -1.4451e+00 > -5.5777e+00\n",
      "ERROR in osqp_setup: Problem data validation.\n",
      "ERROR in validate_data: Lower bound at index 1 is greater than upper bound: -1.4451e+00 > -5.4007e+00\n",
      "ERROR in osqp_setup: Problem data validation.\n",
      "ERROR in validate_data: Lower bound at index 1 is greater than upper bound: -1.4451e+00 > -5.5545e+00\n",
      "ERROR in osqp_setup: Problem data validation.\n",
      "ERROR in validate_data: Lower bound at index 1 is greater than upper bound: -1.4451e+00 > -5.4715e+00\n",
      "ERROR in osqp_setup: Problem data validation.\n",
      "ERROR in validate_data: Lower bound at index 1 is greater than upper bound: -1.4451e+00 > -6.0045e+00\n",
      "ERROR in osqp_setup: Problem data validation.\n",
      "ERROR in validate_data: Lower bound at index 1 is greater than upper bound: -1.4451e+00 > -6.7422e+00\n",
      "ERROR in osqp_setup: Problem data validation.\n",
      "ERROR in validate_data: Lower bound at index 1 is greater than upper bound: -1.4451e+00 > -6.9655e+00\n",
      "ERROR in osqp_setup: Problem data validation.\n",
      "ERROR in validate_data: Lower bound at index 1 is greater than upper bound: -1.4451e+00 > -7.3319e+00\n",
      "ERROR in osqp_setup: Problem data validation.\n",
      "ERROR in validate_data: Lower bound at index 1 is greater than upper bound: -1.4451e+00 > -6.2549e+00\n",
      "ERROR in osqp_setup: Problem data validation.\n",
      "ERROR in validate_data: Lower bound at index 1 is greater than upper bound: -1.4451e+00 > -5.0421e+00\n",
      "ERROR in osqp_setup: Problem data validation.\n",
      "ERROR in validate_data: Lower bound at index 1 is greater than upper bound: -1.4451e+00 > -4.8177e+00\n",
      "ERROR in osqp_setup: Problem data validation.\n",
      "ERROR in validate_data: Lower bound at index 1 is greater than upper bound: -1.4451e+00 > -4.4379e+00\n",
      "ERROR in osqp_setup: Problem data validation.\n",
      "ERROR in validate_data: Lower bound at index 1 is greater than upper bound: -1.4451e+00 > -3.6804e+00\n",
      "ERROR in osqp_setup: Problem data validation.\n",
      "ERROR in validate_data: Lower bound at index 1 is greater than upper bound: -1.4451e+00 > -1.9286e+00\n",
      "ERROR in osqp_setup: Problem data validation.\n",
      "ERROR in validate_data: Lower bound at index 1 is greater than upper bound: -1.4451e+00 > -1.9565e+00\n",
      "ERROR in osqp_setup: Problem data validation.\n",
      "ERROR in validate_data: Lower bound at index 1 is greater than upper bound: -1.4451e+00 > -2.5179e+00\n",
      "ERROR in osqp_setup: Problem data validation.\n",
      "ERROR in validate_data: Lower bound at index 1 is greater than upper bound: -1.4451e+00 > -4.0350e+00\n",
      "ERROR in osqp_setup: Problem data validation.\n",
      "ERROR in validate_data: Lower bound at index 1 is greater than upper bound: -1.4451e+00 > -4.4759e+00\n",
      "ERROR in osqp_setup: Problem data validation.\n",
      "ERROR in validate_data: Lower bound at index 1 is greater than upper bound: -1.4451e+00 > -5.2563e+00\n",
      "ERROR in osqp_setup: Problem data validation.\n",
      "ERROR in validate_data: Lower bound at index 1 is greater than upper bound: -1.4451e+00 > -4.9721e+00\n",
      "ERROR in osqp_setup: Problem data validation.\n",
      "ERROR in validate_data: Lower bound at index 1 is greater than upper bound: -1.4451e+00 > -4.8844e+00\n",
      "ERROR in osqp_setup: Problem data validation.\n",
      "ERROR in validate_data: Lower bound at index 1 is greater than upper bound: -1.4451e+00 > -5.8430e+00\n",
      "ERROR in osqp_setup: Problem data validation.\n",
      "ERROR in validate_data: Lower bound at index 1 is greater than upper bound: -1.4451e+00 > -5.7147e+00\n",
      "ERROR in osqp_setup: Problem data validation.\n",
      "ERROR in validate_data: Lower bound at index 1 is greater than upper bound: -1.4451e+00 > -5.2629e+00\n",
      "ERROR in osqp_setup: Problem data validation.\n",
      "ERROR in validate_data: Lower bound at index 1 is greater than upper bound: -1.4451e+00 > -5.6134e+00\n",
      "ERROR in osqp_setup: Problem data validation.\n",
      "ERROR in validate_data: Lower bound at index 1 is greater than upper bound: -1.4451e+00 > -5.5819e+00\n",
      "ERROR in osqp_setup: Problem data validation.\n",
      "ERROR in validate_data: Lower bound at index 1 is greater than upper bound: -1.4451e+00 > -5.4319e+00\n",
      "ERROR in osqp_setup: Problem data validation.\n",
      "added 60 out of 150\n"
     ]
    },
    {
     "name": "stderr",
     "output_type": "stream",
     "text": [
      "                                                 \r"
     ]
    },
    {
     "name": "stdout",
     "output_type": "stream",
     "text": [
      "added 150 out of 150\n"
     ]
    },
    {
     "name": "stderr",
     "output_type": "stream",
     "text": [
      "                                                 \r"
     ]
    },
    {
     "name": "stdout",
     "output_type": "stream",
     "text": [
      "added 150 out of 150\n"
     ]
    },
    {
     "name": "stderr",
     "output_type": "stream",
     "text": [
      "                                                 \r"
     ]
    },
    {
     "name": "stdout",
     "output_type": "stream",
     "text": [
      "added 119 out of 150\n"
     ]
    },
    {
     "name": "stderr",
     "output_type": "stream",
     "text": [
      "                                                 \r"
     ]
    },
    {
     "name": "stdout",
     "output_type": "stream",
     "text": [
      "added 150 out of 150\n"
     ]
    },
    {
     "name": "stderr",
     "output_type": "stream",
     "text": [
      "                                                 \r"
     ]
    },
    {
     "name": "stdout",
     "output_type": "stream",
     "text": [
      "added 0 out of 150\n"
     ]
    },
    {
     "name": "stderr",
     "output_type": "stream",
     "text": [
      "                                                 \r"
     ]
    },
    {
     "name": "stdout",
     "output_type": "stream",
     "text": [
      "ERROR in validate_data: Lower bound at index 1 is greater than upper bound: -1.4451e+00 > -1.5198e+00\n",
      "ERROR in osqp_setup: Problem data validation.\n",
      "ERROR in validate_data: Lower bound at index 1 is greater than upper bound: -1.4451e+00 > -2.8058e+00\n",
      "ERROR in osqp_setup: Problem data validation.\n",
      "ERROR in validate_data: Lower bound at index 1 is greater than upper bound: -1.4451e+00 > -4.1059e+00\n",
      "ERROR in osqp_setup: Problem data validation.\n",
      "ERROR in validate_data: Lower bound at index 1 is greater than upper bound: -1.4451e+00 > -4.6489e+00\n",
      "ERROR in osqp_setup: Problem data validation.\n",
      "ERROR in validate_data: Lower bound at index 1 is greater than upper bound: -1.4451e+00 > -5.8000e+00\n",
      "ERROR in osqp_setup: Problem data validation.\n",
      "ERROR in validate_data: Lower bound at index 1 is greater than upper bound: -1.4451e+00 > -5.9098e+00\n",
      "ERROR in osqp_setup: Problem data validation.\n",
      "ERROR in validate_data: Lower bound at index 1 is greater than upper bound: -1.4451e+00 > -7.1820e+00\n",
      "ERROR in osqp_setup: Problem data validation.\n",
      "ERROR in validate_data: Lower bound at index 1 is greater than upper bound: -1.4451e+00 > -7.5607e+00\n",
      "ERROR in osqp_setup: Problem data validation.\n",
      "ERROR in validate_data: Lower bound at index 1 is greater than upper bound: -1.4451e+00 > -7.2133e+00\n",
      "ERROR in osqp_setup: Problem data validation.\n",
      "ERROR in validate_data: Lower bound at index 1 is greater than upper bound: -1.4451e+00 > -6.7205e+00\n",
      "ERROR in osqp_setup: Problem data validation.\n",
      "ERROR in validate_data: Lower bound at index 1 is greater than upper bound: -1.4451e+00 > -5.7315e+00\n",
      "ERROR in osqp_setup: Problem data validation.\n",
      "ERROR in validate_data: Lower bound at index 1 is greater than upper bound: -1.4451e+00 > -5.9847e+00\n",
      "ERROR in osqp_setup: Problem data validation.\n",
      "ERROR in validate_data: Lower bound at index 1 is greater than upper bound: -1.4451e+00 > -6.1107e+00\n",
      "ERROR in osqp_setup: Problem data validation.\n",
      "ERROR in validate_data: Lower bound at index 1 is greater than upper bound: -1.4451e+00 > -6.3477e+00\n",
      "ERROR in osqp_setup: Problem data validation.\n",
      "ERROR in validate_data: Lower bound at index 1 is greater than upper bound: -1.4451e+00 > -5.1610e+00\n",
      "ERROR in osqp_setup: Problem data validation.\n",
      "ERROR in validate_data: Lower bound at index 1 is greater than upper bound: -1.4451e+00 > -5.3173e+00\n",
      "ERROR in osqp_setup: Problem data validation.\n",
      "ERROR in validate_data: Lower bound at index 1 is greater than upper bound: -1.4451e+00 > -5.4029e+00\n",
      "ERROR in osqp_setup: Problem data validation.\n",
      "ERROR in validate_data: Lower bound at index 1 is greater than upper bound: -1.4451e+00 > -4.4584e+00\n",
      "ERROR in osqp_setup: Problem data validation.\n",
      "ERROR in validate_data: Lower bound at index 1 is greater than upper bound: -1.4451e+00 > -4.7543e+00\n",
      "ERROR in osqp_setup: Problem data validation.\n",
      "ERROR in validate_data: Lower bound at index 1 is greater than upper bound: -1.4451e+00 > -4.2052e+00\n",
      "ERROR in osqp_setup: Problem data validation.\n",
      "ERROR in validate_data: Lower bound at index 1 is greater than upper bound: -1.4451e+00 > -4.1670e+00\n",
      "ERROR in osqp_setup: Problem data validation.\n",
      "ERROR in validate_data: Lower bound at index 1 is greater than upper bound: -1.4451e+00 > -3.4922e+00\n",
      "ERROR in osqp_setup: Problem data validation.\n",
      "ERROR in validate_data: Lower bound at index 1 is greater than upper bound: -1.4451e+00 > -3.9364e+00\n",
      "ERROR in osqp_setup: Problem data validation.\n",
      "ERROR in validate_data: Lower bound at index 1 is greater than upper bound: -1.4451e+00 > -3.7484e+00\n",
      "ERROR in osqp_setup: Problem data validation.\n",
      "ERROR in validate_data: Lower bound at index 1 is greater than upper bound: -1.4451e+00 > -4.6968e+00\n",
      "ERROR in osqp_setup: Problem data validation.\n",
      "ERROR in validate_data: Lower bound at index 1 is greater than upper bound: -1.4451e+00 > -4.6219e+00\n",
      "ERROR in osqp_setup: Problem data validation.\n",
      "ERROR in validate_data: Lower bound at index 1 is greater than upper bound: -1.4451e+00 > -5.6477e+00\n",
      "ERROR in osqp_setup: Problem data validation.\n",
      "ERROR in validate_data: Lower bound at index 1 is greater than upper bound: -1.4451e+00 > -5.7452e+00\n",
      "ERROR in osqp_setup: Problem data validation.\n",
      "ERROR in validate_data: Lower bound at index 1 is greater than upper bound: -1.4451e+00 > -6.6382e+00\n",
      "ERROR in osqp_setup: Problem data validation.\n",
      "ERROR in validate_data: Lower bound at index 1 is greater than upper bound: -1.4451e+00 > -7.1963e+00\n",
      "ERROR in osqp_setup: Problem data validation.\n",
      "ERROR in validate_data: Lower bound at index 1 is greater than upper bound: -1.4451e+00 > -6.6338e+00\n",
      "ERROR in osqp_setup: Problem data validation.\n",
      "ERROR in validate_data: Lower bound at index 1 is greater than upper bound: -1.4451e+00 > -6.7946e+00\n",
      "ERROR in osqp_setup: Problem data validation.\n",
      "ERROR in validate_data: Lower bound at index 1 is greater than upper bound: -1.4451e+00 > -6.7774e+00\n",
      "ERROR in osqp_setup: Problem data validation.\n",
      "ERROR in validate_data: Lower bound at index 1 is greater than upper bound: -1.4451e+00 > -5.6912e+00\n",
      "ERROR in osqp_setup: Problem data validation.\n",
      "ERROR in validate_data: Lower bound at index 1 is greater than upper bound: -1.4451e+00 > -4.9171e+00\n",
      "ERROR in osqp_setup: Problem data validation.\n",
      "ERROR in validate_data: Lower bound at index 1 is greater than upper bound: -1.4451e+00 > -5.2947e+00\n",
      "ERROR in osqp_setup: Problem data validation.\n",
      "ERROR in validate_data: Lower bound at index 1 is greater than upper bound: -1.4451e+00 > -5.5303e+00\n",
      "ERROR in osqp_setup: Problem data validation.\n",
      "ERROR in validate_data: Lower bound at index 1 is greater than upper bound: -1.4451e+00 > -5.6179e+00\n",
      "ERROR in osqp_setup: Problem data validation.\n",
      "ERROR in validate_data: Lower bound at index 1 is greater than upper bound: -1.4451e+00 > -5.5959e+00\n",
      "ERROR in osqp_setup: Problem data validation.\n",
      "ERROR in validate_data: Lower bound at index 1 is greater than upper bound: -1.4451e+00 > -4.6068e+00\n",
      "ERROR in osqp_setup: Problem data validation.\n",
      "ERROR in validate_data: Lower bound at index 1 is greater than upper bound: -1.4451e+00 > -4.0474e+00\n",
      "ERROR in osqp_setup: Problem data validation.\n",
      "ERROR in validate_data: Lower bound at index 1 is greater than upper bound: -1.4451e+00 > -4.6545e+00\n",
      "ERROR in osqp_setup: Problem data validation.\n",
      "ERROR in validate_data: Lower bound at index 1 is greater than upper bound: -1.4451e+00 > -4.9922e+00\n",
      "ERROR in osqp_setup: Problem data validation.\n",
      "ERROR in validate_data: Lower bound at index 1 is greater than upper bound: -1.4451e+00 > -6.1229e+00\n",
      "ERROR in osqp_setup: Problem data validation.\n",
      "ERROR in validate_data: Lower bound at index 1 is greater than upper bound: -1.4451e+00 > -6.9974e+00\n",
      "ERROR in osqp_setup: Problem data validation.\n",
      "ERROR in validate_data: Lower bound at index 1 is greater than upper bound: -1.4451e+00 > -7.4862e+00\n",
      "ERROR in osqp_setup: Problem data validation.\n",
      "ERROR in validate_data: Lower bound at index 1 is greater than upper bound: -1.4451e+00 > -7.1481e+00\n",
      "ERROR in osqp_setup: Problem data validation.\n",
      "ERROR in validate_data: Lower bound at index 1 is greater than upper bound: -1.4451e+00 > -7.3187e+00\n",
      "ERROR in osqp_setup: Problem data validation.\n",
      "ERROR in validate_data: Lower bound at index 1 is greater than upper bound: -1.4451e+00 > -6.1352e+00\n",
      "ERROR in osqp_setup: Problem data validation.\n",
      "ERROR in validate_data: Lower bound at index 1 is greater than upper bound: -1.4451e+00 > -5.0912e+00\n",
      "ERROR in osqp_setup: Problem data validation.\n",
      "ERROR in validate_data: Lower bound at index 1 is greater than upper bound: -1.4451e+00 > -4.2827e+00\n",
      "ERROR in osqp_setup: Problem data validation.\n",
      "added 98 out of 150\n"
     ]
    },
    {
     "name": "stderr",
     "output_type": "stream",
     "text": [
      "                                                 \r"
     ]
    },
    {
     "name": "stdout",
     "output_type": "stream",
     "text": [
      "added 19 out of 150\n"
     ]
    },
    {
     "name": "stderr",
     "output_type": "stream",
     "text": [
      "                                                 \r"
     ]
    },
    {
     "name": "stdout",
     "output_type": "stream",
     "text": [
      "added 0 out of 150\n"
     ]
    },
    {
     "name": "stderr",
     "output_type": "stream",
     "text": [
      "                                                 \r"
     ]
    },
    {
     "name": "stdout",
     "output_type": "stream",
     "text": [
      "ERROR in validate_data: Lower bound at index 2 is greater than upper bound: -1.9268e+00 > -3.9669e+00\n",
      "ERROR in osqp_setup: Problem data validation.\n",
      "ERROR in validate_data: Lower bound at index 2 is greater than upper bound: -1.9268e+00 > -5.6485e+00\n",
      "ERROR in osqp_setup: Problem data validation.\n",
      "ERROR in validate_data: Lower bound at index 2 is greater than upper bound: -1.9268e+00 > -4.4255e+00\n",
      "ERROR in osqp_setup: Problem data validation.\n",
      "ERROR in validate_data: Lower bound at index 2 is greater than upper bound: -1.9268e+00 > -2.7312e+00\n",
      "ERROR in osqp_setup: Problem data validation.\n",
      "ERROR in validate_data: Lower bound at index 2 is greater than upper bound: -1.9268e+00 > -2.8320e+00\n",
      "ERROR in osqp_setup: Problem data validation.\n",
      "ERROR in validate_data: Lower bound at index 2 is greater than upper bound: -1.9268e+00 > -4.1879e+00\n",
      "ERROR in osqp_setup: Problem data validation.\n",
      "ERROR in validate_data: Lower bound at index 2 is greater than upper bound: -1.9268e+00 > -4.2983e+00\n",
      "ERROR in osqp_setup: Problem data validation.\n",
      "ERROR in validate_data: Lower bound at index 2 is greater than upper bound: -1.9268e+00 > -1.9975e+00\n",
      "ERROR in osqp_setup: Problem data validation.\n",
      "ERROR in validate_data: Lower bound at index 2 is greater than upper bound: -1.9268e+00 > -1.9535e+00\n",
      "ERROR in osqp_setup: Problem data validation.\n",
      "ERROR in validate_data: Lower bound at index 2 is greater than upper bound: -1.9268e+00 > -3.5650e+00\n",
      "ERROR in osqp_setup: Problem data validation.\n",
      "ERROR in validate_data: Lower bound at index 2 is greater than upper bound: -1.9268e+00 > -5.3312e+00\n",
      "ERROR in osqp_setup: Problem data validation.\n",
      "ERROR in validate_data: Lower bound at index 2 is greater than upper bound: -1.9268e+00 > -4.7281e+00\n",
      "ERROR in osqp_setup: Problem data validation.\n",
      "ERROR in validate_data: Lower bound at index 2 is greater than upper bound: -1.9268e+00 > -5.1544e+00\n",
      "ERROR in osqp_setup: Problem data validation.\n",
      "ERROR in validate_data: Lower bound at index 2 is greater than upper bound: -1.9268e+00 > -3.1691e+00\n",
      "ERROR in osqp_setup: Problem data validation.\n",
      "added 135 out of 150\n"
     ]
    },
    {
     "name": "stderr",
     "output_type": "stream",
     "text": [
      "                                                 \r"
     ]
    },
    {
     "name": "stdout",
     "output_type": "stream",
     "text": [
      "added 150 out of 150\n"
     ]
    },
    {
     "name": "stderr",
     "output_type": "stream",
     "text": [
      "                                                 \r"
     ]
    },
    {
     "name": "stdout",
     "output_type": "stream",
     "text": [
      "added 150 out of 150\n"
     ]
    },
    {
     "name": "stderr",
     "output_type": "stream",
     "text": [
      "                                                 \r"
     ]
    },
    {
     "name": "stdout",
     "output_type": "stream",
     "text": [
      "added 5 out of 150\n"
     ]
    },
    {
     "name": "stderr",
     "output_type": "stream",
     "text": [
      "                                             \r"
     ]
    },
    {
     "name": "stdout",
     "output_type": "stream",
     "text": [
      "Epoch: 8 metrics: (-1837.8109388236528, -290.2891060266619, -1334.9487748345043, -1456.7776568787422, 5)\n"
     ]
    },
    {
     "name": "stderr",
     "output_type": "stream",
     "text": [
      "                                                 \r"
     ]
    },
    {
     "name": "stdout",
     "output_type": "stream",
     "text": [
      "added 40 out of 150\n"
     ]
    },
    {
     "name": "stderr",
     "output_type": "stream",
     "text": [
      "                                                 \r"
     ]
    },
    {
     "name": "stdout",
     "output_type": "stream",
     "text": [
      "added 125 out of 150\n"
     ]
    },
    {
     "name": "stderr",
     "output_type": "stream",
     "text": [
      "                                                 \r"
     ]
    },
    {
     "name": "stdout",
     "output_type": "stream",
     "text": [
      "ERROR in validate_data: Lower bound at index 2 is greater than upper bound: -1.9268e+00 > -2.2356e+00\n",
      "ERROR in osqp_setup: Problem data validation.\n",
      "ERROR in validate_data: Lower bound at index 2 is greater than upper bound: -1.9268e+00 > -2.3345e+00\n",
      "ERROR in osqp_setup: Problem data validation.\n",
      "ERROR in validate_data: Lower bound at index 2 is greater than upper bound: -1.9268e+00 > -3.5924e+00\n",
      "ERROR in osqp_setup: Problem data validation.\n",
      "ERROR in validate_data: Lower bound at index 2 is greater than upper bound: -1.9268e+00 > -3.5909e+00\n",
      "ERROR in osqp_setup: Problem data validation.\n",
      "ERROR in validate_data: Lower bound at index 2 is greater than upper bound: -1.9268e+00 > -5.7128e+00\n",
      "ERROR in osqp_setup: Problem data validation.\n",
      "ERROR in validate_data: Lower bound at index 2 is greater than upper bound: -1.9268e+00 > -8.4922e+00\n",
      "ERROR in osqp_setup: Problem data validation.\n",
      "ERROR in validate_data: Lower bound at index 2 is greater than upper bound: -1.9268e+00 > -8.1461e+00\n",
      "ERROR in osqp_setup: Problem data validation.\n",
      "ERROR in validate_data: Lower bound at index 2 is greater than upper bound: -1.9268e+00 > -5.2010e+00\n",
      "ERROR in osqp_setup: Problem data validation.\n",
      "ERROR in validate_data: Lower bound at index 2 is greater than upper bound: -1.9268e+00 > -2.9628e+00\n",
      "ERROR in osqp_setup: Problem data validation.\n",
      "ERROR in validate_data: Lower bound at index 2 is greater than upper bound: -1.9268e+00 > -2.2987e+00\n",
      "ERROR in osqp_setup: Problem data validation.\n",
      "ERROR in validate_data: Lower bound at index 2 is greater than upper bound: -1.9268e+00 > -2.5832e+00\n",
      "ERROR in osqp_setup: Problem data validation.\n",
      "ERROR in validate_data: Lower bound at index 2 is greater than upper bound: -1.9268e+00 > -2.2146e+00\n",
      "ERROR in osqp_setup: Problem data validation.\n",
      "ERROR in validate_data: Lower bound at index 2 is greater than upper bound: -1.9268e+00 > -6.6033e+00\n",
      "ERROR in osqp_setup: Problem data validation.\n",
      "ERROR in validate_data: Lower bound at index 2 is greater than upper bound: -1.9268e+00 > -7.4598e+00\n",
      "ERROR in osqp_setup: Problem data validation.\n",
      "ERROR in validate_data: Lower bound at index 2 is greater than upper bound: -1.9268e+00 > -6.9245e+00\n",
      "ERROR in osqp_setup: Problem data validation.\n",
      "ERROR in validate_data: Lower bound at index 2 is greater than upper bound: -1.9268e+00 > -4.0491e+00\n",
      "ERROR in osqp_setup: Problem data validation.\n",
      "ERROR in validate_data: Lower bound at index 2 is greater than upper bound: -1.9268e+00 > -2.4856e+00\n",
      "ERROR in osqp_setup: Problem data validation.\n",
      "ERROR in validate_data: Lower bound at index 2 is greater than upper bound: -1.9268e+00 > -3.8888e+00\n",
      "ERROR in osqp_setup: Problem data validation.\n",
      "ERROR in validate_data: Lower bound at index 2 is greater than upper bound: -1.9268e+00 > -2.7863e+00\n",
      "ERROR in osqp_setup: Problem data validation.\n",
      "ERROR in validate_data: Lower bound at index 2 is greater than upper bound: -1.9268e+00 > -3.1000e+00\n",
      "ERROR in osqp_setup: Problem data validation.\n",
      "ERROR in validate_data: Lower bound at index 2 is greater than upper bound: -1.9268e+00 > -2.7404e+00\n",
      "ERROR in osqp_setup: Problem data validation.\n",
      "ERROR in validate_data: Lower bound at index 2 is greater than upper bound: -1.9268e+00 > -2.0489e+00\n",
      "ERROR in osqp_setup: Problem data validation.\n",
      "ERROR in validate_data: Lower bound at index 2 is greater than upper bound: -1.9268e+00 > -3.0990e+00\n",
      "ERROR in osqp_setup: Problem data validation.\n",
      "ERROR in validate_data: Lower bound at index 2 is greater than upper bound: -1.9268e+00 > -3.6755e+00\n",
      "ERROR in osqp_setup: Problem data validation.\n",
      "ERROR in validate_data: Lower bound at index 2 is greater than upper bound: -1.9268e+00 > -3.7123e+00\n",
      "ERROR in osqp_setup: Problem data validation.\n",
      "ERROR in validate_data: Lower bound at index 2 is greater than upper bound: -1.9268e+00 > -1.9380e+00\n",
      "ERROR in osqp_setup: Problem data validation.\n",
      "added 118 out of 150\n"
     ]
    },
    {
     "name": "stderr",
     "output_type": "stream",
     "text": [
      "                                                 \r"
     ]
    },
    {
     "name": "stdout",
     "output_type": "stream",
     "text": [
      "added 150 out of 150\n"
     ]
    },
    {
     "name": "stderr",
     "output_type": "stream",
     "text": [
      "                                                 \r"
     ]
    },
    {
     "name": "stdout",
     "output_type": "stream",
     "text": [
      "ERROR in validate_data: Lower bound at index 1 is greater than upper bound: -1.4454e+00 > -1.8103e+00\n",
      "ERROR in osqp_setup: Problem data validation.\n",
      "ERROR in validate_data: Lower bound at index 1 is greater than upper bound: -1.4454e+00 > -2.0716e+00\n",
      "ERROR in osqp_setup: Problem data validation.\n",
      "ERROR in validate_data: Lower bound at index 1 is greater than upper bound: -1.4453e+00 > -1.7474e+00\n",
      "ERROR in osqp_setup: Problem data validation.\n",
      "ERROR in validate_data: Lower bound at index 1 is greater than upper bound: -1.4453e+00 > -2.1016e+00\n",
      "ERROR in osqp_setup: Problem data validation.\n",
      "ERROR in validate_data: Lower bound at index 1 is greater than upper bound: -1.4453e+00 > -2.8086e+00\n",
      "ERROR in osqp_setup: Problem data validation.\n",
      "ERROR in validate_data: Lower bound at index 1 is greater than upper bound: -1.4452e+00 > -2.9971e+00\n",
      "ERROR in osqp_setup: Problem data validation.\n",
      "ERROR in validate_data: Lower bound at index 1 is greater than upper bound: -1.4452e+00 > -4.5338e+00\n",
      "ERROR in osqp_setup: Problem data validation.\n",
      "ERROR in validate_data: Lower bound at index 1 is greater than upper bound: -1.4452e+00 > -4.9731e+00\n",
      "ERROR in osqp_setup: Problem data validation.\n",
      "ERROR in validate_data: Lower bound at index 1 is greater than upper bound: -1.4452e+00 > -4.0315e+00\n",
      "ERROR in osqp_setup: Problem data validation.\n",
      "ERROR in validate_data: Lower bound at index 1 is greater than upper bound: -1.4452e+00 > -4.6935e+00\n",
      "ERROR in osqp_setup: Problem data validation.\n",
      "ERROR in validate_data: Lower bound at index 1 is greater than upper bound: -1.4452e+00 > -5.9152e+00\n",
      "ERROR in osqp_setup: Problem data validation.\n",
      "ERROR in validate_data: Lower bound at index 1 is greater than upper bound: -1.4452e+00 > -6.9040e+00\n",
      "ERROR in osqp_setup: Problem data validation.\n",
      "ERROR in validate_data: Lower bound at index 1 is greater than upper bound: -1.4452e+00 > -6.4560e+00\n",
      "ERROR in osqp_setup: Problem data validation.\n",
      "ERROR in validate_data: Lower bound at index 1 is greater than upper bound: -1.4452e+00 > -5.4802e+00\n",
      "ERROR in osqp_setup: Problem data validation.\n",
      "ERROR in validate_data: Lower bound at index 1 is greater than upper bound: -1.4452e+00 > -5.4577e+00\n",
      "ERROR in osqp_setup: Problem data validation.\n",
      "ERROR in validate_data: Lower bound at index 1 is greater than upper bound: -1.4453e+00 > -5.6696e+00\n",
      "ERROR in osqp_setup: Problem data validation.\n",
      "ERROR in validate_data: Lower bound at index 1 is greater than upper bound: -1.4453e+00 > -5.5426e+00\n",
      "ERROR in osqp_setup: Problem data validation.\n",
      "ERROR in validate_data: Lower bound at index 1 is greater than upper bound: -1.4453e+00 > -5.5469e+00\n",
      "ERROR in osqp_setup: Problem data validation.\n",
      "ERROR in validate_data: Lower bound at index 1 is greater than upper bound: -1.4453e+00 > -6.3365e+00\n",
      "ERROR in osqp_setup: Problem data validation.\n",
      "ERROR in validate_data: Lower bound at index 1 is greater than upper bound: -1.4453e+00 > -7.1405e+00\n",
      "ERROR in osqp_setup: Problem data validation.\n",
      "ERROR in validate_data: Lower bound at index 1 is greater than upper bound: -1.4454e+00 > -7.3313e+00\n",
      "ERROR in osqp_setup: Problem data validation.\n",
      "ERROR in validate_data: Lower bound at index 1 is greater than upper bound: -1.4454e+00 > -6.5989e+00\n",
      "ERROR in osqp_setup: Problem data validation.\n",
      "ERROR in validate_data: Lower bound at index 1 is greater than upper bound: -1.4454e+00 > -6.2135e+00\n",
      "ERROR in osqp_setup: Problem data validation.\n",
      "ERROR in validate_data: Lower bound at index 1 is greater than upper bound: -1.4455e+00 > -6.7899e+00\n",
      "ERROR in osqp_setup: Problem data validation.\n",
      "ERROR in validate_data: Lower bound at index 1 is greater than upper bound: -1.4455e+00 > -6.7817e+00\n",
      "ERROR in osqp_setup: Problem data validation.\n",
      "ERROR in validate_data: Lower bound at index 1 is greater than upper bound: -1.4455e+00 > -6.2526e+00\n",
      "ERROR in osqp_setup: Problem data validation.\n",
      "ERROR in validate_data: Lower bound at index 1 is greater than upper bound: -1.4456e+00 > -5.2777e+00\n",
      "ERROR in osqp_setup: Problem data validation.\n",
      "ERROR in validate_data: Lower bound at index 1 is greater than upper bound: -1.4457e+00 > -3.9013e+00\n",
      "ERROR in osqp_setup: Problem data validation.\n",
      "ERROR in validate_data: Lower bound at index 1 is greater than upper bound: -1.4458e+00 > -3.2917e+00\n",
      "ERROR in osqp_setup: Problem data validation.\n",
      "ERROR in validate_data: Lower bound at index 1 is greater than upper bound: -1.4459e+00 > -3.1739e+00\n",
      "ERROR in osqp_setup: Problem data validation.\n",
      "ERROR in validate_data: Lower bound at index 1 is greater than upper bound: -1.4459e+00 > -3.6490e+00\n",
      "ERROR in osqp_setup: Problem data validation.\n",
      "ERROR in validate_data: Lower bound at index 1 is greater than upper bound: -1.4459e+00 > -4.8598e+00\n",
      "ERROR in osqp_setup: Problem data validation.\n",
      "ERROR in validate_data: Lower bound at index 1 is greater than upper bound: -1.4459e+00 > -5.6562e+00\n",
      "ERROR in osqp_setup: Problem data validation.\n",
      "ERROR in validate_data: Lower bound at index 1 is greater than upper bound: -1.4458e+00 > -6.2300e+00\n",
      "ERROR in osqp_setup: Problem data validation.\n",
      "ERROR in validate_data: Lower bound at index 1 is greater than upper bound: -1.4459e+00 > -6.8277e+00\n",
      "ERROR in osqp_setup: Problem data validation.\n",
      "ERROR in validate_data: Lower bound at index 1 is greater than upper bound: -1.4459e+00 > -6.9415e+00\n",
      "ERROR in osqp_setup: Problem data validation.\n",
      "ERROR in validate_data: Lower bound at index 1 is greater than upper bound: -1.4459e+00 > -6.7637e+00\n",
      "ERROR in osqp_setup: Problem data validation.\n",
      "ERROR in validate_data: Lower bound at index 1 is greater than upper bound: -1.4460e+00 > -7.1334e+00\n",
      "ERROR in osqp_setup: Problem data validation.\n",
      "ERROR in validate_data: Lower bound at index 1 is greater than upper bound: -1.4460e+00 > -7.2713e+00\n",
      "ERROR in osqp_setup: Problem data validation.\n",
      "ERROR in validate_data: Lower bound at index 1 is greater than upper bound: -1.4460e+00 > -6.9738e+00\n",
      "ERROR in osqp_setup: Problem data validation.\n",
      "ERROR in validate_data: Lower bound at index 1 is greater than upper bound: -1.4461e+00 > -5.1850e+00\n",
      "ERROR in osqp_setup: Problem data validation.\n",
      "ERROR in validate_data: Lower bound at index 1 is greater than upper bound: -1.4462e+00 > -3.9207e+00\n",
      "ERROR in osqp_setup: Problem data validation.\n",
      "ERROR in validate_data: Lower bound at index 1 is greater than upper bound: -1.4462e+00 > -4.2332e+00\n",
      "ERROR in osqp_setup: Problem data validation.\n",
      "ERROR in validate_data: Lower bound at index 1 is greater than upper bound: -1.4462e+00 > -4.0266e+00\n",
      "ERROR in osqp_setup: Problem data validation.\n",
      "ERROR in validate_data: Lower bound at index 1 is greater than upper bound: -1.4462e+00 > -4.3350e+00\n",
      "ERROR in osqp_setup: Problem data validation.\n",
      "ERROR in validate_data: Lower bound at index 1 is greater than upper bound: -1.4461e+00 > -4.7595e+00\n",
      "ERROR in osqp_setup: Problem data validation.\n",
      "ERROR in validate_data: Lower bound at index 1 is greater than upper bound: -1.4461e+00 > -6.0120e+00\n",
      "ERROR in osqp_setup: Problem data validation.\n",
      "ERROR in validate_data: Lower bound at index 1 is greater than upper bound: -1.4461e+00 > -3.9973e+00\n",
      "ERROR in osqp_setup: Problem data validation.\n",
      "ERROR in validate_data: Lower bound at index 1 is greater than upper bound: -1.4462e+00 > -3.1065e+00\n",
      "ERROR in osqp_setup: Problem data validation.\n",
      "ERROR in validate_data: Lower bound at index 1 is greater than upper bound: -1.4462e+00 > -2.6619e+00\n",
      "ERROR in osqp_setup: Problem data validation.\n",
      "ERROR in validate_data: Lower bound at index 1 is greater than upper bound: -1.4461e+00 > -2.6814e+00\n",
      "ERROR in osqp_setup: Problem data validation.\n",
      "ERROR in validate_data: Lower bound at index 1 is greater than upper bound: -1.4461e+00 > -3.0163e+00\n",
      "ERROR in osqp_setup: Problem data validation.\n",
      "ERROR in validate_data: Lower bound at index 1 is greater than upper bound: -1.4461e+00 > -3.6904e+00\n",
      "ERROR in osqp_setup: Problem data validation.\n",
      "ERROR in validate_data: Lower bound at index 1 is greater than upper bound: -1.4460e+00 > -4.3669e+00\n",
      "ERROR in osqp_setup: Problem data validation.\n",
      "ERROR in validate_data: Lower bound at index 1 is greater than upper bound: -1.4460e+00 > -3.3209e+00\n",
      "ERROR in osqp_setup: Problem data validation.\n",
      "ERROR in validate_data: Lower bound at index 1 is greater than upper bound: -1.4461e+00 > -2.2826e+00\n",
      "ERROR in osqp_setup: Problem data validation.\n",
      "ERROR in validate_data: Lower bound at index 1 is greater than upper bound: -1.4460e+00 > -3.2786e+00\n",
      "ERROR in osqp_setup: Problem data validation.\n",
      "ERROR in validate_data: Lower bound at index 1 is greater than upper bound: -1.4460e+00 > -4.0332e+00\n",
      "ERROR in osqp_setup: Problem data validation.\n",
      "ERROR in validate_data: Lower bound at index 1 is greater than upper bound: -1.4460e+00 > -4.0737e+00\n",
      "ERROR in osqp_setup: Problem data validation.\n",
      "ERROR in validate_data: Lower bound at index 1 is greater than upper bound: -1.4460e+00 > -2.7360e+00\n",
      "ERROR in osqp_setup: Problem data validation.\n",
      "ERROR in validate_data: Lower bound at index 1 is greater than upper bound: -1.4460e+00 > -1.7481e+00\n",
      "ERROR in osqp_setup: Problem data validation.\n",
      "ERROR in validate_data: Lower bound at index 1 is greater than upper bound: -1.4460e+00 > -2.3787e+00\n",
      "ERROR in osqp_setup: Problem data validation.\n",
      "ERROR in validate_data: Lower bound at index 1 is greater than upper bound: -1.4468e+00 > -3.6422e+00\n",
      "ERROR in osqp_setup: Problem data validation.\n",
      "ERROR in validate_data: Lower bound at index 1 is greater than upper bound: -1.4483e+00 > -4.3847e+00\n",
      "ERROR in osqp_setup: Problem data validation.\n",
      "ERROR in validate_data: Lower bound at index 1 is greater than upper bound: -1.4452e+00 > -3.3274e+00\n",
      "ERROR in osqp_setup: Problem data validation.\n",
      "ERROR in validate_data: Lower bound at index 1 is greater than upper bound: -1.4480e+00 > -2.6657e+00\n",
      "ERROR in osqp_setup: Problem data validation.\n",
      "added 36 out of 150\n"
     ]
    },
    {
     "name": "stderr",
     "output_type": "stream",
     "text": [
      "                                                 \r"
     ]
    },
    {
     "name": "stdout",
     "output_type": "stream",
     "text": [
      "ERROR in validate_data: Lower bound at index 2 is greater than upper bound: -1.9268e+00 > -2.9771e+00\n",
      "ERROR in osqp_setup: Problem data validation.\n",
      "ERROR in validate_data: Lower bound at index 2 is greater than upper bound: -1.9268e+00 > -3.3772e+00\n",
      "ERROR in osqp_setup: Problem data validation.\n",
      "ERROR in validate_data: Lower bound at index 2 is greater than upper bound: -1.9268e+00 > -2.4528e+00\n",
      "ERROR in osqp_setup: Problem data validation.\n",
      "ERROR in validate_data: Lower bound at index 2 is greater than upper bound: -1.9268e+00 > -3.2650e+00\n",
      "ERROR in osqp_setup: Problem data validation.\n",
      "ERROR in validate_data: Lower bound at index 2 is greater than upper bound: -1.9268e+00 > -6.2676e+00\n",
      "ERROR in osqp_setup: Problem data validation.\n",
      "ERROR in validate_data: Lower bound at index 2 is greater than upper bound: -1.9268e+00 > -5.2055e+00\n",
      "ERROR in osqp_setup: Problem data validation.\n",
      "ERROR in validate_data: Lower bound at index 2 is greater than upper bound: -1.9268e+00 > -6.8919e+00\n",
      "ERROR in osqp_setup: Problem data validation.\n",
      "ERROR in validate_data: Lower bound at index 2 is greater than upper bound: -1.9268e+00 > -4.9631e+00\n",
      "ERROR in osqp_setup: Problem data validation.\n",
      "ERROR in validate_data: Lower bound at index 2 is greater than upper bound: -1.9268e+00 > -6.6149e+00\n",
      "ERROR in osqp_setup: Problem data validation.\n",
      "ERROR in validate_data: Lower bound at index 2 is greater than upper bound: -1.9268e+00 > -4.7610e+00\n",
      "ERROR in osqp_setup: Problem data validation.\n",
      "ERROR in validate_data: Lower bound at index 2 is greater than upper bound: -1.9268e+00 > -4.8451e+00\n",
      "ERROR in osqp_setup: Problem data validation.\n",
      "ERROR in validate_data: Lower bound at index 2 is greater than upper bound: -1.9268e+00 > -4.8660e+00\n",
      "ERROR in osqp_setup: Problem data validation.\n",
      "ERROR in validate_data: Lower bound at index 2 is greater than upper bound: -1.9268e+00 > -6.1622e+00\n",
      "ERROR in osqp_setup: Problem data validation.\n",
      "ERROR in validate_data: Lower bound at index 2 is greater than upper bound: -1.9268e+00 > -4.3563e+00\n",
      "ERROR in osqp_setup: Problem data validation.\n",
      "ERROR in validate_data: Lower bound at index 2 is greater than upper bound: -1.9268e+00 > -1.9918e+00\n",
      "ERROR in osqp_setup: Problem data validation.\n",
      "ERROR in validate_data: Lower bound at index 2 is greater than upper bound: -1.9268e+00 > -2.9671e+00\n",
      "ERROR in osqp_setup: Problem data validation.\n",
      "ERROR in validate_data: Lower bound at index 2 is greater than upper bound: -1.9268e+00 > -2.5750e+00\n",
      "ERROR in osqp_setup: Problem data validation.\n",
      "ERROR in validate_data: Lower bound at index 2 is greater than upper bound: -1.9268e+00 > -5.4202e+00\n",
      "ERROR in osqp_setup: Problem data validation.\n",
      "ERROR in validate_data: Lower bound at index 2 is greater than upper bound: -1.9268e+00 > -2.9952e+00\n",
      "ERROR in osqp_setup: Problem data validation.\n",
      "ERROR in validate_data: Lower bound at index 2 is greater than upper bound: -1.9268e+00 > -3.4334e+00\n",
      "ERROR in osqp_setup: Problem data validation.\n",
      "ERROR in validate_data: Lower bound at index 2 is greater than upper bound: -1.9268e+00 > -3.4362e+00\n",
      "ERROR in osqp_setup: Problem data validation.\n",
      "ERROR in validate_data: Lower bound at index 2 is greater than upper bound: -1.9268e+00 > -2.0958e+00\n",
      "ERROR in osqp_setup: Problem data validation.\n",
      "ERROR in validate_data: Lower bound at index 2 is greater than upper bound: -1.9268e+00 > -4.4435e+00\n",
      "ERROR in osqp_setup: Problem data validation.\n",
      "ERROR in validate_data: Lower bound at index 2 is greater than upper bound: -1.9268e+00 > -5.5335e+00\n",
      "ERROR in osqp_setup: Problem data validation.\n",
      "ERROR in validate_data: Lower bound at index 2 is greater than upper bound: -1.9268e+00 > -2.5138e+00\n",
      "ERROR in osqp_setup: Problem data validation.\n",
      "ERROR in validate_data: Lower bound at index 2 is greater than upper bound: -1.9268e+00 > -2.2955e+00\n",
      "ERROR in osqp_setup: Problem data validation.\n",
      "ERROR in validate_data: Lower bound at index 2 is greater than upper bound: -1.9268e+00 > -3.7899e+00\n",
      "ERROR in osqp_setup: Problem data validation.\n",
      "ERROR in validate_data: Lower bound at index 2 is greater than upper bound: -1.9268e+00 > -3.8041e+00\n",
      "ERROR in osqp_setup: Problem data validation.\n",
      "ERROR in validate_data: Lower bound at index 2 is greater than upper bound: -1.9268e+00 > -2.8341e+00\n",
      "ERROR in osqp_setup: Problem data validation.\n",
      "ERROR in validate_data: Lower bound at index 2 is greater than upper bound: -1.9268e+00 > -3.9062e+00\n",
      "ERROR in osqp_setup: Problem data validation.\n",
      "ERROR in validate_data: Lower bound at index 2 is greater than upper bound: -1.9268e+00 > -2.8571e+00\n",
      "ERROR in osqp_setup: Problem data validation.\n",
      "ERROR in validate_data: Lower bound at index 2 is greater than upper bound: -1.9268e+00 > -3.4433e+00\n",
      "ERROR in osqp_setup: Problem data validation.\n",
      "added 115 out of 150\n"
     ]
    },
    {
     "name": "stderr",
     "output_type": "stream",
     "text": [
      "                                                 \r"
     ]
    },
    {
     "name": "stdout",
     "output_type": "stream",
     "text": [
      "added 108 out of 150\n"
     ]
    },
    {
     "name": "stderr",
     "output_type": "stream",
     "text": [
      "                                                 \r"
     ]
    },
    {
     "name": "stdout",
     "output_type": "stream",
     "text": [
      "ERROR in validate_data: Lower bound at index 1 is greater than upper bound: -1.4451e+00 > -1.7210e+00\n",
      "ERROR in osqp_setup: Problem data validation.\n",
      "ERROR in validate_data: Lower bound at index 1 is greater than upper bound: -1.4451e+00 > -3.8958e+00\n",
      "ERROR in osqp_setup: Problem data validation.\n",
      "ERROR in validate_data: Lower bound at index 1 is greater than upper bound: -1.4451e+00 > -5.5999e+00\n",
      "ERROR in osqp_setup: Problem data validation.\n",
      "ERROR in validate_data: Lower bound at index 1 is greater than upper bound: -1.4451e+00 > -5.7844e+00\n",
      "ERROR in osqp_setup: Problem data validation.\n",
      "ERROR in validate_data: Lower bound at index 1 is greater than upper bound: -1.4451e+00 > -5.5255e+00\n",
      "ERROR in osqp_setup: Problem data validation.\n",
      "ERROR in validate_data: Lower bound at index 1 is greater than upper bound: -1.4451e+00 > -4.6486e+00\n",
      "ERROR in osqp_setup: Problem data validation.\n",
      "ERROR in validate_data: Lower bound at index 1 is greater than upper bound: -1.4451e+00 > -4.8293e+00\n",
      "ERROR in osqp_setup: Problem data validation.\n",
      "ERROR in validate_data: Lower bound at index 1 is greater than upper bound: -1.4451e+00 > -4.9484e+00\n",
      "ERROR in osqp_setup: Problem data validation.\n",
      "ERROR in validate_data: Lower bound at index 1 is greater than upper bound: -1.4451e+00 > -6.0659e+00\n",
      "ERROR in osqp_setup: Problem data validation.\n",
      "ERROR in validate_data: Lower bound at index 1 is greater than upper bound: -1.4451e+00 > -6.8588e+00\n",
      "ERROR in osqp_setup: Problem data validation.\n",
      "ERROR in validate_data: Lower bound at index 1 is greater than upper bound: -1.4451e+00 > -6.9250e+00\n",
      "ERROR in osqp_setup: Problem data validation.\n",
      "ERROR in validate_data: Lower bound at index 1 is greater than upper bound: -1.4451e+00 > -6.6185e+00\n",
      "ERROR in osqp_setup: Problem data validation.\n",
      "ERROR in validate_data: Lower bound at index 1 is greater than upper bound: -1.4451e+00 > -6.0864e+00\n",
      "ERROR in osqp_setup: Problem data validation.\n",
      "ERROR in validate_data: Lower bound at index 1 is greater than upper bound: -1.4451e+00 > -5.1918e+00\n",
      "ERROR in osqp_setup: Problem data validation.\n",
      "ERROR in validate_data: Lower bound at index 1 is greater than upper bound: -1.4451e+00 > -3.8828e+00\n",
      "ERROR in osqp_setup: Problem data validation.\n",
      "ERROR in validate_data: Lower bound at index 1 is greater than upper bound: -1.4451e+00 > -3.8785e+00\n",
      "ERROR in osqp_setup: Problem data validation.\n",
      "ERROR in validate_data: Lower bound at index 1 is greater than upper bound: -1.4451e+00 > -4.2273e+00\n",
      "ERROR in osqp_setup: Problem data validation.\n",
      "ERROR in validate_data: Lower bound at index 1 is greater than upper bound: -1.4451e+00 > -4.1226e+00\n",
      "ERROR in osqp_setup: Problem data validation.\n",
      "ERROR in validate_data: Lower bound at index 1 is greater than upper bound: -1.4451e+00 > -4.0223e+00\n",
      "ERROR in osqp_setup: Problem data validation.\n",
      "ERROR in validate_data: Lower bound at index 1 is greater than upper bound: -1.4451e+00 > -3.4760e+00\n",
      "ERROR in osqp_setup: Problem data validation.\n",
      "ERROR in validate_data: Lower bound at index 1 is greater than upper bound: -1.4451e+00 > -2.6527e+00\n",
      "ERROR in osqp_setup: Problem data validation.\n",
      "ERROR in validate_data: Lower bound at index 1 is greater than upper bound: -1.4451e+00 > -1.6649e+00\n",
      "ERROR in osqp_setup: Problem data validation.\n",
      "ERROR in validate_data: Lower bound at index 1 is greater than upper bound: -1.4451e+00 > -1.8407e+00\n",
      "ERROR in osqp_setup: Problem data validation.\n",
      "ERROR in validate_data: Lower bound at index 1 is greater than upper bound: -1.4451e+00 > -1.7735e+00\n",
      "ERROR in osqp_setup: Problem data validation.\n",
      "ERROR in validate_data: Lower bound at index 1 is greater than upper bound: -1.4451e+00 > -1.7317e+00\n",
      "ERROR in osqp_setup: Problem data validation.\n",
      "ERROR in validate_data: Lower bound at index 1 is greater than upper bound: -1.4451e+00 > -2.8378e+00\n",
      "ERROR in osqp_setup: Problem data validation.\n",
      "ERROR in validate_data: Lower bound at index 1 is greater than upper bound: -1.4451e+00 > -3.7824e+00\n",
      "ERROR in osqp_setup: Problem data validation.\n",
      "ERROR in validate_data: Lower bound at index 1 is greater than upper bound: -1.4451e+00 > -2.8706e+00\n",
      "ERROR in osqp_setup: Problem data validation.\n",
      "ERROR in validate_data: Lower bound at index 1 is greater than upper bound: -1.4451e+00 > -1.9697e+00\n",
      "ERROR in osqp_setup: Problem data validation.\n",
      "ERROR in validate_data: Lower bound at index 1 is greater than upper bound: -1.4451e+00 > -1.6104e+00\n",
      "ERROR in osqp_setup: Problem data validation.\n",
      "ERROR in validate_data: Lower bound at index 1 is greater than upper bound: -1.4451e+00 > -2.6174e+00\n",
      "ERROR in osqp_setup: Problem data validation.\n",
      "ERROR in validate_data: Lower bound at index 1 is greater than upper bound: -1.4451e+00 > -3.6766e+00\n",
      "ERROR in osqp_setup: Problem data validation.\n",
      "ERROR in validate_data: Lower bound at index 1 is greater than upper bound: -1.4451e+00 > -3.7038e+00\n",
      "ERROR in osqp_setup: Problem data validation.\n",
      "ERROR in validate_data: Lower bound at index 1 is greater than upper bound: -1.4451e+00 > -4.0266e+00\n",
      "ERROR in osqp_setup: Problem data validation.\n",
      "ERROR in validate_data: Lower bound at index 1 is greater than upper bound: -1.4451e+00 > -4.2612e+00\n",
      "ERROR in osqp_setup: Problem data validation.\n",
      "ERROR in validate_data: Lower bound at index 1 is greater than upper bound: -1.4451e+00 > -4.4446e+00\n",
      "ERROR in osqp_setup: Problem data validation.\n",
      "ERROR in validate_data: Lower bound at index 1 is greater than upper bound: -1.4451e+00 > -3.8153e+00\n",
      "ERROR in osqp_setup: Problem data validation.\n",
      "ERROR in validate_data: Lower bound at index 1 is greater than upper bound: -1.4451e+00 > -3.7039e+00\n",
      "ERROR in osqp_setup: Problem data validation.\n",
      "ERROR in validate_data: Lower bound at index 1 is greater than upper bound: -1.4451e+00 > -4.3965e+00\n",
      "ERROR in osqp_setup: Problem data validation.\n",
      "ERROR in validate_data: Lower bound at index 1 is greater than upper bound: -1.4451e+00 > -4.9885e+00\n",
      "ERROR in osqp_setup: Problem data validation.\n",
      "ERROR in validate_data: Lower bound at index 1 is greater than upper bound: -1.4451e+00 > -5.8963e+00\n",
      "ERROR in osqp_setup: Problem data validation.\n",
      "ERROR in validate_data: Lower bound at index 1 is greater than upper bound: -1.4451e+00 > -5.5423e+00\n",
      "ERROR in osqp_setup: Problem data validation.\n",
      "ERROR in validate_data: Lower bound at index 1 is greater than upper bound: -1.4451e+00 > -6.3465e+00\n",
      "ERROR in osqp_setup: Problem data validation.\n",
      "ERROR in validate_data: Lower bound at index 1 is greater than upper bound: -1.4451e+00 > -5.8438e+00\n",
      "ERROR in osqp_setup: Problem data validation.\n",
      "ERROR in validate_data: Lower bound at index 1 is greater than upper bound: -1.4451e+00 > -6.3653e+00\n",
      "ERROR in osqp_setup: Problem data validation.\n",
      "ERROR in validate_data: Lower bound at index 1 is greater than upper bound: -1.4451e+00 > -5.8383e+00\n",
      "ERROR in osqp_setup: Problem data validation.\n",
      "ERROR in validate_data: Lower bound at index 1 is greater than upper bound: -1.4451e+00 > -6.4124e+00\n",
      "ERROR in osqp_setup: Problem data validation.\n",
      "ERROR in validate_data: Lower bound at index 1 is greater than upper bound: -1.4451e+00 > -6.6057e+00\n",
      "ERROR in osqp_setup: Problem data validation.\n",
      "ERROR in validate_data: Lower bound at index 1 is greater than upper bound: -1.4451e+00 > -6.0064e+00\n",
      "ERROR in osqp_setup: Problem data validation.\n",
      "ERROR in validate_data: Lower bound at index 1 is greater than upper bound: -1.4451e+00 > -6.2588e+00\n",
      "ERROR in osqp_setup: Problem data validation.\n",
      "ERROR in validate_data: Lower bound at index 1 is greater than upper bound: -1.4451e+00 > -5.2033e+00\n",
      "ERROR in osqp_setup: Problem data validation.\n",
      "ERROR in validate_data: Lower bound at index 1 is greater than upper bound: -1.4451e+00 > -5.7686e+00\n",
      "ERROR in osqp_setup: Problem data validation.\n",
      "ERROR in validate_data: Lower bound at index 1 is greater than upper bound: -1.4451e+00 > -5.3130e+00\n",
      "ERROR in osqp_setup: Problem data validation.\n",
      "ERROR in validate_data: Lower bound at index 1 is greater than upper bound: -1.4451e+00 > -5.7326e+00\n",
      "ERROR in osqp_setup: Problem data validation.\n",
      "ERROR in validate_data: Lower bound at index 1 is greater than upper bound: -1.4451e+00 > -4.9634e+00\n",
      "ERROR in osqp_setup: Problem data validation.\n",
      "ERROR in validate_data: Lower bound at index 1 is greater than upper bound: -1.4451e+00 > -5.3642e+00\n",
      "ERROR in osqp_setup: Problem data validation.\n",
      "ERROR in validate_data: Lower bound at index 1 is greater than upper bound: -1.4451e+00 > -4.9435e+00\n",
      "ERROR in osqp_setup: Problem data validation.\n",
      "ERROR in validate_data: Lower bound at index 1 is greater than upper bound: -1.4451e+00 > -5.7702e+00\n",
      "ERROR in osqp_setup: Problem data validation.\n",
      "ERROR in validate_data: Lower bound at index 1 is greater than upper bound: -1.4451e+00 > -5.4396e+00\n",
      "ERROR in osqp_setup: Problem data validation.\n",
      "ERROR in validate_data: Lower bound at index 1 is greater than upper bound: -1.4451e+00 > -6.1407e+00\n",
      "ERROR in osqp_setup: Problem data validation.\n",
      "ERROR in validate_data: Lower bound at index 1 is greater than upper bound: -1.4451e+00 > -5.6056e+00\n",
      "ERROR in osqp_setup: Problem data validation.\n",
      "ERROR in validate_data: Lower bound at index 1 is greater than upper bound: -1.4451e+00 > -4.9351e+00\n",
      "ERROR in osqp_setup: Problem data validation.\n",
      "ERROR in validate_data: Lower bound at index 1 is greater than upper bound: -1.4451e+00 > -4.3695e+00\n",
      "ERROR in osqp_setup: Problem data validation.\n",
      "ERROR in validate_data: Lower bound at index 1 is greater than upper bound: -1.4451e+00 > -5.2059e+00\n",
      "ERROR in osqp_setup: Problem data validation.\n",
      "ERROR in validate_data: Lower bound at index 1 is greater than upper bound: -1.4451e+00 > -5.9281e+00\n",
      "ERROR in osqp_setup: Problem data validation.\n",
      "ERROR in validate_data: Lower bound at index 1 is greater than upper bound: -1.4451e+00 > -5.3579e+00\n",
      "ERROR in osqp_setup: Problem data validation.\n",
      "ERROR in validate_data: Lower bound at index 1 is greater than upper bound: -1.4451e+00 > -5.8289e+00\n",
      "ERROR in osqp_setup: Problem data validation.\n",
      "added 50 out of 150\n"
     ]
    },
    {
     "name": "stderr",
     "output_type": "stream",
     "text": [
      "                                                 \r"
     ]
    },
    {
     "name": "stdout",
     "output_type": "stream",
     "text": [
      "added 150 out of 150\n"
     ]
    },
    {
     "name": "stderr",
     "output_type": "stream",
     "text": [
      "                                                 \r"
     ]
    },
    {
     "name": "stdout",
     "output_type": "stream",
     "text": [
      "added 108 out of 150\n"
     ]
    },
    {
     "name": "stderr",
     "output_type": "stream",
     "text": [
      "                                                 \r"
     ]
    },
    {
     "name": "stdout",
     "output_type": "stream",
     "text": [
      "added 104 out of 150\n"
     ]
    },
    {
     "name": "stderr",
     "output_type": "stream",
     "text": [
      "                                                 \r"
     ]
    },
    {
     "name": "stdout",
     "output_type": "stream",
     "text": [
      "added 150 out of 150\n"
     ]
    },
    {
     "name": "stderr",
     "output_type": "stream",
     "text": [
      "                                                 \r"
     ]
    },
    {
     "name": "stdout",
     "output_type": "stream",
     "text": [
      "added 150 out of 150\n"
     ]
    },
    {
     "name": "stderr",
     "output_type": "stream",
     "text": [
      "                                                 \r"
     ]
    },
    {
     "name": "stdout",
     "output_type": "stream",
     "text": [
      "added 110 out of 150\n"
     ]
    },
    {
     "name": "stderr",
     "output_type": "stream",
     "text": [
      "                                                 \r"
     ]
    },
    {
     "name": "stdout",
     "output_type": "stream",
     "text": [
      "added 150 out of 150\n"
     ]
    },
    {
     "name": "stderr",
     "output_type": "stream",
     "text": [
      "                                                 \r"
     ]
    },
    {
     "name": "stdout",
     "output_type": "stream",
     "text": [
      "ERROR in validate_data: Lower bound at index 2 is greater than upper bound: -1.2383e+00 > -1.4108e+00\n",
      "ERROR in osqp_setup: Problem data validation.\n",
      "ERROR in validate_data: Lower bound at index 2 is greater than upper bound: -1.9268e+00 > -5.4120e+00\n",
      "ERROR in osqp_setup: Problem data validation.\n",
      "ERROR in validate_data: Lower bound at index 2 is greater than upper bound: -1.9268e+00 > -7.0601e+00\n",
      "ERROR in osqp_setup: Problem data validation.\n",
      "ERROR in validate_data: Lower bound at index 2 is greater than upper bound: -1.9268e+00 > -7.4456e+00\n",
      "ERROR in osqp_setup: Problem data validation.\n",
      "ERROR in validate_data: Lower bound at index 2 is greater than upper bound: -1.9268e+00 > -8.2202e+00\n",
      "ERROR in osqp_setup: Problem data validation.\n",
      "ERROR in validate_data: Lower bound at index 2 is greater than upper bound: -1.9268e+00 > -6.1282e+00\n",
      "ERROR in osqp_setup: Problem data validation.\n",
      "ERROR in validate_data: Lower bound at index 2 is greater than upper bound: -1.9268e+00 > -4.8101e+00\n",
      "ERROR in osqp_setup: Problem data validation.\n",
      "ERROR in validate_data: Lower bound at index 2 is greater than upper bound: -1.9268e+00 > -7.1250e+00\n",
      "ERROR in osqp_setup: Problem data validation.\n",
      "ERROR in validate_data: Lower bound at index 2 is greater than upper bound: -1.9268e+00 > -7.0961e+00\n",
      "ERROR in osqp_setup: Problem data validation.\n",
      "ERROR in validate_data: Lower bound at index 2 is greater than upper bound: -1.9268e+00 > -4.6438e+00\n",
      "ERROR in osqp_setup: Problem data validation.\n",
      "ERROR in validate_data: Lower bound at index 2 is greater than upper bound: -1.9268e+00 > -4.8447e+00\n",
      "ERROR in osqp_setup: Problem data validation.\n",
      "ERROR in validate_data: Lower bound at index 2 is greater than upper bound: -1.9268e+00 > -4.0953e+00\n",
      "ERROR in osqp_setup: Problem data validation.\n",
      "ERROR in validate_data: Lower bound at index 2 is greater than upper bound: -1.9268e+00 > -4.7901e+00\n",
      "ERROR in osqp_setup: Problem data validation.\n",
      "ERROR in validate_data: Lower bound at index 2 is greater than upper bound: -1.9268e+00 > -5.5725e+00\n",
      "ERROR in osqp_setup: Problem data validation.\n",
      "ERROR in validate_data: Lower bound at index 2 is greater than upper bound: -1.9268e+00 > -5.3506e+00\n",
      "ERROR in osqp_setup: Problem data validation.\n",
      "ERROR in validate_data: Lower bound at index 2 is greater than upper bound: -1.9268e+00 > -5.6684e+00\n",
      "ERROR in osqp_setup: Problem data validation.\n",
      "ERROR in validate_data: Lower bound at index 2 is greater than upper bound: -1.9268e+00 > -4.9997e+00\n",
      "ERROR in osqp_setup: Problem data validation.\n",
      "ERROR in validate_data: Lower bound at index 2 is greater than upper bound: -1.9268e+00 > -5.1419e+00\n",
      "ERROR in osqp_setup: Problem data validation.\n",
      "ERROR in validate_data: Lower bound at index 2 is greater than upper bound: -1.9268e+00 > -5.0505e+00\n",
      "ERROR in osqp_setup: Problem data validation.\n",
      "ERROR in validate_data: Lower bound at index 2 is greater than upper bound: -1.9268e+00 > -5.0508e+00\n",
      "ERROR in osqp_setup: Problem data validation.\n",
      "ERROR in validate_data: Lower bound at index 2 is greater than upper bound: -1.9268e+00 > -5.7282e+00\n",
      "ERROR in osqp_setup: Problem data validation.\n",
      "ERROR in validate_data: Lower bound at index 2 is greater than upper bound: -1.9268e+00 > -6.6954e+00\n",
      "ERROR in osqp_setup: Problem data validation.\n",
      "ERROR in validate_data: Lower bound at index 1 is greater than upper bound: -1.4451e+00 > -2.5614e+00\n",
      "ERROR in osqp_setup: Problem data validation.\n",
      "ERROR in validate_data: Lower bound at index 1 is greater than upper bound: -1.4451e+00 > -3.1267e+00\n",
      "ERROR in osqp_setup: Problem data validation.\n",
      "ERROR in validate_data: Lower bound at index 1 is greater than upper bound: -1.4451e+00 > -4.2261e+00\n",
      "ERROR in osqp_setup: Problem data validation.\n",
      "ERROR in validate_data: Lower bound at index 1 is greater than upper bound: -1.4451e+00 > -4.8372e+00\n",
      "ERROR in osqp_setup: Problem data validation.\n",
      "ERROR in validate_data: Lower bound at index 1 is greater than upper bound: -1.4451e+00 > -5.5262e+00\n",
      "ERROR in osqp_setup: Problem data validation.\n",
      "ERROR in validate_data: Lower bound at index 1 is greater than upper bound: -1.4451e+00 > -6.1355e+00\n",
      "ERROR in osqp_setup: Problem data validation.\n",
      "ERROR in validate_data: Lower bound at index 1 is greater than upper bound: -1.4451e+00 > -5.7699e+00\n",
      "ERROR in osqp_setup: Problem data validation.\n",
      "ERROR in validate_data: Lower bound at index 1 is greater than upper bound: -1.4451e+00 > -5.7441e+00\n",
      "ERROR in osqp_setup: Problem data validation.\n",
      "ERROR in validate_data: Lower bound at index 1 is greater than upper bound: -1.4451e+00 > -5.2503e+00\n",
      "ERROR in osqp_setup: Problem data validation.\n",
      "ERROR in validate_data: Lower bound at index 1 is greater than upper bound: -1.4451e+00 > -4.7276e+00\n",
      "ERROR in osqp_setup: Problem data validation.\n",
      "ERROR in validate_data: Lower bound at index 1 is greater than upper bound: -1.4451e+00 > -5.2958e+00\n",
      "ERROR in osqp_setup: Problem data validation.\n",
      "ERROR in validate_data: Lower bound at index 1 is greater than upper bound: -1.4451e+00 > -5.4558e+00\n",
      "ERROR in osqp_setup: Problem data validation.\n",
      "ERROR in validate_data: Lower bound at index 1 is greater than upper bound: -1.4451e+00 > -5.4205e+00\n",
      "ERROR in osqp_setup: Problem data validation.\n",
      "ERROR in validate_data: Lower bound at index 1 is greater than upper bound: -1.4451e+00 > -5.4685e+00\n",
      "ERROR in osqp_setup: Problem data validation.\n",
      "ERROR in validate_data: Lower bound at index 1 is greater than upper bound: -1.4451e+00 > -4.5068e+00\n",
      "ERROR in osqp_setup: Problem data validation.\n",
      "ERROR in validate_data: Lower bound at index 1 is greater than upper bound: -1.4451e+00 > -4.7560e+00\n",
      "ERROR in osqp_setup: Problem data validation.\n",
      "ERROR in validate_data: Lower bound at index 1 is greater than upper bound: -1.4451e+00 > -5.3192e+00\n",
      "ERROR in osqp_setup: Problem data validation.\n",
      "ERROR in validate_data: Lower bound at index 1 is greater than upper bound: -1.4451e+00 > -4.7494e+00\n",
      "ERROR in osqp_setup: Problem data validation.\n",
      "ERROR in validate_data: Lower bound at index 1 is greater than upper bound: -1.4451e+00 > -5.4551e+00\n",
      "ERROR in osqp_setup: Problem data validation.\n",
      "ERROR in validate_data: Lower bound at index 1 is greater than upper bound: -1.4451e+00 > -5.9695e+00\n",
      "ERROR in osqp_setup: Problem data validation.\n",
      "ERROR in validate_data: Lower bound at index 1 is greater than upper bound: -1.4451e+00 > -5.3627e+00\n",
      "ERROR in osqp_setup: Problem data validation.\n",
      "ERROR in validate_data: Lower bound at index 1 is greater than upper bound: -1.4451e+00 > -4.8592e+00\n",
      "ERROR in osqp_setup: Problem data validation.\n",
      "ERROR in validate_data: Lower bound at index 1 is greater than upper bound: -1.4451e+00 > -4.3136e+00\n",
      "ERROR in osqp_setup: Problem data validation.\n",
      "ERROR in validate_data: Lower bound at index 1 is greater than upper bound: -1.4451e+00 > -4.9213e+00\n",
      "ERROR in osqp_setup: Problem data validation.\n",
      "ERROR in validate_data: Lower bound at index 1 is greater than upper bound: -1.4451e+00 > -4.2426e+00\n",
      "ERROR in osqp_setup: Problem data validation.\n",
      "ERROR in validate_data: Lower bound at index 1 is greater than upper bound: -1.4451e+00 > -3.7450e+00\n",
      "ERROR in osqp_setup: Problem data validation.\n",
      "ERROR in validate_data: Lower bound at index 1 is greater than upper bound: -1.4451e+00 > -3.3686e+00\n",
      "ERROR in osqp_setup: Problem data validation.\n",
      "ERROR in validate_data: Lower bound at index 1 is greater than upper bound: -1.4451e+00 > -4.1601e+00\n",
      "ERROR in osqp_setup: Problem data validation.\n",
      "ERROR in validate_data: Lower bound at index 1 is greater than upper bound: -1.4451e+00 > -4.2062e+00\n",
      "ERROR in osqp_setup: Problem data validation.\n",
      "ERROR in validate_data: Lower bound at index 1 is greater than upper bound: -1.4451e+00 > -5.2771e+00\n",
      "ERROR in osqp_setup: Problem data validation.\n",
      "ERROR in validate_data: Lower bound at index 1 is greater than upper bound: -1.4451e+00 > -5.2012e+00\n",
      "ERROR in osqp_setup: Problem data validation.\n",
      "ERROR in validate_data: Lower bound at index 1 is greater than upper bound: -1.4451e+00 > -5.1617e+00\n",
      "ERROR in osqp_setup: Problem data validation.\n",
      "ERROR in validate_data: Lower bound at index 1 is greater than upper bound: -1.4451e+00 > -6.2561e+00\n",
      "ERROR in osqp_setup: Problem data validation.\n",
      "ERROR in validate_data: Lower bound at index 1 is greater than upper bound: -1.4451e+00 > -6.1066e+00\n",
      "ERROR in osqp_setup: Problem data validation.\n",
      "ERROR in validate_data: Lower bound at index 1 is greater than upper bound: -1.4451e+00 > -7.0174e+00\n",
      "ERROR in osqp_setup: Problem data validation.\n",
      "ERROR in validate_data: Lower bound at index 1 is greater than upper bound: -1.4451e+00 > -6.7468e+00\n",
      "ERROR in osqp_setup: Problem data validation.\n",
      "ERROR in validate_data: Lower bound at index 1 is greater than upper bound: -1.4451e+00 > -7.5524e+00\n",
      "ERROR in osqp_setup: Problem data validation.\n",
      "added 88 out of 150\n"
     ]
    },
    {
     "name": "stderr",
     "output_type": "stream",
     "text": [
      "                                                 \r"
     ]
    },
    {
     "name": "stdout",
     "output_type": "stream",
     "text": [
      "added 113 out of 150\n"
     ]
    },
    {
     "name": "stderr",
     "output_type": "stream",
     "text": [
      "                                                 \r"
     ]
    },
    {
     "name": "stdout",
     "output_type": "stream",
     "text": [
      "added 149 out of 150\n"
     ]
    },
    {
     "name": "stderr",
     "output_type": "stream",
     "text": [
      "                                                 \r"
     ]
    },
    {
     "name": "stdout",
     "output_type": "stream",
     "text": [
      "added 150 out of 150\n"
     ]
    },
    {
     "name": "stderr",
     "output_type": "stream",
     "text": [
      "                                                 \r"
     ]
    },
    {
     "name": "stdout",
     "output_type": "stream",
     "text": [
      "added 93 out of 150\n"
     ]
    },
    {
     "name": "stderr",
     "output_type": "stream",
     "text": [
      "                                             \r"
     ]
    },
    {
     "name": "stdout",
     "output_type": "stream",
     "text": [
      "Epoch: 9 metrics: (-2129.047424529248, -1279.5081921049052, -1483.3261443054294, -1358.5935695952048, 5)\n"
     ]
    },
    {
     "name": "stderr",
     "output_type": "stream",
     "text": [
      "                                                 \r"
     ]
    },
    {
     "name": "stdout",
     "output_type": "stream",
     "text": [
      "added 7 out of 150\n"
     ]
    },
    {
     "name": "stderr",
     "output_type": "stream",
     "text": [
      "                                                 \r"
     ]
    },
    {
     "name": "stdout",
     "output_type": "stream",
     "text": [
      "added 150 out of 150\n"
     ]
    },
    {
     "name": "stderr",
     "output_type": "stream",
     "text": [
      "                                                 \r"
     ]
    },
    {
     "name": "stdout",
     "output_type": "stream",
     "text": [
      "added 104 out of 150\n"
     ]
    },
    {
     "name": "stderr",
     "output_type": "stream",
     "text": [
      "                                                 \r"
     ]
    },
    {
     "name": "stdout",
     "output_type": "stream",
     "text": [
      "added 150 out of 150\n"
     ]
    },
    {
     "name": "stderr",
     "output_type": "stream",
     "text": [
      "                                                 \r"
     ]
    },
    {
     "name": "stdout",
     "output_type": "stream",
     "text": [
      "ERROR in validate_data: Lower bound at index 2 is greater than upper bound: -1.9269e+00 > -3.0370e+00\n",
      "ERROR in osqp_setup: Problem data validation.\n",
      "ERROR in validate_data: Lower bound at index 2 is greater than upper bound: -1.9267e+00 > -3.5768e+00\n",
      "ERROR in osqp_setup: Problem data validation.\n",
      "ERROR in validate_data: Lower bound at index 2 is greater than upper bound: -1.9267e+00 > -4.6390e+00\n",
      "ERROR in osqp_setup: Problem data validation.\n",
      "ERROR in validate_data: Lower bound at index 2 is greater than upper bound: -1.9267e+00 > -6.1007e+00\n",
      "ERROR in osqp_setup: Problem data validation.\n",
      "ERROR in validate_data: Lower bound at index 2 is greater than upper bound: -1.9271e+00 > -2.9324e+00\n",
      "ERROR in osqp_setup: Problem data validation.\n",
      "ERROR in validate_data: Lower bound at index 2 is greater than upper bound: -1.9278e+00 > -2.6277e+00\n",
      "ERROR in osqp_setup: Problem data validation.\n",
      "ERROR in validate_data: Lower bound at index 2 is greater than upper bound: -1.9264e+00 > -2.6137e+00\n",
      "ERROR in osqp_setup: Problem data validation.\n",
      "ERROR in validate_data: Lower bound at index 2 is greater than upper bound: -1.9262e+00 > -3.7525e+00\n",
      "ERROR in osqp_setup: Problem data validation.\n",
      "ERROR in validate_data: Lower bound at index 2 is greater than upper bound: -1.9261e+00 > -2.9373e+00\n",
      "ERROR in osqp_setup: Problem data validation.\n",
      "ERROR in validate_data: Lower bound at index 2 is greater than upper bound: -1.9262e+00 > -2.7119e+00\n",
      "ERROR in osqp_setup: Problem data validation.\n",
      "ERROR in validate_data: Lower bound at index 2 is greater than upper bound: -1.9258e+00 > -3.6480e+00\n",
      "ERROR in osqp_setup: Problem data validation.\n",
      "ERROR in validate_data: Lower bound at index 2 is greater than upper bound: -1.9259e+00 > -2.5319e+00\n",
      "ERROR in osqp_setup: Problem data validation.\n",
      "ERROR in validate_data: Lower bound at index 2 is greater than upper bound: -1.9257e+00 > -4.2066e+00\n",
      "ERROR in osqp_setup: Problem data validation.\n",
      "ERROR in validate_data: Lower bound at index 2 is greater than upper bound: -1.9260e+00 > -2.8725e+00\n",
      "ERROR in osqp_setup: Problem data validation.\n",
      "ERROR in validate_data: Lower bound at index 2 is greater than upper bound: -1.9260e+00 > -5.5946e+00\n",
      "ERROR in osqp_setup: Problem data validation.\n",
      "ERROR in validate_data: Lower bound at index 2 is greater than upper bound: -1.9264e+00 > -3.5465e+00\n",
      "ERROR in osqp_setup: Problem data validation.\n",
      "ERROR in validate_data: Lower bound at index 2 is greater than upper bound: -1.9270e+00 > -2.0235e+00\n",
      "ERROR in osqp_setup: Problem data validation.\n",
      "ERROR in validate_data: Lower bound at index 2 is greater than upper bound: -1.9270e+00 > -4.1304e+00\n",
      "ERROR in osqp_setup: Problem data validation.\n",
      "ERROR in validate_data: Lower bound at index 2 is greater than upper bound: -1.9274e+00 > -3.2640e+00\n",
      "ERROR in osqp_setup: Problem data validation.\n",
      "ERROR in validate_data: Lower bound at index 2 is greater than upper bound: -1.9278e+00 > -2.4524e+00\n",
      "ERROR in osqp_setup: Problem data validation.\n",
      "ERROR in validate_data: Lower bound at index 2 is greater than upper bound: -1.9276e+00 > -2.2695e+00\n",
      "ERROR in osqp_setup: Problem data validation.\n",
      "ERROR in validate_data: Lower bound at index 2 is greater than upper bound: -1.9260e+00 > -3.4724e+00\n",
      "ERROR in osqp_setup: Problem data validation.\n",
      "ERROR in validate_data: Lower bound at index 2 is greater than upper bound: -1.9264e+00 > -2.8311e+00\n",
      "ERROR in osqp_setup: Problem data validation.\n",
      "ERROR in validate_data: Lower bound at index 2 is greater than upper bound: -1.9264e+00 > -3.4254e+00\n",
      "ERROR in osqp_setup: Problem data validation.\n",
      "added 124 out of 150\n"
     ]
    },
    {
     "name": "stderr",
     "output_type": "stream",
     "text": [
      "                                                 \r"
     ]
    },
    {
     "name": "stdout",
     "output_type": "stream",
     "text": [
      "ERROR in validate_data: Lower bound at index 2 is greater than upper bound: -1.9268e+00 > -2.0468e+00\n",
      "ERROR in osqp_setup: Problem data validation.\n",
      "ERROR in validate_data: Lower bound at index 2 is greater than upper bound: -1.9268e+00 > -2.4060e+00\n",
      "ERROR in osqp_setup: Problem data validation.\n",
      "ERROR in validate_data: Lower bound at index 2 is greater than upper bound: -1.9268e+00 > -4.1262e+00\n",
      "ERROR in osqp_setup: Problem data validation.\n",
      "ERROR in validate_data: Lower bound at index 2 is greater than upper bound: -1.9268e+00 > -3.1169e+00\n",
      "ERROR in osqp_setup: Problem data validation.\n",
      "ERROR in validate_data: Lower bound at index 2 is greater than upper bound: -1.9268e+00 > -3.4733e+00\n",
      "ERROR in osqp_setup: Problem data validation.\n",
      "ERROR in validate_data: Lower bound at index 2 is greater than upper bound: -1.9268e+00 > -2.3347e+00\n",
      "ERROR in osqp_setup: Problem data validation.\n",
      "added 138 out of 150\n"
     ]
    },
    {
     "name": "stderr",
     "output_type": "stream",
     "text": [
      "                                                 \r"
     ]
    },
    {
     "name": "stdout",
     "output_type": "stream",
     "text": [
      "added 150 out of 150\n"
     ]
    },
    {
     "name": "stderr",
     "output_type": "stream",
     "text": [
      "                                                 \r"
     ]
    },
    {
     "name": "stdout",
     "output_type": "stream",
     "text": [
      "ERROR in validate_data: Lower bound at index 2 is greater than upper bound: -1.9269e+00 > -3.8286e+00\n",
      "ERROR in osqp_setup: Problem data validation.\n",
      "ERROR in validate_data: Lower bound at index 2 is greater than upper bound: -1.9269e+00 > -3.1198e+00\n",
      "ERROR in osqp_setup: Problem data validation.\n",
      "ERROR in validate_data: Lower bound at index 2 is greater than upper bound: -1.9269e+00 > -2.1525e+00\n",
      "ERROR in osqp_setup: Problem data validation.\n",
      "ERROR in validate_data: Lower bound at index 2 is greater than upper bound: -1.9269e+00 > -2.9306e+00\n",
      "ERROR in osqp_setup: Problem data validation.\n",
      "ERROR in validate_data: Lower bound at index 2 is greater than upper bound: -1.9269e+00 > -5.3189e+00\n",
      "ERROR in osqp_setup: Problem data validation.\n",
      "ERROR in validate_data: Lower bound at index 2 is greater than upper bound: -1.9269e+00 > -5.3827e+00\n",
      "ERROR in osqp_setup: Problem data validation.\n",
      "ERROR in validate_data: Lower bound at index 2 is greater than upper bound: -1.9269e+00 > -4.8399e+00\n",
      "ERROR in osqp_setup: Problem data validation.\n",
      "ERROR in validate_data: Lower bound at index 2 is greater than upper bound: -1.9269e+00 > -2.6401e+00\n",
      "ERROR in osqp_setup: Problem data validation.\n",
      "ERROR in validate_data: Lower bound at index 2 is greater than upper bound: -1.9269e+00 > -2.6207e+00\n",
      "ERROR in osqp_setup: Problem data validation.\n",
      "ERROR in validate_data: Lower bound at index 2 is greater than upper bound: -1.9269e+00 > -3.3041e+00\n",
      "ERROR in osqp_setup: Problem data validation.\n",
      "ERROR in validate_data: Lower bound at index 2 is greater than upper bound: -1.9269e+00 > -5.1183e+00\n",
      "ERROR in osqp_setup: Problem data validation.\n",
      "ERROR in validate_data: Lower bound at index 2 is greater than upper bound: -1.9269e+00 > -8.9944e+00\n",
      "ERROR in osqp_setup: Problem data validation.\n",
      "ERROR in validate_data: Lower bound at index 2 is greater than upper bound: -1.9269e+00 > -9.5233e+00\n",
      "ERROR in osqp_setup: Problem data validation.\n",
      "ERROR in validate_data: Lower bound at index 2 is greater than upper bound: -1.9269e+00 > -7.9066e+00\n",
      "ERROR in osqp_setup: Problem data validation.\n",
      "ERROR in validate_data: Lower bound at index 2 is greater than upper bound: -1.9269e+00 > -5.9552e+00\n",
      "ERROR in osqp_setup: Problem data validation.\n",
      "ERROR in validate_data: Lower bound at index 2 is greater than upper bound: -1.9269e+00 > -4.1976e+00\n",
      "ERROR in osqp_setup: Problem data validation.\n",
      "ERROR in validate_data: Lower bound at index 2 is greater than upper bound: -1.9269e+00 > -5.9348e+00\n",
      "ERROR in osqp_setup: Problem data validation.\n",
      "ERROR in validate_data: Lower bound at index 2 is greater than upper bound: -1.9269e+00 > -6.2421e+00\n",
      "ERROR in osqp_setup: Problem data validation.\n",
      "ERROR in validate_data: Lower bound at index 2 is greater than upper bound: -1.9269e+00 > -7.3475e+00\n",
      "ERROR in osqp_setup: Problem data validation.\n",
      "ERROR in validate_data: Lower bound at index 2 is greater than upper bound: -1.9269e+00 > -7.6975e+00\n",
      "ERROR in osqp_setup: Problem data validation.\n",
      "ERROR in validate_data: Lower bound at index 1 is greater than upper bound: -1.4450e+00 > -2.3176e+00\n",
      "ERROR in osqp_setup: Problem data validation.\n",
      "ERROR in validate_data: Lower bound at index 1 is greater than upper bound: -1.4450e+00 > -3.4180e+00\n",
      "ERROR in osqp_setup: Problem data validation.\n",
      "ERROR in validate_data: Lower bound at index 1 is greater than upper bound: -1.4450e+00 > -3.5589e+00\n",
      "ERROR in osqp_setup: Problem data validation.\n",
      "ERROR in validate_data: Lower bound at index 1 is greater than upper bound: -1.4450e+00 > -4.7674e+00\n",
      "ERROR in osqp_setup: Problem data validation.\n",
      "ERROR in validate_data: Lower bound at index 1 is greater than upper bound: -1.4450e+00 > -4.7369e+00\n",
      "ERROR in osqp_setup: Problem data validation.\n",
      "ERROR in validate_data: Lower bound at index 1 is greater than upper bound: -1.4450e+00 > -4.7260e+00\n",
      "ERROR in osqp_setup: Problem data validation.\n",
      "ERROR in validate_data: Lower bound at index 1 is greater than upper bound: -1.4450e+00 > -5.2809e+00\n",
      "ERROR in osqp_setup: Problem data validation.\n",
      "ERROR in validate_data: Lower bound at index 1 is greater than upper bound: -1.4450e+00 > -4.9152e+00\n",
      "ERROR in osqp_setup: Problem data validation.\n",
      "ERROR in validate_data: Lower bound at index 1 is greater than upper bound: -1.4450e+00 > -4.8521e+00\n",
      "ERROR in osqp_setup: Problem data validation.\n",
      "ERROR in validate_data: Lower bound at index 1 is greater than upper bound: -1.4450e+00 > -4.7584e+00\n",
      "ERROR in osqp_setup: Problem data validation.\n",
      "ERROR in validate_data: Lower bound at index 1 is greater than upper bound: -1.4450e+00 > -5.5215e+00\n",
      "ERROR in osqp_setup: Problem data validation.\n",
      "ERROR in validate_data: Lower bound at index 1 is greater than upper bound: -1.4450e+00 > -5.0541e+00\n",
      "ERROR in osqp_setup: Problem data validation.\n",
      "ERROR in validate_data: Lower bound at index 1 is greater than upper bound: -1.4450e+00 > -5.7112e+00\n",
      "ERROR in osqp_setup: Problem data validation.\n",
      "ERROR in validate_data: Lower bound at index 1 is greater than upper bound: -1.4450e+00 > -4.9711e+00\n",
      "ERROR in osqp_setup: Problem data validation.\n",
      "ERROR in validate_data: Lower bound at index 1 is greater than upper bound: -1.4450e+00 > -4.4046e+00\n",
      "ERROR in osqp_setup: Problem data validation.\n",
      "ERROR in validate_data: Lower bound at index 1 is greater than upper bound: -1.4450e+00 > -5.1691e+00\n",
      "ERROR in osqp_setup: Problem data validation.\n",
      "ERROR in validate_data: Lower bound at index 1 is greater than upper bound: -1.4450e+00 > -5.7045e+00\n",
      "ERROR in osqp_setup: Problem data validation.\n",
      "ERROR in validate_data: Lower bound at index 1 is greater than upper bound: -1.4450e+00 > -5.0401e+00\n",
      "ERROR in osqp_setup: Problem data validation.\n",
      "ERROR in validate_data: Lower bound at index 1 is greater than upper bound: -1.4450e+00 > -4.4410e+00\n",
      "ERROR in osqp_setup: Problem data validation.\n",
      "ERROR in validate_data: Lower bound at index 1 is greater than upper bound: -1.4450e+00 > -5.0387e+00\n",
      "ERROR in osqp_setup: Problem data validation.\n",
      "ERROR in validate_data: Lower bound at index 1 is greater than upper bound: -1.4450e+00 > -4.7164e+00\n",
      "ERROR in osqp_setup: Problem data validation.\n",
      "ERROR in validate_data: Lower bound at index 1 is greater than upper bound: -1.4450e+00 > -5.1626e+00\n",
      "ERROR in osqp_setup: Problem data validation.\n",
      "ERROR in validate_data: Lower bound at index 1 is greater than upper bound: -1.4450e+00 > -5.2529e+00\n",
      "ERROR in osqp_setup: Problem data validation.\n",
      "ERROR in validate_data: Lower bound at index 1 is greater than upper bound: -1.4450e+00 > -4.1244e+00\n",
      "ERROR in osqp_setup: Problem data validation.\n",
      "ERROR in validate_data: Lower bound at index 1 is greater than upper bound: -1.4450e+00 > -4.1059e+00\n",
      "ERROR in osqp_setup: Problem data validation.\n",
      "ERROR in validate_data: Lower bound at index 1 is greater than upper bound: -1.4450e+00 > -3.0082e+00\n",
      "ERROR in osqp_setup: Problem data validation.\n",
      "ERROR in validate_data: Lower bound at index 1 is greater than upper bound: -1.4450e+00 > -2.1666e+00\n",
      "ERROR in osqp_setup: Problem data validation.\n",
      "ERROR in validate_data: Lower bound at index 1 is greater than upper bound: -1.4450e+00 > -2.7489e+00\n",
      "ERROR in osqp_setup: Problem data validation.\n",
      "ERROR in validate_data: Lower bound at index 1 is greater than upper bound: -1.4450e+00 > -1.9562e+00\n",
      "ERROR in osqp_setup: Problem data validation.\n",
      "added 100 out of 150\n"
     ]
    },
    {
     "name": "stderr",
     "output_type": "stream",
     "text": [
      "                                                 \r"
     ]
    },
    {
     "name": "stdout",
     "output_type": "stream",
     "text": [
      "added 150 out of 150\n"
     ]
    },
    {
     "name": "stderr",
     "output_type": "stream",
     "text": [
      "                                                 \r"
     ]
    },
    {
     "name": "stdout",
     "output_type": "stream",
     "text": [
      "ERROR in validate_data: Lower bound at index 2 is greater than upper bound: -1.9268e+00 > -3.4637e+00\n",
      "ERROR in osqp_setup: Problem data validation.\n",
      "ERROR in validate_data: Lower bound at index 2 is greater than upper bound: -1.9268e+00 > -3.2128e+00\n",
      "ERROR in osqp_setup: Problem data validation.\n",
      "ERROR in validate_data: Lower bound at index 2 is greater than upper bound: -1.9268e+00 > -3.6522e+00\n",
      "ERROR in osqp_setup: Problem data validation.\n",
      "ERROR in validate_data: Lower bound at index 2 is greater than upper bound: -1.9268e+00 > -2.9226e+00\n",
      "ERROR in osqp_setup: Problem data validation.\n",
      "ERROR in validate_data: Lower bound at index 2 is greater than upper bound: -1.9268e+00 > -4.3015e+00\n",
      "ERROR in osqp_setup: Problem data validation.\n",
      "ERROR in validate_data: Lower bound at index 2 is greater than upper bound: -1.9268e+00 > -4.2012e+00\n",
      "ERROR in osqp_setup: Problem data validation.\n",
      "ERROR in validate_data: Lower bound at index 2 is greater than upper bound: -1.9268e+00 > -3.0911e+00\n",
      "ERROR in osqp_setup: Problem data validation.\n",
      "ERROR in validate_data: Lower bound at index 2 is greater than upper bound: -1.9268e+00 > -2.6386e+00\n",
      "ERROR in osqp_setup: Problem data validation.\n",
      "ERROR in validate_data: Lower bound at index 2 is greater than upper bound: -1.9268e+00 > -2.7756e+00\n",
      "ERROR in osqp_setup: Problem data validation.\n",
      "ERROR in validate_data: Lower bound at index 2 is greater than upper bound: -1.9268e+00 > -5.3035e+00\n",
      "ERROR in osqp_setup: Problem data validation.\n",
      "ERROR in validate_data: Lower bound at index 1 is greater than upper bound: -1.4451e+00 > -2.3600e+00\n",
      "ERROR in osqp_setup: Problem data validation.\n",
      "ERROR in validate_data: Lower bound at index 1 is greater than upper bound: -1.4451e+00 > -3.8803e+00\n",
      "ERROR in osqp_setup: Problem data validation.\n",
      "ERROR in validate_data: Lower bound at index 1 is greater than upper bound: -1.4451e+00 > -4.0889e+00\n",
      "ERROR in osqp_setup: Problem data validation.\n",
      "ERROR in validate_data: Lower bound at index 1 is greater than upper bound: -1.4451e+00 > -5.3008e+00\n",
      "ERROR in osqp_setup: Problem data validation.\n",
      "ERROR in validate_data: Lower bound at index 1 is greater than upper bound: -1.4451e+00 > -6.2956e+00\n",
      "ERROR in osqp_setup: Problem data validation.\n",
      "ERROR in validate_data: Lower bound at index 1 is greater than upper bound: -1.4451e+00 > -7.0385e+00\n",
      "ERROR in osqp_setup: Problem data validation.\n",
      "ERROR in validate_data: Lower bound at index 1 is greater than upper bound: -1.4451e+00 > -6.5203e+00\n",
      "ERROR in osqp_setup: Problem data validation.\n",
      "ERROR in validate_data: Lower bound at index 1 is greater than upper bound: -1.4451e+00 > -6.0156e+00\n",
      "ERROR in osqp_setup: Problem data validation.\n",
      "ERROR in validate_data: Lower bound at index 1 is greater than upper bound: -1.4451e+00 > -5.4678e+00\n",
      "ERROR in osqp_setup: Problem data validation.\n",
      "ERROR in validate_data: Lower bound at index 1 is greater than upper bound: -1.4451e+00 > -6.0535e+00\n",
      "ERROR in osqp_setup: Problem data validation.\n",
      "ERROR in validate_data: Lower bound at index 1 is greater than upper bound: -1.4451e+00 > -6.4130e+00\n",
      "ERROR in osqp_setup: Problem data validation.\n",
      "ERROR in validate_data: Lower bound at index 1 is greater than upper bound: -1.4451e+00 > -5.5082e+00\n",
      "ERROR in osqp_setup: Problem data validation.\n",
      "ERROR in validate_data: Lower bound at index 1 is greater than upper bound: -1.4451e+00 > -4.5278e+00\n",
      "ERROR in osqp_setup: Problem data validation.\n",
      "ERROR in validate_data: Lower bound at index 1 is greater than upper bound: -1.4451e+00 > -4.7467e+00\n",
      "ERROR in osqp_setup: Problem data validation.\n",
      "ERROR in validate_data: Lower bound at index 1 is greater than upper bound: -1.4451e+00 > -4.7805e+00\n",
      "ERROR in osqp_setup: Problem data validation.\n",
      "ERROR in validate_data: Lower bound at index 1 is greater than upper bound: -1.4451e+00 > -4.1435e+00\n",
      "ERROR in osqp_setup: Problem data validation.\n",
      "ERROR in validate_data: Lower bound at index 1 is greater than upper bound: -1.4451e+00 > -3.8411e+00\n",
      "ERROR in osqp_setup: Problem data validation.\n",
      "ERROR in validate_data: Lower bound at index 1 is greater than upper bound: -1.4451e+00 > -4.3838e+00\n",
      "ERROR in osqp_setup: Problem data validation.\n",
      "ERROR in validate_data: Lower bound at index 1 is greater than upper bound: -1.4451e+00 > -4.1906e+00\n",
      "ERROR in osqp_setup: Problem data validation.\n",
      "ERROR in validate_data: Lower bound at index 1 is greater than upper bound: -1.4451e+00 > -4.4020e+00\n",
      "ERROR in osqp_setup: Problem data validation.\n",
      "ERROR in validate_data: Lower bound at index 1 is greater than upper bound: -1.4451e+00 > -4.1696e+00\n",
      "ERROR in osqp_setup: Problem data validation.\n",
      "ERROR in validate_data: Lower bound at index 1 is greater than upper bound: -1.4451e+00 > -4.6142e+00\n",
      "ERROR in osqp_setup: Problem data validation.\n",
      "ERROR in validate_data: Lower bound at index 1 is greater than upper bound: -1.4451e+00 > -4.1026e+00\n",
      "ERROR in osqp_setup: Problem data validation.\n",
      "ERROR in validate_data: Lower bound at index 1 is greater than upper bound: -1.4451e+00 > -3.3504e+00\n",
      "ERROR in osqp_setup: Problem data validation.\n",
      "ERROR in validate_data: Lower bound at index 1 is greater than upper bound: -1.4451e+00 > -2.9547e+00\n",
      "ERROR in osqp_setup: Problem data validation.\n",
      "ERROR in validate_data: Lower bound at index 1 is greater than upper bound: -1.4451e+00 > -3.3325e+00\n",
      "ERROR in osqp_setup: Problem data validation.\n",
      "ERROR in validate_data: Lower bound at index 1 is greater than upper bound: -1.4451e+00 > -4.2729e+00\n",
      "ERROR in osqp_setup: Problem data validation.\n",
      "ERROR in validate_data: Lower bound at index 1 is greater than upper bound: -1.4451e+00 > -4.6378e+00\n",
      "ERROR in osqp_setup: Problem data validation.\n",
      "ERROR in validate_data: Lower bound at index 1 is greater than upper bound: -1.4451e+00 > -3.9680e+00\n",
      "ERROR in osqp_setup: Problem data validation.\n",
      "ERROR in validate_data: Lower bound at index 1 is greater than upper bound: -1.4451e+00 > -4.1706e+00\n",
      "ERROR in osqp_setup: Problem data validation.\n",
      "ERROR in validate_data: Lower bound at index 1 is greater than upper bound: -1.4451e+00 > -5.0162e+00\n",
      "ERROR in osqp_setup: Problem data validation.\n",
      "ERROR in validate_data: Lower bound at index 1 is greater than upper bound: -1.4451e+00 > -5.2713e+00\n",
      "ERROR in osqp_setup: Problem data validation.\n",
      "ERROR in validate_data: Lower bound at index 1 is greater than upper bound: -1.4451e+00 > -5.0940e+00\n",
      "ERROR in osqp_setup: Problem data validation.\n",
      "ERROR in validate_data: Lower bound at index 1 is greater than upper bound: -1.4451e+00 > -5.7413e+00\n",
      "ERROR in osqp_setup: Problem data validation.\n",
      "ERROR in validate_data: Lower bound at index 1 is greater than upper bound: -1.4451e+00 > -6.4469e+00\n",
      "ERROR in osqp_setup: Problem data validation.\n",
      "ERROR in validate_data: Lower bound at index 1 is greater than upper bound: -1.4451e+00 > -6.9191e+00\n",
      "ERROR in osqp_setup: Problem data validation.\n",
      "ERROR in validate_data: Lower bound at index 1 is greater than upper bound: -1.4451e+00 > -6.5378e+00\n",
      "ERROR in osqp_setup: Problem data validation.\n",
      "ERROR in validate_data: Lower bound at index 1 is greater than upper bound: -1.4451e+00 > -7.2892e+00\n",
      "ERROR in osqp_setup: Problem data validation.\n",
      "ERROR in validate_data: Lower bound at index 1 is greater than upper bound: -1.4451e+00 > -6.9943e+00\n",
      "ERROR in osqp_setup: Problem data validation.\n",
      "ERROR in validate_data: Lower bound at index 1 is greater than upper bound: -1.4451e+00 > -5.6421e+00\n",
      "ERROR in osqp_setup: Problem data validation.\n",
      "ERROR in validate_data: Lower bound at index 1 is greater than upper bound: -1.4451e+00 > -5.0124e+00\n",
      "ERROR in osqp_setup: Problem data validation.\n",
      "ERROR in validate_data: Lower bound at index 1 is greater than upper bound: -1.4451e+00 > -6.5986e+00\n",
      "ERROR in osqp_setup: Problem data validation.\n",
      "ERROR in validate_data: Lower bound at index 1 is greater than upper bound: -1.4451e+00 > -8.2576e+00\n",
      "ERROR in osqp_setup: Problem data validation.\n",
      "ERROR in validate_data: Lower bound at index 1 is greater than upper bound: -1.4451e+00 > -7.8477e+00\n",
      "ERROR in osqp_setup: Problem data validation.\n",
      "ERROR in validate_data: Lower bound at index 1 is greater than upper bound: -1.4451e+00 > -5.7323e+00\n",
      "ERROR in osqp_setup: Problem data validation.\n",
      "ERROR in validate_data: Lower bound at index 1 is greater than upper bound: -1.4451e+00 > -3.5823e+00\n",
      "ERROR in osqp_setup: Problem data validation.\n",
      "ERROR in validate_data: Lower bound at index 1 is greater than upper bound: -1.4451e+00 > -2.1553e+00\n",
      "ERROR in osqp_setup: Problem data validation.\n",
      "ERROR in validate_data: Lower bound at index 1 is greater than upper bound: -1.4451e+00 > -3.6647e+00\n",
      "ERROR in osqp_setup: Problem data validation.\n",
      "ERROR in validate_data: Lower bound at index 1 is greater than upper bound: -1.4451e+00 > -5.2509e+00\n",
      "ERROR in osqp_setup: Problem data validation.\n",
      "added 90 out of 150\n"
     ]
    },
    {
     "name": "stderr",
     "output_type": "stream",
     "text": [
      "                                                  \r"
     ]
    },
    {
     "name": "stdout",
     "output_type": "stream",
     "text": [
      "added 0 out of 150\n"
     ]
    },
    {
     "name": "stderr",
     "output_type": "stream",
     "text": [
      "                                                  \r"
     ]
    },
    {
     "name": "stdout",
     "output_type": "stream",
     "text": [
      "ERROR in validate_data: Lower bound at index 2 is greater than upper bound: -1.9268e+00 > -2.0704e+00\n",
      "ERROR in osqp_setup: Problem data validation.\n",
      "ERROR in validate_data: Lower bound at index 2 is greater than upper bound: -1.9268e+00 > -2.0112e+00\n",
      "ERROR in osqp_setup: Problem data validation.\n",
      "ERROR in validate_data: Lower bound at index 2 is greater than upper bound: -1.9268e+00 > -3.3231e+00\n",
      "ERROR in osqp_setup: Problem data validation.\n",
      "ERROR in validate_data: Lower bound at index 2 is greater than upper bound: -1.9268e+00 > -4.0793e+00\n",
      "ERROR in osqp_setup: Problem data validation.\n",
      "ERROR in validate_data: Lower bound at index 2 is greater than upper bound: -1.9268e+00 > -2.7756e+00\n",
      "ERROR in osqp_setup: Problem data validation.\n",
      "ERROR in validate_data: Lower bound at index 2 is greater than upper bound: -1.9268e+00 > -4.9273e+00\n",
      "ERROR in osqp_setup: Problem data validation.\n",
      "ERROR in validate_data: Lower bound at index 2 is greater than upper bound: -1.9268e+00 > -3.3709e+00\n",
      "ERROR in osqp_setup: Problem data validation.\n",
      "ERROR in validate_data: Lower bound at index 2 is greater than upper bound: -1.9268e+00 > -5.7272e+00\n",
      "ERROR in osqp_setup: Problem data validation.\n",
      "ERROR in validate_data: Lower bound at index 2 is greater than upper bound: -1.9268e+00 > -4.1444e+00\n",
      "ERROR in osqp_setup: Problem data validation.\n",
      "ERROR in validate_data: Lower bound at index 2 is greater than upper bound: -1.9268e+00 > -2.7586e+00\n",
      "ERROR in osqp_setup: Problem data validation.\n",
      "ERROR in validate_data: Lower bound at index 2 is greater than upper bound: -1.9268e+00 > -6.4256e+00\n",
      "ERROR in osqp_setup: Problem data validation.\n",
      "ERROR in validate_data: Lower bound at index 2 is greater than upper bound: -1.9268e+00 > -6.7272e+00\n",
      "ERROR in osqp_setup: Problem data validation.\n",
      "ERROR in validate_data: Lower bound at index 2 is greater than upper bound: -1.9268e+00 > -6.5613e+00\n",
      "ERROR in osqp_setup: Problem data validation.\n",
      "ERROR in validate_data: Lower bound at index 2 is greater than upper bound: -1.9268e+00 > -4.1156e+00\n",
      "ERROR in osqp_setup: Problem data validation.\n",
      "ERROR in validate_data: Lower bound at index 2 is greater than upper bound: -1.9268e+00 > -3.5005e+00\n",
      "ERROR in osqp_setup: Problem data validation.\n",
      "ERROR in validate_data: Lower bound at index 2 is greater than upper bound: -1.9268e+00 > -4.7343e+00\n",
      "ERROR in osqp_setup: Problem data validation.\n",
      "ERROR in validate_data: Lower bound at index 2 is greater than upper bound: -1.9268e+00 > -5.1341e+00\n",
      "ERROR in osqp_setup: Problem data validation.\n",
      "ERROR in validate_data: Lower bound at index 2 is greater than upper bound: -1.9268e+00 > -7.6579e+00\n",
      "ERROR in osqp_setup: Problem data validation.\n",
      "ERROR in validate_data: Lower bound at index 2 is greater than upper bound: -1.9268e+00 > -5.5063e+00\n",
      "ERROR in osqp_setup: Problem data validation.\n",
      "added 128 out of 150\n"
     ]
    },
    {
     "name": "stderr",
     "output_type": "stream",
     "text": [
      "                                                  \r"
     ]
    },
    {
     "name": "stdout",
     "output_type": "stream",
     "text": [
      "added 150 out of 150\n"
     ]
    },
    {
     "name": "stderr",
     "output_type": "stream",
     "text": [
      "                                                 \r"
     ]
    },
    {
     "name": "stdout",
     "output_type": "stream",
     "text": [
      "ERROR in validate_data: Lower bound at index 2 is greater than upper bound: -1.9267e+00 > -2.5884e+00\n",
      "ERROR in osqp_setup: Problem data validation.\n",
      "ERROR in validate_data: Lower bound at index 2 is greater than upper bound: -1.9267e+00 > -3.5306e+00\n",
      "ERROR in osqp_setup: Problem data validation.\n",
      "ERROR in validate_data: Lower bound at index 2 is greater than upper bound: -1.9266e+00 > -6.5623e+00\n",
      "ERROR in osqp_setup: Problem data validation.\n",
      "ERROR in validate_data: Lower bound at index 2 is greater than upper bound: -1.9266e+00 > -5.6468e+00\n",
      "ERROR in osqp_setup: Problem data validation.\n",
      "ERROR in validate_data: Lower bound at index 2 is greater than upper bound: -1.9266e+00 > -5.1043e+00\n",
      "ERROR in osqp_setup: Problem data validation.\n",
      "ERROR in validate_data: Lower bound at index 2 is greater than upper bound: -1.9266e+00 > -6.0961e+00\n",
      "ERROR in osqp_setup: Problem data validation.\n",
      "ERROR in validate_data: Lower bound at index 2 is greater than upper bound: -1.9266e+00 > -5.7519e+00\n",
      "ERROR in osqp_setup: Problem data validation.\n",
      "ERROR in validate_data: Lower bound at index 2 is greater than upper bound: -1.9266e+00 > -3.4832e+00\n",
      "ERROR in osqp_setup: Problem data validation.\n",
      "ERROR in validate_data: Lower bound at index 2 is greater than upper bound: -1.9266e+00 > -2.1234e+00\n",
      "ERROR in osqp_setup: Problem data validation.\n",
      "ERROR in validate_data: Lower bound at index 2 is greater than upper bound: -1.9266e+00 > -3.6460e+00\n",
      "ERROR in osqp_setup: Problem data validation.\n",
      "ERROR in validate_data: Lower bound at index 2 is greater than upper bound: -1.9266e+00 > -5.6775e+00\n",
      "ERROR in osqp_setup: Problem data validation.\n",
      "ERROR in validate_data: Lower bound at index 2 is greater than upper bound: -1.9266e+00 > -5.1771e+00\n",
      "ERROR in osqp_setup: Problem data validation.\n",
      "ERROR in validate_data: Lower bound at index 2 is greater than upper bound: -1.9266e+00 > -5.4358e+00\n",
      "ERROR in osqp_setup: Problem data validation.\n",
      "ERROR in validate_data: Lower bound at index 2 is greater than upper bound: -1.9266e+00 > -5.4079e+00\n",
      "ERROR in osqp_setup: Problem data validation.\n",
      "ERROR in validate_data: Lower bound at index 2 is greater than upper bound: -1.9266e+00 > -3.9417e+00\n",
      "ERROR in osqp_setup: Problem data validation.\n",
      "ERROR in validate_data: Lower bound at index 2 is greater than upper bound: -1.9266e+00 > -3.5472e+00\n",
      "ERROR in osqp_setup: Problem data validation.\n",
      "ERROR in validate_data: Lower bound at index 2 is greater than upper bound: -1.9266e+00 > -4.0931e+00\n",
      "ERROR in osqp_setup: Problem data validation.\n",
      "ERROR in validate_data: Lower bound at index 2 is greater than upper bound: -1.9266e+00 > -3.3483e+00\n",
      "ERROR in osqp_setup: Problem data validation.\n",
      "ERROR in validate_data: Lower bound at index 2 is greater than upper bound: -1.9266e+00 > -3.2250e+00\n",
      "ERROR in osqp_setup: Problem data validation.\n",
      "ERROR in validate_data: Lower bound at index 2 is greater than upper bound: -1.9266e+00 > -4.3267e+00\n",
      "ERROR in osqp_setup: Problem data validation.\n",
      "ERROR in validate_data: Lower bound at index 2 is greater than upper bound: -1.9266e+00 > -3.8139e+00\n",
      "ERROR in osqp_setup: Problem data validation.\n",
      "ERROR in validate_data: Lower bound at index 2 is greater than upper bound: -1.9266e+00 > -6.0192e+00\n",
      "ERROR in osqp_setup: Problem data validation.\n",
      "ERROR in validate_data: Lower bound at index 2 is greater than upper bound: -1.9266e+00 > -5.6642e+00\n",
      "ERROR in osqp_setup: Problem data validation.\n",
      "ERROR in validate_data: Lower bound at index 2 is greater than upper bound: -1.9266e+00 > -5.2924e+00\n",
      "ERROR in osqp_setup: Problem data validation.\n",
      "ERROR in validate_data: Lower bound at index 2 is greater than upper bound: -1.9266e+00 > -3.9240e+00\n",
      "ERROR in osqp_setup: Problem data validation.\n",
      "ERROR in validate_data: Lower bound at index 1 is greater than upper bound: -1.4452e+00 > -2.3823e+00\n",
      "ERROR in osqp_setup: Problem data validation.\n",
      "added 116 out of 150\n"
     ]
    },
    {
     "name": "stderr",
     "output_type": "stream",
     "text": [
      "                                                  \r"
     ]
    },
    {
     "name": "stdout",
     "output_type": "stream",
     "text": [
      "ERROR in validate_data: Lower bound at index 1 is greater than upper bound: -1.4451e+00 > -1.5834e+00\n",
      "ERROR in osqp_setup: Problem data validation.\n",
      "ERROR in validate_data: Lower bound at index 1 is greater than upper bound: -1.4451e+00 > -1.9481e+00\n",
      "ERROR in osqp_setup: Problem data validation.\n",
      "ERROR in validate_data: Lower bound at index 2 is greater than upper bound: -1.9268e+00 > -3.6520e+00\n",
      "ERROR in osqp_setup: Problem data validation.\n",
      "ERROR in validate_data: Lower bound at index 1 is greater than upper bound: -1.4451e+00 > -2.7836e+00\n",
      "ERROR in osqp_setup: Problem data validation.\n",
      "ERROR in validate_data: Lower bound at index 1 is greater than upper bound: -1.4451e+00 > -4.3645e+00\n",
      "ERROR in osqp_setup: Problem data validation.\n",
      "ERROR in validate_data: Lower bound at index 1 is greater than upper bound: -1.4451e+00 > -5.6815e+00\n",
      "ERROR in osqp_setup: Problem data validation.\n",
      "ERROR in validate_data: Lower bound at index 1 is greater than upper bound: -1.4451e+00 > -6.0855e+00\n",
      "ERROR in osqp_setup: Problem data validation.\n",
      "ERROR in validate_data: Lower bound at index 1 is greater than upper bound: -1.4451e+00 > -6.3683e+00\n",
      "ERROR in osqp_setup: Problem data validation.\n",
      "ERROR in validate_data: Lower bound at index 1 is greater than upper bound: -1.4451e+00 > -6.7982e+00\n",
      "ERROR in osqp_setup: Problem data validation.\n",
      "ERROR in validate_data: Lower bound at index 1 is greater than upper bound: -1.4451e+00 > -6.2393e+00\n",
      "ERROR in osqp_setup: Problem data validation.\n",
      "ERROR in validate_data: Lower bound at index 1 is greater than upper bound: -1.4451e+00 > -5.2988e+00\n",
      "ERROR in osqp_setup: Problem data validation.\n",
      "ERROR in validate_data: Lower bound at index 1 is greater than upper bound: -1.4451e+00 > -4.5330e+00\n",
      "ERROR in osqp_setup: Problem data validation.\n",
      "ERROR in validate_data: Lower bound at index 1 is greater than upper bound: -1.4451e+00 > -4.0701e+00\n",
      "ERROR in osqp_setup: Problem data validation.\n",
      "ERROR in validate_data: Lower bound at index 1 is greater than upper bound: -1.4451e+00 > -4.8616e+00\n",
      "ERROR in osqp_setup: Problem data validation.\n",
      "ERROR in validate_data: Lower bound at index 1 is greater than upper bound: -1.4451e+00 > -4.5540e+00\n",
      "ERROR in osqp_setup: Problem data validation.\n",
      "ERROR in validate_data: Lower bound at index 1 is greater than upper bound: -1.4451e+00 > -4.1191e+00\n",
      "ERROR in osqp_setup: Problem data validation.\n",
      "ERROR in validate_data: Lower bound at index 1 is greater than upper bound: -1.4451e+00 > -5.3603e+00\n",
      "ERROR in osqp_setup: Problem data validation.\n",
      "ERROR in validate_data: Lower bound at index 1 is greater than upper bound: -1.4451e+00 > -5.7035e+00\n",
      "ERROR in osqp_setup: Problem data validation.\n",
      "ERROR in validate_data: Lower bound at index 1 is greater than upper bound: -1.4451e+00 > -7.1138e+00\n",
      "ERROR in osqp_setup: Problem data validation.\n",
      "ERROR in validate_data: Lower bound at index 1 is greater than upper bound: -1.4451e+00 > -7.2575e+00\n",
      "ERROR in osqp_setup: Problem data validation.\n",
      "ERROR in validate_data: Lower bound at index 1 is greater than upper bound: -1.4451e+00 > -7.3180e+00\n",
      "ERROR in osqp_setup: Problem data validation.\n",
      "ERROR in validate_data: Lower bound at index 1 is greater than upper bound: -1.4451e+00 > -6.0312e+00\n",
      "ERROR in osqp_setup: Problem data validation.\n",
      "ERROR in validate_data: Lower bound at index 1 is greater than upper bound: -1.4451e+00 > -5.7931e+00\n",
      "ERROR in osqp_setup: Problem data validation.\n",
      "ERROR in validate_data: Lower bound at index 1 is greater than upper bound: -1.4451e+00 > -5.0023e+00\n",
      "ERROR in osqp_setup: Problem data validation.\n",
      "ERROR in validate_data: Lower bound at index 1 is greater than upper bound: -1.4451e+00 > -3.9348e+00\n",
      "ERROR in osqp_setup: Problem data validation.\n",
      "ERROR in validate_data: Lower bound at index 1 is greater than upper bound: -1.4451e+00 > -2.9107e+00\n",
      "ERROR in osqp_setup: Problem data validation.\n",
      "ERROR in validate_data: Lower bound at index 1 is greater than upper bound: -1.4451e+00 > -3.1340e+00\n",
      "ERROR in osqp_setup: Problem data validation.\n",
      "ERROR in validate_data: Lower bound at index 1 is greater than upper bound: -1.4451e+00 > -2.4343e+00\n",
      "ERROR in osqp_setup: Problem data validation.\n",
      "ERROR in validate_data: Lower bound at index 1 is greater than upper bound: -1.4451e+00 > -3.1665e+00\n",
      "ERROR in osqp_setup: Problem data validation.\n",
      "ERROR in validate_data: Lower bound at index 1 is greater than upper bound: -1.4451e+00 > -2.4195e+00\n",
      "ERROR in osqp_setup: Problem data validation.\n",
      "ERROR in validate_data: Lower bound at index 1 is greater than upper bound: -1.4451e+00 > -3.2467e+00\n",
      "ERROR in osqp_setup: Problem data validation.\n",
      "ERROR in validate_data: Lower bound at index 1 is greater than upper bound: -1.4451e+00 > -4.0045e+00\n",
      "ERROR in osqp_setup: Problem data validation.\n",
      "ERROR in validate_data: Lower bound at index 1 is greater than upper bound: -1.4451e+00 > -3.1354e+00\n",
      "ERROR in osqp_setup: Problem data validation.\n",
      "ERROR in validate_data: Lower bound at index 1 is greater than upper bound: -1.4451e+00 > -2.5676e+00\n",
      "ERROR in osqp_setup: Problem data validation.\n",
      "ERROR in validate_data: Lower bound at index 1 is greater than upper bound: -1.4451e+00 > -3.6166e+00\n",
      "ERROR in osqp_setup: Problem data validation.\n",
      "ERROR in validate_data: Lower bound at index 1 is greater than upper bound: -1.4451e+00 > -4.7814e+00\n",
      "ERROR in osqp_setup: Problem data validation.\n",
      "ERROR in validate_data: Lower bound at index 1 is greater than upper bound: -1.4451e+00 > -4.9102e+00\n",
      "ERROR in osqp_setup: Problem data validation.\n",
      "ERROR in validate_data: Lower bound at index 1 is greater than upper bound: -1.4451e+00 > -4.4686e+00\n",
      "ERROR in osqp_setup: Problem data validation.\n",
      "ERROR in validate_data: Lower bound at index 1 is greater than upper bound: -1.4451e+00 > -4.1829e+00\n",
      "ERROR in osqp_setup: Problem data validation.\n",
      "ERROR in validate_data: Lower bound at index 1 is greater than upper bound: -1.4451e+00 > -4.8109e+00\n",
      "ERROR in osqp_setup: Problem data validation.\n",
      "ERROR in validate_data: Lower bound at index 1 is greater than upper bound: -1.4451e+00 > -6.0151e+00\n",
      "ERROR in osqp_setup: Problem data validation.\n",
      "ERROR in validate_data: Lower bound at index 1 is greater than upper bound: -1.4451e+00 > -6.5928e+00\n",
      "ERROR in osqp_setup: Problem data validation.\n",
      "ERROR in validate_data: Lower bound at index 1 is greater than upper bound: -1.4451e+00 > -6.3555e+00\n",
      "ERROR in osqp_setup: Problem data validation.\n",
      "ERROR in validate_data: Lower bound at index 1 is greater than upper bound: -1.4451e+00 > -7.4148e+00\n",
      "ERROR in osqp_setup: Problem data validation.\n",
      "ERROR in validate_data: Lower bound at index 1 is greater than upper bound: -1.4451e+00 > -7.2846e+00\n",
      "ERROR in osqp_setup: Problem data validation.\n",
      "ERROR in validate_data: Lower bound at index 1 is greater than upper bound: -1.4451e+00 > -7.2578e+00\n",
      "ERROR in osqp_setup: Problem data validation.\n",
      "ERROR in validate_data: Lower bound at index 1 is greater than upper bound: -1.4451e+00 > -7.0111e+00\n",
      "ERROR in osqp_setup: Problem data validation.\n",
      "ERROR in validate_data: Lower bound at index 1 is greater than upper bound: -1.4451e+00 > -5.7485e+00\n",
      "ERROR in osqp_setup: Problem data validation.\n",
      "ERROR in validate_data: Lower bound at index 1 is greater than upper bound: -1.4451e+00 > -4.8188e+00\n",
      "ERROR in osqp_setup: Problem data validation.\n",
      "ERROR in validate_data: Lower bound at index 1 is greater than upper bound: -1.4451e+00 > -4.5958e+00\n",
      "ERROR in osqp_setup: Problem data validation.\n",
      "ERROR in validate_data: Lower bound at index 1 is greater than upper bound: -1.4451e+00 > -4.0993e+00\n",
      "ERROR in osqp_setup: Problem data validation.\n",
      "ERROR in validate_data: Lower bound at index 1 is greater than upper bound: -1.4451e+00 > -3.9607e+00\n",
      "ERROR in osqp_setup: Problem data validation.\n",
      "ERROR in validate_data: Lower bound at index 1 is greater than upper bound: -1.4451e+00 > -3.7819e+00\n",
      "ERROR in osqp_setup: Problem data validation.\n",
      "ERROR in validate_data: Lower bound at index 1 is greater than upper bound: -1.4451e+00 > -3.3944e+00\n",
      "ERROR in osqp_setup: Problem data validation.\n",
      "ERROR in validate_data: Lower bound at index 1 is greater than upper bound: -1.4451e+00 > -3.0594e+00\n",
      "ERROR in osqp_setup: Problem data validation.\n",
      "ERROR in validate_data: Lower bound at index 1 is greater than upper bound: -1.4451e+00 > -2.7737e+00\n",
      "ERROR in osqp_setup: Problem data validation.\n",
      "ERROR in validate_data: Lower bound at index 1 is greater than upper bound: -1.4451e+00 > -2.3657e+00\n",
      "ERROR in osqp_setup: Problem data validation.\n",
      "ERROR in validate_data: Lower bound at index 1 is greater than upper bound: -1.4451e+00 > -2.0162e+00\n",
      "ERROR in osqp_setup: Problem data validation.\n",
      "ERROR in validate_data: Lower bound at index 1 is greater than upper bound: -1.4451e+00 > -2.8095e+00\n",
      "ERROR in osqp_setup: Problem data validation.\n",
      "ERROR in validate_data: Lower bound at index 1 is greater than upper bound: -1.4451e+00 > -3.4912e+00\n",
      "ERROR in osqp_setup: Problem data validation.\n",
      "ERROR in validate_data: Lower bound at index 1 is greater than upper bound: -1.4451e+00 > -3.0958e+00\n",
      "ERROR in osqp_setup: Problem data validation.\n",
      "ERROR in validate_data: Lower bound at index 1 is greater than upper bound: -1.4451e+00 > -3.2384e+00\n",
      "ERROR in osqp_setup: Problem data validation.\n",
      "ERROR in validate_data: Lower bound at index 1 is greater than upper bound: -1.4451e+00 > -2.4259e+00\n",
      "ERROR in osqp_setup: Problem data validation.\n",
      "ERROR in validate_data: Lower bound at index 1 is greater than upper bound: -1.4451e+00 > -1.8170e+00\n",
      "ERROR in osqp_setup: Problem data validation.\n",
      "ERROR in validate_data: Lower bound at index 1 is greater than upper bound: -1.4451e+00 > -1.9884e+00\n",
      "ERROR in osqp_setup: Problem data validation.\n",
      "ERROR in validate_data: Lower bound at index 1 is greater than upper bound: -1.4451e+00 > -2.4661e+00\n",
      "ERROR in osqp_setup: Problem data validation.\n",
      "ERROR in validate_data: Lower bound at index 1 is greater than upper bound: -1.4451e+00 > -3.1028e+00\n",
      "ERROR in osqp_setup: Problem data validation.\n",
      "ERROR in validate_data: Lower bound at index 1 is greater than upper bound: -1.4451e+00 > -4.0443e+00\n",
      "ERROR in osqp_setup: Problem data validation.\n",
      "ERROR in validate_data: Lower bound at index 1 is greater than upper bound: -1.4451e+00 > -5.0883e+00\n",
      "ERROR in osqp_setup: Problem data validation.\n",
      "ERROR in validate_data: Lower bound at index 1 is greater than upper bound: -1.4451e+00 > -5.8004e+00\n",
      "ERROR in osqp_setup: Problem data validation.\n",
      "ERROR in validate_data: Lower bound at index 1 is greater than upper bound: -1.4451e+00 > -5.6335e+00\n",
      "ERROR in osqp_setup: Problem data validation.\n",
      "ERROR in validate_data: Lower bound at index 1 is greater than upper bound: -1.4451e+00 > -6.2771e+00\n",
      "ERROR in osqp_setup: Problem data validation.\n",
      "ERROR in validate_data: Lower bound at index 1 is greater than upper bound: -1.4451e+00 > -6.4393e+00\n",
      "ERROR in osqp_setup: Problem data validation.\n",
      "ERROR in validate_data: Lower bound at index 1 is greater than upper bound: -1.4451e+00 > -6.5577e+00\n",
      "ERROR in osqp_setup: Problem data validation.\n",
      "ERROR in validate_data: Lower bound at index 1 is greater than upper bound: -1.4451e+00 > -5.8169e+00\n",
      "ERROR in osqp_setup: Problem data validation.\n",
      "ERROR in validate_data: Lower bound at index 1 is greater than upper bound: -1.4451e+00 > -5.6448e+00\n",
      "ERROR in osqp_setup: Problem data validation.\n",
      "ERROR in validate_data: Lower bound at index 1 is greater than upper bound: -1.4451e+00 > -5.1308e+00\n",
      "ERROR in osqp_setup: Problem data validation.\n",
      "ERROR in validate_data: Lower bound at index 1 is greater than upper bound: -1.4451e+00 > -5.3876e+00\n",
      "ERROR in osqp_setup: Problem data validation.\n",
      "ERROR in validate_data: Lower bound at index 1 is greater than upper bound: -1.4451e+00 > -5.1210e+00\n",
      "ERROR in osqp_setup: Problem data validation.\n",
      "ERROR in validate_data: Lower bound at index 1 is greater than upper bound: -1.4451e+00 > -5.3183e+00\n",
      "ERROR in osqp_setup: Problem data validation.\n",
      "ERROR in validate_data: Lower bound at index 1 is greater than upper bound: -1.4451e+00 > -4.7996e+00\n",
      "ERROR in osqp_setup: Problem data validation.\n",
      "ERROR in validate_data: Lower bound at index 1 is greater than upper bound: -1.4451e+00 > -5.8011e+00\n",
      "ERROR in osqp_setup: Problem data validation.\n",
      "ERROR in validate_data: Lower bound at index 1 is greater than upper bound: -1.4451e+00 > -6.3276e+00\n",
      "ERROR in osqp_setup: Problem data validation.\n",
      "ERROR in validate_data: Lower bound at index 1 is greater than upper bound: -1.4451e+00 > -5.5565e+00\n",
      "ERROR in osqp_setup: Problem data validation.\n",
      "ERROR in validate_data: Lower bound at index 1 is greater than upper bound: -1.4451e+00 > -5.0783e+00\n",
      "ERROR in osqp_setup: Problem data validation.\n",
      "ERROR in validate_data: Lower bound at index 1 is greater than upper bound: -1.4451e+00 > -5.2400e+00\n",
      "ERROR in osqp_setup: Problem data validation.\n",
      "added 0 out of 150\n"
     ]
    },
    {
     "name": "stderr",
     "output_type": "stream",
     "text": [
      "                                                 \r"
     ]
    },
    {
     "name": "stdout",
     "output_type": "stream",
     "text": [
      "added 148 out of 150\n"
     ]
    },
    {
     "name": "stderr",
     "output_type": "stream",
     "text": [
      "                                                  \r"
     ]
    },
    {
     "name": "stdout",
     "output_type": "stream",
     "text": [
      "added 71 out of 150\n"
     ]
    },
    {
     "name": "stderr",
     "output_type": "stream",
     "text": [
      "                                                 \r"
     ]
    },
    {
     "name": "stdout",
     "output_type": "stream",
     "text": [
      "added 98 out of 150\n"
     ]
    },
    {
     "name": "stderr",
     "output_type": "stream",
     "text": [
      "                                                  \r"
     ]
    },
    {
     "name": "stdout",
     "output_type": "stream",
     "text": [
      "added 149 out of 150\n"
     ]
    },
    {
     "name": "stderr",
     "output_type": "stream",
     "text": [
      "                                                  \r"
     ]
    },
    {
     "name": "stdout",
     "output_type": "stream",
     "text": [
      "ERROR in validate_data: Lower bound at index 2 is greater than upper bound: -1.9266e+00 > -1.9933e+00\n",
      "ERROR in osqp_setup: Problem data validation.\n",
      "ERROR in validate_data: Lower bound at index 2 is greater than upper bound: -1.9266e+00 > -2.0698e+00\n",
      "ERROR in osqp_setup: Problem data validation.\n",
      "ERROR in validate_data: Lower bound at index 2 is greater than upper bound: -1.9265e+00 > -1.9432e+00\n",
      "ERROR in osqp_setup: Problem data validation.\n",
      "ERROR in validate_data: Lower bound at index 2 is greater than upper bound: -1.9265e+00 > -3.5507e+00\n",
      "ERROR in osqp_setup: Problem data validation.\n",
      "ERROR in validate_data: Lower bound at index 2 is greater than upper bound: -1.9265e+00 > -4.2523e+00\n",
      "ERROR in osqp_setup: Problem data validation.\n",
      "ERROR in validate_data: Lower bound at index 2 is greater than upper bound: -1.9265e+00 > -3.4212e+00\n",
      "ERROR in osqp_setup: Problem data validation.\n",
      "ERROR in validate_data: Lower bound at index 2 is greater than upper bound: -1.9265e+00 > -1.9385e+00\n",
      "ERROR in osqp_setup: Problem data validation.\n",
      "ERROR in validate_data: Lower bound at index 2 is greater than upper bound: -1.9265e+00 > -4.1283e+00\n",
      "ERROR in osqp_setup: Problem data validation.\n",
      "ERROR in validate_data: Lower bound at index 2 is greater than upper bound: -1.9265e+00 > -4.4997e+00\n",
      "ERROR in osqp_setup: Problem data validation.\n",
      "ERROR in validate_data: Lower bound at index 2 is greater than upper bound: -1.9265e+00 > -2.5481e+00\n",
      "ERROR in osqp_setup: Problem data validation.\n",
      "ERROR in validate_data: Lower bound at index 2 is greater than upper bound: -1.9265e+00 > -2.5443e+00\n",
      "ERROR in osqp_setup: Problem data validation.\n",
      "ERROR in validate_data: Lower bound at index 2 is greater than upper bound: -1.9265e+00 > -2.0053e+00\n",
      "ERROR in osqp_setup: Problem data validation.\n",
      "ERROR in validate_data: Lower bound at index 2 is greater than upper bound: -1.9265e+00 > -3.4150e+00\n",
      "ERROR in osqp_setup: Problem data validation.\n",
      "ERROR in validate_data: Lower bound at index 2 is greater than upper bound: -1.9265e+00 > -4.1512e+00\n",
      "ERROR in osqp_setup: Problem data validation.\n",
      "ERROR in validate_data: Lower bound at index 2 is greater than upper bound: -1.9265e+00 > -3.4518e+00\n",
      "ERROR in osqp_setup: Problem data validation.\n",
      "ERROR in validate_data: Lower bound at index 2 is greater than upper bound: -1.9265e+00 > -4.6494e+00\n",
      "ERROR in osqp_setup: Problem data validation.\n",
      "ERROR in validate_data: Lower bound at index 2 is greater than upper bound: -1.9265e+00 > -4.4746e+00\n",
      "ERROR in osqp_setup: Problem data validation.\n",
      "ERROR in validate_data: Lower bound at index 2 is greater than upper bound: -1.9265e+00 > -4.5236e+00\n",
      "ERROR in osqp_setup: Problem data validation.\n",
      "ERROR in validate_data: Lower bound at index 2 is greater than upper bound: -1.9264e+00 > -6.3426e+00\n",
      "ERROR in osqp_setup: Problem data validation.\n",
      "ERROR in validate_data: Lower bound at index 2 is greater than upper bound: -1.9264e+00 > -6.9096e+00\n",
      "ERROR in osqp_setup: Problem data validation.\n",
      "ERROR in validate_data: Lower bound at index 2 is greater than upper bound: -1.9264e+00 > -4.6584e+00\n",
      "ERROR in osqp_setup: Problem data validation.\n",
      "ERROR in validate_data: Lower bound at index 2 is greater than upper bound: -1.9264e+00 > -3.4202e+00\n",
      "ERROR in osqp_setup: Problem data validation.\n",
      "ERROR in validate_data: Lower bound at index 2 is greater than upper bound: -1.9264e+00 > -3.6105e+00\n",
      "ERROR in osqp_setup: Problem data validation.\n",
      "ERROR in validate_data: Lower bound at index 2 is greater than upper bound: -1.9264e+00 > -3.3485e+00\n",
      "ERROR in osqp_setup: Problem data validation.\n",
      "ERROR in validate_data: Lower bound at index 2 is greater than upper bound: -1.9264e+00 > -5.1612e+00\n",
      "ERROR in osqp_setup: Problem data validation.\n",
      "ERROR in validate_data: Lower bound at index 2 is greater than upper bound: -1.9263e+00 > -7.3058e+00\n",
      "ERROR in osqp_setup: Problem data validation.\n",
      "ERROR in validate_data: Lower bound at index 2 is greater than upper bound: -1.9263e+00 > -7.9619e+00\n",
      "ERROR in osqp_setup: Problem data validation.\n",
      "ERROR in validate_data: Lower bound at index 2 is greater than upper bound: -1.9263e+00 > -6.5001e+00\n",
      "ERROR in osqp_setup: Problem data validation.\n",
      "ERROR in validate_data: Lower bound at index 2 is greater than upper bound: -1.9263e+00 > -5.9668e+00\n",
      "ERROR in osqp_setup: Problem data validation.\n",
      "ERROR in validate_data: Lower bound at index 2 is greater than upper bound: -1.9264e+00 > -3.7154e+00\n",
      "ERROR in osqp_setup: Problem data validation.\n",
      "ERROR in validate_data: Lower bound at index 2 is greater than upper bound: -1.9263e+00 > -4.3347e+00\n",
      "ERROR in osqp_setup: Problem data validation.\n",
      "ERROR in validate_data: Lower bound at index 1 is greater than upper bound: -1.4453e+00 > -1.4601e+00\n",
      "ERROR in osqp_setup: Problem data validation.\n",
      "ERROR in validate_data: Lower bound at index 1 is greater than upper bound: -1.4453e+00 > -2.3603e+00\n",
      "ERROR in osqp_setup: Problem data validation.\n",
      "ERROR in validate_data: Lower bound at index 1 is greater than upper bound: -1.4453e+00 > -3.9170e+00\n",
      "ERROR in osqp_setup: Problem data validation.\n",
      "ERROR in validate_data: Lower bound at index 1 is greater than upper bound: -1.4453e+00 > -5.2335e+00\n",
      "ERROR in osqp_setup: Problem data validation.\n",
      "ERROR in validate_data: Lower bound at index 1 is greater than upper bound: -1.4453e+00 > -6.0767e+00\n",
      "ERROR in osqp_setup: Problem data validation.\n",
      "ERROR in validate_data: Lower bound at index 1 is greater than upper bound: -1.4453e+00 > -6.7554e+00\n",
      "ERROR in osqp_setup: Problem data validation.\n",
      "ERROR in validate_data: Lower bound at index 1 is greater than upper bound: -1.4453e+00 > -7.1777e+00\n",
      "ERROR in osqp_setup: Problem data validation.\n",
      "ERROR in validate_data: Lower bound at index 1 is greater than upper bound: -1.4453e+00 > -7.2212e+00\n",
      "ERROR in osqp_setup: Problem data validation.\n",
      "ERROR in validate_data: Lower bound at index 1 is greater than upper bound: -1.4453e+00 > -6.2642e+00\n",
      "ERROR in osqp_setup: Problem data validation.\n",
      "ERROR in validate_data: Lower bound at index 1 is greater than upper bound: -1.4453e+00 > -5.5438e+00\n",
      "ERROR in osqp_setup: Problem data validation.\n",
      "ERROR in validate_data: Lower bound at index 1 is greater than upper bound: -1.4453e+00 > -5.9570e+00\n",
      "ERROR in osqp_setup: Problem data validation.\n",
      "ERROR in validate_data: Lower bound at index 1 is greater than upper bound: -1.4454e+00 > -6.1891e+00\n",
      "ERROR in osqp_setup: Problem data validation.\n",
      "ERROR in validate_data: Lower bound at index 1 is greater than upper bound: -1.4454e+00 > -6.4561e+00\n",
      "ERROR in osqp_setup: Problem data validation.\n",
      "ERROR in validate_data: Lower bound at index 1 is greater than upper bound: -1.4454e+00 > -6.1036e+00\n",
      "ERROR in osqp_setup: Problem data validation.\n",
      "ERROR in validate_data: Lower bound at index 1 is greater than upper bound: -1.4454e+00 > -6.2983e+00\n",
      "ERROR in osqp_setup: Problem data validation.\n",
      "ERROR in validate_data: Lower bound at index 1 is greater than upper bound: -1.4454e+00 > -6.2789e+00\n",
      "ERROR in osqp_setup: Problem data validation.\n",
      "ERROR in validate_data: Lower bound at index 1 is greater than upper bound: -1.4454e+00 > -5.1091e+00\n",
      "ERROR in osqp_setup: Problem data validation.\n",
      "ERROR in validate_data: Lower bound at index 1 is greater than upper bound: -1.4454e+00 > -5.0726e+00\n",
      "ERROR in osqp_setup: Problem data validation.\n",
      "ERROR in validate_data: Lower bound at index 1 is greater than upper bound: -1.4455e+00 > -3.9351e+00\n",
      "ERROR in osqp_setup: Problem data validation.\n",
      "ERROR in validate_data: Lower bound at index 1 is greater than upper bound: -1.4455e+00 > -3.4767e+00\n",
      "ERROR in osqp_setup: Problem data validation.\n",
      "ERROR in validate_data: Lower bound at index 1 is greater than upper bound: -1.4455e+00 > -3.6595e+00\n",
      "ERROR in osqp_setup: Problem data validation.\n",
      "ERROR in validate_data: Lower bound at index 1 is greater than upper bound: -1.4455e+00 > -3.5185e+00\n",
      "ERROR in osqp_setup: Problem data validation.\n",
      "ERROR in validate_data: Lower bound at index 1 is greater than upper bound: -1.4455e+00 > -4.4948e+00\n",
      "ERROR in osqp_setup: Problem data validation.\n",
      "ERROR in validate_data: Lower bound at index 1 is greater than upper bound: -1.4455e+00 > -4.5741e+00\n",
      "ERROR in osqp_setup: Problem data validation.\n",
      "ERROR in validate_data: Lower bound at index 1 is greater than upper bound: -1.4454e+00 > -5.2999e+00\n",
      "ERROR in osqp_setup: Problem data validation.\n",
      "ERROR in validate_data: Lower bound at index 1 is greater than upper bound: -1.4454e+00 > -5.5230e+00\n",
      "ERROR in osqp_setup: Problem data validation.\n",
      "ERROR in validate_data: Lower bound at index 1 is greater than upper bound: -1.4454e+00 > -4.9934e+00\n",
      "ERROR in osqp_setup: Problem data validation.\n",
      "ERROR in validate_data: Lower bound at index 1 is greater than upper bound: -1.4455e+00 > -4.8496e+00\n",
      "ERROR in osqp_setup: Problem data validation.\n",
      "ERROR in validate_data: Lower bound at index 1 is greater than upper bound: -1.4454e+00 > -5.4647e+00\n",
      "ERROR in osqp_setup: Problem data validation.\n",
      "ERROR in validate_data: Lower bound at index 1 is greater than upper bound: -1.4454e+00 > -6.0958e+00\n",
      "ERROR in osqp_setup: Problem data validation.\n",
      "ERROR in validate_data: Lower bound at index 1 is greater than upper bound: -1.4454e+00 > -7.5736e+00\n",
      "ERROR in osqp_setup: Problem data validation.\n",
      "ERROR in validate_data: Lower bound at index 1 is greater than upper bound: -1.4454e+00 > -7.6083e+00\n",
      "ERROR in osqp_setup: Problem data validation.\n",
      "ERROR in validate_data: Lower bound at index 1 is greater than upper bound: -1.4454e+00 > -7.2464e+00\n",
      "ERROR in osqp_setup: Problem data validation.\n",
      "ERROR in validate_data: Lower bound at index 1 is greater than upper bound: -1.4454e+00 > -7.0732e+00\n",
      "ERROR in osqp_setup: Problem data validation.\n",
      "ERROR in validate_data: Lower bound at index 1 is greater than upper bound: -1.4454e+00 > -7.0049e+00\n",
      "ERROR in osqp_setup: Problem data validation.\n",
      "ERROR in validate_data: Lower bound at index 1 is greater than upper bound: -1.4454e+00 > -6.4568e+00\n",
      "ERROR in osqp_setup: Problem data validation.\n",
      "ERROR in validate_data: Lower bound at index 1 is greater than upper bound: -1.4454e+00 > -5.3154e+00\n",
      "ERROR in osqp_setup: Problem data validation.\n",
      "ERROR in validate_data: Lower bound at index 1 is greater than upper bound: -1.4454e+00 > -3.9554e+00\n",
      "ERROR in osqp_setup: Problem data validation.\n",
      "ERROR in validate_data: Lower bound at index 1 is greater than upper bound: -1.4454e+00 > -3.1982e+00\n",
      "ERROR in osqp_setup: Problem data validation.\n",
      "ERROR in validate_data: Lower bound at index 1 is greater than upper bound: -1.4454e+00 > -2.8431e+00\n",
      "ERROR in osqp_setup: Problem data validation.\n",
      "ERROR in validate_data: Lower bound at index 1 is greater than upper bound: -1.4454e+00 > -4.1481e+00\n",
      "ERROR in osqp_setup: Problem data validation.\n",
      "ERROR in validate_data: Lower bound at index 1 is greater than upper bound: -1.4454e+00 > -4.9521e+00\n",
      "ERROR in osqp_setup: Problem data validation.\n",
      "ERROR in validate_data: Lower bound at index 1 is greater than upper bound: -1.4454e+00 > -4.6710e+00\n",
      "ERROR in osqp_setup: Problem data validation.\n",
      "ERROR in validate_data: Lower bound at index 1 is greater than upper bound: -1.4454e+00 > -3.3806e+00\n",
      "ERROR in osqp_setup: Problem data validation.\n",
      "ERROR in validate_data: Lower bound at index 1 is greater than upper bound: -1.4454e+00 > -3.2195e+00\n",
      "ERROR in osqp_setup: Problem data validation.\n",
      "ERROR in validate_data: Lower bound at index 1 is greater than upper bound: -1.4454e+00 > -2.3184e+00\n",
      "ERROR in osqp_setup: Problem data validation.\n",
      "ERROR in validate_data: Lower bound at index 1 is greater than upper bound: -1.4454e+00 > -2.6382e+00\n",
      "ERROR in osqp_setup: Problem data validation.\n",
      "ERROR in validate_data: Lower bound at index 1 is greater than upper bound: -1.4454e+00 > -3.0118e+00\n",
      "ERROR in osqp_setup: Problem data validation.\n",
      "ERROR in validate_data: Lower bound at index 1 is greater than upper bound: -1.4453e+00 > -2.3567e+00\n",
      "ERROR in osqp_setup: Problem data validation.\n",
      "ERROR in validate_data: Lower bound at index 1 is greater than upper bound: -1.4453e+00 > -2.9221e+00\n",
      "ERROR in osqp_setup: Problem data validation.\n",
      "ERROR in validate_data: Lower bound at index 1 is greater than upper bound: -1.4453e+00 > -2.4233e+00\n",
      "ERROR in osqp_setup: Problem data validation.\n",
      "added 44 out of 150\n"
     ]
    },
    {
     "name": "stderr",
     "output_type": "stream",
     "text": [
      "                                             "
     ]
    },
    {
     "name": "stdout",
     "output_type": "stream",
     "text": [
      "Epoch: 10 metrics: (-1448.3696888362808, -1252.6655506262225, -1377.029842593236, -1419.8030154859978, 5)\n"
     ]
    },
    {
     "name": "stderr",
     "output_type": "stream",
     "text": [
      "\r"
     ]
    }
   ],
   "source": [
    "# dagger_agent = train_dagger_agent(policy, expert_agent, mdp, dataset, num_iterations=1, batch_size=64, lr=0.001)\n",
    "dagger_agent = train_dagger_agent(policy, expert_agent, mdp, dataset)\n",
    "# dagger_agent = train_dagger_agent(policy, expert_agent, mdp, dataset, num_sub_epochs=2)"
   ]
  },
  {
   "cell_type": "code",
   "execution_count": 9,
   "metadata": {},
   "outputs": [
    {
     "name": "stderr",
     "output_type": "stream",
     "text": [
      "                                               \r"
     ]
    },
    {
     "name": "stdout",
     "output_type": "stream",
     "text": [
      "=================================================\n",
      "Environment:        3dof-hit\n",
      "Number of Episodes: 50\n",
      "Success:            0.0200\n",
      "Penalty:            327\n",
      "Number of Violations: \n",
      "  joint_pos_constr  40\n",
      "  joint_vel_constr  50\n",
      "  ee_constr         49\n",
      "  Jerk              50\n",
      "  Total             189\n",
      "-------------------------------------------------\n",
      "\n"
     ]
    }
   ],
   "source": [
    "from air_hockey_challenge.framework.evaluate_agent import evaluate\n",
    "from mushroom_rl.policy import GaussianTorchPolicy\n",
    "\n",
    "\n",
    "def build_agent(env_info, **kwargs):\n",
    "    \"\"\"\n",
    "    Function where an Agent that controls the environments should be returned.\n",
    "    The Agent should inherit from the mushroom_rl Agent base env.\n",
    "\n",
    "    :param env_info: The environment information\n",
    "    :return: Either Agent ot Policy\n",
    "    \"\"\"\n",
    "    if \"hit\" in env_info[\"env_name\"]:\n",
    "        # policy = GaussianTorchPolicy(Network, (12,), (6,), std_0=1., n_features=64, use_cuda=use_cuda)\n",
    "\n",
    "        # policy = policy.load('dataset/hit_500_policy')\n",
    "        dagger_ag = BCAgent(mdp.env_info, dagger_agent)\n",
    "        # return agent\n",
    "        return dagger_ag\n",
    "\n",
    "eval = evaluate(build_agent, 'logs/dagger_agent', env_list=[\"3dof-hit\"], n_episodes=50, render=False, quiet=False, n_cores=1)"
   ]
  },
  {
   "cell_type": "code",
   "execution_count": 12,
   "metadata": {},
   "outputs": [
    {
     "name": "stdout",
     "output_type": "stream",
     "text": [
      "72597\n",
      "50823\n"
     ]
    }
   ],
   "source": [
    "print(len(dataset))\n",
    "\n",
    "\n",
    "states, actions, reward, next_state, absorbing, last = parse_dataset(np.load(f\"dataset/hit_500.pkl\", allow_pickle=True))\n",
    "\n",
    "print(len(states))\n"
   ]
  },
  {
   "cell_type": "code",
   "execution_count": 13,
   "metadata": {},
   "outputs": [
    {
     "ename": "RuntimeError",
     "evalue": "CUDA error: unspecified launch failure\nCUDA kernel errors might be asynchronously reported at some other API call, so the stacktrace below might be incorrect.\nFor debugging consider passing CUDA_LAUNCH_BLOCKING=1.\nCompile with `TORCH_USE_CUDA_DSA` to enable device-side assertions.\n",
     "output_type": "error",
     "traceback": [
      "\u001b[0;31m---------------------------------------------------------------------------\u001b[0m",
      "\u001b[0;31mRuntimeError\u001b[0m                              Traceback (most recent call last)",
      "Cell \u001b[0;32mIn[13], line 2\u001b[0m\n\u001b[1;32m      1\u001b[0m \u001b[39mwith\u001b[39;00m \u001b[39mopen\u001b[39m(\u001b[39m\"\u001b[39m\u001b[39mdataset/dagger\u001b[39m\u001b[39m\"\u001b[39m, \u001b[39m'\u001b[39m\u001b[39mwb\u001b[39m\u001b[39m'\u001b[39m) \u001b[39mas\u001b[39;00m f:\n\u001b[0;32m----> 2\u001b[0m     pickle\u001b[39m.\u001b[39;49mdump(dataset, f)\n",
      "File \u001b[0;32m~/Documents/MIT/6.8200_Sensorimotor_learning/final project/air_hockey_challenge/challenge/lib/python3.8/site-packages/torch/storage.py:747\u001b[0m, in \u001b[0;36mTypedStorage.__reduce__\u001b[0;34m(self)\u001b[0m\n\u001b[1;32m    745\u001b[0m \u001b[39mdef\u001b[39;00m \u001b[39m__reduce__\u001b[39m(\u001b[39mself\u001b[39m):\n\u001b[1;32m    746\u001b[0m     b \u001b[39m=\u001b[39m io\u001b[39m.\u001b[39mBytesIO()\n\u001b[0;32m--> 747\u001b[0m     torch\u001b[39m.\u001b[39;49msave(\u001b[39mself\u001b[39;49m, b, _use_new_zipfile_serialization\u001b[39m=\u001b[39;49m\u001b[39mFalse\u001b[39;49;00m)\n\u001b[1;32m    748\u001b[0m     \u001b[39mreturn\u001b[39;00m (_load_from_bytes, (b\u001b[39m.\u001b[39mgetvalue(),))\n",
      "File \u001b[0;32m~/Documents/MIT/6.8200_Sensorimotor_learning/final project/air_hockey_challenge/challenge/lib/python3.8/site-packages/torch/serialization.py:445\u001b[0m, in \u001b[0;36msave\u001b[0;34m(obj, f, pickle_module, pickle_protocol, _use_new_zipfile_serialization)\u001b[0m\n\u001b[1;32m    443\u001b[0m \u001b[39melse\u001b[39;00m:\n\u001b[1;32m    444\u001b[0m     \u001b[39mwith\u001b[39;00m _open_file_like(f, \u001b[39m'\u001b[39m\u001b[39mwb\u001b[39m\u001b[39m'\u001b[39m) \u001b[39mas\u001b[39;00m opened_file:\n\u001b[0;32m--> 445\u001b[0m         _legacy_save(obj, opened_file, pickle_module, pickle_protocol)\n",
      "File \u001b[0;32m~/Documents/MIT/6.8200_Sensorimotor_learning/final project/air_hockey_challenge/challenge/lib/python3.8/site-packages/torch/serialization.py:589\u001b[0m, in \u001b[0;36m_legacy_save\u001b[0;34m(obj, f, pickle_module, pickle_protocol)\u001b[0m\n\u001b[1;32m    587\u001b[0m \u001b[39mfor\u001b[39;00m key \u001b[39min\u001b[39;00m serialized_storage_keys:\n\u001b[1;32m    588\u001b[0m     storage, dtype \u001b[39m=\u001b[39m serialized_storages[key]\n\u001b[0;32m--> 589\u001b[0m     storage\u001b[39m.\u001b[39;49m_write_file(f, _should_read_directly(f), \u001b[39mTrue\u001b[39;49;00m, torch\u001b[39m.\u001b[39;49m_utils\u001b[39m.\u001b[39;49m_element_size(dtype))\n",
      "\u001b[0;31mRuntimeError\u001b[0m: CUDA error: unspecified launch failure\nCUDA kernel errors might be asynchronously reported at some other API call, so the stacktrace below might be incorrect.\nFor debugging consider passing CUDA_LAUNCH_BLOCKING=1.\nCompile with `TORCH_USE_CUDA_DSA` to enable device-side assertions.\n"
     ]
    }
   ],
   "source": [
    "with open(\"dataset/dagger\", 'wb') as f:\n",
    "    pickle.dump(dataset, f)"
   ]
  },
  {
   "cell_type": "code",
   "execution_count": 21,
   "metadata": {},
   "outputs": [
    {
     "name": "stderr",
     "output_type": "stream",
     "text": []
    }
   ],
   "source": [
    "core = ChallengeCore(expert_agent, mdp)\n",
    "eval_dataset = core.evaluate(n_episodes=5, render=False)"
   ]
  },
  {
   "cell_type": "code",
   "execution_count": 22,
   "metadata": {},
   "outputs": [
    {
     "name": "stdout",
     "output_type": "stream",
     "text": [
      "595\n"
     ]
    }
   ],
   "source": [
    "print(len(eval_dataset))"
   ]
  },
  {
   "attachments": {},
   "cell_type": "markdown",
   "metadata": {
    "collapsed": false
   },
   "source": [
    "# testing expert agent"
   ]
  },
  {
   "cell_type": "code",
   "execution_count": null,
   "metadata": {
    "collapsed": false
   },
   "outputs": [],
   "source": [
    "data_loader = DataLoader(dataset, batch_size=64, shuffle=True)\n",
    "\n",
    "for i, data in enumerate(data_loader):\n",
    "    states = data['state'].float()\n",
    "    for state in states:\n",
    "        expert_agent.reset()\n",
    "        state_np = state.cpu().numpy()\n",
    "        expert_action = expert_agent.draw_action(state_np)\n",
    "        print(f\"expert_action: {expert_action}\")\n",
    "        print(f\"optimization_failed: {expert_agent.optimization_failed}\")\n",
    "    # expert_actions = expert_agent.draw_action(states).float()"
   ]
  },
  {
   "cell_type": "code",
   "execution_count": null,
   "metadata": {
    "collapsed": false
   },
   "outputs": [],
   "source": []
  }
 ],
 "metadata": {
  "kernelspec": {
   "display_name": "Python 3",
   "language": "python",
   "name": "python3"
  },
  "language_info": {
   "codemirror_mode": {
    "name": "ipython",
    "version": 3
   },
   "file_extension": ".py",
   "mimetype": "text/x-python",
   "name": "python",
   "nbconvert_exporter": "python",
   "pygments_lexer": "ipython3",
   "version": "3.8.13"
  }
 },
 "nbformat": 4,
 "nbformat_minor": 0
}
