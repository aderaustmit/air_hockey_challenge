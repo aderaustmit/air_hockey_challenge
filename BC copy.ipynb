{
 "cells": [
  {
   "cell_type": "code",
   "execution_count": 1,
   "metadata": {},
   "outputs": [
    {
     "name": "stdout",
     "output_type": "stream",
     "text": [
      "Cuda: True\n"
     ]
    }
   ],
   "source": [
    "from air_hockey_challenge.framework.air_hockey_challenge_wrapper import AirHockeyChallengeWrapper\n",
    "from air_hockey_challenge.framework.challenge_core import ChallengeCore\n",
    "from air_hockey_challenge.framework.agent_base import AgentBase\n",
    "from examples.control.hitting_agent_wait import build_agent as build_agent_hitting_wait\n",
    "from air_hockey_challenge.framework.evaluate_agent import generate_init_states\n",
    "\n",
    "from mushroom_rl.utils.dataset import parse_dataset, select_random_samples\n",
    "from mushroom_rl.policy import GaussianTorchPolicy\n",
    "\n",
    "import torch\n",
    "import torch.nn as nn\n",
    "from torch.utils.data import Dataset, DataLoader\n",
    "import torch.optim as optim\n",
    "\n",
    "\n",
    "\n",
    "from tqdm import tqdm\n",
    "\n",
    "import pickle\n",
    "\n",
    "import numpy as np\n",
    "\n",
    "use_cuda = torch.cuda.is_available()\n",
    "device = 'cuda' if use_cuda else 'cpu'\n",
    "print(f\"Cuda: {use_cuda}\")"
   ]
  },
  {
   "cell_type": "code",
   "execution_count": 10,
   "metadata": {},
   "outputs": [],
   "source": [
    "class Network(nn.Module):\n",
    "    def __init__(self, input_shape, output_shape, n_features, **kwargs):\n",
    "        super(Network, self).__init__()\n",
    "\n",
    "        self._h1 = nn.Linear(input_shape[0], n_features)\n",
    "        self._h2 = nn.Linear(n_features, n_features)\n",
    "        self._h3 = nn.Linear(n_features, output_shape[0])\n",
    "\n",
    "        nn.init.xavier_uniform_(self._h1.weight,\n",
    "                                gain=nn.init.calculate_gain('tanh'))\n",
    "        nn.init.xavier_uniform_(self._h2.weight,\n",
    "                                gain=nn.init.calculate_gain('tanh'))\n",
    "        nn.init.xavier_uniform_(self._h3.weight,\n",
    "                                gain=nn.init.calculate_gain('linear'))\n",
    "\n",
    "    def forward(self, obs, **kwargs):\n",
    "        features1 = torch.tanh(self._h1(torch.squeeze(obs, 1).float()))\n",
    "        features2 = torch.tanh(self._h2(features1))\n",
    "        return self._h3(features2)\n",
    "\n",
    "class BCDataset(Dataset):\n",
    "    def __init__(self, paths):\n",
    "        states_list = []\n",
    "        actions_list = []\n",
    "        for path in paths:\n",
    "            dataset = np.load(path, allow_pickle=True)\n",
    "            print(dataset.shape)\n",
    "            states, actions, rewards, next_states, absorbing, last  = parse_dataset(dataset)\n",
    "            states_list.append(states)\n",
    "            actions_list.append(actions.reshape(-1,6))\n",
    "        self.states = torch.from_numpy(np.vstack(states_list)).to(device)\n",
    "        self.expert_actions = torch.from_numpy(np.vstack(actions_list)).to(device)\n",
    "\n",
    "    def __len__(self):\n",
    "        \n",
    "        return len(self.states)\n",
    "\n",
    "    def __getitem__(self, index):\n",
    "        return self.states[index], self.expert_actions[index]\n",
    "    \n",
    "class BCAgent(AgentBase):\n",
    "    def __init__(self, env_info, policy, **kwargs):\n",
    "        super().__init__(env_info, **kwargs)\n",
    "        self.policy = policy\n",
    "\n",
    "    def reset(self):\n",
    "        pass\n",
    "\n",
    "    def draw_action(self, observation):\n",
    "        return self.policy.draw_action(observation).reshape(2,3)\n",
    "    \n",
    "def generate_init_joint_states(mdp ,env: str = \"3dof-hit\"):\n",
    "\n",
    "    # create initial state\n",
    "    obs = generate_init_states(env=env, n_episodes=1, n_parallel_cores=1)\n",
    "    obs = obs[0].flatten()\n",
    "\n",
    "    # get joint position limits\n",
    "    # min_pos_limits = mdp.env_info['robot']['joint_pos_limit'][0, :]\n",
    "    # max_pos_limits = mdp.env_info['robot']['joint_pos_limit'][1, :]\n",
    "    min_pos_limits = obs[mdp.env_info['joint_pos_ids']] - 0.1*np.pi\n",
    "    max_pos_limits = obs[mdp.env_info['joint_pos_ids']] + 0.1*np.pi\n",
    "\n",
    "    # generate random joint positions\n",
    "    random_joint_pos = np.random.uniform(low=min_pos_limits, high=max_pos_limits, size=(3,))\n",
    "\n",
    "    # save random joint positions in the initial state\n",
    "    obs[mdp.env_info['joint_pos_ids']] = random_joint_pos\n",
    "\n",
    "    obs = obs.reshape((1,-1))\n",
    "\n",
    "    return obs\n",
    "\n",
    "def train_bc(policy, train_dataset, test_dataset, save_path, n_epochs, batch_size, lr=0.001):\n",
    "    optimizer = torch.optim.Adam(policy.parameters(), lr=lr)\n",
    "    train_dataloader = DataLoader(train_dataset, batch_size=batch_size, shuffle=True)\n",
    "    test_dataloader = DataLoader(test_dataset, batch_size=batch_size)\n",
    "    \n",
    "    epoch_pbar = tqdm(range(n_epochs), desc='Epoch')\n",
    "    logs = dict(train_loss=[], test_loss=[])\n",
    "\n",
    "    with torch.no_grad():\n",
    "        test_loss = []\n",
    "        for states, actions in test_dataloader:\n",
    "            loss = -policy.log_prob_t(states, actions).mean()\n",
    "            test_loss.append(loss.item())\n",
    "        train_loss = []\n",
    "        for states, actions in train_dataloader:\n",
    "            \n",
    "            loss = -policy.log_prob_t(states, actions).mean()\n",
    "            train_loss.append(loss.item())\n",
    "        avg_train_loss = np.mean(train_loss)\n",
    "        avg_test_loss = np.mean(test_loss)\n",
    "        epoch_pbar.set_postfix({'train loss': avg_train_loss, 'test loss': avg_test_loss})\n",
    "        logs['train_loss'].append(avg_train_loss)\n",
    "        logs['test_loss'].append(avg_test_loss)\n",
    "        \n",
    "\n",
    "    best_test_loss = np.inf\n",
    "\n",
    "    for epoch in epoch_pbar:\n",
    "\n",
    "        train_loss = []\n",
    "        for states, actions in train_dataloader:\n",
    "            optimizer.zero_grad()\n",
    "            loss = -policy.log_prob_t(states, actions).mean()\n",
    "            loss.backward()\n",
    "            optimizer.step()\n",
    "            train_loss.append(loss.item())\n",
    "        \n",
    "        with torch.no_grad():\n",
    "            test_loss = []\n",
    "            for states, actions in test_dataloader:\n",
    "                loss = -policy.log_prob_t(states, actions).mean()\n",
    "                test_loss.append(loss.item())\n",
    "\n",
    "        avg_train_loss = np.mean(train_loss)\n",
    "        avg_test_loss = np.mean(test_loss)\n",
    "        epoch_pbar.set_postfix({'train loss': avg_train_loss, 'test loss': avg_test_loss})\n",
    "        logs['train_loss'].append(avg_train_loss)\n",
    "        logs['test_loss'].append(avg_test_loss)\n",
    "\n",
    "        if avg_test_loss < best_test_loss:\n",
    "            policy.save(save_path+\"_best\")\n",
    "    policy.save(save_path+\"_final\")\n",
    "    return logs"
   ]
  },
  {
   "cell_type": "code",
   "execution_count": 4,
   "metadata": {
    "collapsed": false
   },
   "outputs": [
    {
     "name": "stderr",
     "output_type": "stream",
     "text": [
      "100%|██████████| 5000/5000 [4:46:26<00:00,  3.44s/it]  \n"
     ]
    },
    {
     "name": "stdout",
     "output_type": "stream",
     "text": [
      "Dataset size: 608342 from 5000 trajectories\n"
     ]
    }
   ],
   "source": [
    "env = \"3dof-hit\"\n",
    "\n",
    "mdp = AirHockeyChallengeWrapper(env)\n",
    "mdp.reset()\n",
    "\n",
    "agent = build_agent_hitting_wait(mdp.env_info)\n",
    "core = ChallengeCore(agent, mdp)\n",
    "\n",
    "n_expert_traj = 5000\n",
    "dataset_path = 'dataset/hit_rand_5000_2.pkl'\n",
    "\n",
    "dataset = []\n",
    "success_traj = 0\n",
    "for i in tqdm(range(n_expert_traj)):\n",
    "    while True:\n",
    "        initial_state = generate_init_joint_states(mdp, env=env)\n",
    "        new_traj = core.evaluate(initial_states=initial_state)\n",
    "        # new_traj = core.evaluate(n_episodes=1)\n",
    "        _, _, _, _, absorbed, _ = parse_dataset(new_traj)\n",
    "        if absorbed[-1]: # we do not want examples where the \"expert\" did not score\n",
    "            # print(success_traj)\n",
    "            dataset += new_traj\n",
    "            success_traj += 1\n",
    "            break\n",
    "\n",
    "print(f\"Dataset size: {len(dataset)} from {success_traj} trajectories\")\n",
    "\n",
    "with open(dataset_path, 'wb') as f:\n",
    "    pickle.dump(dataset, f)"
   ]
  },
  {
   "cell_type": "code",
   "execution_count": 6,
   "metadata": {},
   "outputs": [],
   "source": [
    "from air_hockey_challenge.utils.replay_dataset import replay_dataset\n",
    "\n",
    "env = \"3dof-hit\"\n",
    "dataset_path = 'dataset/hit_rand_5.pkl'\n",
    "\n",
    "replay_dataset(env, dataset_path)"
   ]
  },
  {
   "cell_type": "code",
   "execution_count": 3,
   "metadata": {},
   "outputs": [],
   "source": [
    "policy = GaussianTorchPolicy(Network, (12,), (6,), std_0=0.01, n_features=64, use_cuda=use_cuda)"
   ]
  },
  {
   "cell_type": "code",
   "execution_count": 11,
   "metadata": {},
   "outputs": [
    {
     "ename": "AttributeError",
     "evalue": "'list' object has no attribute 'shape'",
     "output_type": "error",
     "traceback": [
      "\u001b[0;31m---------------------------------------------------------------------------\u001b[0m",
      "\u001b[0;31mAttributeError\u001b[0m                            Traceback (most recent call last)",
      "Cell \u001b[0;32mIn[11], line 1\u001b[0m\n\u001b[0;32m----> 1\u001b[0m train_dataset \u001b[39m=\u001b[39m BCDataset([\u001b[39m\"\u001b[39;49m\u001b[39mdataset/hit_rand_5000.pkl\u001b[39;49m\u001b[39m\"\u001b[39;49m, \u001b[39m\"\u001b[39;49m\u001b[39mdataset/hit_rand_5000_2.pkl\u001b[39;49m\u001b[39m\"\u001b[39;49m])\n\u001b[1;32m      2\u001b[0m test_dataset \u001b[39m=\u001b[39m BCDataset([\u001b[39m\"\u001b[39m\u001b[39mdataset/hit_rand_100.pkl\u001b[39m\u001b[39m\"\u001b[39m])\n\u001b[1;32m      4\u001b[0m \u001b[39mprint\u001b[39m(\u001b[39mlen\u001b[39m(train_dataset))\n",
      "Cell \u001b[0;32mIn[10], line 27\u001b[0m, in \u001b[0;36mBCDataset.__init__\u001b[0;34m(self, paths)\u001b[0m\n\u001b[1;32m     25\u001b[0m \u001b[39mfor\u001b[39;00m path \u001b[39min\u001b[39;00m paths:\n\u001b[1;32m     26\u001b[0m     dataset \u001b[39m=\u001b[39m np\u001b[39m.\u001b[39mload(path, allow_pickle\u001b[39m=\u001b[39m\u001b[39mTrue\u001b[39;00m)\n\u001b[0;32m---> 27\u001b[0m     \u001b[39mprint\u001b[39m(dataset\u001b[39m.\u001b[39;49mshape)\n\u001b[1;32m     28\u001b[0m     states, actions, rewards, next_states, absorbing, last  \u001b[39m=\u001b[39m parse_dataset(datatset)\n\u001b[1;32m     29\u001b[0m     states_list\u001b[39m.\u001b[39mappend(states)\n",
      "\u001b[0;31mAttributeError\u001b[0m: 'list' object has no attribute 'shape'"
     ]
    },
    {
     "ename": "",
     "evalue": "",
     "output_type": "error",
     "traceback": [
      "\u001b[1;31mThe Kernel crashed while executing code in the the current cell or a previous cell. Please review the code in the cell(s) to identify a possible cause of the failure. Click <a href='https://aka.ms/vscodeJupyterKernelCrash'>here</a> for more info. View Jupyter <a href='command:jupyter.viewOutput'>log</a> for further details."
     ]
    }
   ],
   "source": [
    "train_dataset = BCDataset([\"dataset/hit_rand_5000.pkl\", \"dataset/hit_rand_5000_2.pkl\"])\n",
    "test_dataset = BCDataset([\"dataset/hit_rand_100.pkl\"])\n",
    "\n",
    "print(len(train_dataset))"
   ]
  },
  {
   "cell_type": "code",
   "execution_count": 14,
   "metadata": {},
   "outputs": [
    {
     "name": "stderr",
     "output_type": "stream",
     "text": [
      "Epoch: 100%|██████████| 20/20 [1:23:10<00:00, 249.50s/it, train loss=-22.7, test loss=-25.8]\n"
     ]
    }
   ],
   "source": [
    "train_dataset = BCDataset([\"dataset/hit_rand_5000.pkl\", \"dataset/hit_rand_5000_2.pkl\"])\n",
    "test_dataset = BCDataset([\"dataset/hit_rand_100.pkl\"])\n",
    "\n",
    "logs = train_bc(policy, train_dataset=train_dataset, test_dataset=test_dataset, save_path=\"dataset/BC_10000\",n_epochs=20, batch_size=32)"
   ]
  },
  {
   "cell_type": "code",
   "execution_count": 16,
   "metadata": {},
   "outputs": [
    {
     "data": {
      "text/plain": [
       "[<matplotlib.lines.Line2D at 0x7fa5da4787c0>]"
      ]
     },
     "execution_count": 16,
     "metadata": {},
     "output_type": "execute_result"
    },
    {
     "data": {
      "image/png": "[encoded data removed]",
      "text/plain": [
       "<Figure size 640x480 with 1 Axes>"
      ]
     },
     "metadata": {},
     "output_type": "display_data"
    }
   ],
   "source": [
    "%matplotlib inline\n",
    "import matplotlib.pyplot as plt\n",
    "\n",
    "plt.plot(np.array(logs['train_loss'])[1:])\n",
    "plt.plot(np.array(logs['test_loss'])[1:])"
   ]
  },
  {
   "cell_type": "code",
   "execution_count": 4,
   "metadata": {},
   "outputs": [],
   "source": [
    "policy.load('logs/bc_ppo/bc/policy.pkl')\n",
    "\n",
    "env = \"3dof-hit\"\n",
    "\n",
    "mdp = AirHockeyChallengeWrapper(env)\n",
    "mdp.reset()\n",
    "\n",
    "agent = BCAgent(mdp.env_info, policy)\n",
    "core = ChallengeCore(agent, mdp)"
   ]
  },
  {
   "cell_type": "code",
   "execution_count": null,
   "metadata": {},
   "outputs": [],
   "source": [
    "eval = core.evaluate(n_episodes=5, render=True)"
   ]
  },
  {
   "cell_type": "code",
   "execution_count": 9,
   "metadata": {},
   "outputs": [],
   "source": [
    "from air_hockey_challenge.framework.evaluate_agent import evaluate\n",
    "\n",
    "\n",
    "def build_agent(env_info, **kwargs):\n",
    "    return BCAgent(mdp.env_info, policy)"
   ]
  },
  {
   "attachments": {},
   "cell_type": "markdown",
   "metadata": {},
   "source": [
    "Before any training"
   ]
  },
  {
   "cell_type": "code",
   "execution_count": 11,
   "metadata": {
    "collapsed": false
   },
   "outputs": [
    {
     "name": "stderr",
     "output_type": "stream",
     "text": []
    },
    {
     "name": "stdout",
     "output_type": "stream",
     "text": [
      "=================================================\n",
      "Environment:        3dof-hit\n",
      "Number of Episodes: 50\n",
      "Success:            0.0000\n",
      "Penalty:            230.5\n",
      "Number of Violations: \n",
      "  joint_pos_constr  5\n",
      "  joint_vel_constr  50\n",
      "  ee_constr         40\n",
      "  Jerk              50\n",
      "  Computation Time  1\n",
      "  Total             146\n",
      "-------------------------------------------------\n",
      "\n"
     ]
    }
   ],
   "source": [
    "eval = evaluate(build_agent, 'logs/bc_ppo/before', env_list=[env], n_episodes=50, render=False, quiet=False, n_cores=1)\n",
    "policy.save('logs/bc_ppo/before/policy.pkl')"
   ]
  },
  {
   "attachments": {},
   "cell_type": "markdown",
   "metadata": {},
   "source": [
    "After BC"
   ]
  },
  {
   "cell_type": "code",
   "execution_count": 17,
   "metadata": {},
   "outputs": [
    {
     "name": "stderr",
     "output_type": "stream",
     "text": [
      "                                              \r"
     ]
    },
    {
     "name": "stdout",
     "output_type": "stream",
     "text": [
      "=================================================\n",
      "Environment:        3dof-hit\n",
      "Number of Episodes: 50\n",
      "Success:            0.0400\n",
      "Penalty:            205\n",
      "Number of Violations: \n",
      "  joint_pos_constr  14\n",
      "  joint_vel_constr  50\n",
      "  ee_constr         25\n",
      "  Jerk              50\n",
      "  Computation Time  1\n",
      "  Total             140\n",
      "-------------------------------------------------\n",
      "\n"
     ]
    }
   ],
   "source": [
    "eval = evaluate(build_agent, 'logs/bc_ppo/bc', env_list=[env], n_episodes=50, render=False, quiet=False, n_cores=1)\n",
    "policy.save('logs/bc_ppo/bc/policy.pkl')"
   ]
  }
 ],
 "metadata": {
  "kernelspec": {
   "display_name": "challenge",
   "language": "python",
   "name": "python3"
  },
  "language_info": {
   "codemirror_mode": {
    "name": "ipython",
    "version": 3
   },
   "file_extension": ".py",
   "mimetype": "text/x-python",
   "name": "python",
   "nbconvert_exporter": "python",
   "pygments_lexer": "ipython3",
   "version": "3.8.13"
  },
  "orig_nbformat": 4
 },
 "nbformat": 4,
 "nbformat_minor": 2
}
